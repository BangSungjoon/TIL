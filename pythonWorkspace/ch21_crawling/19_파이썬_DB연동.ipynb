{
 "cells": [
  {
   "cell_type": "markdown",
   "id": "f5fa9053-0bc4-4255-ad75-48e5a9ebd468",
   "metadata": {},
   "source": [
    "### 파이썬 DB 연동\n",
    "- CRUD 작업 처리\n",
    "- CREATE / READ / UPDATE / DELETE\n",
    "- INSERT / SELECT / UPDATE / DELETE "
   ]
  },
  {
   "cell_type": "markdown",
   "id": "702d4d59-fd60-40f2-8109-248e76cd5f02",
   "metadata": {},
   "source": [
    "### 파이썬에서 MySQL 연동 패키지 지원\n",
    "- pymysql 패키지 사용 "
   ]
  },
  {
   "cell_type": "code",
   "execution_count": 1,
   "id": "1c1a4c77-ca88-437f-a59b-c04b06808967",
   "metadata": {},
   "outputs": [
    {
     "name": "stdout",
     "output_type": "stream",
     "text": [
      "Requirement already satisfied: pymysql in c:\\users\\happy\\appdata\\local\\programs\\python\\python311\\lib\\site-packages (1.1.0)\n"
     ]
    }
   ],
   "source": [
    "# pymysql 패키지 설치 \n",
    "!pip install pymysql"
   ]
  },
  {
   "cell_type": "code",
   "execution_count": 2,
   "id": "d011002b-6a01-4a94-81d8-8dc3cf603806",
   "metadata": {},
   "outputs": [],
   "source": [
    "import pymysql"
   ]
  },
  {
   "cell_type": "markdown",
   "id": "0ef19a7a-c1ba-46be-86c5-fa5d92bf6f98",
   "metadata": {},
   "source": [
    "#### DB 연동 순서\n",
    "- (1) DB 연결   \n",
    "- (2) cursor 객체 생성 \n",
    "- (3) sql 구문 실행 \n",
    "- (4) sql 실행 결과 추출 (출력)"
   ]
  },
  {
   "cell_type": "code",
   "execution_count": 3,
   "id": "f2b4e14a-e5ca-42ff-acdf-d9229f5c19f0",
   "metadata": {},
   "outputs": [],
   "source": [
    "# 1. DB 연결 \n",
    "# 호스트명, 포트번호, 로그인 계정, 비밀번호, CHARSET 파라미터로 지정 \n",
    "conn = pymysql.connect(host='localhost', \n",
    "                       port=3306, \n",
    "                       user='root', \n",
    "                       passwd='1234',\n",
    "                       charset='utf8')\n",
    "# 연결 객체 반환 "
   ]
  },
  {
   "cell_type": "code",
   "execution_count": 4,
   "id": "52f65216-e261-4533-af94-567e5d0a8cd7",
   "metadata": {},
   "outputs": [],
   "source": [
    "# 2. cursor 객체 생성 \n",
    "# cursor 객체를 통해서 메소드 호출 \n",
    "cursor = conn.cursor()"
   ]
  },
  {
   "cell_type": "code",
   "execution_count": 5,
   "id": "cd303350-3c7d-434b-a04f-1c4dea9168b9",
   "metadata": {},
   "outputs": [
    {
     "data": {
      "text/plain": [
       "11"
      ]
     },
     "execution_count": 5,
     "metadata": {},
     "output_type": "execute_result"
    }
   ],
   "source": [
    "# 3. sql 문 실행 \n",
    "# 데이터베이스 확인 sql 문 실행 \n",
    "# 실행 : execute() 메소드 \n",
    "sql = 'show databases'\n",
    "cursor.execute(sql)\n",
    "\n",
    "# 실행 결과 : 데이터베이스 개수 반환 "
   ]
  },
  {
   "cell_type": "code",
   "execution_count": 6,
   "id": "6bedbe15-8635-4319-9de2-fcecbef73bc9",
   "metadata": {},
   "outputs": [
    {
     "data": {
      "text/plain": [
       "(('information_schema',),\n",
       " ('mysql',),\n",
       " ('performance_schema',),\n",
       " ('sakila',),\n",
       " ('shopdb',),\n",
       " ('sqldb1',),\n",
       " ('sqldb2',),\n",
       " ('sqldb3',),\n",
       " ('sys',),\n",
       " ('testdb',),\n",
       " ('world',))"
      ]
     },
     "execution_count": 6,
     "metadata": {},
     "output_type": "execute_result"
    }
   ],
   "source": [
    "# 4. sql 실행 결과 추출 (출력)\n",
    "# 서버로부터 받은 결과를 출력 \n",
    "# fetchall() 메소드 사용 : 모든 데이터를 한꺼번에 클라이언트로 받아올 때 사용 \n",
    "result = cursor.fetchall()\n",
    "result"
   ]
  },
  {
   "cell_type": "code",
   "execution_count": 7,
   "id": "8ea77f5c-0ae4-459a-9d32-ceb36a17ea10",
   "metadata": {},
   "outputs": [],
   "source": [
    "# !pip install cryptography"
   ]
  },
  {
   "cell_type": "code",
   "execution_count": 8,
   "id": "c39d7f49-c54d-4f63-b174-ece26c18c593",
   "metadata": {},
   "outputs": [
    {
     "data": {
      "text/plain": [
       "1"
      ]
     },
     "execution_count": 8,
     "metadata": {},
     "output_type": "execute_result"
    }
   ],
   "source": [
    "# 새로운 데이터베이스 생성 \n",
    "sql = 'create database beauty_shop'\n",
    "cursor.execute(sql)"
   ]
  },
  {
   "cell_type": "code",
   "execution_count": 9,
   "id": "d0271a9f-345c-4415-804d-cf1a555271be",
   "metadata": {},
   "outputs": [
    {
     "data": {
      "text/plain": [
       "(('beauty_shop',),\n",
       " ('information_schema',),\n",
       " ('mysql',),\n",
       " ('performance_schema',),\n",
       " ('sakila',),\n",
       " ('shopdb',),\n",
       " ('sqldb1',),\n",
       " ('sqldb2',),\n",
       " ('sqldb3',),\n",
       " ('sys',),\n",
       " ('testdb',),\n",
       " ('world',))"
      ]
     },
     "execution_count": 9,
     "metadata": {},
     "output_type": "execute_result"
    }
   ],
   "source": [
    "# beauty_shop 데이터베이스 생성 확인\n",
    "sql = \"show databases\"\n",
    "cursor.execute(sql)\n",
    "result = cursor.fetchall()\n",
    "result"
   ]
  },
  {
   "cell_type": "code",
   "execution_count": 10,
   "id": "42d326ec-1890-432e-801a-94e1c50540c1",
   "metadata": {},
   "outputs": [
    {
     "data": {
      "text/plain": [
       "0"
      ]
     },
     "execution_count": 10,
     "metadata": {},
     "output_type": "execute_result"
    }
   ],
   "source": [
    "# 데이터베이스 삭제 \n",
    "sql = 'drop database beauty_shop'\n",
    "cursor.execute(sql)"
   ]
  },
  {
   "cell_type": "code",
   "execution_count": 11,
   "id": "e4e2bfb7-6c68-48bd-ac7f-4f0119dcca2c",
   "metadata": {},
   "outputs": [
    {
     "data": {
      "text/plain": [
       "(('information_schema',),\n",
       " ('mysql',),\n",
       " ('performance_schema',),\n",
       " ('sakila',),\n",
       " ('shopdb',),\n",
       " ('sqldb1',),\n",
       " ('sqldb2',),\n",
       " ('sqldb3',),\n",
       " ('sys',),\n",
       " ('testdb',),\n",
       " ('world',))"
      ]
     },
     "execution_count": 11,
     "metadata": {},
     "output_type": "execute_result"
    }
   ],
   "source": [
    "# beauty_shop 데이터베이스 삭제 확인\n",
    "sql = \"show databases\"\n",
    "cursor.execute(sql)\n",
    "result = cursor.fetchall()\n",
    "result"
   ]
  },
  {
   "cell_type": "code",
   "execution_count": 12,
   "id": "bcc6ad66-ba2d-48d6-a70e-4a6a4d524bc9",
   "metadata": {},
   "outputs": [
    {
     "data": {
      "text/plain": [
       "0"
      ]
     },
     "execution_count": 12,
     "metadata": {},
     "output_type": "execute_result"
    }
   ],
   "source": [
    "# 사용할 데이터베이스 선택 \n",
    "sql = 'use sqldb3'\n",
    "cursor.execute(sql)"
   ]
  },
  {
   "cell_type": "code",
   "execution_count": 13,
   "id": "2e5161b3-660f-4f3e-964a-bea26ec3b56c",
   "metadata": {},
   "outputs": [
    {
     "data": {
      "text/plain": [
       "0"
      ]
     },
     "execution_count": 13,
     "metadata": {},
     "output_type": "execute_result"
    }
   ],
   "source": [
    "# 테이블 생성 \n",
    "sql = \"\"\"\n",
    "    create table shop(\n",
    "        proNo int auto_increment not null primary key,\n",
    "        prdName varchar(100),\n",
    "        prdPrice float,\n",
    "        prdDisPrice float\n",
    "    )\n",
    "\"\"\"\n",
    "\n",
    "cursor.execute(sql)"
   ]
  },
  {
   "cell_type": "code",
   "execution_count": 14,
   "id": "2cc7f483-29a8-45e4-9ca0-306aed72e02a",
   "metadata": {},
   "outputs": [
    {
     "data": {
      "text/plain": [
       "(('book',),\n",
       " ('booksale',),\n",
       " ('client',),\n",
       " ('client_view',),\n",
       " ('flower',),\n",
       " ('movie',),\n",
       " ('new_book1',),\n",
       " ('publisher',),\n",
       " ('shop',))"
      ]
     },
     "execution_count": 14,
     "metadata": {},
     "output_type": "execute_result"
    }
   ],
   "source": [
    "# 생성된 테이블 확인 \n",
    "sql = \"show tables\"\n",
    "cursor.execute(sql)\n",
    "cursor.fetchall()"
   ]
  },
  {
   "cell_type": "code",
   "execution_count": 15,
   "id": "6b7ba6f5-23d5-4783-9d2c-7e080aa92acf",
   "metadata": {},
   "outputs": [
    {
     "data": {
      "text/plain": [
       "0"
      ]
     },
     "execution_count": 15,
     "metadata": {},
     "output_type": "execute_result"
    }
   ],
   "source": [
    "# 테이블 삭제 \n",
    "sql = 'drop table shop'\n",
    "cursor.execute(sql)"
   ]
  },
  {
   "cell_type": "code",
   "execution_count": 16,
   "id": "7d4a365c-182b-48f2-aa64-12e596d55c96",
   "metadata": {},
   "outputs": [
    {
     "data": {
      "text/plain": [
       "(('bookNo', 'varchar(10)', 'NO', 'PRI', None, ''),\n",
       " ('bookName', 'text', 'YES', '', None, ''),\n",
       " ('bookAuthor', 'text', 'YES', '', None, ''),\n",
       " ('bookPrice', 'int', 'YES', '', None, ''),\n",
       " ('bookDate', 'date', 'YES', '', None, ''),\n",
       " ('bookStock', 'int', 'YES', '', None, ''),\n",
       " ('pubNo', 'int', 'YES', '', None, ''))"
      ]
     },
     "execution_count": 16,
     "metadata": {},
     "output_type": "execute_result"
    }
   ],
   "source": [
    "# 테이블 구조 확인\n",
    "sql = 'desc book'\n",
    "cursor.execute(sql)\n",
    "cursor.fetchall()\n",
    "# 열이름, 데이터타입(크기), null 여부, 키, 디폴트값, 기타"
   ]
  },
  {
   "cell_type": "code",
   "execution_count": 17,
   "id": "2e620217-227c-4726-a335-099f1a63f9bc",
   "metadata": {},
   "outputs": [],
   "source": [
    "###################################################################"
   ]
  },
  {
   "cell_type": "code",
   "execution_count": 18,
   "id": "ca4d8c0e-0b7d-44f5-a5b5-71a19ced8e9a",
   "metadata": {},
   "outputs": [],
   "source": [
    "# CRUD 작업 처리\n",
    "# CREATE / READ / UPDATE / DELETE\n",
    "# INSERT / SELECT / UPDATE / DELETE"
   ]
  },
  {
   "cell_type": "code",
   "execution_count": 19,
   "id": "8b975ea0-19e1-4ef8-8425-20b8cf813b95",
   "metadata": {},
   "outputs": [],
   "source": [
    "# SELECT "
   ]
  },
  {
   "cell_type": "code",
   "execution_count": 20,
   "id": "56aebf70-a06e-4d6e-beab-8b96f1f3b0bc",
   "metadata": {},
   "outputs": [
    {
     "data": {
      "text/plain": [
       "(('1001', '데이터베이스 이론', '홍길동', 22000, datetime.date(2019, 11, 11), 5, 3),\n",
       " ('1002', '자바 프로그래밍', '이몽룡', 25000, datetime.date(2021, 12, 12), 4, 1),\n",
       " ('1003', '인터넷프로그래밍', '성춘향', 30000, datetime.date(2019, 2, 10), 10, 2),\n",
       " ('1004', '안드로이드 프로그래밍', '변학도', 23000, datetime.date(2017, 10, 10), 2, 1),\n",
       " ('1005', '안드로이드 앱', '강길동', 26000, datetime.date(2020, 1, 11), 5, 2),\n",
       " ('1006',\n",
       "  'MS SQL SERVER 2014',\n",
       "  '박지성',\n",
       "  35000,\n",
       "  datetime.date(2020, 3, 25),\n",
       "  7,\n",
       "  3),\n",
       " ('1007', 'HTML & CSS', '손흥민', 18000, datetime.date(2023, 9, 30), 3, 1),\n",
       " ('1008', 'MFC 입문', '류현진', 20000, datetime.date(2015, 12, 12), 5, 1),\n",
       " ('1009', '안드로이드 게임 제작', '나길동', 33000, datetime.date(2018, 10, 31), 5, 2),\n",
       " ('1010', 'C++객체지향 프로그래밍', '추신수', 24000, datetime.date(2019, 4, 20), 2, 3),\n",
       " ('1011', 'JSP 웹 프로그래밍', '김연아', 27000, datetime.date(2020, 10, 23), 8, 1),\n",
       " ('1012', '해커들의 해킹 기법', '손연재', 32000, datetime.date(2018, 7, 7), 1, 2),\n",
       " ('1013', '자료구조', '홍길동', 19000, datetime.date(2020, 1, 20), 4, 1),\n",
       " ('1014', '파이썬', '성춘향', 35000, datetime.date(2023, 9, 25), 5, 2),\n",
       " ('1015', '자바스크립 & jQuery', '홍길동', 27000, datetime.date(2019, 10, 22), 2, 2))"
      ]
     },
     "execution_count": 20,
     "metadata": {},
     "output_type": "execute_result"
    }
   ],
   "source": [
    "# book 테이블 데이터 조회 \n",
    "sql = 'select * from book'\n",
    "cursor.execute(sql)\n",
    "result = cursor.fetchall()\n",
    "result"
   ]
  },
  {
   "cell_type": "code",
   "execution_count": 21,
   "id": "32c4e005-3477-4e83-bcf7-ff0573373da6",
   "metadata": {},
   "outputs": [
    {
     "data": {
      "text/plain": [
       "'1001'"
      ]
     },
     "execution_count": 21,
     "metadata": {},
     "output_type": "execute_result"
    }
   ],
   "source": [
    "result[0][0]"
   ]
  },
  {
   "cell_type": "code",
   "execution_count": 22,
   "id": "0d556f71-4b13-4a7a-8b19-45d8974cd677",
   "metadata": {},
   "outputs": [
    {
     "name": "stdout",
     "output_type": "stream",
     "text": [
      "('1001', '데이터베이스 이론', '홍길동', 22000, datetime.date(2019, 11, 11), 5, 3)\n",
      "('1002', '자바 프로그래밍', '이몽룡', 25000, datetime.date(2021, 12, 12), 4, 1)\n",
      "('1003', '인터넷프로그래밍', '성춘향', 30000, datetime.date(2019, 2, 10), 10, 2)\n",
      "('1004', '안드로이드 프로그래밍', '변학도', 23000, datetime.date(2017, 10, 10), 2, 1)\n",
      "('1005', '안드로이드 앱', '강길동', 26000, datetime.date(2020, 1, 11), 5, 2)\n",
      "('1006', 'MS SQL SERVER 2014', '박지성', 35000, datetime.date(2020, 3, 25), 7, 3)\n",
      "('1007', 'HTML & CSS', '손흥민', 18000, datetime.date(2023, 9, 30), 3, 1)\n",
      "('1008', 'MFC 입문', '류현진', 20000, datetime.date(2015, 12, 12), 5, 1)\n",
      "('1009', '안드로이드 게임 제작', '나길동', 33000, datetime.date(2018, 10, 31), 5, 2)\n",
      "('1010', 'C++객체지향 프로그래밍', '추신수', 24000, datetime.date(2019, 4, 20), 2, 3)\n",
      "('1011', 'JSP 웹 프로그래밍', '김연아', 27000, datetime.date(2020, 10, 23), 8, 1)\n",
      "('1012', '해커들의 해킹 기법', '손연재', 32000, datetime.date(2018, 7, 7), 1, 2)\n",
      "('1013', '자료구조', '홍길동', 19000, datetime.date(2020, 1, 20), 4, 1)\n",
      "('1014', '파이썬', '성춘향', 35000, datetime.date(2023, 9, 25), 5, 2)\n",
      "('1015', '자바스크립 & jQuery', '홍길동', 27000, datetime.date(2019, 10, 22), 2, 2)\n"
     ]
    }
   ],
   "source": [
    "for re in result:\n",
    "    print(re)"
   ]
  },
  {
   "cell_type": "code",
   "execution_count": 23,
   "id": "a498084e-e499-4fad-85de-8e8b4a095395",
   "metadata": {},
   "outputs": [
    {
     "name": "stdout",
     "output_type": "stream",
     "text": [
      "(('1001', '데이터베이스 이론', 22000), ('1002', '자바 프로그래밍', 25000), ('1003', '인터넷프로그래밍', 30000), ('1004', '안드로이드 프로그래밍', 23000), ('1005', '안드로이드 앱', 26000), ('1006', 'MS SQL SERVER 2014', 35000), ('1007', 'HTML & CSS', 18000), ('1008', 'MFC 입문', 20000), ('1009', '안드로이드 게임 제작', 33000), ('1010', 'C++객체지향 프로그래밍', 24000), ('1011', 'JSP 웹 프로그래밍', 27000), ('1012', '해커들의 해킹 기법', 32000), ('1013', '자료구조', 19000), ('1014', '파이썬', 35000), ('1015', '자바스크립 & jQuery', 27000))\n"
     ]
    }
   ],
   "source": [
    "# 도서번호, 도서명, 도서가격만 쿼리 실행 \n",
    "sql = 'select bookNo, bookName, bookPrice from book';\n",
    "cursor.execute(sql)\n",
    "result = cursor.fetchall()\n",
    "print(result)\n"
   ]
  },
  {
   "cell_type": "code",
   "execution_count": 24,
   "id": "6f3df4da-be3f-4f8c-97f8-efefabc352a8",
   "metadata": {},
   "outputs": [
    {
     "data": {
      "text/plain": [
       "(('1003', '인터넷프로그래밍', 30000),\n",
       " ('1006', 'MS SQL SERVER 2014', 35000),\n",
       " ('1009', '안드로이드 게임 제작', 33000),\n",
       " ('1012', '해커들의 해킹 기법', 32000),\n",
       " ('1014', '파이썬', 35000))"
      ]
     },
     "execution_count": 24,
     "metadata": {},
     "output_type": "execute_result"
    }
   ],
   "source": [
    "# 도서 가격이 30,000원 이상인 도서의 도서번호, 도서명, 가격 추출 \n",
    "sql = 'select bookno,bookname,bookprice from book where bookprice >=30000'\n",
    "\n",
    "cursor.execute(sql)\n",
    "result = cursor.fetchall()\n",
    "result\n"
   ]
  },
  {
   "cell_type": "markdown",
   "id": "d160d8e2-1344-4694-9e21-1fe28ca4bd7e",
   "metadata": {},
   "source": [
    "# 다음과 같이 출력  \n",
    "1003 인터넷프로그래밍 30000\n",
    "1006 MS SQL SERVER 2014 35000\n",
    "1009 안드로이드 게임 제작 33000\n",
    "1012 해커들의 해킹 기법 32000\n",
    "1014 파이썬 35000"
   ]
  },
  {
   "cell_type": "code",
   "execution_count": 25,
   "id": "6b86f136-5c4e-4b24-aa70-6cf5937854bc",
   "metadata": {},
   "outputs": [
    {
     "name": "stdout",
     "output_type": "stream",
     "text": [
      "1003 인터넷프로그래밍 30000 \n",
      "1006 MS SQL SERVER 2014 35000 \n",
      "1009 안드로이드 게임 제작 33000 \n",
      "1012 해커들의 해킹 기법 32000 \n",
      "1014 파이썬 35000 \n"
     ]
    }
   ],
   "source": [
    "for re in result:\n",
    "    for r in re:\n",
    "        print(r, end=\" \")\n",
    "    print()"
   ]
  },
  {
   "cell_type": "code",
   "execution_count": null,
   "id": "bc04583d-e9ae-4bea-ba56-21854d08211c",
   "metadata": {},
   "outputs": [],
   "source": []
  },
  {
   "cell_type": "code",
   "execution_count": null,
   "id": "a7a2cf08-3568-4e2a-8510-691279cb8879",
   "metadata": {},
   "outputs": [],
   "source": [
    "# 새로 시작하면\n",
    "# (1) DB 연결\n",
    "# (2) 커서 생성\n",
    "# (3) 사용할 데이터베이스(스키마) 지정\n",
    "# (4) select 구문 확인"
   ]
  },
  {
   "cell_type": "code",
   "execution_count": 44,
   "id": "11ab6e59-12ce-46a8-af10-93aa3e84654c",
   "metadata": {},
   "outputs": [
    {
     "data": {
      "text/plain": [
       "((datetime.date(2019, 11, 11),),\n",
       " (datetime.date(2021, 12, 12),),\n",
       " (datetime.date(2019, 2, 10),),\n",
       " (datetime.date(2017, 10, 10),),\n",
       " (datetime.date(2020, 1, 11),),\n",
       " (datetime.date(2020, 3, 25),),\n",
       " (datetime.date(2023, 9, 30),),\n",
       " (datetime.date(2015, 12, 12),),\n",
       " (datetime.date(2018, 10, 31),),\n",
       " (datetime.date(2019, 4, 20),),\n",
       " (datetime.date(2020, 10, 23),),\n",
       " (datetime.date(2018, 7, 7),),\n",
       " (datetime.date(2020, 1, 20),),\n",
       " (datetime.date(2023, 9, 25),),\n",
       " (datetime.date(2019, 10, 22),),\n",
       " (datetime.date(2022, 11, 11),),\n",
       " (datetime.date(2022, 12, 10),))"
      ]
     },
     "execution_count": 44,
     "metadata": {},
     "output_type": "execute_result"
    }
   ],
   "source": [
    "# 날짜 출력 \n",
    "sql = 'select bookDate from book'\n",
    "cursor.execute(sql)\n",
    "result = cursor.fetchall()\n",
    "result "
   ]
  },
  {
   "cell_type": "code",
   "execution_count": 46,
   "id": "fc52a760-0e95-4bd4-96c5-f2fe07f5bd4a",
   "metadata": {},
   "outputs": [
    {
     "name": "stdout",
     "output_type": "stream",
     "text": [
      "2019년 11월 11일 00시 00분 00초\n",
      "2021년 12월 12일 00시 00분 00초\n",
      "2019년 02월 10일 00시 00분 00초\n",
      "2017년 10월 10일 00시 00분 00초\n",
      "2020년 01월 11일 00시 00분 00초\n",
      "2020년 03월 25일 00시 00분 00초\n",
      "2023년 09월 30일 00시 00분 00초\n",
      "2015년 12월 12일 00시 00분 00초\n",
      "2018년 10월 31일 00시 00분 00초\n",
      "2019년 04월 20일 00시 00분 00초\n",
      "2020년 10월 23일 00시 00분 00초\n",
      "2018년 07월 07일 00시 00분 00초\n",
      "2020년 01월 20일 00시 00분 00초\n",
      "2023년 09월 25일 00시 00분 00초\n",
      "2019년 10월 22일 00시 00분 00초\n",
      "2022년 11월 11일 00시 00분 00초\n",
      "2022년 12월 10일 00시 00분 00초\n"
     ]
    }
   ],
   "source": [
    "# 각 튜플의 원소 출력하고\n",
    "# datetime.date() 타입을 문자열로 변환 : strftime() 함수 사용\n",
    "for i in range(len(result)):\n",
    "    print(result[i][0].strftime('%Y년 %m월 %d일 %H시 %M분 %S초'))"
   ]
  },
  {
   "cell_type": "code",
   "execution_count": 47,
   "id": "8c759449-1cc8-41d1-8401-2b7c6c274dd7",
   "metadata": {},
   "outputs": [
    {
     "name": "stdout",
     "output_type": "stream",
     "text": [
      "2019-11-11\n",
      "2021-12-12\n",
      "2019-02-10\n",
      "2017-10-10\n",
      "2020-01-11\n",
      "2020-03-25\n",
      "2023-09-30\n",
      "2015-12-12\n",
      "2018-10-31\n",
      "2019-04-20\n",
      "2020-10-23\n",
      "2018-07-07\n",
      "2020-01-20\n",
      "2023-09-25\n",
      "2019-10-22\n",
      "2022-11-11\n",
      "2022-12-10\n"
     ]
    }
   ],
   "source": [
    "for i in range(len(result)):\n",
    "    print(result[i][0].strftime('%Y-%m-%d'))"
   ]
  },
  {
   "cell_type": "code",
   "execution_count": 30,
   "id": "63fe67a9-9139-4c03-9d07-5f7486feeff4",
   "metadata": {},
   "outputs": [],
   "source": [
    "# 연습문제\n",
    "# 판매된 도서 중에서 '도서출판 강남'에서 출간된 도서에 대하여\n",
    "# 고객명, 주문일, 도서명, 주문수량, 출판사명 출력\n",
    "# 고객명 오름차순 정렬"
   ]
  },
  {
   "cell_type": "code",
   "execution_count": 51,
   "id": "f1ad9643-0f9b-4026-991a-dea0266cc81a",
   "metadata": {},
   "outputs": [
    {
     "name": "stdout",
     "output_type": "stream",
     "text": [
      "(('베컴', datetime.date(2021, 7, 9), '인터넷프로그래밍', 2, '도서출판 강남'), ('옴바페', datetime.date(2022, 1, 2), '안드로이드 앱', 9, '도서출판 강남'), ('호날두', datetime.date(2020, 2, 20), '안드로이드 게임 제작', 5, '도서출판 강남'))\n"
     ]
    }
   ],
   "source": [
    "sql = '''\n",
    "         SELECT clientName, bsDate, bookName, bsQty, pubName\n",
    "         FROM bookSale\n",
    "             INNER JOIN book ON book.bookNo = bookSale.bookNo\n",
    "             INNER JOIN publisher ON publisher.pubNo = book.pubNo\n",
    "             INNER JOIN client ON client.clientNo = bookSale.clientNo\n",
    "         WHERE pubName = '도서출판 강남'\n",
    "         ORDER BY clientName\n",
    "      ''';\n",
    "cursor.execute(sql)\n",
    "result = cursor.fetchall()\n",
    "print(result)"
   ]
  },
  {
   "cell_type": "code",
   "execution_count": null,
   "id": "c2d1a125-0b27-451d-b874-16464fae6e0c",
   "metadata": {},
   "outputs": [],
   "source": [
    "########################################################################################\n",
    "# INSERT"
   ]
  },
  {
   "cell_type": "code",
   "execution_count": 33,
   "id": "b64691ba-23c9-4bb7-927a-4141b74505c3",
   "metadata": {},
   "outputs": [],
   "source": [
    "# 데이터 입력 받아서 book 테이블에 저장"
   ]
  },
  {
   "cell_type": "code",
   "execution_count": 40,
   "id": "6f34309b-11cb-416b-859c-78482d74213d",
   "metadata": {},
   "outputs": [
    {
     "name": "stdin",
     "output_type": "stream",
     "text": [
      "도서번호 입력 :  1017\n",
      "도서명 입력 :  db2\n",
      "저자 입력 :  강길동\n",
      "가격 입력 :  25000\n",
      "출판일 입력 :  2022-12-10\n",
      "재고 입력 :  7\n",
      "출판사번호 입력 :  3\n"
     ]
    }
   ],
   "source": [
    "bookNo = input('도서번호 입력 : ')\n",
    "bookName = input('도서명 입력 : ')\n",
    "bookAuthor = input('저자 입력 : ')\n",
    "bookPrice = input('가격 입력 : ')\n",
    "bookDate = input('출판일 입력 : ')\n",
    "bookStock = input('재고 입력 : ')\n",
    "pubNo = input('출판사번호 입력 : ')"
   ]
  },
  {
   "cell_type": "code",
   "execution_count": 41,
   "id": "81f076ae-95ab-4d4c-9e61-7b8d4e3eea2f",
   "metadata": {},
   "outputs": [
    {
     "data": {
      "text/plain": [
       "('1017', 'db2', '강길동', '25000', '2022-12-10', '7', '3')"
      ]
     },
     "execution_count": 41,
     "metadata": {},
     "output_type": "execute_result"
    }
   ],
   "source": [
    "bookNo, bookName, bookAuthor, bookPrice, bookDate, bookStock, pubNo"
   ]
  },
  {
   "cell_type": "code",
   "execution_count": 42,
   "id": "77a5ce81-fd8a-4937-8b5e-55e4e8ebabea",
   "metadata": {},
   "outputs": [
    {
     "data": {
      "text/plain": [
       "1"
      ]
     },
     "execution_count": 42,
     "metadata": {},
     "output_type": "execute_result"
    }
   ],
   "source": [
    "# INSERT 방법1\n",
    "sql = \"insert into book(bookNo, bookName, bookAuthor, bookPrice, bookDate, bookStock, pubNo) values('\" \\\n",
    "      + bookNo + \"', '\" \\\n",
    "      + bookName + \"','\" \\\n",
    "      + bookAuthor + \"',\" \\\n",
    "      + bookPrice + \",'\" \\\n",
    "      + bookDate + \"',\" \\\n",
    "      + bookStock + \",'\" \\\n",
    "      + pubNo + \"')\"\n",
    "\n",
    "cursor.execute(sql)"
   ]
  },
  {
   "cell_type": "code",
   "execution_count": 43,
   "id": "37419231-7a0e-4942-82e6-c2a5ada170e8",
   "metadata": {},
   "outputs": [],
   "source": [
    "conn.commit() # 반드시 commit 해서 완료시켜야 DB에 반영됨"
   ]
  },
  {
   "cell_type": "code",
   "execution_count": 52,
   "id": "00419206-66e5-470c-8b7d-2fa088cfbe69",
   "metadata": {},
   "outputs": [
    {
     "name": "stdin",
     "output_type": "stream",
     "text": [
      "도서번호 입력 :  1018\n",
      "도서명 입력 :  sql\n",
      "저자 입력 :  이길동\n",
      "가격 입력 :  30000\n",
      "출판일 입력 :  2023-09-27\n",
      "재고 입력 :  1\n",
      "출판사번호 입력 :  1\n"
     ]
    }
   ],
   "source": [
    "# INSERT 방법2\n",
    "bookNo = input('도서번호 입력 : ')\n",
    "bookName = input('도서명 입력 : ')\n",
    "bookAuthor = input('저자 입력 : ')\n",
    "bookPrice = input('가격 입력 : ')\n",
    "bookDate = input('출판일 입력 : ')\n",
    "bookStock = input('재고 입력 : ')\n",
    "pubNo = input('출판사번호 입력 : ')"
   ]
  },
  {
   "cell_type": "code",
   "execution_count": 53,
   "id": "04dfd092-d041-4565-9fd5-4baa79d56539",
   "metadata": {},
   "outputs": [],
   "source": [
    "# 모든 열에 데이터 입력 시 열이름 리스트 생략 가능\n",
    "sql = \"insert into book values(%s, %s, %s, %s, %s, %s, %s)\" # 위치와 데이터 타입 지정해 놓고\n",
    "values = (bookNo, bookName, bookAuthor, bookPrice, bookDate, bookStock, pubNo) # 실제 전달될 값\n",
    "cursor.execute(sql, values) # 값도 같이 전달\n",
    "conn.commit()"
   ]
  },
  {
   "cell_type": "code",
   "execution_count": 54,
   "id": "9a2e9be4-f848-4375-b888-a12fb651f52d",
   "metadata": {},
   "outputs": [
    {
     "data": {
      "text/plain": [
       "(('1001', '데이터베이스 이론', '홍길동', 22000, datetime.date(2019, 11, 11), 5, 3),\n",
       " ('1002', '자바 프로그래밍', '이몽룡', 25000, datetime.date(2021, 12, 12), 4, 1),\n",
       " ('1003', '인터넷프로그래밍', '성춘향', 30000, datetime.date(2019, 2, 10), 10, 2),\n",
       " ('1004', '안드로이드 프로그래밍', '변학도', 23000, datetime.date(2017, 10, 10), 2, 1),\n",
       " ('1005', '안드로이드 앱', '강길동', 26000, datetime.date(2020, 1, 11), 5, 2),\n",
       " ('1006',\n",
       "  'MS SQL SERVER 2014',\n",
       "  '박지성',\n",
       "  35000,\n",
       "  datetime.date(2020, 3, 25),\n",
       "  7,\n",
       "  3),\n",
       " ('1007', 'HTML & CSS', '손흥민', 18000, datetime.date(2023, 9, 30), 3, 1),\n",
       " ('1008', 'MFC 입문', '류현진', 20000, datetime.date(2015, 12, 12), 5, 1),\n",
       " ('1009', '안드로이드 게임 제작', '나길동', 33000, datetime.date(2018, 10, 31), 5, 2),\n",
       " ('1010', 'C++객체지향 프로그래밍', '추신수', 24000, datetime.date(2019, 4, 20), 2, 3),\n",
       " ('1011', 'JSP 웹 프로그래밍', '김연아', 27000, datetime.date(2020, 10, 23), 8, 1),\n",
       " ('1012', '해커들의 해킹 기법', '손연재', 32000, datetime.date(2018, 7, 7), 1, 2),\n",
       " ('1013', '자료구조', '홍길동', 19000, datetime.date(2020, 1, 20), 4, 1),\n",
       " ('1014', '파이썬', '성춘향', 35000, datetime.date(2023, 9, 25), 5, 2),\n",
       " ('1015', '자바스크립 & jQuery', '홍길동', 27000, datetime.date(2019, 10, 22), 2, 2),\n",
       " ('1016', 'DB', '엄준식', 23000, datetime.date(2022, 11, 11), 5, 1),\n",
       " ('1017', 'db2', '강길동', 25000, datetime.date(2022, 12, 10), 7, 3),\n",
       " ('1018', 'sql', '이길동', 30000, datetime.date(2023, 9, 27), 1, 1))"
      ]
     },
     "execution_count": 54,
     "metadata": {},
     "output_type": "execute_result"
    }
   ],
   "source": [
    "sql = 'select * from book'\n",
    "cursor.execute(sql)\n",
    "result = cursor.fetchall()\n",
    "result"
   ]
  },
  {
   "cell_type": "code",
   "execution_count": null,
   "id": "72cf6b60-57cd-41bd-910f-b1acd9187249",
   "metadata": {},
   "outputs": [],
   "source": []
  },
  {
   "cell_type": "code",
   "execution_count": null,
   "id": "921fb533-d245-4699-9071-9e31a54b2b5d",
   "metadata": {},
   "outputs": [],
   "source": [
    "##########################################################################################"
   ]
  },
  {
   "cell_type": "code",
   "execution_count": null,
   "id": "c0c372d7-ea9d-49bb-974c-8bd9a2e09ac4",
   "metadata": {},
   "outputs": [],
   "source": [
    "# UPDATE\n",
    "# 주의! : commit "
   ]
  },
  {
   "cell_type": "code",
   "execution_count": null,
   "id": "af2e522b-a1dc-4db0-a7a9-825be9c3e464",
   "metadata": {},
   "outputs": [],
   "source": [
    "# 고객명이 '메시'인 고객의 전화번호 값 수정 : 010-1111-1111을 010-1234-1234로 변경"
   ]
  },
  {
   "cell_type": "code",
   "execution_count": 56,
   "id": "472e4c6b-2e43-4aae-8788-4b377f1c7cfc",
   "metadata": {},
   "outputs": [],
   "source": [
    "sql = '''\n",
    "         UPDATE client\n",
    "         SET clientPhone = '010-1234-1234'\n",
    "         WHERE clientName = '메시'\n",
    "      ''';\n",
    "cursor.execute(sql)\n",
    "conn.commit()"
   ]
  },
  {
   "cell_type": "code",
   "execution_count": 57,
   "id": "29923ab7-bdce-48ef-9ca7-b1b90a81926a",
   "metadata": {},
   "outputs": [
    {
     "data": {
      "text/plain": [
       "(('1', '메시', '010-1234-1234', '서울시', datetime.date(1987, 6, 24), '축구', '남'),\n",
       " ('2', '호날두', '010-2222-2222', '천안', datetime.date(1984, 2, 5), None, '남'),\n",
       " ('3', '샤라포바', '010-3333-3333', '제주', datetime.date(1987, 4, 19), None, '여'),\n",
       " ('4', '베컴', '010-4444-4444', '안양', datetime.date(1994, 5, 2), '영화', '남'),\n",
       " ('5', '네이마르', '010-5555-5555', '수원', datetime.date(1992, 2, 5), '게임', '남'),\n",
       " ('6', '윌리엄스', '010-6666-6666', '서울', datetime.date(1981, 9, 26), '테니스', '여'),\n",
       " ('7', '옴바페', '010-7777-7777', '천안', datetime.date(1991, 1, 7), ' ', '남'),\n",
       " ('8', '살라', '010-8888-8888', '부산', datetime.date(1982, 4, 22), '', '남'))"
      ]
     },
     "execution_count": 57,
     "metadata": {},
     "output_type": "execute_result"
    }
   ],
   "source": [
    "sql = 'select * from client'\n",
    "cursor.execute(sql)\n",
    "result = cursor.fetchall()\n",
    "result"
   ]
  },
  {
   "cell_type": "code",
   "execution_count": 59,
   "id": "9d3842b2-2f1a-4199-b343-2fef2adb8175",
   "metadata": {},
   "outputs": [
    {
     "name": "stdin",
     "output_type": "stream",
     "text": [
      "수정할 도서번호 입력 :  1001\n",
      "도서명 입력 :  데이터베이스 이론 및 실기\n",
      "저자 입력 :  홍길동\n",
      "가격 입력 :  25000\n",
      "출판일 입력 :  2019-11-11\n",
      "재고 입력 :  7\n",
      "출판사번호 입력 :  3\n"
     ]
    }
   ],
   "source": [
    "# 입력된 값으로 데이터 수정\n",
    "# 수정하고자 하는 기본키 값을 받고\n",
    "# 수정할 데이터 입력\n",
    "bookNo = input('수정할 도서번호 입력 : ')\n",
    "bookName = input('도서명 입력 : ')\n",
    "bookAuthor = input('저자 입력 : ')\n",
    "bookPrice = input('가격 입력 : ')\n",
    "bookDate = input('출판일 입력 : ')\n",
    "bookStock = input('재고 입력 : ')\n",
    "pubNo = input('출판사번호 입력 : ')\n",
    "\n",
    "# '1001', '데이터베이스 이론', '홍길동', 22000, datetime.date(2019, 11, 11), 5, 3\n",
    "# '데이터베이스 이론 및 실기', 25000, 재고 7"
   ]
  },
  {
   "cell_type": "code",
   "execution_count": null,
   "id": "d8c9e70d-e04e-4571-8cb0-b4af01156ddd",
   "metadata": {},
   "outputs": [],
   "source": [
    "# update 테이블 set 열=값, 열=값, .... where 열 = 값"
   ]
  },
  {
   "cell_type": "code",
   "execution_count": 62,
   "id": "be2220d6-5cce-47b2-9897-a5ca37f6d046",
   "metadata": {},
   "outputs": [],
   "source": [
    "sql = \"UPDATE book SET bookName=%s, bookAuthor=%s, \" \\\n",
    "      + \"bookPrice=%s, bookDate=%s, bookStock=%s, pubNo=%s WHERE bookNo=%s\"\n",
    "\n",
    "values = (bookName, bookAuthor, bookPrice, bookDate, bookStock, pubNo, bookNo) # 실제 전달될 값\n",
    "cursor.execute(sql, values) # 값도 같이 전달\n",
    "conn.commit()"
   ]
  },
  {
   "cell_type": "code",
   "execution_count": 69,
   "id": "684a9c1c-f283-477b-85bc-cdae7981c424",
   "metadata": {},
   "outputs": [
    {
     "data": {
      "text/plain": [
       "(('1001', '데이터베이스 이론 및 실기', '홍길동', 25000, datetime.date(2019, 11, 11), 7, 3),\n",
       " ('1002', '자바 프로그래밍', '이몽룡', 25000, datetime.date(2021, 12, 12), 4, 1),\n",
       " ('1003', '인터넷프로그래밍', '성춘향', 30000, datetime.date(2019, 2, 10), 10, 2),\n",
       " ('1004', '안드로이드 프로그래밍', '변학도', 23000, datetime.date(2017, 10, 10), 2, 1),\n",
       " ('1005', '안드로이드 앱', '강길동', 26000, datetime.date(2020, 1, 11), 5, 2),\n",
       " ('1006',\n",
       "  'MS SQL SERVER 2014',\n",
       "  '박지성',\n",
       "  35000,\n",
       "  datetime.date(2020, 3, 25),\n",
       "  7,\n",
       "  3),\n",
       " ('1007', 'HTML & CSS', '손흥민', 18000, datetime.date(2023, 9, 30), 3, 1),\n",
       " ('1008', 'MFC 입문', '류현진', 20000, datetime.date(2015, 12, 12), 5, 1),\n",
       " ('1009', '안드로이드 게임 제작', '나길동', 33000, datetime.date(2018, 10, 31), 5, 2),\n",
       " ('1010', 'C++객체지향 프로그래밍', '추신수', 24000, datetime.date(2019, 4, 20), 2, 3),\n",
       " ('1011', 'JSP 웹 프로그래밍', '김연아', 27000, datetime.date(2020, 10, 23), 8, 1),\n",
       " ('1012', '해커들의 해킹 기법', '손연재', 32000, datetime.date(2018, 7, 7), 1, 2),\n",
       " ('1013', '자료구조', '홍길동', 19000, datetime.date(2020, 1, 20), 4, 1),\n",
       " ('1014', '파이썬', '성춘향', 35000, datetime.date(2023, 9, 25), 5, 2),\n",
       " ('1015', '자바스크립 & jQuery', '홍길동', 27000, datetime.date(2019, 10, 22), 2, 2),\n",
       " ('1016', 'DB', '엄준식', 23000, datetime.date(2022, 11, 11), 5, 1))"
      ]
     },
     "execution_count": 69,
     "metadata": {},
     "output_type": "execute_result"
    }
   ],
   "source": [
    "sql = 'select * from book'\n",
    "cursor.execute(sql)\n",
    "result = cursor.fetchall()\n",
    "result"
   ]
  },
  {
   "cell_type": "code",
   "execution_count": null,
   "id": "7aed17c6-e1b1-4b31-aeba-660d031a6165",
   "metadata": {},
   "outputs": [],
   "source": []
  },
  {
   "cell_type": "code",
   "execution_count": null,
   "id": "f4ea186d-fab8-4126-be5c-b48b2e14dee6",
   "metadata": {},
   "outputs": [],
   "source": [
    "#############################################################################################"
   ]
  },
  {
   "cell_type": "code",
   "execution_count": 64,
   "id": "a2ebbdd8-4205-45f4-a076-d7b1b301189a",
   "metadata": {},
   "outputs": [],
   "source": [
    "# DELETE\n",
    "# 주의! : commit"
   ]
  },
  {
   "cell_type": "code",
   "execution_count": 65,
   "id": "6db9357e-0d3a-4d97-939f-81270c3b06df",
   "metadata": {},
   "outputs": [],
   "source": [
    "sql = 'delete from book where bookNo = \"1018\"'\n",
    "cursor.execute(sql)\n",
    "conn.commit()"
   ]
  },
  {
   "cell_type": "code",
   "execution_count": 67,
   "id": "b264ad83-1c94-46dd-b0f6-26be3f2f1e3e",
   "metadata": {},
   "outputs": [
    {
     "name": "stdin",
     "output_type": "stream",
     "text": [
      "삭제할 도서번호 입력 :  1017\n"
     ]
    }
   ],
   "source": [
    "# 삭제할 도서번호 입력 받아서 삭제\n",
    "bookNo = input('삭제할 도서번호 입력 : ')"
   ]
  },
  {
   "cell_type": "code",
   "execution_count": 68,
   "id": "b3234843-daed-4324-916d-39304aff515a",
   "metadata": {},
   "outputs": [],
   "source": [
    "sql = \"DELETE FROM book WHERE bookNo=%s\"\n",
    "\n",
    "values = (bookNo) # 실제 전달될 값\n",
    "cursor.execute(sql, values) # 값도 같이 전달\n",
    "conn.commit()"
   ]
  },
  {
   "cell_type": "code",
   "execution_count": null,
   "id": "b52504ae-7465-4d2e-8745-feddf27bd6f9",
   "metadata": {},
   "outputs": [],
   "source": [
    "#############################################################################################"
   ]
  },
  {
   "cell_type": "code",
   "execution_count": 70,
   "id": "5adb3044-2521-4d82-a22b-bb3e99eb8d23",
   "metadata": {},
   "outputs": [],
   "source": [
    "# 저장 프로시저 호출"
   ]
  },
  {
   "cell_type": "code",
   "execution_count": 71,
   "id": "4ece9455-233d-429b-a6eb-7fd859a65f95",
   "metadata": {},
   "outputs": [
    {
     "data": {
      "text/plain": [
       "(('2', '호날두', Decimal('265000'), '최우수'),\n",
       " ('4', '베컴', Decimal('60000'), '보통'),\n",
       " ('8', '살라', Decimal('23000'), '관심고객'),\n",
       " ('7', '옴바페', Decimal('257000'), '최우수'),\n",
       " ('3', '샤라포바', Decimal('70000'), '보통'),\n",
       " ('1', '메시', Decimal('108000'), '우수'))"
      ]
     },
     "execution_count": 71,
     "metadata": {},
     "output_type": "execute_result"
    }
   ],
   "source": [
    "# (1) 매개변수 없는 경우\n",
    "# 한번이라도 주문한 적이 있는 모든 고객의 고객등급 출력\n",
    "# 고객번호, 고객명, 총주문액, 고객등급 출력\n",
    "# 프로시저명 : clientAllRatingProc\n",
    "cursor.callproc('clientAllRatingProc')\n",
    "result = cursor.fetchall()\n",
    "result"
   ]
  },
  {
   "cell_type": "code",
   "execution_count": 72,
   "id": "87368b2f-33b3-46df-8c7e-cfeba640ac08",
   "metadata": {},
   "outputs": [],
   "source": [
    "# 매개변수가 있는 경우 : IN 매개변수만 있는 경우\n",
    "# 방법 1\n",
    "# 고객의 연령대를 출력하는 프로시저\n",
    "# 고객번호를 전달 받아서, 해당 고객의 생년월일 확인 후 '~'년대생' 출력\n",
    "# 예 : 1990년대생, 1980년대생, 1970년대생 출력\n",
    "# 고객번호, 고객명, 연령대\n",
    "# 프로시저명 : clientAgeCheckProc;\n",
    "# 호출하면서 값 전달\n",
    "# CALL clientAgeCheckProc('1');"
   ]
  },
  {
   "cell_type": "code",
   "execution_count": 73,
   "id": "5f8a8a5f-3e9d-4f5d-889f-1a808cb73491",
   "metadata": {},
   "outputs": [
    {
     "data": {
      "text/plain": [
       "(('1', '메시', datetime.date(1987, 6, 24), '1980년대생'),)"
      ]
     },
     "execution_count": 73,
     "metadata": {},
     "output_type": "execute_result"
    }
   ],
   "source": [
    "# 방법1\n",
    "cursor.callproc('clientAgeCheckProc', {'1'})\n",
    "result = cursor.fetchall()\n",
    "result"
   ]
  },
  {
   "cell_type": "code",
   "execution_count": 74,
   "id": "679856ab-9878-44af-ac4c-6b6c2969ecf9",
   "metadata": {},
   "outputs": [
    {
     "data": {
      "text/plain": [
       "(('2', '호날두', datetime.date(1984, 2, 5), '1980년대생'),)"
      ]
     },
     "execution_count": 74,
     "metadata": {},
     "output_type": "execute_result"
    }
   ],
   "source": [
    "# 방법2\n",
    "cursor.callproc('clientAgeCheckProc', ('2'))\n",
    "result = cursor.fetchall()\n",
    "result"
   ]
  },
  {
   "cell_type": "code",
   "execution_count": 75,
   "id": "ffea246d-b5bc-40f5-b7a2-b2d5f67fc7e9",
   "metadata": {},
   "outputs": [
    {
     "data": {
      "text/plain": [
       "(('3', '샤라포바', datetime.date(1987, 4, 19), '1980년대생'),)"
      ]
     },
     "execution_count": 75,
     "metadata": {},
     "output_type": "execute_result"
    }
   ],
   "source": [
    "# 방법3\n",
    "cursor.callproc('clientAgeCheckProc', '3')\n",
    "result = cursor.fetchall()\n",
    "result"
   ]
  },
  {
   "cell_type": "code",
   "execution_count": 76,
   "id": "f68788f3-db6b-4768-b38f-d95281430aa9",
   "metadata": {},
   "outputs": [
    {
     "data": {
      "text/plain": [
       "(('4', '베컴', datetime.date(1994, 5, 2), '1990년대생'),)"
      ]
     },
     "execution_count": 76,
     "metadata": {},
     "output_type": "execute_result"
    }
   ],
   "source": [
    "# 방법4\n",
    "sql = \"CALL clientAgeCheckProc('4')\"\n",
    "cursor.execute(sql)\n",
    "result = cursor.fetchall()\n",
    "result"
   ]
  },
  {
   "cell_type": "code",
   "execution_count": null,
   "id": "36a7fb23-7b10-4c72-adef-f49b1b9408d5",
   "metadata": {},
   "outputs": [],
   "source": []
  },
  {
   "cell_type": "code",
   "execution_count": 81,
   "id": "2df2bb89-4161-4ae8-80b0-0ac424d048ee",
   "metadata": {},
   "outputs": [
    {
     "name": "stdout",
     "output_type": "stream",
     "text": [
      "10\n"
     ]
    }
   ],
   "source": [
    "# 매개변수가 있는 경우 : IN / OUT 매개변수만 있는 경우\n",
    "# 도서가격을 전달하면, 전달된 도서가격 이상인 도서 수를 반환\n",
    "# 프로시저명 : bookPriceCountProc;\n",
    "# 프로시저 호출\n",
    "# CALL bookPriceCountProc(30000, @bookCount);\n",
    "# SELECT @bookCount;\n",
    "\n",
    "sql = \"CALL bookPriceCountProc(25000, @bookCount)\"\n",
    "cursor.execute(sql)\n",
    "sql = \"SELECT @bookCount\"\n",
    "cursor.execute(sql)\n",
    "\n",
    "# result = cursor.fetchall()\n",
    "# result\n",
    "\n",
    "# print(result[0][0])\n",
    "\n",
    "result = cursor.fetchone() # 1개 값이 반환되는 경우\n",
    "result\n",
    "print(result[0])"
   ]
  },
  {
   "cell_type": "code",
   "execution_count": null,
   "id": "1471603d-89dc-4908-9dc7-e276c5f3b308",
   "metadata": {},
   "outputs": [],
   "source": []
  },
  {
   "cell_type": "code",
   "execution_count": null,
   "id": "eaa642a3-e74a-4ab7-ad11-92f3debf5dff",
   "metadata": {},
   "outputs": [],
   "source": []
  },
  {
   "cell_type": "code",
   "execution_count": null,
   "id": "c83a719e-443d-4e82-bd02-3d8a69c98576",
   "metadata": {},
   "outputs": [],
   "source": []
  },
  {
   "cell_type": "code",
   "execution_count": null,
   "id": "ba8fb241-22b1-43cc-826d-1a3b9e3145c2",
   "metadata": {},
   "outputs": [],
   "source": []
  },
  {
   "cell_type": "code",
   "execution_count": null,
   "id": "c7e2aaa7-da42-43a3-9cdb-9a1a63f54685",
   "metadata": {},
   "outputs": [],
   "source": []
  },
  {
   "cell_type": "code",
   "execution_count": null,
   "id": "ff857013-eb62-4b0a-a361-12b1f934d15c",
   "metadata": {},
   "outputs": [],
   "source": []
  },
  {
   "cell_type": "code",
   "execution_count": null,
   "id": "30d26b31-8f3a-450c-96c9-3dea0457d394",
   "metadata": {},
   "outputs": [],
   "source": []
  },
  {
   "cell_type": "code",
   "execution_count": null,
   "id": "4399c703-7db2-452f-af33-1ed58ac501dd",
   "metadata": {},
   "outputs": [],
   "source": []
  },
  {
   "cell_type": "code",
   "execution_count": null,
   "id": "fcbd521e-c2af-48e5-bf21-77a7bb84407c",
   "metadata": {},
   "outputs": [],
   "source": []
  },
  {
   "cell_type": "code",
   "execution_count": null,
   "id": "a084e78e-1297-4eac-892a-145196281c30",
   "metadata": {},
   "outputs": [],
   "source": []
  },
  {
   "cell_type": "code",
   "execution_count": null,
   "id": "a73fec10-376a-4845-a8b3-7cd1458f8070",
   "metadata": {},
   "outputs": [],
   "source": []
  },
  {
   "cell_type": "code",
   "execution_count": 82,
   "id": "0dab04a1-3098-4c03-9299-dd221c768d35",
   "metadata": {},
   "outputs": [],
   "source": [
    "cursor.close()\n",
    "conn.close()"
   ]
  }
 ],
 "metadata": {
  "kernelspec": {
   "display_name": "Python 3 (ipykernel)",
   "language": "python",
   "name": "python3"
  },
  "language_info": {
   "codemirror_mode": {
    "name": "ipython",
    "version": 3
   },
   "file_extension": ".py",
   "mimetype": "text/x-python",
   "name": "python",
   "nbconvert_exporter": "python",
   "pygments_lexer": "ipython3",
   "version": "3.11.5"
  }
 },
 "nbformat": 4,
 "nbformat_minor": 5
}
