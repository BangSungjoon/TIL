{
 "cells": [
  {
   "cell_type": "markdown",
   "id": "f5fa9053-0bc4-4255-ad75-48e5a9ebd468",
   "metadata": {},
   "source": [
    "### 파이썬 DB 연동\n",
    "- CRUD 작업 처리\n",
    "- CREATE / READ / UPDATE / DELETE\n",
    "- INSERT / SELECT / UPDATE / DELETE "
   ]
  },
  {
   "cell_type": "markdown",
   "id": "702d4d59-fd60-40f2-8109-248e76cd5f02",
   "metadata": {},
   "source": [
    "### 파이썬에서 MySQL 연동 패키지 지원\n",
    "- pymysql 패키지 사용 "
   ]
  },
  {
   "cell_type": "code",
   "execution_count": 1,
   "id": "1c1a4c77-ca88-437f-a59b-c04b06808967",
   "metadata": {},
   "outputs": [
    {
     "name": "stdout",
     "output_type": "stream",
     "text": [
      "Requirement already satisfied: pymysql in c:\\users\\happy\\appdata\\local\\programs\\python\\python311\\lib\\site-packages (1.1.0)\n"
     ]
    }
   ],
   "source": [
    "# pymysql 패키지 설치 \n",
    "!pip install pymysql"
   ]
  },
  {
   "cell_type": "code",
   "execution_count": 2,
   "id": "d011002b-6a01-4a94-81d8-8dc3cf603806",
   "metadata": {},
   "outputs": [],
   "source": [
    "import pymysql"
   ]
  },
  {
   "cell_type": "markdown",
   "id": "0ef19a7a-c1ba-46be-86c5-fa5d92bf6f98",
   "metadata": {},
   "source": [
    "#### DB 연동 순서\n",
    "- (1) DB 연결   \n",
    "- (2) cursor 객체 생성 \n",
    "- (3) sql 구문 실행 \n",
    "- (4) sql 실행 결과 추출 (출력)"
   ]
  },
  {
   "cell_type": "code",
   "execution_count": 3,
   "id": "f2b4e14a-e5ca-42ff-acdf-d9229f5c19f0",
   "metadata": {},
   "outputs": [],
   "source": [
    "# 1. DB 연결 \n",
    "# 호스트명, 포트번호, 로그인 계정, 비밀번호, CHARSET 파라미터로 지정 \n",
    "conn = pymysql.connect(host='localhost', \n",
    "                       port=3306, \n",
    "                       user='root', \n",
    "                       passwd='1234',\n",
    "                       charset='utf8')\n",
    "# 연결 객체 반환 "
   ]
  },
  {
   "cell_type": "code",
   "execution_count": 4,
   "id": "52f65216-e261-4533-af94-567e5d0a8cd7",
   "metadata": {},
   "outputs": [],
   "source": [
    "# 2. cursor 객체 생성 \n",
    "# cursor 객체를 통해서 메소드 호출 \n",
    "cursor = conn.cursor()"
   ]
  },
  {
   "cell_type": "code",
   "execution_count": 5,
   "id": "cd303350-3c7d-434b-a04f-1c4dea9168b9",
   "metadata": {},
   "outputs": [
    {
     "data": {
      "text/plain": [
       "11"
      ]
     },
     "execution_count": 5,
     "metadata": {},
     "output_type": "execute_result"
    }
   ],
   "source": [
    "# 3. sql 문 실행 \n",
    "# 데이터베이스 확인 sql 문 실행 \n",
    "# 실행 : execute() 메소드 \n",
    "sql = 'show databases'\n",
    "cursor.execute(sql)\n",
    "\n",
    "# 실행 결과 : 데이터베이스 개수 반환 "
   ]
  },
  {
   "cell_type": "code",
   "execution_count": 6,
   "id": "6bedbe15-8635-4319-9de2-fcecbef73bc9",
   "metadata": {},
   "outputs": [
    {
     "data": {
      "text/plain": [
       "(('information_schema',),\n",
       " ('mysql',),\n",
       " ('performance_schema',),\n",
       " ('sakila',),\n",
       " ('shopdb',),\n",
       " ('sqldb1',),\n",
       " ('sqldb2',),\n",
       " ('sqldb3',),\n",
       " ('sys',),\n",
       " ('testdb',),\n",
       " ('world',))"
      ]
     },
     "execution_count": 6,
     "metadata": {},
     "output_type": "execute_result"
    }
   ],
   "source": [
    "# 4. sql 실행 결과 추출 (출력)\n",
    "# 서버로부터 받은 결과를 출력 \n",
    "# fetchall() 메소드 사용 : 모든 데이터를 한꺼번에 클라이언트로 받아올 때 사용 \n",
    "result = cursor.fetchall()\n",
    "result"
   ]
  },
  {
   "cell_type": "code",
   "execution_count": 7,
   "id": "8ea77f5c-0ae4-459a-9d32-ceb36a17ea10",
   "metadata": {},
   "outputs": [],
   "source": [
    "# !pip install cryptography"
   ]
  },
  {
   "cell_type": "code",
   "execution_count": 8,
   "id": "c39d7f49-c54d-4f63-b174-ece26c18c593",
   "metadata": {},
   "outputs": [
    {
     "data": {
      "text/plain": [
       "1"
      ]
     },
     "execution_count": 8,
     "metadata": {},
     "output_type": "execute_result"
    }
   ],
   "source": [
    "# 새로운 데이터베이스 생성 \n",
    "sql = 'create database beauty_shop'\n",
    "cursor.execute(sql)"
   ]
  },
  {
   "cell_type": "code",
   "execution_count": 9,
   "id": "d0271a9f-345c-4415-804d-cf1a555271be",
   "metadata": {},
   "outputs": [
    {
     "data": {
      "text/plain": [
       "(('beauty_shop',),\n",
       " ('information_schema',),\n",
       " ('mysql',),\n",
       " ('performance_schema',),\n",
       " ('sakila',),\n",
       " ('shopdb',),\n",
       " ('sqldb1',),\n",
       " ('sqldb2',),\n",
       " ('sqldb3',),\n",
       " ('sys',),\n",
       " ('testdb',),\n",
       " ('world',))"
      ]
     },
     "execution_count": 9,
     "metadata": {},
     "output_type": "execute_result"
    }
   ],
   "source": [
    "# beauty_shop 데이터베이스 생성 확인\n",
    "sql = \"show databases\"\n",
    "cursor.execute(sql)\n",
    "result = cursor.fetchall()\n",
    "result"
   ]
  },
  {
   "cell_type": "code",
   "execution_count": 10,
   "id": "42d326ec-1890-432e-801a-94e1c50540c1",
   "metadata": {},
   "outputs": [
    {
     "data": {
      "text/plain": [
       "0"
      ]
     },
     "execution_count": 10,
     "metadata": {},
     "output_type": "execute_result"
    }
   ],
   "source": [
    "# 데이터베이스 삭제 \n",
    "sql = 'drop database beauty_shop'\n",
    "cursor.execute(sql)"
   ]
  },
  {
   "cell_type": "code",
   "execution_count": 11,
   "id": "e4e2bfb7-6c68-48bd-ac7f-4f0119dcca2c",
   "metadata": {},
   "outputs": [
    {
     "data": {
      "text/plain": [
       "(('information_schema',),\n",
       " ('mysql',),\n",
       " ('performance_schema',),\n",
       " ('sakila',),\n",
       " ('shopdb',),\n",
       " ('sqldb1',),\n",
       " ('sqldb2',),\n",
       " ('sqldb3',),\n",
       " ('sys',),\n",
       " ('testdb',),\n",
       " ('world',))"
      ]
     },
     "execution_count": 11,
     "metadata": {},
     "output_type": "execute_result"
    }
   ],
   "source": [
    "# beauty_shop 데이터베이스 삭제 확인\n",
    "sql = \"show databases\"\n",
    "cursor.execute(sql)\n",
    "result = cursor.fetchall()\n",
    "result"
   ]
  },
  {
   "cell_type": "code",
   "execution_count": 13,
   "id": "bcc6ad66-ba2d-48d6-a70e-4a6a4d524bc9",
   "metadata": {},
   "outputs": [
    {
     "data": {
      "text/plain": [
       "0"
      ]
     },
     "execution_count": 13,
     "metadata": {},
     "output_type": "execute_result"
    }
   ],
   "source": [
    "# 사용할 데이터베이스 선택 \n",
    "sql = 'use sqldb3'\n",
    "cursor.execute(sql)"
   ]
  },
  {
   "cell_type": "code",
   "execution_count": 14,
   "id": "2e5161b3-660f-4f3e-964a-bea26ec3b56c",
   "metadata": {},
   "outputs": [
    {
     "data": {
      "text/plain": [
       "0"
      ]
     },
     "execution_count": 14,
     "metadata": {},
     "output_type": "execute_result"
    }
   ],
   "source": [
    "# 테이블 생성 \n",
    "sql = \"\"\"\n",
    "    create table shop(\n",
    "        proNo int auto_increment not null primary key,\n",
    "        prdName varchar(100),\n",
    "        prdPrice float,\n",
    "        prdDisPrice float\n",
    "    )\n",
    "\"\"\"\n",
    "\n",
    "cursor.execute(sql)"
   ]
  },
  {
   "cell_type": "code",
   "execution_count": 15,
   "id": "2cc7f483-29a8-45e4-9ca0-306aed72e02a",
   "metadata": {},
   "outputs": [
    {
     "data": {
      "text/plain": [
       "(('book',),\n",
       " ('booksale',),\n",
       " ('client',),\n",
       " ('client_view',),\n",
       " ('flower',),\n",
       " ('movie',),\n",
       " ('new_book1',),\n",
       " ('publisher',),\n",
       " ('shop',))"
      ]
     },
     "execution_count": 15,
     "metadata": {},
     "output_type": "execute_result"
    }
   ],
   "source": [
    "# 생성된 테이블 확인 \n",
    "sql = \"show tables\"\n",
    "cursor.execute(sql)\n",
    "cursor.fetchall()"
   ]
  },
  {
   "cell_type": "code",
   "execution_count": 16,
   "id": "6b7ba6f5-23d5-4783-9d2c-7e080aa92acf",
   "metadata": {},
   "outputs": [
    {
     "data": {
      "text/plain": [
       "0"
      ]
     },
     "execution_count": 16,
     "metadata": {},
     "output_type": "execute_result"
    }
   ],
   "source": [
    "# 테이블 삭제 \n",
    "sql = 'drop table shop'\n",
    "cursor.execute(sql)"
   ]
  },
  {
   "cell_type": "code",
   "execution_count": 17,
   "id": "7d4a365c-182b-48f2-aa64-12e596d55c96",
   "metadata": {},
   "outputs": [
    {
     "data": {
      "text/plain": [
       "(('bookNo', 'varchar(10)', 'NO', 'PRI', None, ''),\n",
       " ('bookName', 'text', 'YES', '', None, ''),\n",
       " ('bookAuthor', 'text', 'YES', '', None, ''),\n",
       " ('bookPrice', 'int', 'YES', '', None, ''),\n",
       " ('bookDate', 'date', 'YES', '', None, ''),\n",
       " ('bookStock', 'int', 'YES', '', None, ''),\n",
       " ('pubNo', 'int', 'YES', '', None, ''))"
      ]
     },
     "execution_count": 17,
     "metadata": {},
     "output_type": "execute_result"
    }
   ],
   "source": [
    "# 테이블 구조 확인\n",
    "sql = 'desc book'\n",
    "cursor.execute(sql)\n",
    "cursor.fetchall()\n",
    "# 열이름, 데이터타입(크기), null 여부, 키, 디폴트값, 기타"
   ]
  },
  {
   "cell_type": "code",
   "execution_count": 18,
   "id": "2e620217-227c-4726-a335-099f1a63f9bc",
   "metadata": {},
   "outputs": [],
   "source": [
    "###################################################################"
   ]
  },
  {
   "cell_type": "code",
   "execution_count": 19,
   "id": "ca4d8c0e-0b7d-44f5-a5b5-71a19ced8e9a",
   "metadata": {},
   "outputs": [],
   "source": [
    "# CRUD 작업 처리\n",
    "# CREATE / READ / UPDATE / DELETE\n",
    "# INSERT / SELECT / UPDATE / DELETE"
   ]
  },
  {
   "cell_type": "code",
   "execution_count": 20,
   "id": "8b975ea0-19e1-4ef8-8425-20b8cf813b95",
   "metadata": {},
   "outputs": [],
   "source": [
    "# SELECT "
   ]
  },
  {
   "cell_type": "code",
   "execution_count": 21,
   "id": "56aebf70-a06e-4d6e-beab-8b96f1f3b0bc",
   "metadata": {},
   "outputs": [
    {
     "data": {
      "text/plain": [
       "(('1001', '데이터베이스 이론', '홍길동', 22000, datetime.date(2019, 11, 11), 5, 3),\n",
       " ('1002', '자바 프로그래밍', '이몽룡', 25000, datetime.date(2021, 12, 12), 4, 1),\n",
       " ('1003', '인터넷프로그래밍', '성춘향', 30000, datetime.date(2019, 2, 10), 10, 2),\n",
       " ('1004', '안드로이드 프로그래밍', '변학도', 23000, datetime.date(2017, 10, 10), 2, 1),\n",
       " ('1005', '안드로이드 앱', '강길동', 26000, datetime.date(2020, 1, 11), 5, 2),\n",
       " ('1006',\n",
       "  'MS SQL SERVER 2014',\n",
       "  '박지성',\n",
       "  35000,\n",
       "  datetime.date(2020, 3, 25),\n",
       "  7,\n",
       "  3),\n",
       " ('1007', 'HTML & CSS', '손흥민', 18000, datetime.date(2023, 9, 30), 3, 1),\n",
       " ('1008', 'MFC 입문', '류현진', 20000, datetime.date(2015, 12, 12), 5, 1),\n",
       " ('1009', '안드로이드 게임 제작', '나길동', 33000, datetime.date(2018, 10, 31), 5, 2),\n",
       " ('1010', 'C++객체지향 프로그래밍', '추신수', 24000, datetime.date(2019, 4, 20), 2, 3),\n",
       " ('1011', 'JSP 웹 프로그래밍', '김연아', 27000, datetime.date(2020, 10, 23), 8, 1),\n",
       " ('1012', '해커들의 해킹 기법', '손연재', 32000, datetime.date(2018, 7, 7), 1, 2),\n",
       " ('1013', '자료구조', '홍길동', 19000, datetime.date(2020, 1, 20), 4, 1),\n",
       " ('1014', '파이썬', '성춘향', 35000, datetime.date(2023, 9, 25), 5, 2),\n",
       " ('1015', '자바스크립 & jQuery', '홍길동', 27000, datetime.date(2019, 10, 22), 2, 2))"
      ]
     },
     "execution_count": 21,
     "metadata": {},
     "output_type": "execute_result"
    }
   ],
   "source": [
    "# book 테이블 데이터 조회 \n",
    "sql = 'select * from book'\n",
    "cursor.execute(sql)\n",
    "result = cursor.fetchall()\n",
    "result"
   ]
  },
  {
   "cell_type": "code",
   "execution_count": 22,
   "id": "32c4e005-3477-4e83-bcf7-ff0573373da6",
   "metadata": {},
   "outputs": [
    {
     "data": {
      "text/plain": [
       "'1001'"
      ]
     },
     "execution_count": 22,
     "metadata": {},
     "output_type": "execute_result"
    }
   ],
   "source": [
    "result[0][0]"
   ]
  },
  {
   "cell_type": "code",
   "execution_count": 23,
   "id": "0d556f71-4b13-4a7a-8b19-45d8974cd677",
   "metadata": {},
   "outputs": [
    {
     "name": "stdout",
     "output_type": "stream",
     "text": [
      "('1001', '데이터베이스 이론', '홍길동', 22000, datetime.date(2019, 11, 11), 5, 3)\n",
      "('1002', '자바 프로그래밍', '이몽룡', 25000, datetime.date(2021, 12, 12), 4, 1)\n",
      "('1003', '인터넷프로그래밍', '성춘향', 30000, datetime.date(2019, 2, 10), 10, 2)\n",
      "('1004', '안드로이드 프로그래밍', '변학도', 23000, datetime.date(2017, 10, 10), 2, 1)\n",
      "('1005', '안드로이드 앱', '강길동', 26000, datetime.date(2020, 1, 11), 5, 2)\n",
      "('1006', 'MS SQL SERVER 2014', '박지성', 35000, datetime.date(2020, 3, 25), 7, 3)\n",
      "('1007', 'HTML & CSS', '손흥민', 18000, datetime.date(2023, 9, 30), 3, 1)\n",
      "('1008', 'MFC 입문', '류현진', 20000, datetime.date(2015, 12, 12), 5, 1)\n",
      "('1009', '안드로이드 게임 제작', '나길동', 33000, datetime.date(2018, 10, 31), 5, 2)\n",
      "('1010', 'C++객체지향 프로그래밍', '추신수', 24000, datetime.date(2019, 4, 20), 2, 3)\n",
      "('1011', 'JSP 웹 프로그래밍', '김연아', 27000, datetime.date(2020, 10, 23), 8, 1)\n",
      "('1012', '해커들의 해킹 기법', '손연재', 32000, datetime.date(2018, 7, 7), 1, 2)\n",
      "('1013', '자료구조', '홍길동', 19000, datetime.date(2020, 1, 20), 4, 1)\n",
      "('1014', '파이썬', '성춘향', 35000, datetime.date(2023, 9, 25), 5, 2)\n",
      "('1015', '자바스크립 & jQuery', '홍길동', 27000, datetime.date(2019, 10, 22), 2, 2)\n"
     ]
    }
   ],
   "source": [
    "for re in result:\n",
    "    print(re)"
   ]
  },
  {
   "cell_type": "code",
   "execution_count": 24,
   "id": "a498084e-e499-4fad-85de-8e8b4a095395",
   "metadata": {},
   "outputs": [
    {
     "name": "stdout",
     "output_type": "stream",
     "text": [
      "(('1001', '데이터베이스 이론', 22000), ('1002', '자바 프로그래밍', 25000), ('1003', '인터넷프로그래밍', 30000), ('1004', '안드로이드 프로그래밍', 23000), ('1005', '안드로이드 앱', 26000), ('1006', 'MS SQL SERVER 2014', 35000), ('1007', 'HTML & CSS', 18000), ('1008', 'MFC 입문', 20000), ('1009', '안드로이드 게임 제작', 33000), ('1010', 'C++객체지향 프로그래밍', 24000), ('1011', 'JSP 웹 프로그래밍', 27000), ('1012', '해커들의 해킹 기법', 32000), ('1013', '자료구조', 19000), ('1014', '파이썬', 35000), ('1015', '자바스크립 & jQuery', 27000))\n"
     ]
    }
   ],
   "source": [
    "# 도서번호, 도서명, 도서가격만 쿼리 실행 \n",
    "sql = 'select bookNo, bookName, bookPrice from book';\n",
    "cursor.execute(sql)\n",
    "result = cursor.fetchall()\n",
    "print(result)\n"
   ]
  },
  {
   "cell_type": "code",
   "execution_count": 25,
   "id": "6f3df4da-be3f-4f8c-97f8-efefabc352a8",
   "metadata": {},
   "outputs": [
    {
     "data": {
      "text/plain": [
       "(('1003', '인터넷프로그래밍', 30000),\n",
       " ('1006', 'MS SQL SERVER 2014', 35000),\n",
       " ('1009', '안드로이드 게임 제작', 33000),\n",
       " ('1012', '해커들의 해킹 기법', 32000),\n",
       " ('1014', '파이썬', 35000))"
      ]
     },
     "execution_count": 25,
     "metadata": {},
     "output_type": "execute_result"
    }
   ],
   "source": [
    "# 도서 가격이 30,000원 이상인 도서의 도서번호, 도서명, 가격 추출 \n",
    "sql = 'select bookno,bookname,bookprice from book where bookprice >=30000'\n",
    "\n",
    "cursor.execute(sql)\n",
    "result = cursor.fetchall()\n",
    "result\n"
   ]
  },
  {
   "cell_type": "markdown",
   "id": "d160d8e2-1344-4694-9e21-1fe28ca4bd7e",
   "metadata": {},
   "source": [
    "# 다음과 같이 출력  \n",
    "1003 인터넷프로그래밍 30000\n",
    "1006 MS SQL SERVER 2014 35000\n",
    "1009 안드로이드 게임 제작 33000\n",
    "1012 해커들의 해킹 기법 32000\n",
    "1014 파이썬 35000"
   ]
  },
  {
   "cell_type": "code",
   "execution_count": 30,
   "id": "6b86f136-5c4e-4b24-aa70-6cf5937854bc",
   "metadata": {},
   "outputs": [
    {
     "name": "stdout",
     "output_type": "stream",
     "text": [
      "1003 인터넷프로그래밍 30000 \n",
      "1006 MS SQL SERVER 2014 35000 \n",
      "1009 안드로이드 게임 제작 33000 \n",
      "1012 해커들의 해킹 기법 32000 \n",
      "1014 파이썬 35000 \n"
     ]
    }
   ],
   "source": [
    "for re in result:\n",
    "    for r in re:\n",
    "        print(r, end=\" \")\n",
    "    print()"
   ]
  },
  {
   "cell_type": "code",
   "execution_count": null,
   "id": "bc04583d-e9ae-4bea-ba56-21854d08211c",
   "metadata": {},
   "outputs": [],
   "source": []
  },
  {
   "cell_type": "code",
   "execution_count": 31,
   "id": "0dab04a1-3098-4c03-9299-dd221c768d35",
   "metadata": {},
   "outputs": [],
   "source": [
    "cursor.close()\n",
    "conn.close()"
   ]
  },
  {
   "cell_type": "code",
   "execution_count": null,
   "id": "a7a2cf08-3568-4e2a-8510-691279cb8879",
   "metadata": {},
   "outputs": [],
   "source": []
  }
 ],
 "metadata": {
  "kernelspec": {
   "display_name": "Python 3 (ipykernel)",
   "language": "python",
   "name": "python3"
  },
  "language_info": {
   "codemirror_mode": {
    "name": "ipython",
    "version": 3
   },
   "file_extension": ".py",
   "mimetype": "text/x-python",
   "name": "python",
   "nbconvert_exporter": "python",
   "pygments_lexer": "ipython3",
   "version": "3.11.5"
  }
 },
 "nbformat": 4,
 "nbformat_minor": 5
}
