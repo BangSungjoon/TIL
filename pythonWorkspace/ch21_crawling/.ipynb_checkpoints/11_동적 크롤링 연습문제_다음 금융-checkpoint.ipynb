{
 "cells": [
  {
   "cell_type": "markdown",
   "id": "b21e03c6-97a0-44a6-82d9-9485505b9636",
   "metadata": {},
   "source": [
    "다음 금융 페이지에서 업종 상위 기업 추출\n",
    "url='http://finance.daum.net/'"
   ]
  },
  {
   "cell_type": "code",
   "execution_count": 1,
   "id": "b383a861-d9e8-4504-acfb-677fc64d3870",
   "metadata": {},
   "outputs": [],
   "source": [
    "# 1 노루홀딩스우 48,900\n",
    "# 2 노루페인트우 25,450\n",
    "# 3 신풍 1,131\n",
    "# 4 유유제약2우B 14,490\n",
    "# 5 조비 15,840"
   ]
  },
  {
   "cell_type": "code",
   "execution_count": 1,
   "id": "8c6de449-1bdd-4868-af95-ee8e738b5dd5",
   "metadata": {},
   "outputs": [],
   "source": [
    "from IPython.core.interactiveshell import InteractiveShell\n",
    "InteractiveShell.ast_node_interactivity=\"all\"\n",
    "from urllib.request import urlopen\n",
    "import bs4\n",
    "import pandas as pd\n",
    "import requests\n",
    "\n",
    "url = 'http://finance.daum.net/'\n",
    "html = urlopen(url)\n",
    "# 파서 객체 생성\n",
    "bs_obj = bs4.BeautifulSoup(html, 'html.parser')\n",
    "\n",
    "import selenium\n",
    "from selenium import webdriver\n",
    "from selenium.webdriver.common.by import By # 셀레니움 4.0부터 포함된 객체(모듈)\n",
    "\n",
    "from selenium.webdriver.chrome.service import Service\n",
    "from webdriver_manager.chrome import ChromeDriverManager\n",
    "\n",
    "# (1) webdriver 객체 생성\n",
    "chrome_options = webdriver.ChromeOptions()\n",
    "driver = webdriver.Chrome(service=Service(ChromeDriverManager().install()), options=chrome_options)\n",
    "\n",
    "driver.get('http://finance.daum.net/')"
   ]
  },
  {
   "cell_type": "code",
   "execution_count": 3,
   "id": "ad44192c-2d95-434f-8dd1-12d203b45287",
   "metadata": {},
   "outputs": [
    {
     "name": "stdout",
     "output_type": "stream",
     "text": [
      "1 덕성 7,520 \n",
      "1 한솔케미칼 179,400 \n",
      "1 덕성우 6,740 \n",
      "1 일동제약 21,900 \n",
      "1 SK바이오팜 95,100 \n"
     ]
    }
   ],
   "source": [
    "kospi_list = driver.find_elements(By.CSS_SELECTOR, '.list.boxKospi li')\n",
    "i = 1\n",
    "for k in kospi_list:\n",
    "    name = k.find_element(By.CSS_SELECTOR, 'a').text\n",
    "    price = k.find_element(By.CSS_SELECTOR, 'p').text\n",
    "    print(f\"{i} {name} {price} \")"
   ]
  },
  {
   "cell_type": "code",
   "execution_count": 4,
   "id": "5c1e1e3a-461b-4d1b-8b52-2085fb9522b7",
   "metadata": {},
   "outputs": [
    {
     "name": "stdout",
     "output_type": "stream",
     "text": [
      "1 덕성 7,520\n",
      "2 한솔케미칼 179,300\n",
      "3 덕성우 6,730\n",
      "4 일동제약 21,900\n",
      "5 SK바이오팜 94,900\n"
     ]
    }
   ],
   "source": [
    "# 또는 zip 활용\n",
    "em = driver.find_elements(By.CSS_SELECTOR, '.list.boxKospi li em')\n",
    "stocks = driver.find_elements(By.CSS_SELECTOR, '.list.boxKospi a')\n",
    "prices = driver.find_elements(By.CSS_SELECTOR, '.list.boxKospi p:nth-of-type(1)')\n",
    "\n",
    "for em, stock, price in zip(em, stocks, prices):\n",
    "    print(em.text, stock.text, price.text)"
   ]
  },
  {
   "cell_type": "code",
   "execution_count": 5,
   "id": "79af0316-12fc-4bf0-be32-ede35b1db515",
   "metadata": {},
   "outputs": [
    {
     "ename": "WebDriverException",
     "evalue": "Message: disconnected: not connected to DevTools\n  (failed to check if window was closed: disconnected: not connected to DevTools)\n  (Session info: chrome=116.0.5845.188)\nStacktrace:\n\tGetHandleVerifier [0x00EC37C3+48947]\n\t(No symbol) [0x00E58551]\n\t(No symbol) [0x00D5C92D]\n\t(No symbol) [0x00D4D249]\n\t(No symbol) [0x00D4D79A]\n\t(No symbol) [0x00D4D738]\n\t(No symbol) [0x00D426FD]\n\t(No symbol) [0x00D42F8D]\n\t(No symbol) [0x00DAD288]\n\t(No symbol) [0x00DA5053]\n\t(No symbol) [0x00D816C7]\n\t(No symbol) [0x00D8284D]\n\tGetHandleVerifier [0x0110FDF9+2458985]\n\tGetHandleVerifier [0x0115744F+2751423]\n\tGetHandleVerifier [0x01151361+2726609]\n\tGetHandleVerifier [0x00F40680+560624]\n\t(No symbol) [0x00E6238C]\n\t(No symbol) [0x00E5E268]\n\t(No symbol) [0x00E5E392]\n\t(No symbol) [0x00E510B7]\n\tBaseThreadInitThunk [0x762E00C9+25]\n\tRtlGetAppContainerNamedObjectPath [0x771D7B1E+286]\n\tRtlGetAppContainerNamedObjectPath [0x771D7AEE+238]\n",
     "output_type": "error",
     "traceback": [
      "\u001b[1;31m---------------------------------------------------------------------------\u001b[0m",
      "\u001b[1;31mWebDriverException\u001b[0m                        Traceback (most recent call last)",
      "Cell \u001b[1;32mIn[5], line 1\u001b[0m\n\u001b[1;32m----> 1\u001b[0m \u001b[43mdriver\u001b[49m\u001b[38;5;241;43m.\u001b[39;49m\u001b[43mclose\u001b[49m\u001b[43m(\u001b[49m\u001b[43m)\u001b[49m\n",
      "File \u001b[1;32m~\\AppData\\Local\\Programs\\Python\\Python311\\Lib\\site-packages\\selenium\\webdriver\\remote\\webdriver.py:455\u001b[0m, in \u001b[0;36mWebDriver.close\u001b[1;34m(self)\u001b[0m\n\u001b[0;32m    447\u001b[0m \u001b[38;5;28;01mdef\u001b[39;00m \u001b[38;5;21mclose\u001b[39m(\u001b[38;5;28mself\u001b[39m) \u001b[38;5;241m-\u001b[39m\u001b[38;5;241m>\u001b[39m \u001b[38;5;28;01mNone\u001b[39;00m:\n\u001b[0;32m    448\u001b[0m \u001b[38;5;250m    \u001b[39m\u001b[38;5;124;03m\"\"\"Closes the current window.\u001b[39;00m\n\u001b[0;32m    449\u001b[0m \n\u001b[0;32m    450\u001b[0m \u001b[38;5;124;03m    :Usage:\u001b[39;00m\n\u001b[1;32m   (...)\u001b[0m\n\u001b[0;32m    453\u001b[0m \u001b[38;5;124;03m            driver.close()\u001b[39;00m\n\u001b[0;32m    454\u001b[0m \u001b[38;5;124;03m    \"\"\"\u001b[39;00m\n\u001b[1;32m--> 455\u001b[0m     \u001b[38;5;28;43mself\u001b[39;49m\u001b[38;5;241;43m.\u001b[39;49m\u001b[43mexecute\u001b[49m\u001b[43m(\u001b[49m\u001b[43mCommand\u001b[49m\u001b[38;5;241;43m.\u001b[39;49m\u001b[43mCLOSE\u001b[49m\u001b[43m)\u001b[49m\n",
      "File \u001b[1;32m~\\AppData\\Local\\Programs\\Python\\Python311\\Lib\\site-packages\\selenium\\webdriver\\remote\\webdriver.py:344\u001b[0m, in \u001b[0;36mWebDriver.execute\u001b[1;34m(self, driver_command, params)\u001b[0m\n\u001b[0;32m    342\u001b[0m response \u001b[38;5;241m=\u001b[39m \u001b[38;5;28mself\u001b[39m\u001b[38;5;241m.\u001b[39mcommand_executor\u001b[38;5;241m.\u001b[39mexecute(driver_command, params)\n\u001b[0;32m    343\u001b[0m \u001b[38;5;28;01mif\u001b[39;00m response:\n\u001b[1;32m--> 344\u001b[0m     \u001b[38;5;28;43mself\u001b[39;49m\u001b[38;5;241;43m.\u001b[39;49m\u001b[43merror_handler\u001b[49m\u001b[38;5;241;43m.\u001b[39;49m\u001b[43mcheck_response\u001b[49m\u001b[43m(\u001b[49m\u001b[43mresponse\u001b[49m\u001b[43m)\u001b[49m\n\u001b[0;32m    345\u001b[0m     response[\u001b[38;5;124m\"\u001b[39m\u001b[38;5;124mvalue\u001b[39m\u001b[38;5;124m\"\u001b[39m] \u001b[38;5;241m=\u001b[39m \u001b[38;5;28mself\u001b[39m\u001b[38;5;241m.\u001b[39m_unwrap_value(response\u001b[38;5;241m.\u001b[39mget(\u001b[38;5;124m\"\u001b[39m\u001b[38;5;124mvalue\u001b[39m\u001b[38;5;124m\"\u001b[39m, \u001b[38;5;28;01mNone\u001b[39;00m))\n\u001b[0;32m    346\u001b[0m     \u001b[38;5;28;01mreturn\u001b[39;00m response\n",
      "File \u001b[1;32m~\\AppData\\Local\\Programs\\Python\\Python311\\Lib\\site-packages\\selenium\\webdriver\\remote\\errorhandler.py:229\u001b[0m, in \u001b[0;36mErrorHandler.check_response\u001b[1;34m(self, response)\u001b[0m\n\u001b[0;32m    227\u001b[0m         alert_text \u001b[38;5;241m=\u001b[39m value[\u001b[38;5;124m\"\u001b[39m\u001b[38;5;124malert\u001b[39m\u001b[38;5;124m\"\u001b[39m]\u001b[38;5;241m.\u001b[39mget(\u001b[38;5;124m\"\u001b[39m\u001b[38;5;124mtext\u001b[39m\u001b[38;5;124m\"\u001b[39m)\n\u001b[0;32m    228\u001b[0m     \u001b[38;5;28;01mraise\u001b[39;00m exception_class(message, screen, stacktrace, alert_text)  \u001b[38;5;66;03m# type: ignore[call-arg]  # mypy is not smart enough here\u001b[39;00m\n\u001b[1;32m--> 229\u001b[0m \u001b[38;5;28;01mraise\u001b[39;00m exception_class(message, screen, stacktrace)\n",
      "\u001b[1;31mWebDriverException\u001b[0m: Message: disconnected: not connected to DevTools\n  (failed to check if window was closed: disconnected: not connected to DevTools)\n  (Session info: chrome=116.0.5845.188)\nStacktrace:\n\tGetHandleVerifier [0x00EC37C3+48947]\n\t(No symbol) [0x00E58551]\n\t(No symbol) [0x00D5C92D]\n\t(No symbol) [0x00D4D249]\n\t(No symbol) [0x00D4D79A]\n\t(No symbol) [0x00D4D738]\n\t(No symbol) [0x00D426FD]\n\t(No symbol) [0x00D42F8D]\n\t(No symbol) [0x00DAD288]\n\t(No symbol) [0x00DA5053]\n\t(No symbol) [0x00D816C7]\n\t(No symbol) [0x00D8284D]\n\tGetHandleVerifier [0x0110FDF9+2458985]\n\tGetHandleVerifier [0x0115744F+2751423]\n\tGetHandleVerifier [0x01151361+2726609]\n\tGetHandleVerifier [0x00F40680+560624]\n\t(No symbol) [0x00E6238C]\n\t(No symbol) [0x00E5E268]\n\t(No symbol) [0x00E5E392]\n\t(No symbol) [0x00E510B7]\n\tBaseThreadInitThunk [0x762E00C9+25]\n\tRtlGetAppContainerNamedObjectPath [0x771D7B1E+286]\n\tRtlGetAppContainerNamedObjectPath [0x771D7AEE+238]\n"
     ]
    }
   ],
   "source": [
    "driver.close()"
   ]
  },
  {
   "cell_type": "code",
   "execution_count": null,
   "id": "d8a2316b-f948-43a3-89dc-c4a66a412a9e",
   "metadata": {},
   "outputs": [],
   "source": []
  }
 ],
 "metadata": {
  "kernelspec": {
   "display_name": "Python 3 (ipykernel)",
   "language": "python",
   "name": "python3"
  },
  "language_info": {
   "codemirror_mode": {
    "name": "ipython",
    "version": 3
   },
   "file_extension": ".py",
   "mimetype": "text/x-python",
   "name": "python",
   "nbconvert_exporter": "python",
   "pygments_lexer": "ipython3",
   "version": "3.11.5"
  }
 },
 "nbformat": 4,
 "nbformat_minor": 5
}
