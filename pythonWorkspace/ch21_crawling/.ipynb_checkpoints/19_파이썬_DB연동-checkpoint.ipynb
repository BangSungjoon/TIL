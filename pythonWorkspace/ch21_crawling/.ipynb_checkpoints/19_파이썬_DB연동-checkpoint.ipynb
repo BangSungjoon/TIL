{
 "cells": [
  {
   "cell_type": "markdown",
   "id": "f5fa9053-0bc4-4255-ad75-48e5a9ebd468",
   "metadata": {},
   "source": [
    "### 파이썬 DB 연동\n",
    "- CRUD 작업 처리\n",
    "- CREATE / READ / UPDATE / DELETE\n",
    "- INSERT / SELECT / UPDATE / DELETE "
   ]
  },
  {
   "cell_type": "markdown",
   "id": "702d4d59-fd60-40f2-8109-248e76cd5f02",
   "metadata": {},
   "source": [
    "### 파이썬에서 MySQL 연동 패키지 지원\n",
    "- pymysql 패키지 사용 "
   ]
  },
  {
   "cell_type": "code",
   "execution_count": 1,
   "id": "1c1a4c77-ca88-437f-a59b-c04b06808967",
   "metadata": {},
   "outputs": [
    {
     "name": "stdout",
     "output_type": "stream",
     "text": [
      "Collecting pymysql\n",
      "  Obtaining dependency information for pymysql from https://files.pythonhosted.org/packages/e5/30/20467e39523d0cfc2b6227902d3687a16364307260c75e6a1cb4422b0c62/PyMySQL-1.1.0-py3-none-any.whl.metadata\n",
      "  Downloading PyMySQL-1.1.0-py3-none-any.whl.metadata (4.4 kB)\n",
      "Downloading PyMySQL-1.1.0-py3-none-any.whl (44 kB)\n",
      "   ---------------------------------------- 0.0/44.8 kB ? eta -:--:--\n",
      "   ------------------ --------------------- 20.5/44.8 kB ? eta -:--:--\n",
      "   ---------------------------------------- 44.8/44.8 kB 1.1 MB/s eta 0:00:00\n",
      "Installing collected packages: pymysql\n",
      "Successfully installed pymysql-1.1.0\n"
     ]
    }
   ],
   "source": [
    "# pymysql 패키지 설치 \n",
    "!pip install pymysql"
   ]
  },
  {
   "cell_type": "code",
   "execution_count": 2,
   "id": "d011002b-6a01-4a94-81d8-8dc3cf603806",
   "metadata": {},
   "outputs": [],
   "source": [
    "import pymysql"
   ]
  },
  {
   "cell_type": "markdown",
   "id": "0ef19a7a-c1ba-46be-86c5-fa5d92bf6f98",
   "metadata": {},
   "source": [
    "#### DB 연동 순서\n",
    "- (1) DB 연결   \n",
    "- (2) cursor 객체 생성 \n",
    "- (3) sql 구문 실행 \n",
    "- (4) sql 실행 결과 추출 (출력)"
   ]
  },
  {
   "cell_type": "code",
   "execution_count": 4,
   "id": "f2b4e14a-e5ca-42ff-acdf-d9229f5c19f0",
   "metadata": {},
   "outputs": [],
   "source": [
    "# 1. DB 연결 \n",
    "# 호스트명, 포트번호, 로그인 계정, 비밀번호, CHARSET 파라미터로 지정 \n",
    "conn = pymysql.connect(host='localhost', \n",
    "                       port=3306, \n",
    "                       user='root', \n",
    "                       passwd='1234',\n",
    "                       charset='utf8')\n",
    "# 연결 객체 반환 "
   ]
  },
  {
   "cell_type": "code",
   "execution_count": 5,
   "id": "52f65216-e261-4533-af94-567e5d0a8cd7",
   "metadata": {},
   "outputs": [],
   "source": [
    "# 2. cursor 객체 생성 \n",
    "# cursor 객체를 통해서 메소드 호출 \n",
    "cursor = conn.cursor()"
   ]
  },
  {
   "cell_type": "code",
   "execution_count": 6,
   "id": "cd303350-3c7d-434b-a04f-1c4dea9168b9",
   "metadata": {},
   "outputs": [
    {
     "data": {
      "text/plain": [
       "12"
      ]
     },
     "execution_count": 6,
     "metadata": {},
     "output_type": "execute_result"
    }
   ],
   "source": [
    "# 3. sql 문 실행 \n",
    "# 데이터베이스 확인 sql 문 실행 \n",
    "# 실행 : execute() 메소드 \n",
    "sql = 'show databases'\n",
    "cursor.execute(sql)\n",
    "\n",
    "# 실행 결과 : 데이터베이스 개수 반환 "
   ]
  },
  {
   "cell_type": "code",
   "execution_count": 7,
   "id": "6bedbe15-8635-4319-9de2-fcecbef73bc9",
   "metadata": {},
   "outputs": [
    {
     "data": {
      "text/plain": [
       "(('information_schema',),\n",
       " ('mysql',),\n",
       " ('performance_schema',),\n",
       " ('sakila',),\n",
       " ('shopdb',),\n",
       " ('sqldb1',),\n",
       " ('sqldb2',),\n",
       " ('sqldb3',),\n",
       " ('sqldb4',),\n",
       " ('sys',),\n",
       " ('testdb',),\n",
       " ('world',))"
      ]
     },
     "execution_count": 7,
     "metadata": {},
     "output_type": "execute_result"
    }
   ],
   "source": [
    "# 4. sql 실행 결과 추출 (출력)\n",
    "# 서버로부터 받은 결과를 출력 \n",
    "# fetchall() 메소드 사용 : 모든 데이터를 한꺼번에 클라이언트로 받아올 때 사용 \n",
    "result = cursor.fetchall()\n",
    "result"
   ]
  },
  {
   "cell_type": "code",
   "execution_count": null,
   "id": "8ea77f5c-0ae4-459a-9d32-ceb36a17ea10",
   "metadata": {},
   "outputs": [],
   "source": []
  },
  {
   "cell_type": "code",
   "execution_count": null,
   "id": "c39d7f49-c54d-4f63-b174-ece26c18c593",
   "metadata": {},
   "outputs": [],
   "source": []
  }
 ],
 "metadata": {
  "kernelspec": {
   "display_name": "Python 3 (ipykernel)",
   "language": "python",
   "name": "python3"
  },
  "language_info": {
   "codemirror_mode": {
    "name": "ipython",
    "version": 3
   },
   "file_extension": ".py",
   "mimetype": "text/x-python",
   "name": "python",
   "nbconvert_exporter": "python",
   "pygments_lexer": "ipython3",
   "version": "3.11.5"
  }
 },
 "nbformat": 4,
 "nbformat_minor": 5
}
