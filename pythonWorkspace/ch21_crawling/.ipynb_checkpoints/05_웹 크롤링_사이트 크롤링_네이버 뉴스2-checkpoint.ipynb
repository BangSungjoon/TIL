{
 "cells": [
  {
   "cell_type": "markdown",
   "id": "2f7f5878-6242-43f0-8b09-bdd9a8e4462a",
   "metadata": {},
   "source": [
    "### (1) 네이버 뉴스 섹션별 헤드라인(topic) 페이지 크롤링"
   ]
  },
  {
   "cell_type": "code",
   "execution_count": 1,
   "id": "ab420c3d-e3b4-4a24-8fdb-6836e9aa6aeb",
   "metadata": {},
   "outputs": [],
   "source": [
    "from IPython.core.interactiveshell import InteractiveShell\n",
    "InteractiveShell.ast_node_interactivity=\"all\""
   ]
  },
  {
   "cell_type": "code",
   "execution_count": 2,
   "id": "5462a19b-378a-4f00-94ee-616f9e0f4eab",
   "metadata": {},
   "outputs": [],
   "source": [
    "from urllib.request import urlopen\n",
    "import bs4"
   ]
  },
  {
   "cell_type": "code",
   "execution_count": 3,
   "id": "62eeb207-2417-47e4-83c1-0d8049c6f9a0",
   "metadata": {},
   "outputs": [],
   "source": [
    "import pandas as pd"
   ]
  },
  {
   "cell_type": "code",
   "execution_count": 5,
   "id": "b84505a7-ee56-4e30-b298-933bcc14ea15",
   "metadata": {},
   "outputs": [
    {
     "data": {
      "text/html": [
       "<div>\n",
       "<style scoped>\n",
       "    .dataframe tbody tr th:only-of-type {\n",
       "        vertical-align: middle;\n",
       "    }\n",
       "\n",
       "    .dataframe tbody tr th {\n",
       "        vertical-align: top;\n",
       "    }\n",
       "\n",
       "    .dataframe thead th {\n",
       "        text-align: right;\n",
       "    }\n",
       "</style>\n",
       "<table border=\"1\" class=\"dataframe\">\n",
       "  <thead>\n",
       "    <tr style=\"text-align: right;\">\n",
       "      <th></th>\n",
       "      <th>section</th>\n",
       "      <th>link</th>\n",
       "    </tr>\n",
       "  </thead>\n",
       "  <tbody>\n",
       "    <tr>\n",
       "      <th>0</th>\n",
       "      <td>언론사별</td>\n",
       "      <td>https://news.naver.com/?viewType=pc</td>\n",
       "    </tr>\n",
       "    <tr>\n",
       "      <th>1</th>\n",
       "      <td>정치</td>\n",
       "      <td>https://news.naver.com/main/main.naver?mode=LS...</td>\n",
       "    </tr>\n",
       "    <tr>\n",
       "      <th>2</th>\n",
       "      <td>경제</td>\n",
       "      <td>https://news.naver.com/main/main.naver?mode=LS...</td>\n",
       "    </tr>\n",
       "    <tr>\n",
       "      <th>3</th>\n",
       "      <td>사회</td>\n",
       "      <td>https://news.naver.com/main/main.naver?mode=LS...</td>\n",
       "    </tr>\n",
       "    <tr>\n",
       "      <th>4</th>\n",
       "      <td>생활/문화</td>\n",
       "      <td>https://news.naver.com/main/main.naver?mode=LS...</td>\n",
       "    </tr>\n",
       "    <tr>\n",
       "      <th>5</th>\n",
       "      <td>IT/과학</td>\n",
       "      <td>https://news.naver.com/main/main.naver?mode=LS...</td>\n",
       "    </tr>\n",
       "    <tr>\n",
       "      <th>6</th>\n",
       "      <td>세계</td>\n",
       "      <td>https://news.naver.com/main/main.naver?mode=LS...</td>\n",
       "    </tr>\n",
       "    <tr>\n",
       "      <th>7</th>\n",
       "      <td>랭킹</td>\n",
       "      <td>https://news.naver.com/main/ranking/popularDay...</td>\n",
       "    </tr>\n",
       "    <tr>\n",
       "      <th>8</th>\n",
       "      <td>신문보기</td>\n",
       "      <td>https://news.naver.com/newspaper/home?viewType=pc</td>\n",
       "    </tr>\n",
       "    <tr>\n",
       "      <th>9</th>\n",
       "      <td>오피니언</td>\n",
       "      <td>https://news.naver.com/opinion/home</td>\n",
       "    </tr>\n",
       "    <tr>\n",
       "      <th>10</th>\n",
       "      <td>TV</td>\n",
       "      <td>https://news.naver.com/main/tv/index.naver?mid...</td>\n",
       "    </tr>\n",
       "    <tr>\n",
       "      <th>11</th>\n",
       "      <td>팩트체크</td>\n",
       "      <td>https://news.naver.com/main/factcheck/main.naver</td>\n",
       "    </tr>\n",
       "    <tr>\n",
       "      <th>12</th>\n",
       "      <td>알고리즘 안내</td>\n",
       "      <td>https://media.naver.com/algorithm</td>\n",
       "    </tr>\n",
       "  </tbody>\n",
       "</table>\n",
       "</div>"
      ],
      "text/plain": [
       "    section                                               link\n",
       "0      언론사별                https://news.naver.com/?viewType=pc\n",
       "1        정치  https://news.naver.com/main/main.naver?mode=LS...\n",
       "2        경제  https://news.naver.com/main/main.naver?mode=LS...\n",
       "3        사회  https://news.naver.com/main/main.naver?mode=LS...\n",
       "4     생활/문화  https://news.naver.com/main/main.naver?mode=LS...\n",
       "5     IT/과학  https://news.naver.com/main/main.naver?mode=LS...\n",
       "6        세계  https://news.naver.com/main/main.naver?mode=LS...\n",
       "7        랭킹  https://news.naver.com/main/ranking/popularDay...\n",
       "8      신문보기  https://news.naver.com/newspaper/home?viewType=pc\n",
       "9      오피니언                https://news.naver.com/opinion/home\n",
       "10       TV  https://news.naver.com/main/tv/index.naver?mid...\n",
       "11     팩트체크   https://news.naver.com/main/factcheck/main.naver\n",
       "12  알고리즘 안내                  https://media.naver.com/algorithm"
      ]
     },
     "execution_count": 5,
     "metadata": {},
     "output_type": "execute_result"
    }
   ],
   "source": [
    "# 네이버 뉴스1에서 저장한 naver_news_section.csv 읽어오기\n",
    "section_menu_df = pd.read_csv('./crawl_data/naver_news_section.csv')\n",
    "section_menu_df"
   ]
  },
  {
   "cell_type": "code",
   "execution_count": 6,
   "id": "966f76e7-e6f9-448f-9c56-127e6878e6ab",
   "metadata": {},
   "outputs": [
    {
     "data": {
      "text/plain": [
       "'https://news.naver.com/main/main.naver?mode=LSD&mid=shm&sid1=101'"
      ]
     },
     "execution_count": 6,
     "metadata": {},
     "output_type": "execute_result"
    }
   ],
   "source": [
    "# 경제 섹션 링크 확인\n",
    "section_menu_df['link'][2]"
   ]
  },
  {
   "cell_type": "code",
   "execution_count": 8,
   "id": "c58ab0ac-4c3b-4612-b9fa-e894a27961ed",
   "metadata": {},
   "outputs": [],
   "source": [
    "url = section_menu_df['link'][2]\n",
    "html = urlopen(url)\n",
    "bs_obj = bs4.BeautifulSoup(html, 'html.parser')"
   ]
  },
  {
   "cell_type": "code",
   "execution_count": 10,
   "id": "8c81f4ab-1dcb-474f-a268-db2b09c0e443",
   "metadata": {},
   "outputs": [],
   "source": [
    "#bs_obj"
   ]
  },
  {
   "cell_type": "code",
   "execution_count": 11,
   "id": "8069b4c7-e7d9-46d7-8e35-2798523484f0",
   "metadata": {},
   "outputs": [],
   "source": [
    "# 네이버 뉴스 섹션을 확인하려면 \n",
    "# 섹션별 헤드라인(topic)이 있고\n",
    "# topic의 title과 link를 크롤링할 예정"
   ]
  },
  {
   "cell_type": "code",
   "execution_count": 14,
   "id": "2cc1e5af-23a0-44eb-b8d1-b56c16fa01dd",
   "metadata": {},
   "outputs": [
    {
     "data": {
      "text/plain": [
       "10"
      ]
     },
     "execution_count": 14,
     "metadata": {},
     "output_type": "execute_result"
    }
   ],
   "source": [
    "# 헤드라인 뉴스에서 각 topic 추출 : <div class='sh_text'>\n",
    "# 섹션 중에서 정치 ~ 세계 6개 섹션에 동일한 포맷\n",
    "topic_list = bs_obj.findAll('div',{'class':'sh_text'})\n",
    "len(topic_list)"
   ]
  },
  {
   "cell_type": "code",
   "execution_count": 18,
   "id": "1b7039bd-8861-4d53-960e-2c70e7fd9bd9",
   "metadata": {},
   "outputs": [
    {
     "data": {
      "text/plain": [
       "10"
      ]
     },
     "execution_count": 18,
     "metadata": {},
     "output_type": "execute_result"
    }
   ],
   "source": [
    "# select로 하는법\n",
    "topic_list2 = bs_obj.select('div.sh_text')\n",
    "len(topic_list2)"
   ]
  },
  {
   "cell_type": "code",
   "execution_count": 15,
   "id": "8d2b63af-7797-4cbe-b0e0-3d51246491c5",
   "metadata": {},
   "outputs": [
    {
     "data": {
      "text/plain": [
       "<a class=\"sh_text_headline nclicks(cls_eco.clsart)\" href=\"https://n.news.naver.com/mnews/article/023/0003787417?sid=101\">국내기업 2분기 성적표 ‘낙제’… 매출액 증가율 마이너스로</a>"
      ]
     },
     "execution_count": 15,
     "metadata": {},
     "output_type": "execute_result"
    },
    {
     "data": {
      "text/plain": [
       "'국내기업 2분기 성적표 ‘낙제’… 매출액 증가율 마이너스로'"
      ]
     },
     "execution_count": 15,
     "metadata": {},
     "output_type": "execute_result"
    },
    {
     "data": {
      "text/plain": [
       "'https://n.news.naver.com/mnews/article/023/0003787417?sid=101'"
      ]
     },
     "execution_count": 15,
     "metadata": {},
     "output_type": "execute_result"
    }
   ],
   "source": [
    "# topic_list 에서는 <a>태그의 text는 제목, href 속성은 링크에 해당\n",
    "# 첫 번째 1개만 확인\n",
    "topic_list[0].find('a')\n",
    "topic_list[0].find('a').text\n",
    "topic_list[0].find('a')['href']"
   ]
  },
  {
   "cell_type": "code",
   "execution_count": 16,
   "id": "40c617f7-01ca-4518-a7b7-947ecf378779",
   "metadata": {},
   "outputs": [
    {
     "name": "stdout",
     "output_type": "stream",
     "text": [
      "국내기업 2분기 성적표 ‘낙제’… 매출액 증가율 마이너스로\n",
      "https://n.news.naver.com/mnews/article/023/0003787417?sid=101\n",
      "\"등급 낮은데 3배 더 비싸\"…한우 선물세트 주의\n",
      "https://n.news.naver.com/mnews/article/015/0004890985?sid=101\n",
      "증권사 부동산 PF대출 연체율 17% 넘어\n",
      "https://n.news.naver.com/mnews/article/023/0003787439?sid=101\n",
      "전국상의 회장단 4년만에 모여…최태원 “지방 발전·경제 활성화 함께 뭉쳐야”\n",
      "https://n.news.naver.com/mnews/article/016/0002196704?sid=101\n",
      "`IPO 대어` 서울보증보험, 증권신고서 제출…몸값 3.6조\n",
      "https://n.news.naver.com/mnews/article/029/0002824884?sid=101\n",
      "추석 차례상 30.3만 원, 작년보다 낮다... 고물가 피한 이유\n",
      "https://n.news.naver.com/mnews/article/469/0000760081?sid=101\n",
      "삼양사 서브큐, 자사몰 ‘삼양 서브큐몰’ 오픈…“장보기 기능 더해”\n",
      "https://n.news.naver.com/mnews/article/016/0002196856?sid=101\n",
      "코스맥스, 친환경 로드맵 담은 '2022 지속가능경영보고서' 발간\n",
      "https://n.news.naver.com/mnews/article/014/0005071734?sid=101\n",
      "현대차, 임단협 잠정합의…사상 첫 5년 연속 ‘무분규’\n",
      "https://n.news.naver.com/mnews/article/016/0002196729?sid=101\n",
      "인카금융서비스, 자사주 매입 속 체력 개선…목표가↑-신한\n",
      "https://n.news.naver.com/mnews/article/018/0005573569?sid=101\n"
     ]
    }
   ],
   "source": [
    "# topic_list에서 전체 title과 link 출력\n",
    "# 반복문 사용 + 예외 처리 (try ~ except)\n",
    "\n",
    "for topic in topic_list:\n",
    "    try:\n",
    "        a = topic.find('a')\n",
    "        print(a.text)\n",
    "        print(a['href'])\n",
    "    except:\n",
    "        print('오류 발생')\n",
    "        pass\n",
    "    "
   ]
  },
  {
   "cell_type": "markdown",
   "id": "bc772c56-8af9-42f7-b8ed-95d0f49ca5f2",
   "metadata": {},
   "source": [
    "#### 수집한 데이터를 데이터프레임으로 생성하고, 파일로 저장"
   ]
  },
  {
   "cell_type": "code",
   "execution_count": 19,
   "id": "afcf7590-e0f0-44f6-99d5-be3400f47e74",
   "metadata": {},
   "outputs": [],
   "source": [
    "# 빈 리스트 생성\n",
    "topic_title = []\n",
    "topic_link = []"
   ]
  },
  {
   "cell_type": "code",
   "execution_count": 20,
   "id": "dca91aa6-8bed-40b7-9ab9-ec1c193eb401",
   "metadata": {},
   "outputs": [],
   "source": [
    "# topic의 title과 link를 리스트에 저장\n",
    "for topic in topic_list:\n",
    "    try :\n",
    "        a = topic.find('a')\n",
    "        topic_title.append(a.text)\n",
    "        topic_link.append(a['href'])\n",
    "    except:\n",
    "        print('오류 발생')\n",
    "        # pass"
   ]
  },
  {
   "cell_type": "code",
   "execution_count": 21,
   "id": "d2955373-8a19-4e12-b801-86cd1da6f548",
   "metadata": {},
   "outputs": [
    {
     "data": {
      "text/plain": [
       "['국내기업 2분기 성적표 ‘낙제’… 매출액 증가율 마이너스로',\n",
       " '\"등급 낮은데 3배 더 비싸\"…한우 선물세트 주의',\n",
       " '증권사 부동산 PF대출 연체율 17% 넘어',\n",
       " '전국상의 회장단 4년만에 모여…최태원 “지방 발전·경제 활성화 함께 뭉쳐야”',\n",
       " '`IPO 대어` 서울보증보험, 증권신고서 제출…몸값 3.6조',\n",
       " '추석 차례상 30.3만 원, 작년보다 낮다... 고물가 피한 이유',\n",
       " '삼양사 서브큐, 자사몰 ‘삼양 서브큐몰’ 오픈…“장보기 기능 더해”',\n",
       " \"코스맥스, 친환경 로드맵 담은 '2022 지속가능경영보고서' 발간\",\n",
       " '현대차, 임단협 잠정합의…사상 첫 5년 연속 ‘무분규’',\n",
       " '인카금융서비스, 자사주 매입 속 체력 개선…목표가↑-신한']"
      ]
     },
     "execution_count": 21,
     "metadata": {},
     "output_type": "execute_result"
    },
    {
     "data": {
      "text/plain": [
       "['https://n.news.naver.com/mnews/article/023/0003787417?sid=101',\n",
       " 'https://n.news.naver.com/mnews/article/015/0004890985?sid=101',\n",
       " 'https://n.news.naver.com/mnews/article/023/0003787439?sid=101',\n",
       " 'https://n.news.naver.com/mnews/article/016/0002196704?sid=101',\n",
       " 'https://n.news.naver.com/mnews/article/029/0002824884?sid=101',\n",
       " 'https://n.news.naver.com/mnews/article/469/0000760081?sid=101',\n",
       " 'https://n.news.naver.com/mnews/article/016/0002196856?sid=101',\n",
       " 'https://n.news.naver.com/mnews/article/014/0005071734?sid=101',\n",
       " 'https://n.news.naver.com/mnews/article/016/0002196729?sid=101',\n",
       " 'https://n.news.naver.com/mnews/article/018/0005573569?sid=101']"
      ]
     },
     "execution_count": 21,
     "metadata": {},
     "output_type": "execute_result"
    }
   ],
   "source": [
    "topic_title\n",
    "topic_link"
   ]
  },
  {
   "cell_type": "code",
   "execution_count": 22,
   "id": "cc43633f-fb1d-4b14-9b16-f6d2d86a8039",
   "metadata": {},
   "outputs": [
    {
     "data": {
      "text/html": [
       "<div>\n",
       "<style scoped>\n",
       "    .dataframe tbody tr th:only-of-type {\n",
       "        vertical-align: middle;\n",
       "    }\n",
       "\n",
       "    .dataframe tbody tr th {\n",
       "        vertical-align: top;\n",
       "    }\n",
       "\n",
       "    .dataframe thead th {\n",
       "        text-align: right;\n",
       "    }\n",
       "</style>\n",
       "<table border=\"1\" class=\"dataframe\">\n",
       "  <thead>\n",
       "    <tr style=\"text-align: right;\">\n",
       "      <th></th>\n",
       "      <th>title</th>\n",
       "      <th>url</th>\n",
       "    </tr>\n",
       "  </thead>\n",
       "  <tbody>\n",
       "    <tr>\n",
       "      <th>0</th>\n",
       "      <td>국내기업 2분기 성적표 ‘낙제’… 매출액 증가율 마이너스로</td>\n",
       "      <td>https://n.news.naver.com/mnews/article/023/000...</td>\n",
       "    </tr>\n",
       "    <tr>\n",
       "      <th>1</th>\n",
       "      <td>\"등급 낮은데 3배 더 비싸\"…한우 선물세트 주의</td>\n",
       "      <td>https://n.news.naver.com/mnews/article/015/000...</td>\n",
       "    </tr>\n",
       "    <tr>\n",
       "      <th>2</th>\n",
       "      <td>증권사 부동산 PF대출 연체율 17% 넘어</td>\n",
       "      <td>https://n.news.naver.com/mnews/article/023/000...</td>\n",
       "    </tr>\n",
       "    <tr>\n",
       "      <th>3</th>\n",
       "      <td>전국상의 회장단 4년만에 모여…최태원 “지방 발전·경제 활성화 함께 뭉쳐야”</td>\n",
       "      <td>https://n.news.naver.com/mnews/article/016/000...</td>\n",
       "    </tr>\n",
       "    <tr>\n",
       "      <th>4</th>\n",
       "      <td>`IPO 대어` 서울보증보험, 증권신고서 제출…몸값 3.6조</td>\n",
       "      <td>https://n.news.naver.com/mnews/article/029/000...</td>\n",
       "    </tr>\n",
       "    <tr>\n",
       "      <th>5</th>\n",
       "      <td>추석 차례상 30.3만 원, 작년보다 낮다... 고물가 피한 이유</td>\n",
       "      <td>https://n.news.naver.com/mnews/article/469/000...</td>\n",
       "    </tr>\n",
       "    <tr>\n",
       "      <th>6</th>\n",
       "      <td>삼양사 서브큐, 자사몰 ‘삼양 서브큐몰’ 오픈…“장보기 기능 더해”</td>\n",
       "      <td>https://n.news.naver.com/mnews/article/016/000...</td>\n",
       "    </tr>\n",
       "    <tr>\n",
       "      <th>7</th>\n",
       "      <td>코스맥스, 친환경 로드맵 담은 '2022 지속가능경영보고서' 발간</td>\n",
       "      <td>https://n.news.naver.com/mnews/article/014/000...</td>\n",
       "    </tr>\n",
       "    <tr>\n",
       "      <th>8</th>\n",
       "      <td>현대차, 임단협 잠정합의…사상 첫 5년 연속 ‘무분규’</td>\n",
       "      <td>https://n.news.naver.com/mnews/article/016/000...</td>\n",
       "    </tr>\n",
       "    <tr>\n",
       "      <th>9</th>\n",
       "      <td>인카금융서비스, 자사주 매입 속 체력 개선…목표가↑-신한</td>\n",
       "      <td>https://n.news.naver.com/mnews/article/018/000...</td>\n",
       "    </tr>\n",
       "  </tbody>\n",
       "</table>\n",
       "</div>"
      ],
      "text/plain": [
       "                                        title  \\\n",
       "0            국내기업 2분기 성적표 ‘낙제’… 매출액 증가율 마이너스로   \n",
       "1                 \"등급 낮은데 3배 더 비싸\"…한우 선물세트 주의   \n",
       "2                     증권사 부동산 PF대출 연체율 17% 넘어   \n",
       "3  전국상의 회장단 4년만에 모여…최태원 “지방 발전·경제 활성화 함께 뭉쳐야”   \n",
       "4           `IPO 대어` 서울보증보험, 증권신고서 제출…몸값 3.6조   \n",
       "5        추석 차례상 30.3만 원, 작년보다 낮다... 고물가 피한 이유   \n",
       "6       삼양사 서브큐, 자사몰 ‘삼양 서브큐몰’ 오픈…“장보기 기능 더해”   \n",
       "7        코스맥스, 친환경 로드맵 담은 '2022 지속가능경영보고서' 발간   \n",
       "8              현대차, 임단협 잠정합의…사상 첫 5년 연속 ‘무분규’   \n",
       "9             인카금융서비스, 자사주 매입 속 체력 개선…목표가↑-신한   \n",
       "\n",
       "                                                 url  \n",
       "0  https://n.news.naver.com/mnews/article/023/000...  \n",
       "1  https://n.news.naver.com/mnews/article/015/000...  \n",
       "2  https://n.news.naver.com/mnews/article/023/000...  \n",
       "3  https://n.news.naver.com/mnews/article/016/000...  \n",
       "4  https://n.news.naver.com/mnews/article/029/000...  \n",
       "5  https://n.news.naver.com/mnews/article/469/000...  \n",
       "6  https://n.news.naver.com/mnews/article/016/000...  \n",
       "7  https://n.news.naver.com/mnews/article/014/000...  \n",
       "8  https://n.news.naver.com/mnews/article/016/000...  \n",
       "9  https://n.news.naver.com/mnews/article/018/000...  "
      ]
     },
     "execution_count": 22,
     "metadata": {},
     "output_type": "execute_result"
    }
   ],
   "source": [
    "# 데이터프레임 생성\n",
    "topic_df = pd.DataFrame({'title':topic_title, 'url':topic_link})\n",
    "topic_df\n",
    "# pd.DataFrame({'컬럼명':리스트, '컬럼명':리스트})"
   ]
  },
  {
   "cell_type": "code",
   "execution_count": 24,
   "id": "48d6109e-ec50-4a26-8193-ff02e3f376c1",
   "metadata": {},
   "outputs": [],
   "source": [
    "# 파일로 저장\n",
    "topic_df.to_csv('./crawl_data/naver_news_topic.csv', index=0)"
   ]
  },
  {
   "cell_type": "code",
   "execution_count": 30,
   "id": "7f683504-ba67-4a8b-8aa5-e39050d52fe0",
   "metadata": {},
   "outputs": [],
   "source": [
    "# 파일 열어서 저장한 내용 확인\n",
    "topic_df = pd.read_csv('./crawl_data/naver_news_topic.csv')\n",
    "# topic_df"
   ]
  },
  {
   "cell_type": "markdown",
   "id": "e7a920a6-b852-4fd5-b4ad-c069b9c8a69c",
   "metadata": {},
   "source": [
    "#### 지금까지 한 내용을 결합해서 함수로 구성\n",
    "- 현재 경제 섹션 1개에 대해서 처리했는데\n",
    "- 다른 섹션에도 적용하기 위해 함수로 구성\n",
    "- 함수명 : get_topic(url)\n",
    "      - 섹션별 수집한 데이터를 딕셔너리로 구성 후 반환\n",
    "- 반환된 딕셔너리를 데이터프레임에 추가해서 최종 데이터프레임 완성"
   ]
  },
  {
   "cell_type": "markdown",
   "id": "7fa403ff-b7a3-4ba9-848e-5e718f7dac39",
   "metadata": {},
   "source": [
    "#### 사이트 접속해서 요청하는 방법\n",
    "(1) urllib의 request 사용 : from urllib.request import urlopen\n",
    "       \n",
    "- urlopen(url)\n",
    "        \n",
    "(2) requests 패키지 사용\n",
    "        \n",
    "- requests.get(url, headers)\n",
    "- http 요청 관련 기능이 더 포함되어 있음"
   ]
  },
  {
   "cell_type": "markdown",
   "id": "f758d089-fbb0-4240-94e3-e246e593425d",
   "metadata": {},
   "source": [
    "#### 참고\n",
    "- 서버에 접속할 때 자동화 봇으로 간주하고 연결을 끊는 경우가 발생\n",
    "- 서버에 요청 시 header 구성해서 내 웹 브라우저의 User-Agent 정보 입력해서\n",
    "- bot이 아님을 증명해야 함\n",
    "- header 확인\n",
    "    - 개발자 도구 (F12)\n",
    "    - Network 탭에서\n",
    "    - Headers 탭 / Request Headers 맨 아래에 User-Agent 확인\n",
    "- {'User-Agent' : 'Mozilla/5.0 (Windows NT 10.0; Win64; x64) AppleWebKit/537.36 (KHTML, like Gecko) Chrome/116.0.0.0 Safari/537.36'}"
   ]
  },
  {
   "cell_type": "code",
   "execution_count": 31,
   "id": "81e7571a-31d0-4e49-83d1-a3e77836c2e5",
   "metadata": {},
   "outputs": [],
   "source": [
    "import requests"
   ]
  },
  {
   "cell_type": "code",
   "execution_count": 36,
   "id": "7407d38e-2996-4f6a-b14b-fa3b847c50e9",
   "metadata": {},
   "outputs": [],
   "source": [
    "# 요청 header 설정\n",
    "# url = section_menu_df['link'][2]\n",
    "# headers = {'User-Agent':'Mozilla/5.0 (Windows NT 10.0; Win64; x64) AppleWebKit/537.36 (KHTML, like Gecko) Chrome/116.0.0.0 Safari/537.36'}\n",
    "# res = requests.get(url, headers=headers)\n",
    "# html = res.text\n",
    "# bs_obj = bs4.BeautifulSoup(html, 'html.parser')"
   ]
  },
  {
   "cell_type": "code",
   "execution_count": 35,
   "id": "8286fc3a-38d7-4c08-b443-708a4420d7e8",
   "metadata": {},
   "outputs": [],
   "source": [
    "# bs_obj"
   ]
  },
  {
   "cell_type": "code",
   "execution_count": 38,
   "id": "7f21b3f5-4192-4a33-b942-cf24470ccca7",
   "metadata": {},
   "outputs": [],
   "source": [
    "# 함수로 구성\n",
    "# 섹션과 url 전달 받아서, 헤드라인 topic의 제목, 링크, 섹션을 추출해서\n",
    "# 딕셔너리로 만들어 반환하는 함수\n",
    "def get_topic(url, section):\n",
    "    # 접속 및 결과 파싱\n",
    "    headers = {'User-Agent':'Mozilla/5.0 (Windows NT 10.0; Win64; x64) AppleWebKit/537.36 (KHTML, like Gecko) Chrome/116.0.0.0 Safari/537.36'}\n",
    "    res = requests.get(url, headers=headers)\n",
    "    html = res.text\n",
    "    bs_obj = bs4.BeautifulSoup(html, 'html.parser')\n",
    "\n",
    "    # topic_list 추출\n",
    "    topic_list = bs_obj.findAll('div',{'class':'sh_text'})\n",
    "\n",
    "    # 제목과 링크 추출해서 리스트에 추가\n",
    "    topic_title = []\n",
    "    topic_link = []\n",
    "\n",
    "    for topic in topic_list:\n",
    "        try :\n",
    "            a = topic.find('a')\n",
    "            topic_title.append(a.text)\n",
    "            topic_link.append(a['href'])\n",
    "        except:\n",
    "            print('오류 발생')\n",
    "            # pass\n",
    "            \n",
    "    # 딕셔너리 만들어서 반환\n",
    "    return ({'topic':topic_title, 'url':topic_link, 'section':section})"
   ]
  },
  {
   "cell_type": "code",
   "execution_count": 39,
   "id": "177860c6-0167-49af-9192-094bc60930ef",
   "metadata": {},
   "outputs": [
    {
     "data": {
      "text/plain": [
       "{'topic': ['SKC, 中기업에 반도체 기초소재사업 880억 매각…“사업구조 재편”',\n",
       "  '‘내 보험금 갉아먹는 기생충’…보험사기 근절 캠페인 공동 실시',\n",
       "  '현대차 노사, 임단협 잠정합의…5년 연속 무분규 타결 가시화',\n",
       "  '대우건설, 올해도 헌혈캠페인…\"소중한 생명 살려요\"',\n",
       "  '정부, 빈일자리 지역 맞춤형 대책 10월중 발표',\n",
       "  'KDI \"전세보증료율 현실화…전세 계약 시 시세·상환능력 정보 제공해야\"',\n",
       "  '\\'고물가 여파\\' 10명 중 6명 차례상 포기…\"여행 말고 집콕할래요\"',\n",
       "  'SK에코플랜트, 의료폐기물 소각장서 로봇 활용… 업무 자동화',\n",
       "  '파리바게뜨, 이달 북미 9개점 추가 오픈… 150호점 돌파',\n",
       "  \"'신통기획' 송파 한양2차, 최고 31층·1270가구로 재건축\"],\n",
       " 'url': ['https://n.news.naver.com/mnews/article/016/0002196816?sid=101',\n",
       "  'https://n.news.naver.com/mnews/article/016/0002196475?sid=101',\n",
       "  'https://n.news.naver.com/mnews/article/079/0003812069?sid=101',\n",
       "  'https://n.news.naver.com/mnews/article/277/0005313502?sid=101',\n",
       "  'https://n.news.naver.com/mnews/article/016/0002196883?sid=101',\n",
       "  'https://n.news.naver.com/mnews/article/421/0007044853?sid=101',\n",
       "  'https://n.news.naver.com/mnews/article/018/0005573754?sid=101',\n",
       "  'https://n.news.naver.com/mnews/article/366/0000931715?sid=101',\n",
       "  'https://n.news.naver.com/mnews/article/082/0001232020?sid=101',\n",
       "  'https://n.news.naver.com/mnews/article/277/0005313333?sid=101'],\n",
       " 'section': '경제'}"
      ]
     },
     "execution_count": 39,
     "metadata": {},
     "output_type": "execute_result"
    }
   ],
   "source": [
    "# 함수 테스트 : 경제 섹션의 url과 섹션 전달하고 반환 결과 확인\n",
    "url = 'https://news.naver.com/main/main.naver?mode=LSD&mid=shm&sid1=101'\n",
    "test = get_topic(url, '경제')\n",
    "test"
   ]
  },
  {
   "cell_type": "code",
   "execution_count": 42,
   "id": "63d6c311-c8f7-4eef-9bbd-45e621603aa6",
   "metadata": {},
   "outputs": [
    {
     "data": {
      "text/plain": [
       "{'topic': ['강남 도로 한복판에 깊이 1.5m ‘포트홀’ 발생… 공사 화물차 바퀴 빠져',\n",
       "  '“文정부 무리하게 입법” 일회용컵 보증금제, 전국시행 철회',\n",
       "  '‘후원 취소’ 여론에…세이브더칠드런 “대전교사 ‘정서학대’ 의견 이유는…”',\n",
       "  '12년 근무 프리랜서 아나운서 \"퇴직금 달라\"…대법 \"근로자 아냐\"',\n",
       "  '“용기있는 자가 미녀 차지” 메모…등산로 수십회 답사한 듯',\n",
       "  '정유정 `또래 살해` 전 두차례 더 살인 시도',\n",
       "  '\"떡볶이 사주겠다\" 10대 소녀들 유인…푸드트럭서 강제추행',\n",
       "  '\"경찰 시험해 보려고\"…5개 공항 테러·살해 예고 글 올린 30대(종합)',\n",
       "  'SNT그룹 창업 44년…“기술보국 새역사 만들자”',\n",
       "  \"'폭염 속 카트 끌다 사망' 늑장 신고 코스트코에 과태료 3000만원\"],\n",
       " 'url': ['https://n.news.naver.com/mnews/article/023/0003787336?sid=102',\n",
       "  'https://n.news.naver.com/mnews/article/005/0001637646?sid=102',\n",
       "  'https://n.news.naver.com/mnews/article/081/0003392789?sid=102',\n",
       "  'https://n.news.naver.com/mnews/article/057/0001768167?sid=102',\n",
       "  'https://n.news.naver.com/mnews/article/022/0003854782?sid=102',\n",
       "  'https://n.news.naver.com/mnews/article/029/0002824801?sid=102',\n",
       "  'https://n.news.naver.com/mnews/article/025/0003307459?sid=102',\n",
       "  'https://n.news.naver.com/mnews/article/421/0007044517?sid=102',\n",
       "  'https://n.news.naver.com/mnews/article/021/0002593825?sid=102',\n",
       "  'https://n.news.naver.com/mnews/article/008/0004937585?sid=102'],\n",
       " 'section': '사회'}"
      ]
     },
     "execution_count": 42,
     "metadata": {},
     "output_type": "execute_result"
    }
   ],
   "source": [
    "# section_menu_df의 컬럼 인덱스로 딕셔너리 제작 최종 확인\n",
    "test = get_topic(section_menu_df['link'][3], section_menu_df['section'][3])\n",
    "test"
   ]
  },
  {
   "cell_type": "code",
   "execution_count": 43,
   "id": "0bba54a9-1971-420c-bd64-33d81cedfe45",
   "metadata": {},
   "outputs": [
    {
     "data": {
      "text/html": [
       "<div>\n",
       "<style scoped>\n",
       "    .dataframe tbody tr th:only-of-type {\n",
       "        vertical-align: middle;\n",
       "    }\n",
       "\n",
       "    .dataframe tbody tr th {\n",
       "        vertical-align: top;\n",
       "    }\n",
       "\n",
       "    .dataframe thead th {\n",
       "        text-align: right;\n",
       "    }\n",
       "</style>\n",
       "<table border=\"1\" class=\"dataframe\">\n",
       "  <thead>\n",
       "    <tr style=\"text-align: right;\">\n",
       "      <th></th>\n",
       "      <th>topic</th>\n",
       "      <th>url</th>\n",
       "      <th>section</th>\n",
       "    </tr>\n",
       "  </thead>\n",
       "  <tbody>\n",
       "  </tbody>\n",
       "</table>\n",
       "</div>"
      ],
      "text/plain": [
       "Empty DataFrame\n",
       "Columns: [topic, url, section]\n",
       "Index: []"
      ]
     },
     "execution_count": 43,
     "metadata": {},
     "output_type": "execute_result"
    }
   ],
   "source": [
    "# 추출하는 모든 섹션의 topic을 하나의 데이터프레임에 저장하기 위해\n",
    "# 빈 데이터프레임 생성\n",
    "# 섹션별로 이 데이터프레임에 추가 (데이터프레임 결합(병합) : concat() 사용)\n",
    "#  - 형으로 계속 추가\n",
    "all_topic_df = pd.DataFrame({\n",
    "    'topic':[],\n",
    "    'url':[],\n",
    "    'section':[]\n",
    "})\n",
    "all_topic_df"
   ]
  },
  {
   "cell_type": "code",
   "execution_count": 47,
   "id": "d2bbcad8-ffee-4b9d-9ea4-628952b2b093",
   "metadata": {},
   "outputs": [],
   "source": [
    "# 참고 : 딕셔너리로 데이터프레임 생성\n",
    "# topic_dic = {}\n",
    "# topic_dic['topic']= []\n",
    "# topic_dic['url'] = []\n",
    "# topic_dic['section'] = []\n",
    "\n",
    "# topic_dic_df = pd.DataFrame(topic_dic)\n",
    "# topic_dic_df"
   ]
  },
  {
   "cell_type": "code",
   "execution_count": 49,
   "id": "dc4974f5-3ec7-404d-a2ba-843d1e248f3f",
   "metadata": {},
   "outputs": [],
   "source": [
    "# 포맷이 동일한 섹션만 추출 : 정치, 경제, 사회, 생활/문화, IT/과학, 세계 : 6개 섹션\n",
    "# 섹션 수만큼 반복하면서 함수 호출\n",
    "# 반환된 결과를 데이터프레임에 계속 추가 (행으로 추가)\n",
    "for i in range(1, 7):\n",
    "    df = pd.DataFrame(get_topic(section_menu_df['link'][i], section_menu_df['section'][i]))\n",
    "    all_topic_df = pd.concat([all_topic_df, df], axis=0, ignore_index=True)\n",
    "    # axis=0 : 행으로 결합\n",
    "    # ignore_index=True : 기존 df의 인덱스 무시 (모든 행을 새로운 인덱스로 설정)"
   ]
  },
  {
   "cell_type": "code",
   "execution_count": 51,
   "id": "ff18ce64-7c34-40f4-a070-006b30f52adf",
   "metadata": {},
   "outputs": [],
   "source": [
    "all_topic_df.to_csv('./crawl_data/naver_news_all_topic.csv', index=0)"
   ]
  },
  {
   "cell_type": "code",
   "execution_count": 53,
   "id": "1b8f6d1b-e4ac-4d19-ac97-4478b279c80e",
   "metadata": {},
   "outputs": [],
   "source": [
    "all_topic_df = pd.read_csv('./crawl_data/naver_news_all_topic.csv')\n",
    "# all_topic_df"
   ]
  },
  {
   "cell_type": "markdown",
   "id": "3a9955a7-5534-4ef6-bb1d-0dc90ead0629",
   "metadata": {},
   "source": [
    "### (2) 각 기사 상세 내용 추출 : sub 페이지 내용 추출\n",
    "- 언론사, 기사제목, 작성 날짜 시간, 기사 내용, 작성자"
   ]
  },
  {
   "cell_type": "code",
   "execution_count": null,
   "id": "f9aa0930-2519-40cf-a297-4a94d4d5092b",
   "metadata": {},
   "outputs": [],
   "source": [
    "all_topic_df = pd.read_csv('./crawl_data/naver_news_all_topic.csv')"
   ]
  },
  {
   "cell_type": "code",
   "execution_count": 54,
   "id": "63e31ad8-e7d9-4672-80e3-a2e7b89d411e",
   "metadata": {},
   "outputs": [
    {
     "data": {
      "text/html": [
       "<div>\n",
       "<style scoped>\n",
       "    .dataframe tbody tr th:only-of-type {\n",
       "        vertical-align: middle;\n",
       "    }\n",
       "\n",
       "    .dataframe tbody tr th {\n",
       "        vertical-align: top;\n",
       "    }\n",
       "\n",
       "    .dataframe thead th {\n",
       "        text-align: right;\n",
       "    }\n",
       "</style>\n",
       "<table border=\"1\" class=\"dataframe\">\n",
       "  <thead>\n",
       "    <tr style=\"text-align: right;\">\n",
       "      <th></th>\n",
       "      <th>topic</th>\n",
       "      <th>url</th>\n",
       "      <th>section</th>\n",
       "    </tr>\n",
       "  </thead>\n",
       "  <tbody>\n",
       "    <tr>\n",
       "      <th>0</th>\n",
       "      <td>與, 개 식용 금지 '김건희법' \"추진 변함 없다…野 협력 촉구\"</td>\n",
       "      <td>https://n.news.naver.com/mnews/article/018/000...</td>\n",
       "      <td>정치</td>\n",
       "    </tr>\n",
       "    <tr>\n",
       "      <th>1</th>\n",
       "      <td>김정은이 탄 '초록색 열차'…\"움직이는 집무실\" 어떻길래</td>\n",
       "      <td>https://n.news.naver.com/mnews/article/055/000...</td>\n",
       "      <td>정치</td>\n",
       "    </tr>\n",
       "    <tr>\n",
       "      <th>2</th>\n",
       "      <td>‘단식장 항의방문’ 태영호 징계 나선 민주당…여야, 징계안 대치</td>\n",
       "      <td>https://n.news.naver.com/mnews/article/028/000...</td>\n",
       "      <td>정치</td>\n",
       "    </tr>\n",
       "    <tr>\n",
       "      <th>3</th>\n",
       "      <td>교권보호법 이번주 국회 '분수령'… 입법 압박하는 교원단체·교사들</td>\n",
       "      <td>https://n.news.naver.com/mnews/article/277/000...</td>\n",
       "      <td>정치</td>\n",
       "    </tr>\n",
       "    <tr>\n",
       "      <th>4</th>\n",
       "      <td>러 \"북한과 공조\"‥'대북제재' 무력화?</td>\n",
       "      <td>https://n.news.naver.com/mnews/article/214/000...</td>\n",
       "      <td>정치</td>\n",
       "    </tr>\n",
       "  </tbody>\n",
       "</table>\n",
       "</div>"
      ],
      "text/plain": [
       "                                  topic  \\\n",
       "0  與, 개 식용 금지 '김건희법' \"추진 변함 없다…野 협력 촉구\"   \n",
       "1       김정은이 탄 '초록색 열차'…\"움직이는 집무실\" 어떻길래   \n",
       "2   ‘단식장 항의방문’ 태영호 징계 나선 민주당…여야, 징계안 대치   \n",
       "3  교권보호법 이번주 국회 '분수령'… 입법 압박하는 교원단체·교사들   \n",
       "4                러 \"북한과 공조\"‥'대북제재' 무력화?   \n",
       "\n",
       "                                                 url section  \n",
       "0  https://n.news.naver.com/mnews/article/018/000...      정치  \n",
       "1  https://n.news.naver.com/mnews/article/055/000...      정치  \n",
       "2  https://n.news.naver.com/mnews/article/028/000...      정치  \n",
       "3  https://n.news.naver.com/mnews/article/277/000...      정치  \n",
       "4  https://n.news.naver.com/mnews/article/214/000...      정치  "
      ]
     },
     "execution_count": 54,
     "metadata": {},
     "output_type": "execute_result"
    }
   ],
   "source": [
    "all_topic_df.head()"
   ]
  },
  {
   "cell_type": "code",
   "execution_count": 55,
   "id": "3f443bc7-bb95-48fb-b9ac-c90972ef8158",
   "metadata": {},
   "outputs": [
    {
     "data": {
      "text/plain": [
       "'https://n.news.naver.com/mnews/article/277/0005313357?sid=100'"
      ]
     },
     "execution_count": 55,
     "metadata": {},
     "output_type": "execute_result"
    }
   ],
   "source": [
    "# 1개의 url만 선택해서 해당 페이지의 언론사, 기사제목, 작성 날짜 시간, 기사 내용, 작성자 추출 확인\n",
    "url = all_topic_df['url'][3]\n",
    "url"
   ]
  },
  {
   "cell_type": "code",
   "execution_count": 57,
   "id": "c3f76059-5977-4052-9119-f4cce148e1ee",
   "metadata": {},
   "outputs": [],
   "source": [
    "headers = {'User-Agent':'Mozilla/5.0 (Windows NT 10.0; Win64; x64) AppleWebKit/537.36 (KHTML, like Gecko) Chrome/116.0.0.0 Safari/537.36'}\n",
    "res = requests.get(url, headers=headers)\n",
    "html = res.text\n",
    "bs_obj = bs4.BeautifulSoup(html, 'html.parser')\n",
    "# bs_obj"
   ]
  },
  {
   "cell_type": "code",
   "execution_count": 58,
   "id": "d9fa10f1-9408-4e14-a43d-e990eb18c25b",
   "metadata": {},
   "outputs": [
    {
     "data": {
      "text/plain": [
       "'아시아경제'"
      ]
     },
     "execution_count": 58,
     "metadata": {},
     "output_type": "execute_result"
    }
   ],
   "source": [
    "# 언론사 : <a> : media_end_head_top_logo, 이미지의 title 속성값이 언론사명\n",
    "paper = bs_obj.find('a', {'class':'media_end_head_top_logo'}).select_one('img')['title']\n",
    "paper"
   ]
  },
  {
   "cell_type": "code",
   "execution_count": 64,
   "id": "0fb001b1-50fb-4163-b90f-429ab7dfcb6b",
   "metadata": {},
   "outputs": [
    {
     "data": {
      "text/plain": [
       "\"교권보호법 이번주 국회 '분수령'… 입법 압박하는 교원단체·교사들\""
      ]
     },
     "execution_count": 64,
     "metadata": {},
     "output_type": "execute_result"
    }
   ],
   "source": [
    "# 기사 제목\n",
    "title = bs_obj.find('h2', {'class':'media_end_head_headline'}).select_one('span').text\n",
    "title"
   ]
  },
  {
   "cell_type": "code",
   "execution_count": null,
   "id": "14de276c-927f-4d49-bebe-001741f7d233",
   "metadata": {},
   "outputs": [],
   "source": [
    "# 작성 일자 및 시간\n",
    "datetime = bs_obj.find('div', {'class':'media_end_head_headline'}).select_one('span').text"
   ]
  },
  {
   "cell_type": "code",
   "execution_count": null,
   "id": "caf554a1-6eb2-405a-a755-fef3c42dabf8",
   "metadata": {},
   "outputs": [],
   "source": [
    "# 기사 내용\n",
    "writing"
   ]
  },
  {
   "cell_type": "code",
   "execution_count": null,
   "id": "1027cf78-852c-426f-a8cc-c7a2de289f14",
   "metadata": {},
   "outputs": [],
   "source": [
    "# 작성자\n",
    "writer = "
   ]
  },
  {
   "cell_type": "code",
   "execution_count": null,
   "id": "ce11f8dd-0f00-44ad-b22f-5304c4417685",
   "metadata": {},
   "outputs": [],
   "source": []
  },
  {
   "cell_type": "code",
   "execution_count": null,
   "id": "70d57090-8df5-4cfc-92fb-3308a0899b23",
   "metadata": {},
   "outputs": [],
   "source": []
  },
  {
   "cell_type": "code",
   "execution_count": null,
   "id": "e262f4f1-073f-4976-a2e1-04d175a8a5da",
   "metadata": {},
   "outputs": [],
   "source": []
  },
  {
   "cell_type": "code",
   "execution_count": null,
   "id": "67ebbb62-a7d6-446d-900c-1e2239893b21",
   "metadata": {},
   "outputs": [],
   "source": []
  },
  {
   "cell_type": "code",
   "execution_count": null,
   "id": "b64d9407-e798-4e0d-bc47-bdeb4ed40409",
   "metadata": {},
   "outputs": [],
   "source": []
  },
  {
   "cell_type": "code",
   "execution_count": null,
   "id": "412cb34a-91df-469d-a01d-dc2776c1fd72",
   "metadata": {},
   "outputs": [],
   "source": []
  },
  {
   "cell_type": "code",
   "execution_count": null,
   "id": "0be9ca88-f8cb-4a73-b8fc-c18b61477762",
   "metadata": {},
   "outputs": [],
   "source": []
  },
  {
   "cell_type": "code",
   "execution_count": null,
   "id": "66250122-4289-4ecc-a3b7-a00532af7a3d",
   "metadata": {},
   "outputs": [],
   "source": []
  },
  {
   "cell_type": "code",
   "execution_count": null,
   "id": "72bc9c0f-fc6d-4699-8c33-470d96ccb611",
   "metadata": {},
   "outputs": [],
   "source": []
  },
  {
   "cell_type": "code",
   "execution_count": null,
   "id": "d4c26fe8-421c-4e9c-aed1-caa33f7b2bc5",
   "metadata": {},
   "outputs": [],
   "source": []
  }
 ],
 "metadata": {
  "kernelspec": {
   "display_name": "Python 3 (ipykernel)",
   "language": "python",
   "name": "python3"
  },
  "language_info": {
   "codemirror_mode": {
    "name": "ipython",
    "version": 3
   },
   "file_extension": ".py",
   "mimetype": "text/x-python",
   "name": "python",
   "nbconvert_exporter": "python",
   "pygments_lexer": "ipython3",
   "version": "3.11.5"
  }
 },
 "nbformat": 4,
 "nbformat_minor": 5
}
