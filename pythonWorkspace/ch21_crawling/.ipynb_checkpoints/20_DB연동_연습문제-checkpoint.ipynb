{
 "cells": [
  {
   "cell_type": "markdown",
   "id": "4134bbaf-3b97-4d4f-9531-54034d7ab820",
   "metadata": {},
   "source": [
    "### DB 연동 연습문제\n",
    "- (1) DB 연결\n",
    "- (2) product 테이블에서 전체 상품 정보 출력\n",
    "- (3) 상품가격이 1,000,000원 이상인 상품만 출력\n",
    "- (4) 새로운 상품 등록 (입력 받아서)\n",
    "- (5) 상품번호가 10인 상품의 가격을 1,000,000원으로 수정\n",
    "- (6) 상품번호가 15인 상품 삭제 (상품번호 입력 받아서)"
   ]
  },
  {
   "cell_type": "code",
   "execution_count": 1,
   "id": "825ad074-453f-41b4-8ca7-6282f0560f5b",
   "metadata": {},
   "outputs": [],
   "source": [
    "import pymysql"
   ]
  },
  {
   "cell_type": "code",
   "execution_count": 11,
   "id": "9c223645-94fb-423a-ad85-1be0c678a4b6",
   "metadata": {},
   "outputs": [],
   "source": [
    "# 1. DB 연결 \n",
    "# 호스트명, 포트번호, 로그인 계정, 비밀번호, CHARSET 파라미터로 지정 \n",
    "conn = pymysql.connect(host='localhost', \n",
    "                       port=3306, \n",
    "                       user='root', \n",
    "                       passwd='1234',\n",
    "                       charset='utf8')\n",
    "# 연결 객체 반환 "
   ]
  },
  {
   "cell_type": "code",
   "execution_count": 12,
   "id": "ee9f8c53-6c7d-4718-9f37-9b8086225d19",
   "metadata": {},
   "outputs": [],
   "source": [
    "# 2. cursor 객체 생성 \n",
    "# cursor 객체를 통해서 메소드 호출 \n",
    "cursor = conn.cursor()"
   ]
  },
  {
   "cell_type": "code",
   "execution_count": 13,
   "id": "633fa39b-db9f-4c1b-81e5-97fb95e72647",
   "metadata": {},
   "outputs": [
    {
     "data": {
      "text/plain": [
       "0"
      ]
     },
     "execution_count": 13,
     "metadata": {},
     "output_type": "execute_result"
    }
   ],
   "source": [
    "sql = 'use sqldb4'\n",
    "cursor.execute(sql)"
   ]
  },
  {
   "cell_type": "code",
   "execution_count": 6,
   "id": "1b2b4935-6f84-4e85-ac0b-39eda31f9282",
   "metadata": {},
   "outputs": [
    {
     "data": {
      "text/plain": [
       "(('1', '삼성 냉장고 비스포크', 1620000, '삼성전자', '새틴 코럴', 1),\n",
       " ('10', 'HP 게이밍 노트북', 1200000, 'HP', '흰색', 2),\n",
       " ('11', '32인치 LED 모니터', 299000, 'LG전자', '검정', 2),\n",
       " ('12', '광시야각 LED 모니터', 195000, '삼성전자', '흰색', 2),\n",
       " ('13', '등산배낭 옵티마', 68000, '밀레', '자주', 4),\n",
       " ('14', '35L 등산배낭', 49000, '(주)셀파', '노랑', 4),\n",
       " ('15', '원터치 자동 텐트', 58000, '이지트래블러', '그린', 4),\n",
       " ('2', 'LG 디오스 와인셀러', 1367000, 'LG전자', '검정', 1),\n",
       " ('3', 'QLED 8K TV', 2175000, '삼성전자', '블랙', 1),\n",
       " ('4', '올레드 TV 55', 799000, 'LG전자', '검정', 1),\n",
       " ('5', 'UHD TV', 2250000, '삼성전자', '은색', 1),\n",
       " ('6', '유아용 세발 자전거', 76000, '삼천리 자전거', '빨강', 3),\n",
       " ('7', '로드 사이클 자전거', 150000, '알톤', '검정', 3),\n",
       " ('8', '여성용 클래식 자전거', 100000, '알톤', '핑크', 3),\n",
       " ('9', '노트북9 metal', 1390000, '도시바', '은색', 2))"
      ]
     },
     "execution_count": 6,
     "metadata": {},
     "output_type": "execute_result"
    }
   ],
   "source": [
    "# (2) product 테이블에서 전체 상품 정보 출력\n",
    "sql = 'select * from product'\n",
    "cursor.execute(sql)\n",
    "result = cursor.fetchall()\n",
    "result"
   ]
  },
  {
   "cell_type": "code",
   "execution_count": 7,
   "id": "24ce33a7-585c-4433-a020-b846f914112f",
   "metadata": {},
   "outputs": [
    {
     "data": {
      "text/plain": [
       "(('1', '삼성 냉장고 비스포크', 1620000, '삼성전자', '새틴 코럴', 1),\n",
       " ('10', 'HP 게이밍 노트북', 1200000, 'HP', '흰색', 2),\n",
       " ('2', 'LG 디오스 와인셀러', 1367000, 'LG전자', '검정', 1),\n",
       " ('3', 'QLED 8K TV', 2175000, '삼성전자', '블랙', 1),\n",
       " ('5', 'UHD TV', 2250000, '삼성전자', '은색', 1),\n",
       " ('9', '노트북9 metal', 1390000, '도시바', '은색', 2))"
      ]
     },
     "execution_count": 7,
     "metadata": {},
     "output_type": "execute_result"
    }
   ],
   "source": [
    "# (3) 상품가격이 1,000,000원 이상인 상품만 출력\n",
    "sql = 'select * from product where prdPrice >=1000000'\n",
    "\n",
    "cursor.execute(sql)\n",
    "result = cursor.fetchall()\n",
    "result"
   ]
  },
  {
   "cell_type": "code",
   "execution_count": 8,
   "id": "a3083783-b9d2-4bdc-b501-5d542bb92f10",
   "metadata": {},
   "outputs": [
    {
     "name": "stdin",
     "output_type": "stream",
     "text": [
      "상품번호 입력 :  18\n",
      "상품이름 입력 :  생수병\n",
      "상품가격 입력 :  10000\n",
      "상품회사 입력 :  엄준식주식회사\n",
      "상품색상 입력 :  검정\n",
      "카테고리 번호 입력 :  1\n"
     ]
    }
   ],
   "source": [
    "# (4) 새로운 상품 등록 (입력 받아서)\n",
    "prdNo = input('상품번호 입력 : ')\n",
    "prdName = input('상품이름 입력 : ')\n",
    "prdPrice = input('상품가격 입력 : ')\n",
    "prdMaker = input('상품회사 입력 : ')\n",
    "prdColor = input('상품색상 입력 : ')\n",
    "ctgNo = input('카테고리 번호 입력 : ')"
   ]
  },
  {
   "cell_type": "code",
   "execution_count": 9,
   "id": "65bf9e82-f8fe-4eff-bd5e-cff9b02ad3cc",
   "metadata": {},
   "outputs": [],
   "source": [
    "sql = \"insert into product values(%s, %s, %s, %s, %s, %s)\" \n",
    "values = (prdNo, prdName, prdPrice, prdMaker, prdColor, ctgNo) \n",
    "cursor.execute(sql, values) # 값도 같이 전달\n",
    "conn.commit()"
   ]
  },
  {
   "cell_type": "code",
   "execution_count": null,
   "id": "5ef5f6c3-cc5b-43f3-8dea-6961a1f6b78e",
   "metadata": {},
   "outputs": [],
   "source": [
    "# (5) 상품번호가 10인 상품의 가격을 1,000,000원으로 수정"
   ]
  },
  {
   "cell_type": "code",
   "execution_count": 15,
   "id": "7be3c6a5-91bd-408f-a31d-496b11182a26",
   "metadata": {},
   "outputs": [],
   "source": [
    "sql = \"UPDATE product SET prdPrice=1000000 WHERE prdNo=10\"\n",
    "\n",
    "cursor.execute(sql) # 값도 같이 전달\n",
    "conn.commit()"
   ]
  },
  {
   "cell_type": "code",
   "execution_count": null,
   "id": "6755d3fa-2885-41e9-94d7-74caf75850ff",
   "metadata": {},
   "outputs": [],
   "source": [
    "# (6) 상품번호가 15인 상품 삭제 (상품번호 입력 받아서)"
   ]
  },
  {
   "cell_type": "code",
   "execution_count": 16,
   "id": "b2b50317-2c36-4e73-919e-4b3697f7dcbf",
   "metadata": {},
   "outputs": [
    {
     "name": "stdin",
     "output_type": "stream",
     "text": [
      "삭제할 상품번호 15 입력 :  15\n"
     ]
    }
   ],
   "source": [
    "prdNo = input('삭제할 상품번호 15 입력 : ')"
   ]
  },
  {
   "cell_type": "code",
   "execution_count": 17,
   "id": "e95d2cf3-ab14-49f1-93d5-01b545961a73",
   "metadata": {},
   "outputs": [],
   "source": [
    "sql = \"DELETE FROM product WHERE prdNo=%s\"\n",
    "\n",
    "values = (prdNo) # 실제 전달될 값\n",
    "cursor.execute(sql, values) # 값도 같이 전달\n",
    "conn.commit()"
   ]
  },
  {
   "cell_type": "code",
   "execution_count": null,
   "id": "3a314e0b-7df9-457d-93ad-bc224331ff51",
   "metadata": {},
   "outputs": [],
   "source": []
  },
  {
   "cell_type": "code",
   "execution_count": null,
   "id": "665e6f69-16b6-4a98-943a-92652e84a44f",
   "metadata": {},
   "outputs": [],
   "source": []
  },
  {
   "cell_type": "code",
   "execution_count": null,
   "id": "5b36d37c-9a70-4151-ae04-04a3b47945f9",
   "metadata": {},
   "outputs": [],
   "source": []
  },
  {
   "cell_type": "code",
   "execution_count": null,
   "id": "4c7b1c8d-b009-48d0-be78-2440d22aef16",
   "metadata": {},
   "outputs": [],
   "source": []
  }
 ],
 "metadata": {
  "kernelspec": {
   "display_name": "Python 3 (ipykernel)",
   "language": "python",
   "name": "python3"
  },
  "language_info": {
   "codemirror_mode": {
    "name": "ipython",
    "version": 3
   },
   "file_extension": ".py",
   "mimetype": "text/x-python",
   "name": "python",
   "nbconvert_exporter": "python",
   "pygments_lexer": "ipython3",
   "version": "3.11.5"
  }
 },
 "nbformat": 4,
 "nbformat_minor": 5
}
