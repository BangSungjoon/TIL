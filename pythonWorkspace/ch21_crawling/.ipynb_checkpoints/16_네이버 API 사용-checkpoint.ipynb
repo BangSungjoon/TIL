{
 "cells": [
  {
   "cell_type": "markdown",
   "id": "ac7560d9-b342-4607-a24b-fcfa3e336d42",
   "metadata": {},
   "source": [
    "#### 네이버 API 사용"
   ]
  },
  {
   "cell_type": "code",
   "execution_count": 1,
   "id": "961332ef-d051-4f11-ac9d-667946917c40",
   "metadata": {},
   "outputs": [],
   "source": [
    "# client_id = \"E66AlVskhc0sKkAb69o7\"\n",
    "# client_secret = \"TIyobm1msA\""
   ]
  },
  {
   "cell_type": "code",
   "execution_count": 2,
   "id": "663db174-7238-4381-909f-066a5c64f724",
   "metadata": {},
   "outputs": [],
   "source": [
    "from IPython.core.interactiveshell import InteractiveShell\n",
    "InteractiveShell.ast_node_interactivity=\"all\"\n",
    "# 한 셀에 결과 여러개 나오게 만듬"
   ]
  },
  {
   "cell_type": "code",
   "execution_count": 3,
   "id": "8d0da3c5-cfce-4db6-89a1-22d1ad528777",
   "metadata": {},
   "outputs": [
    {
     "name": "stdout",
     "output_type": "stream",
     "text": [
      "{\n",
      "\t\"lastBuildDate\":\"Fri, 15 Sep 2023 13:33:01 +0900\",\n",
      "\t\"total\":3251287,\n",
      "\t\"start\":1,\n",
      "\t\"display\":10,\n",
      "\t\"items\":[\n",
      "\t\t{\n",
      "\t\t\t\"title\":\"생일 선물로 <b>태풍<\\/b> 사올라 받음, 홍콩 여행 (1)\",\n",
      "\t\t\t\"link\":\"https:\\/\\/blog.naver.com\\/falling_\\/223203843076\",\n",
      "\t\t\t\"description\":\"가기 전날 <b>태풍<\\/b> 사올라 때문에 대부분의 홍콩행 비행기가 취소가 되었는데 내가 탈 비행기는 결항을... 노스페이스 바람막이가 이렇게 고마운건 처음ㅋㅋㅋㅋㅋㅋㅋ <b>태풍<\\/b> 경보라도 지하철은 운행을 했고... \",\n",
      "\t\t\t\"bloggername\":\"바람 맞고 다니는 여자\",\n",
      "\t\t\t\"bloggerlink\":\"blog.naver.com\\/falling_\",\n",
      "\t\t\t\"postdate\":\"20230906\"\n",
      "\t\t},\n",
      "\t\t{\n",
      "\t\t\t\"title\":\"오키나와 아시아나 <b>태풍<\\/b> 여행떠나기\",\n",
      "\t\t\t\"link\":\"https:\\/\\/blog.naver.com\\/oao08\\/223197935953\",\n",
      "\t\t\t\"description\":\"오키나와 <b>태풍<\\/b> 때문에 걱정 많았지만 한번더 <b>태풍<\\/b> 온다는 소식에 멘붕... 하지만 8월 28일~9월2일 일정을 휴가 써서 포기할 수 없는 일정이라 왔는데 아직 까진 너무 행복해요~ 아시아나 체크인이 기계를 통해 하면... \",\n",
      "\t\t\t\"bloggername\":\"배고픈 일상♥\",\n",
      "\t\t\t\"bloggerlink\":\"blog.naver.com\\/oao08\",\n",
      "\t\t\t\"postdate\":\"20230830\"\n",
      "\t\t},\n",
      "\t\t{\n",
      "\t\t\t\"title\":\"홍콩 날씨 <b>태풍<\\/b> 경보 T10, 호우 경보 Black Rainstorm... \",\n",
      "\t\t\t\"link\":\"https:\\/\\/blog.naver.com\\/dailyssoorii\\/223205835737\",\n",
      "\t\t\t\"description\":\"홍콩에 내려진 강력한 <b>태풍<\\/b> 경보로 온 가족이 집에 묶여 있었던 지난주 이야기로 시작합니다. 여름 내내 <b>태풍<\\/b>의 영향을 많이 받는 홍콩은 <b>태풍<\\/b> 경보 시스템이 체계적으로 구분되어 있고, 또 각 단계에 따른... \",\n",
      "\t\t\t\"bloggername\":\"♡ DAILY SSOORII ♡\",\n",
      "\t\t\t\"bloggerlink\":\"blog.naver.com\\/dailyssoorii\",\n",
      "\t\t\t\"postdate\":\"20230908\"\n",
      "\t\t},\n",
      "\t\t{\n",
      "\t\t\t\"title\":\"여름 제주여행, <b>태풍<\\/b>을 곁들인\",\n",
      "\t\t\t\"link\":\"https:\\/\\/blog.naver.com\\/anny0079\\/223190463841\",\n",
      "\t\t\t\"description\":\"버킷리스트 작성 완 그 중 8월의 제주도를 가보겠습니다~ 사실 3박4일이었는데 <b>태풍<\\/b>때문에 비행기... 도도리고기국수 8\\/9, <b>태풍<\\/b>이 제주도로 스멀스멀 오고있었다 하루를 <b>태풍<\\/b>과 보내야 한다는걸 알고 있었지만... \",\n",
      "\t\t\t\"bloggername\":\"으뇨블로그\",\n",
      "\t\t\t\"bloggerlink\":\"blog.naver.com\\/anny0079\",\n",
      "\t\t\t\"postdate\":\"20230822\"\n",
      "\t\t},\n",
      "\t\t{\n",
      "\t\t\t\"title\":\"11호 <b>태풍<\\/b> 경로 하이쿠이 및 12호 <b>태풍<\\/b> 가능성?\",\n",
      "\t\t\t\"link\":\"https:\\/\\/bluesoccer.net\\/8712\",\n",
      "\t\t\t\"description\":\"시사 &amp; 경제 11호 <b>태풍<\\/b> 경로 하이쿠이 및 12호 <b>태풍<\\/b> 가능성? 나이스블루 2023. 8. 28. 18:32 11호 <b>태풍<\\/b> 경로, 하이쿠이 및 12호 <b>태풍<\\/b> 가능성? -8월 28일 오전 9시 괌 부근에서 발생, 9호와 10호 사이에 끼어있는 중 -한국... \",\n",
      "\t\t\t\"bloggername\":\"나이스블루\",\n",
      "\t\t\t\"bloggerlink\":\"https:\\/\\/bluesoccer.net\\/\",\n",
      "\t\t\t\"postdate\":\"20230828\"\n",
      "\t\t},\n",
      "\t\t{\n",
      "\t\t\t\"title\":\"8월 <b>태풍<\\/b>, 자동차 안전 운전을 위한 지침서와 실리콘 와이퍼 추천\",\n",
      "\t\t\t\"link\":\"https:\\/\\/blog.bullsone.com\\/3221\",\n",
      "\t\t\t\"description\":\"여름철 다가오는 <b>태풍<\\/b>, 자동차 운전은 위험! 여름철마다 장마로 인해 많은 차량들의 침수가 매년 이어지고 있습니다. 여기서 끝이 아니고 장마가 끝나면 두 번째 조심해야 할 상황이 발생하는데요. 바로 <b>태풍<\\/b>입... \",\n",
      "\t\t\t\"bloggername\":\"불스원 블로그\",\n",
      "\t\t\t\"bloggerlink\":\"https:\\/\\/blog.bullsone.com\\/\",\n",
      "\t\t\t\"postdate\":\"20230818\"\n",
      "\t\t},\n",
      "\t\t{\n",
      "\t\t\t\"title\":\"강원도 <b>태풍<\\/b> 출장 속초 라마다속초호텔 숙소 조식\",\n",
      "\t\t\t\"link\":\"https:\\/\\/blog.naver.com\\/muse36\\/223180821942\",\n",
      "\t\t\t\"description\":\"강원도 <b>태풍<\\/b> 소식이 오기 전 이미 예정되었던 출장이라 속초에 위치한 라마다 속초 호텔 숙소 조식 등 언니가 출장 가며 묵은 곳이라 제가 소개해 드리려고 해요. <b>태풍<\\/b> 카눈으로 인해 뉴스에서 들려오는... \",\n",
      "\t\t\t\"bloggername\":\"빵달의 달슐랭 여행✈️\",\n",
      "\t\t\t\"bloggerlink\":\"blog.naver.com\\/muse36\",\n",
      "\t\t\t\"postdate\":\"20230811\"\n",
      "\t\t},\n",
      "\t\t{\n",
      "\t\t\t\"title\":\"슈퍼<b>태풍<\\/b>과 함께했던 괌 태교여행 - 1편\",\n",
      "\t\t\t\"link\":\"https:\\/\\/blog.naver.com\\/salon_mj\\/223188575936\",\n",
      "\t\t\t\"description\":\"<b>태풍<\\/b> 마와르와 함께 했던 태교여행 그냥 발리를 갔더라면 해피했을 나의 태교여행이 우당탕탕... 그리고 <b>태풍<\\/b>이 상륙하기 전 멀쩡한 레스토랑의 마지막 경험 괌 타시그릴, 선셋을 볼 수있는 오후 5:30 근처 예약은... \",\n",
      "\t\t\t\"bloggername\":\"민둥이의 빈둥일상\",\n",
      "\t\t\t\"bloggerlink\":\"blog.naver.com\\/salon_mj\",\n",
      "\t\t\t\"postdate\":\"20230820\"\n",
      "\t\t},\n",
      "\t\t{\n",
      "\t\t\t\"title\":\"LAUV 대만콘서트\\/ <b>태풍<\\/b>을 보낸 후 드디어 시골에서 정상적인... \",\n",
      "\t\t\t\"link\":\"https:\\/\\/blog.naver.com\\/umelly-\\/223206297060\",\n",
      "\t\t\t\"description\":\"이 날 <b>태풍<\\/b>이 와서 손님은 많지 않았지만, 보통 손님 꽤 많을 것 같은 아담하고 귀여운 카페이다 거기에... 했는데, <b>태풍<\\/b>이 온다고 일반 기차가 운영을 안한다네 ☜☜ 그래서 고속철도 타러왔는데 너무 귀여운... \",\n",
      "\t\t\t\"bloggername\":\"You are my melody\",\n",
      "\t\t\t\"bloggerlink\":\"blog.naver.com\\/umelly-\",\n",
      "\t\t\t\"postdate\":\"20230908\"\n",
      "\t\t},\n",
      "\t\t{\n",
      "\t\t\t\"title\":\"8월 제주날씨 <b>태풍<\\/b> 카눈 경로 10일 새벽 제주도... \",\n",
      "\t\t\t\"link\":\"https:\\/\\/softman00.tistory.com\\/1108\",\n",
      "\t\t\t\"description\":\"<b>태풍<\\/b> 6호 카눈 출처 : 네이버 <b>태풍<\\/b> 카눈이 다시 방향을 틀어서 대한민국으로 북상하고 있습니다. 현재 강도 강 크기는 중형으로 경로를 살펴보니 8월 10일 오전 경남 남해안에 상륙해 내류을 관통하여 11일 새벽... \",\n",
      "\t\t\t\"bloggername\":\"삼월이가 알려주는 진짜 제주 여행의 모든것\",\n",
      "\t\t\t\"bloggerlink\":\"https:\\/\\/softman00.tistory.com\\/\",\n",
      "\t\t\t\"postdate\":\"20230807\"\n",
      "\t\t}\n",
      "\t]\n",
      "}\n"
     ]
    }
   ],
   "source": [
    "# 네이버 검색 API 예제 - 블로그 검색\n",
    "import os\n",
    "import sys\n",
    "import urllib.request\n",
    "client_id = \"E66AlVskhc0sKkAb69o7\"\n",
    "client_secret = \"TIyobm1msA\"\n",
    "encText = urllib.parse.quote(\"태풍\")\n",
    "url = \"https://openapi.naver.com/v1/search/blog?query=\" + encText # JSON 결과\n",
    "# url = \"https://openapi.naver.com/v1/search/blog.xml?query=\" + encText # XML 결과\n",
    "request = urllib.request.Request(url)\n",
    "request.add_header(\"X-Naver-Client-Id\",client_id)\n",
    "request.add_header(\"X-Naver-Client-Secret\",client_secret)\n",
    "response = urllib.request.urlopen(request)\n",
    "rescode = response.getcode()\n",
    "if(rescode==200):\n",
    "    response_body = response.read()\n",
    "    print(response_body.decode('utf-8'))\n",
    "else:\n",
    "    print(\"Error Code:\" + rescode)"
   ]
  },
  {
   "cell_type": "markdown",
   "id": "f580f4f0-7737-410b-86cb-c77bf82a1199",
   "metadata": {},
   "source": [
    "#### 네이버 오픈 API 예제"
   ]
  },
  {
   "cell_type": "code",
   "execution_count": 4,
   "id": "80e051d2-4454-4b61-a6f2-e42dc0908215",
   "metadata": {},
   "outputs": [],
   "source": [
    "# 블로그 검색\n",
    "import os\n",
    "import sys\n",
    "import urllib.request\n",
    "import pandas as pd"
   ]
  },
  {
   "cell_type": "markdown",
   "id": "bc8336d3-89c6-4cdd-b09c-2505da82140f",
   "metadata": {},
   "source": [
    "#### 요청 방법1"
   ]
  },
  {
   "cell_type": "code",
   "execution_count": 5,
   "id": "c4a8d817-6d31-412b-80fc-2430030afb2a",
   "metadata": {},
   "outputs": [
    {
     "data": {
      "text/plain": [
       "'%EA%B0%95%EB%82%A8%EC%97%AD'"
      ]
     },
     "execution_count": 5,
     "metadata": {},
     "output_type": "execute_result"
    }
   ],
   "source": [
    "# 검색할 단어 인토딩\n",
    "encText = urllib.parse.quote('강남역')\n",
    "encText"
   ]
  },
  {
   "cell_type": "code",
   "execution_count": 6,
   "id": "ea242efb-7650-43db-bcdc-634b45c8a891",
   "metadata": {},
   "outputs": [],
   "source": [
    "# url 호출하면서 인코딩된 검색어를 파라미터로 전달\n",
    "url = 'https://openapi.naver.com/v1/search/blog?query=' + encText"
   ]
  },
  {
   "cell_type": "code",
   "execution_count": 7,
   "id": "d44ed1d0-f824-4000-ab9c-41585bc55a55",
   "metadata": {},
   "outputs": [],
   "source": [
    "# 서버로 전송\n",
    "request = urllib.request.Request(url)\n",
    "request.add_header(\"X-Naver-Client-Id\",client_id)\n",
    "request.add_header(\"X-Naver-Client-Secret\",client_secret)"
   ]
  },
  {
   "cell_type": "code",
   "execution_count": 8,
   "id": "7503f181-7323-4114-a18a-ab611743b5a4",
   "metadata": {},
   "outputs": [
    {
     "data": {
      "text/plain": [
       "200"
      ]
     },
     "execution_count": 8,
     "metadata": {},
     "output_type": "execute_result"
    }
   ],
   "source": [
    "# 서버 응답\n",
    "response = urllib.request.urlopen(request)\n",
    "rescode = response.getcode()\n",
    "rescode\n",
    "# 200 성공\n",
    "# 400 Bad Request\n",
    "# 403 Forbidden\n",
    "# 404 Not Found\n",
    "# 408 Request Timeout"
   ]
  },
  {
   "cell_type": "code",
   "execution_count": 9,
   "id": "677aecd5-9597-46c3-9b46-1036f943f5c8",
   "metadata": {},
   "outputs": [
    {
     "name": "stdout",
     "output_type": "stream",
     "text": [
      "{\n",
      "\t\"lastBuildDate\":\"Fri, 15 Sep 2023 13:33:02 +0900\",\n",
      "\t\"total\":2138341,\n",
      "\t\"start\":1,\n",
      "\t\"display\":10,\n",
      "\t\"items\":[\n",
      "\t\t{\n",
      "\t\t\t\"title\":\"<b>강남역<\\/b>치과 밝은 미소를 바란다면\",\n",
      "\t\t\t\"link\":\"https:\\/\\/blog.naver.com\\/epal1234\\/223201782075\",\n",
      "\t\t\t\"description\":\"<b>강남역<\\/b>치과 밝은 미소를 바란다면 치아라면 본래 매우 단단한 구조이지만 예상하지 못한 사고나 잘못된... 역시 <b>강남역<\\/b> 치과를 통해 걱정을 해결해 볼 수가 있었어요. 해당 과정에서 약 1개~2개 정도의 치아에... \",\n",
      "\t\t\t\"bloggername\":\"티유치과의원✅\",\n",
      "\t\t\t\"bloggerlink\":\"blog.naver.com\\/epal1234\",\n",
      "\t\t\t\"postdate\":\"20230904\"\n",
      "\t\t},\n",
      "\t\t{\n",
      "\t\t\t\"title\":\"<b>강남역<\\/b>치과 빠른 진료를 바란다면\",\n",
      "\t\t\t\"link\":\"https:\\/\\/blog.naver.com\\/vineyardk\\/223195605133\",\n",
      "\t\t\t\"description\":\"<b>강남역<\\/b>치과 빠른 진료를 바란다면 <b>강남역<\\/b>치과의 일상을 내보내며 자기관리에 집중하지 못하고 살아온... 따라서 직므 우리는 최신식의 디지털 장비를 구하고, 이를 활용하여 강남치과에서 오차를 줄이는 방법을... \",\n",
      "\t\t\t\"bloggername\":\"자기치아살리기 삼성플란트치과의원\",\n",
      "\t\t\t\"bloggerlink\":\"blog.naver.com\\/vineyardk\",\n",
      "\t\t\t\"postdate\":\"20230828\"\n",
      "\t\t},\n",
      "\t\t{\n",
      "\t\t\t\"title\":\"<b>강남역<\\/b> 경락 좌우대칭 고민 해결~\",\n",
      "\t\t\t\"link\":\"https:\\/\\/blog.naver.com\\/nixhhm\\/223171072208\",\n",
      "\t\t\t\"description\":\"저는 앞으로 꾸준히 <b>강남역<\\/b>경락을 통해 지금보다 더 예뻐진 내 모습을 가질 수 있을 것 같아요. 저처럼 수술은 무섭고 예뻐지고 싶으신 분들은 정본에서 경락 어떠실까요? 정본 강남점 주소: 서울 강남구... \",\n",
      "\t\t\t\"bloggername\":\"홍쌤 일상\",\n",
      "\t\t\t\"bloggerlink\":\"blog.naver.com\\/nixhhm\",\n",
      "\t\t\t\"postdate\":\"20230731\"\n",
      "\t\t},\n",
      "\t\t{\n",
      "\t\t\t\"title\":\"<b>강남역<\\/b> 프라이빗 룸식당 와인 다양한 한우부티크\",\n",
      "\t\t\t\"link\":\"https:\\/\\/blog.naver.com\\/joinjaang\\/223211396483\",\n",
      "\t\t\t\"description\":\"와인 한잔 하기를 원하신다면 페어링하기 좋은 고급 한우가 함께하는 한우부티크를 찾아오시길 바란다. 강남 한우부티크 0507-1440-3442 서울특별시 서초구 서초대로78길 38 8층 <b>강남역<\\/b> 5번 출구 119m 매일 11:00 ~ 22:00\",\n",
      "\t\t\t\"bloggername\":\"하우스마켓\",\n",
      "\t\t\t\"bloggerlink\":\"blog.naver.com\\/joinjaang\",\n",
      "\t\t\t\"postdate\":\"20230914\"\n",
      "\t\t},\n",
      "\t\t{\n",
      "\t\t\t\"title\":\"<b>강남역<\\/b> 프라이빗 룸식당 회식 한우부티크 강남 고기집\",\n",
      "\t\t\t\"link\":\"https:\\/\\/blog.naver.com\\/love2dong\\/223208238011\",\n",
      "\t\t\t\"description\":\"<b>강남역<\\/b> 프라이빗 룸식당 회식 한우부티크 강남 고기집 한우부티크 · 영업시간: 매일 11:00-22:00 · 주차 가능 (근처 에이플러스 에셋타워에 주차, 1시간 무료) 벌써 곧 9월 중순이죠? 금요일 퇴근하고 강남 고기집... \",\n",
      "\t\t\t\"bloggername\":\"오늘도 Sweet 하게❤\",\n",
      "\t\t\t\"bloggerlink\":\"blog.naver.com\\/love2dong\",\n",
      "\t\t\t\"postdate\":\"20230911\"\n",
      "\t\t},\n",
      "\t\t{\n",
      "\t\t\t\"title\":\"<b>강남역<\\/b> 맛집, 역삼역 점심 먹기 좋은 중식당 신복면관!\",\n",
      "\t\t\t\"link\":\"https:\\/\\/blog.naver.com\\/santaco\\/223208082328\",\n",
      "\t\t\t\"description\":\"신복면관 서울 강남구 테헤란로4길 6 B126호 매일 11:00~22:00 <b>강남역<\\/b> 1번출구에서 1분 내로 갈 수 있는 곳이다! 위치는 아주 찾기가 쉬웠다 . <b>강남역<\\/b> 1번출구로 나와서 고개를 오른쪽으로 돌리면 큰 건물이 나오는데... \",\n",
      "\t\t\t\"bloggername\":\"매콧의 노래♥\",\n",
      "\t\t\t\"bloggerlink\":\"blog.naver.com\\/santaco\",\n",
      "\t\t\t\"postdate\":\"20230911\"\n",
      "\t\t},\n",
      "\t\t{\n",
      "\t\t\t\"title\":\"<b>강남역<\\/b>미용실 태슬컷 칼단발 가격 어몽헤어 배주희실장\",\n",
      "\t\t\t\"link\":\"https:\\/\\/blog.naver.com\\/todays_lora\\/223211715668\",\n",
      "\t\t\t\"description\":\"하면서 <b>강남역<\\/b> 어몽헤어에서 클리닉도 해보았어요 두 번째 방문이었던 <b>강남역<\\/b>미용실인데 혹시... 남겨보아요 어몽헤어 서울 강남구 봉은사로 18길 76 3층 (신논현역 6번 출구에서 352m) 10:00-19:00 매주 월\\/화 정기휴무\",\n",
      "\t\t\t\"bloggername\":\"여행 좋아하는 한량 주부\",\n",
      "\t\t\t\"bloggerlink\":\"blog.naver.com\\/todays_lora\",\n",
      "\t\t\t\"postdate\":\"20230914\"\n",
      "\t\t},\n",
      "\t\t{\n",
      "\t\t\t\"title\":\"<b>강남역<\\/b> 프라이빗 룸식당 맛집 모임 회식 장소 한우부티크\",\n",
      "\t\t\t\"link\":\"https:\\/\\/blog.naver.com\\/pinkyluv83\\/223209714210\",\n",
      "\t\t\t\"description\":\"한우부티크 <b>강남역<\\/b> 5번 출구 2분 거리 1) 영업시간 11:00 ~22:00 (라스트 오더 21:30) 2) 주차장 : 서초구 강남대로 369 에이플러스에셋 타워 주차 1시간 무료 3) 전화번호 0507-1440-3442 <b>강남역<\\/b> 5번 출구 2분 거리에 있어... \",\n",
      "\t\t\t\"bloggername\":\"Kimi의 여행일기\",\n",
      "\t\t\t\"bloggerlink\":\"blog.naver.com\\/pinkyluv83\",\n",
      "\t\t\t\"postdate\":\"20230912\"\n",
      "\t\t},\n",
      "\t\t{\n",
      "\t\t\t\"title\":\"<b>강남역<\\/b> 회식장소로 안성맞춤인 남도애찬\",\n",
      "\t\t\t\"link\":\"https:\\/\\/blog.naver.com\\/bodyrental\\/223206145615\",\n",
      "\t\t\t\"description\":\"위치 : 서울 강남구 역삼로3길 8 영업시간 : 매일 10:00~22:00 전화번호 : 02-538-1588 저희가 방문한 남도애찬은 <b>강남역<\\/b> 4번출구에서 차로 1분이면 갈 수 있었어요. 큼지막한 간판이 2개나 걸려 있어서 멀리서도 쉽게... \",\n",
      "\t\t\t\"bloggername\":\"♡JOY의 헬스케어 \\/ 일상생활♡\",\n",
      "\t\t\t\"bloggerlink\":\"blog.naver.com\\/bodyrental\",\n",
      "\t\t\t\"postdate\":\"20230908\"\n",
      "\t\t},\n",
      "\t\t{\n",
      "\t\t\t\"title\":\"자꾸 기억나는 <b>강남역<\\/b> 고기집 곱창고\",\n",
      "\t\t\t\"link\":\"https:\\/\\/blog.naver.com\\/06131010\\/223173851134\",\n",
      "\t\t\t\"description\":\"이렇듯 모듬 구이와 전골, 반찬까지 흠잡을 곳 없이 완벽했던 <b>강남역<\\/b> 고기집이라 앞으로도 자주 방문하게 될 것 같아요~ 주소: 서울 강남구 강남대로96길 11 번호: 0507-1386-0001 시간: 화~일11:30 - 01:00\\/월 11:30-23:00... \",\n",
      "\t\t\t\"bloggername\":\"오늘도 감사해요♡\",\n",
      "\t\t\t\"bloggerlink\":\"blog.naver.com\\/06131010\",\n",
      "\t\t\t\"postdate\":\"20230803\"\n",
      "\t\t}\n",
      "\t]\n",
      "}\n"
     ]
    }
   ],
   "source": [
    "# 성공한 경우 : response_body = response.read() 결과 받아옴 / 출력\n",
    "if(rescode==200):\n",
    "    response_body = response.read()\n",
    "    print(response_body.decode('utf-8'))\n",
    "else:\n",
    "    print(\"Error Code:\" + rescode)"
   ]
  },
  {
   "cell_type": "code",
   "execution_count": 10,
   "id": "6adf7b4f-ef23-4838-a2c9-ebd3becf0621",
   "metadata": {},
   "outputs": [],
   "source": [
    "# 출력 결과\n",
    "# 10개 : 기본 검색 결과"
   ]
  },
  {
   "cell_type": "code",
   "execution_count": null,
   "id": "cdf12305-481a-4522-a6d8-bc314924656b",
   "metadata": {},
   "outputs": [],
   "source": []
  },
  {
   "cell_type": "code",
   "execution_count": 11,
   "id": "d99af1f6-fcc2-4d4c-9205-d2992820322d",
   "metadata": {},
   "outputs": [],
   "source": [
    "# 요청 방법2"
   ]
  },
  {
   "cell_type": "code",
   "execution_count": 12,
   "id": "c73780d4-e8de-4272-984e-a4b81f457013",
   "metadata": {},
   "outputs": [],
   "source": [
    "# request.get() 메소드 사용\n",
    "# header 구성이 간단\n",
    "import requests\n",
    "from urllib.parse import urlparse # 한글 처리\n",
    "import urllib.parse"
   ]
  },
  {
   "cell_type": "code",
   "execution_count": 13,
   "id": "d2b2e3c3-a1b8-4c4c-96de-0a83e7986dce",
   "metadata": {},
   "outputs": [
    {
     "data": {
      "text/plain": [
       "'%EA%B0%95%EB%82%A8%EC%97%AD'"
      ]
     },
     "execution_count": 13,
     "metadata": {},
     "output_type": "execute_result"
    }
   ],
   "source": [
    "# 검색할 단어 인코딩\n",
    "keyword = urllib.parse.quote('강남역')\n",
    "keyword"
   ]
  },
  {
   "cell_type": "code",
   "execution_count": 14,
   "id": "44635855-444f-4e2b-a4cc-926efb444949",
   "metadata": {},
   "outputs": [],
   "source": [
    "# url = 'https://openapi.naver.com/v1/search/blog?query=' + encText"
   ]
  },
  {
   "cell_type": "code",
   "execution_count": 15,
   "id": "9adabaef-670e-4da7-bb2f-e08f7f6ea94d",
   "metadata": {},
   "outputs": [
    {
     "data": {
      "text/plain": [
       "'https://openapi.naver.com/v1/search/blog.json?query=%EA%B0%95%EB%82%A8%EC%97%AD'"
      ]
     },
     "execution_count": 15,
     "metadata": {},
     "output_type": "execute_result"
    }
   ],
   "source": [
    "# url\n",
    "# 기본 url\n",
    "base_url = 'https://openapi.naver.com/v1/search/blog.json?'\n",
    "\n",
    "# 요청 파라미터 : 쿼리스트링 서버주소?파라미터명=값&파라미터=값&.......\n",
    "param = 'query=' + keyword\n",
    "\n",
    "# 최종 url\n",
    "url = base_url + param\n",
    "url"
   ]
  },
  {
   "cell_type": "code",
   "execution_count": 16,
   "id": "a4284eb7-1f7a-470b-8fbc-a8c66b2f320b",
   "metadata": {},
   "outputs": [
    {
     "data": {
      "text/plain": [
       "<Response [200]>"
      ]
     },
     "execution_count": 16,
     "metadata": {},
     "output_type": "execute_result"
    }
   ],
   "source": [
    "# 인증정보 header에 포함\n",
    "headers = {\n",
    "    \"X-Naver-Client-Id\":client_id,\n",
    "    \"X-Naver-Client-Secret\":client_secret\n",
    "}\n",
    "\n",
    "# 요청\n",
    "result = requests.get(url, headers=headers)\n",
    "result"
   ]
  },
  {
   "cell_type": "code",
   "execution_count": 17,
   "id": "835aefea-268a-43d0-aaf9-955bfa51670c",
   "metadata": {},
   "outputs": [],
   "source": [
    "# 서버로부터 결과로 받은 result 파싱\n",
    "# JSON 객체로 변환\n",
    "json_obj = result.json()\n",
    "# json_obj"
   ]
  },
  {
   "cell_type": "markdown",
   "id": "ed8dbafa-e9da-460f-b8f8-394606fc97c8",
   "metadata": {},
   "source": [
    "# 키 확인\n",
    "lastBuildDate\n",
    "total\n",
    "start\n",
    "display\n",
    "items\n",
    "\n",
    "items\n",
    "- title\n",
    "- link\n",
    "- description\n",
    "....\n",
    "\n"
   ]
  },
  {
   "cell_type": "code",
   "execution_count": 18,
   "id": "109e0ad1-bee6-4b96-be00-d92795112413",
   "metadata": {},
   "outputs": [
    {
     "data": {
      "text/plain": [
       "dict_keys(['lastBuildDate', 'total', 'start', 'display', 'items'])"
      ]
     },
     "execution_count": 18,
     "metadata": {},
     "output_type": "execute_result"
    }
   ],
   "source": [
    "# 키 확인\n",
    "json_obj.keys()"
   ]
  },
  {
   "cell_type": "code",
   "execution_count": 19,
   "id": "dfc6f167-8b54-4240-890c-f19cf352e469",
   "metadata": {},
   "outputs": [
    {
     "data": {
      "text/plain": [
       "'Fri, 15 Sep 2023 13:33:02 +0900'"
      ]
     },
     "execution_count": 19,
     "metadata": {},
     "output_type": "execute_result"
    },
    {
     "data": {
      "text/plain": [
       "2138341"
      ]
     },
     "execution_count": 19,
     "metadata": {},
     "output_type": "execute_result"
    },
    {
     "data": {
      "text/plain": [
       "1"
      ]
     },
     "execution_count": 19,
     "metadata": {},
     "output_type": "execute_result"
    },
    {
     "data": {
      "text/plain": [
       "10"
      ]
     },
     "execution_count": 19,
     "metadata": {},
     "output_type": "execute_result"
    }
   ],
   "source": [
    "json_obj['lastBuildDate']\n",
    "json_obj['total']\n",
    "json_obj['start']\n",
    "json_obj['display']\n",
    "# json_obj['items']"
   ]
  },
  {
   "cell_type": "code",
   "execution_count": 20,
   "id": "f5097b1f-ac7f-44b7-b60f-011b71b7bb7a",
   "metadata": {},
   "outputs": [
    {
     "name": "stdout",
     "output_type": "stream",
     "text": [
      "강남역치과 밝은 미소를 바란다면 https://blog.naver.com/epal1234/223201782075\n",
      "강남역치과 빠른 진료를 바란다면 https://blog.naver.com/vineyardk/223195605133\n",
      "강남역 경락 좌우대칭 고민 해결~ https://blog.naver.com/nixhhm/223171072208\n",
      "강남역 프라이빗 룸식당 와인 다양한 한우부티크 https://blog.naver.com/joinjaang/223211396483\n",
      "강남역 프라이빗 룸식당 회식 한우부티크 강남 고기집 https://blog.naver.com/love2dong/223208238011\n",
      "강남역 맛집, 역삼역 점심 먹기 좋은 중식당 신복면관! https://blog.naver.com/santaco/223208082328\n",
      "강남역미용실 태슬컷 칼단발 가격 어몽헤어 배주희실장 https://blog.naver.com/todays_lora/223211715668\n",
      "강남역 프라이빗 룸식당 맛집 모임 회식 장소 한우부티크 https://blog.naver.com/pinkyluv83/223209714210\n",
      "강남역 회식장소로 안성맞춤인 남도애찬 https://blog.naver.com/bodyrental/223206145615\n",
      "자꾸 기억나는 강남역 고기집 곱창고 https://blog.naver.com/06131010/223173851134\n"
     ]
    }
   ],
   "source": [
    "# 각 item의 제목과 링크 추출 :<b></> 태그 제거하고 출력\n",
    "\n",
    "import pandas as pd\n",
    "\n",
    "for item in json_obj['items']:\n",
    "    print(item['title'].replace('<b>','').replace('</b>',''), item['link']) # 문자열에서 <b> 제거 : replace"
   ]
  },
  {
   "cell_type": "markdown",
   "id": "cd9b5757-3afd-48fb-9f87-d7c54e00d04c",
   "metadata": {},
   "source": [
    "#### 검색 결과를 100개로 변경\n",
    "- 검색 결과 기본값 : 10\n",
    "- 최대 검색 개수 : 100\n",
    "- 관련 요청 변수 : display   \n",
    "      - display = 100 으로 설정"
   ]
  },
  {
   "cell_type": "code",
   "execution_count": 21,
   "id": "a1128342-309f-4062-b93c-ee77bbe5a48b",
   "metadata": {},
   "outputs": [
    {
     "data": {
      "text/plain": [
       "'https://openapi.naver.com/v1/search/blog.json?query=%EA%B0%95%EB%82%A8%EC%97%AD&display=100'"
      ]
     },
     "execution_count": 21,
     "metadata": {},
     "output_type": "execute_result"
    }
   ],
   "source": [
    "# 파라미터 설정\n",
    "keyword = urllib.parse.quote('강남역')\n",
    "num = 100\n",
    "\n",
    "base_url = 'https://openapi.naver.com/v1/search/blog.json?'\n",
    "\n",
    "# 요청 파라미터 : 쿼리스트링 서버주소?파라미터명=값&파라미터=값&.......\n",
    "param = 'query=' + keyword + '&display=' + str(num)\n",
    "\n",
    "# 최종 url\n",
    "url = base_url + param\n",
    "url"
   ]
  },
  {
   "cell_type": "code",
   "execution_count": 22,
   "id": "26408344-5c18-42c9-a61e-7f6fa381625c",
   "metadata": {},
   "outputs": [
    {
     "data": {
      "text/plain": [
       "<Response [200]>"
      ]
     },
     "execution_count": 22,
     "metadata": {},
     "output_type": "execute_result"
    }
   ],
   "source": [
    "# 요청\n",
    "headers = {\n",
    "    \"X-Naver-Client-Id\":client_id,\n",
    "    \"X-Naver-Client-Secret\":client_secret\n",
    "}\n",
    "\n",
    "result = requests.get(url, headers=headers)\n",
    "result"
   ]
  },
  {
   "cell_type": "code",
   "execution_count": 23,
   "id": "cd80bd34-c2c8-49f9-af0e-fedf87282f4f",
   "metadata": {},
   "outputs": [
    {
     "data": {
      "text/plain": [
       "100"
      ]
     },
     "execution_count": 23,
     "metadata": {},
     "output_type": "execute_result"
    }
   ],
   "source": [
    "# 요청 결과 확인\n",
    "json_obj = result.json()\n",
    "len(json_obj['items'])"
   ]
  },
  {
   "cell_type": "code",
   "execution_count": 24,
   "id": "428ebce7-16fd-45a9-adf9-ff054ad271a6",
   "metadata": {},
   "outputs": [
    {
     "name": "stdout",
     "output_type": "stream",
     "text": [
      "1 . 강남역치과 밝은 미소를 바란다면 https://blog.naver.com/epal1234/223201782075\n",
      "2 . 강남역치과 빠른 진료를 바란다면 https://blog.naver.com/vineyardk/223195605133\n",
      "3 . 강남역 경락 좌우대칭 고민 해결~ https://blog.naver.com/nixhhm/223171072208\n",
      "4 . 강남역 프라이빗 룸식당 와인 다양한 한우부티크 https://blog.naver.com/joinjaang/223211396483\n",
      "5 . 강남역 프라이빗 룸식당 회식 한우부티크 강남 고기집 https://blog.naver.com/love2dong/223208238011\n",
      "6 . 강남역 맛집, 역삼역 점심 먹기 좋은 중식당 신복면관! https://blog.naver.com/santaco/223208082328\n",
      "7 . 강남역미용실 태슬컷 칼단발 가격 어몽헤어 배주희실장 https://blog.naver.com/todays_lora/223211715668\n",
      "8 . 강남역 프라이빗 룸식당 맛집 모임 회식 장소 한우부티크 https://blog.naver.com/pinkyluv83/223209714210\n",
      "9 . 강남역 회식장소로 안성맞춤인 남도애찬 https://blog.naver.com/bodyrental/223206145615\n",
      "10 . 자꾸 기억나는 강남역 고기집 곱창고 https://blog.naver.com/06131010/223173851134\n",
      "11 . 역대급인 강남역 삼겹살 https://blog.naver.com/instyle02/223166935751\n",
      "12 . 지금도 생각나는 강남역 고기집 봉우화로 https://blog.naver.com/eaenvy77/223157102810\n",
      "13 . 강남역 디저트로 승부하는 이색 카페 타르타르 https://blog.naver.com/dudghk4170/223212084210\n",
      "14 . 강남역 고기집 추천 구워주는 유니네! https://blog.naver.com/oppsbyeon/223187234533\n",
      "15 . 강남역 한우 진짜였던 남도애찬 역삼 소고기 https://blog.naver.com/bayou68/223211598416\n",
      "16 . 깔끔했던 강남역 고깃집 유니네 https://blog.naver.com/mundysk/223162563002\n",
      "17 . 강남역 혼밥 맛집 추천, 역삼동 마유유 마라탕 https://blog.naver.com/ppangsun238/223209863124\n",
      "18 . 강남역 파티룸 '여기'라서 가능했던 스몰 웨딩 https://blog.naver.com/vkqzhsxkdi/223211709037\n",
      "19 . 인상깊었던 강남역 삼겹살 https://blog.naver.com/genial82/223159761210\n",
      "20 . 가성비에 반한 강남역 삼겹살 https://blog.naver.com/jung4553/223168608990\n",
      "21 . 매력있는 강남역 고기집 교대이층집 https://blog.naver.com/clrober/223202967180\n",
      "22 . 강남역디저트카페 레뽀드라라 :: 비엔나 로얄 밀크티가 맛있는...  https://blog.naver.com/choongchoongchoong/223209308888\n",
      "23 . 처진피부 확실한 리프팅을 원한다면 강남역 피부과 여름클리닉...  https://blog.naver.com/mistymoon5/223209284356\n",
      "24 . 특별했던 강남역 룸식당 https://blog.naver.com/fromantic/223181047041\n",
      "25 . 입소문난 강남역 모임장소 봉우화로 https://blog.naver.com/eaenvy77/223197671200\n",
      "26 . 강남역 맛집 분위기 좋은 소보키 퓨전 한식 https://blog.naver.com/brightenedu/223198312876\n",
      "27 . 강남역 보쌈 맛집 1등 먹은 귀한족발 강남점 https://blog.naver.com/jjs2012c/223167292889\n",
      "28 . 강남역 삼겹살 육즙 팡팡 봉우이층집 https://blog.naver.com/skystar112/223169833659\n",
      "29 . 강남역디저트맛집 스콘이 찐맛이었던 레뽀드라라 https://blog.naver.com/ssongjiyo/223208665958\n",
      "30 . 비교불가인 강남역 룸식당 https://blog.naver.com/soojini65/223205786221\n",
      "31 . 강남역 밥집 근사한 숙성 한우구이 점심 청담등심 https://blog.naver.com/sensenlebo/223211324765\n",
      "32 . 강남역 고깃집, 가성비 좋은 동두천솥뚜껑삼겹살 https://blog.naver.com/viphsh88/223210696916\n",
      "33 . 육질이 남다른 강남역 고깃집 유니네고깃간 https://blog.naver.com/fairylamp_/223172742459\n",
      "34 . 완벽한 한상 강남역 한정식 노랑저고리 https://blog.naver.com/dkdaf/223190418620\n",
      "35 . 감탄했던 강남역 회식장소 https://blog.naver.com/cotton1121/223189683799\n",
      "36 . 강남역 헬스장 추천합니다 https://blog.naver.com/fullofblue/223202053145\n",
      "37 . 또 가고싶은 강남역 고기맛집 https://blog.naver.com/cocorihyun/223199892988\n",
      "38 . 강남역 왁싱 30분만에 빠르게 ✨ 슈퍼왁싱 강남 https://blog.naver.com/dondon_choco/223201946765\n",
      "39 . 강남역 프라이빗 룸식당... 고급스럽고 조용한 강남역 고기집 https://blog.naver.com/hand4444/223211093896\n",
      "40 . &quot;유니네 고깃간&quot; 강남역 고기 맛집! 고기 구워주는 곳! https://blog.naver.com/lakiruky/223187163799\n",
      "41 . 강남역 저녁 맛집 은행골 강남점 혼밥 가능, 밥이 맛있는 스시...  https://blog.naver.com/le_mong98/223204349916\n",
      "42 . 강남 점심 맛집,강남역 회식장소,'은행골 강남점' 초밥 https://blog.naver.com/rizet/223210440803\n",
      "43 . 강남 블랙스테이크, 강남역 스테이크 레스토랑 후기 https://blog.naver.com/k_jieunee/223207758267\n",
      "44 . 강남역 술집 |  조개술찜 맛집 강남역 하이볼 '강남비치' https://blog.naver.com/sally9476/223208789680\n",
      "45 . 강남 블랙스테이크 레스토랑 강남역 소개팅 돌판에 굽는 와규...  https://blog.naver.com/enzywu/223209801488\n",
      "46 . 강남역 필라테스 감탄이 나오는 체형교정 후기 https://blog.naver.com/joyjoy0315/223191128946\n",
      "47 . 강남역 스시류 평일점심 내돈산찐후기 ~ https://blog.naver.com/ssongjiyo/223205309468\n",
      "48 . 강남역 귓볼 피어싱 심미안피어싱 https://blog.naver.com/sopranosol/223211667146\n",
      "49 . 강남역 미용실 어몽헤어에서 클리닉 후기 ft.남희영 디자이너 https://blog.naver.com/mj100600/223199959149\n",
      "50 . [강남역 냉삼/삼겹살] 냉삼 맛집 추천 &lt;라라식당&gt; https://blog.naver.com/yang7192/223209003872\n",
      "51 . 강남역미용실 레이어드컷 망한머리 구원투수 써니실장...  https://blog.naver.com/sh_epl/223210208763\n",
      "52 . 강남역 미용실 추천 ♀️ 박준뷰티랩 강남역점 연우실장 https://blog.naver.com/dondon_choco/223207026206\n",
      "53 . 강남역 막창 더막창스 강남본점 핫플인 이유! https://blog.naver.com/booms2014/223206671658\n",
      "54 . 강남역 고기집 추천 유니네 고깃간 소금구이 한판 https://blog.naver.com/kikihyeji/223183511884\n",
      "55 . 강남역 고깃집 청렴했던 곱창고 https://blog.naver.com/loveyaon/223185965835\n",
      "56 . 강남역코인노래방 쾌적하고 음질, 시설 만족 200% https://blog.naver.com/immerm/223209548741\n",
      "57 . 강남역 탕수육 / 더탕수육... 왕갈비 짬뽕 강남역 맛집 + 생맥주 https://blog.naver.com/bright_kwon/223209104128\n",
      "58 . 강남역 12번출구 갓덴스시 : 언제나 한결같이 약속장소로 좋은곳 https://blog.naver.com/p0pp0/223207571819\n",
      "59 . 강남역 맛집 소보키 강남점 양도 맛도 좋은 한식주점 추천 https://blog.naver.com/wiz_js/223196615375\n",
      "60 . 강남역맛집 고급진 점심 만난 고깃집 육목원, 돼지갈비와...  https://blog.naver.com/miki0405/223209517991\n",
      "61 . 강남역 무한리필 고기집 헬로브라질 슈하스코 디너 https://blog.naver.com/soesee/223206716876\n",
      "62 . 강남역 샌드위치 위트앤미트 강남점 https://blog.naver.com/plastic100/223208213460\n",
      "63 . [강남역 미용실 추천] 중단발 복구펌 뿌리염색 후기 https://blog.naver.com/alice8820/223208256428\n",
      "64 . [강남역]알베르/숲 속에 있는 분위기의 강남논현 카페 https://blog.naver.com/donas/223208995971\n",
      "65 . 강남역 샌드위치 맛집, 리나스 서초삼성타운점 https://blog.naver.com/viphsh88/223211800370\n",
      "66 . 가성비 좋은 강남역 근처 고기맛집 내돈내산 &quot;유니네고깃간&quot; https://blog.naver.com/ddunstories/223183652743\n",
      "67 . 강남역 한우 오마카세_우시야 역삼점 B코스 우마카세 후기 https://blog.naver.com/milkcreamcheese_/223210312987\n",
      "68 . 강남역미용실 어몽헤어 배주희실장 빌드펌 https://blog.naver.com/jjung7273/223206785728\n",
      "69 . 강남역 피부과 종아리캇 지방분해주사 후기 https://blog.naver.com/sumr2002/223211336576\n",
      "70 . [강남통닭호프] 강남역치킨 추천 메뉴/가격 https://blog.naver.com/eru13/223206326270\n",
      "71 . 강남역 생일파티 장소, 예쁜 파티룸이 있는 플레이 뮤직타운! https://blog.naver.com/viphsh88/223209036228\n",
      "72 . 강남역 맛집 역삼역 술집 신복면관 생각보다 너무 괜찮았던집 https://blog.naver.com/ldh__3239/223208046688\n",
      "73 . 평일 저녁 데이트, 강남역 혼밥하기 좋은 한식집, 1992 덮밥...  https://blog.naver.com/coco120528/223211255650\n",
      "74 . 강남역 혼술 강남 혼밥 가능한 은행골 강남점 다녀왔어요! https://blog.naver.com/rice_cap/223207059991\n",
      "75 . [강남술집 야다이] 오뎅나베 먹으러 강남역 이자카야 https://blog.naver.com/eru13/223210840909\n",
      "76 . 강남역 카페 디저트 맛있는 썸띵어바웃커피 https://blog.naver.com/qufzhd12/223193322209\n",
      "77 . 강남역인테리어학원 스케치부터 체계적으로 배우기! https://blog.naver.com/kumh/223210583046\n",
      "78 . 잡내없이 깔끔했던 강남역 삼겹살 https://blog.naver.com/anjigo/223184364662\n",
      "79 . 강남역 소형의원 임대 추천  정신과 애니타워빌딩 https://blog.naver.com/pybboss/223211425178\n",
      "80 . 미국식 요리 82올리언즈강남점 핫플 강남역맛집 https://blog.naver.com/black585/223210970044\n",
      "81 . 베트남이랑 , 강남역 쌀국수 https://blog.naver.com/toyo137/223208246278\n",
      "82 . 강남역 퍼스널컬러 이안컬러랩 겨울브라이트 쿨톤 측정 후기 https://blog.naver.com/star_kelly/223210808407\n",
      "83 . 강남역 맛집 역삼역 데이트 신복면관 강남점 https://blog.naver.com/suny0816/223208730626\n",
      "84 . 오랜만에 먹어도 맛있는 강남역 뽕족 https://blog.naver.com/minjee1209/223206090346\n",
      "85 . 강남역 맛집 안주가 다양하고 맛있는 한식주점 소보키 https://blog.naver.com/kangsy0203/223198375874\n",
      "86 . 매력넘치던 강남역 한식 맛집 청기와타운 https://blog.naver.com/whekrk/223170969136\n",
      "87 . 강남역 노티드 https://blog.naver.com/renaiwoman/223209655842\n",
      "88 . 좋은 추억 남기기 좋았던 돌잔치 강남역 상견례 노랑저고리 https://blog.naver.com/design_ggarihan/223190408527\n",
      "89 . 강남역 회식하기 좋은 해산물 포차 어로선목로집 https://blog.naver.com/padamnara/223207463460\n",
      "90 . 강남역 수미정/맛과 가격 모두 잘 잡은 밥집 https://blog.naver.com/sagak815/223122659534\n",
      "91 . &quot;곱창고&quot; 강남역 고기 맛집! 곱창 맛있는 곳! https://blog.naver.com/sangil00/223193967731\n",
      "92 . 강남역 미용실 추천 @ 엥비떼헤어 신논현점 - 딥애쉬 염색 후기 https://blog.naver.com/tlsdn4621/223210534018\n",
      "93 . 강남역 어린이 도서관, 서초청소년도서관 https://blog.naver.com/bjin0710/223211918339\n",
      "94 . 베라를 뛰어넘을 강남역 숨은 젤라또 맛집 '누볼라' https://blog.naver.com/kimsso333/223209044162\n",
      "95 . 강남역 카페 밀크티 스콘 맛집 레뽀드라라 강남점 https://blog.naver.com/woops32/223208775973\n",
      "96 . 강남역 증명사진 맛집 &lt;레코디드&gt; 갔다온 후기! https://blog.naver.com/susie0106/223209624145\n",
      "97 . 강남역 생일파티하기 최고인 디엠,큐브 강남점 https://blog.naver.com/dahey772/223206004005\n",
      "98 . 동경빌딩 임대  강남역 대로변 대형 사무실 전용120 https://blog.naver.com/pybboss/223208540655\n",
      "99 . 강남역(신논현역)구구당,알베르 https://blog.naver.com/blessingmommy/223206882972\n",
      "100 . 데이트할떄 자주가는 강남역 치킨맛집 오늘통닭, 치킨에...  https://blog.naver.com/coco120528/223212209846\n"
     ]
    }
   ],
   "source": [
    "# 100개 결과 출력\n",
    "# for item in json_obj['items']:\n",
    "#     print(item['title'].replace('<b>','').replace('</b>',''), item['link'])\n",
    "\n",
    "# 100개 결과 출력 : 앞에 번호 붙여서 출력 (1~100) 확인\n",
    "for i, item in enumerate(json_obj['items']):\n",
    "    print(i+1, '.', item['title'].replace('<b>','').replace('</b>',''), item['link'])"
   ]
  },
  {
   "cell_type": "markdown",
   "id": "480d7528-572f-46c2-b753-536c5d25e4f8",
   "metadata": {},
   "source": [
    "# keyword와 display 변경해서 검색\n",
    "- 서울역, 5개 출력"
   ]
  },
  {
   "cell_type": "code",
   "execution_count": 25,
   "id": "ddfea614-55a3-4f0d-b07c-f7df7fa63c65",
   "metadata": {},
   "outputs": [],
   "source": [
    "keyword = urllib.parse.quote('서울역')\n",
    "num = 5\n",
    "\n",
    "# 요청 파라미터 : 쿼리스트링 서버주소?파라미터명=값&파라미터=값&.......\n",
    "param = 'query=' + keyword + '&display=' + str(num)\n",
    "url = base_url + param\n",
    "\n",
    "result = requests.get(url, headers=headers)\n",
    "json_obj = result.json()"
   ]
  },
  {
   "cell_type": "code",
   "execution_count": 26,
   "id": "87d9e16b-27b4-49fe-a86f-5dc66c77028f",
   "metadata": {},
   "outputs": [],
   "source": [
    "# json_obj"
   ]
  },
  {
   "cell_type": "markdown",
   "id": "b82cf689-4edd-4938-8e6d-2fa96138aad1",
   "metadata": {},
   "source": [
    "#### 검색 기능을 함수로 구현\n",
    "- 결과 최대 100개\n",
    "- 100개 이상 수집하려면 페이지(start) 이동하면서 여러 번 호출해야 함\n",
    "- 함수로 구현해 놓고 여러 번 호출해서 사용\n",
    "- get_api_result(keyword, display)"
   ]
  },
  {
   "cell_type": "code",
   "execution_count": 27,
   "id": "6d9d3da0-dadf-494e-9e64-c67565256054",
   "metadata": {},
   "outputs": [],
   "source": [
    "# keyword(검색어)와 display(검색 결과 수) 전달받아서\n",
    "# API 호출 결과를 반환하는 함수\n",
    "def get_api_result(keyword, display):\n",
    "    # id, scret\n",
    "    # client_id = \"E66AlVskhc0sKkAb69o7\"\n",
    "    # client_secret = \"TIyobm1msA\"\n",
    "\n",
    "    # 키워드\n",
    "    keyword = urllib.parse.quote(keyword)\n",
    "\n",
    "    # 요청 url + 파라미터\n",
    "    base_url = 'https://openapi.naver.com/v1/search/blog.json?'\n",
    "    param = 'query=' + keyword + '&display=' + str(display)\n",
    "    url = base_url + param\n",
    "\n",
    "    # headers 인증정보\n",
    "    headers = {\n",
    "    \"X-Naver-Client-Id\":client_id,\n",
    "    \"X-Naver-Client-Secret\":client_secret\n",
    "    }\n",
    "    # 요청 및 결과 반환\n",
    "    result = requests.get(url, headers=headers)\n",
    "\n",
    "    # json 변환\n",
    "    json_obj = result.json()\n",
    "\n",
    "    return json_obj"
   ]
  },
  {
   "cell_type": "code",
   "execution_count": 28,
   "id": "eaffddf4-8cd5-4d47-b607-c4ef0bb93d41",
   "metadata": {},
   "outputs": [
    {
     "data": {
      "text/plain": [
       "{'lastBuildDate': 'Fri, 15 Sep 2023 13:33:04 +0900',\n",
       " 'total': 3095803,\n",
       " 'start': 1,\n",
       " 'display': 15,\n",
       " 'items': [{'title': '2023년 7월 14일 <b>장마</b>와 폭우에 홍수가 난 전주천변 풍경',\n",
       "   'link': 'https://blog.naver.com/mc906kde/223184732079',\n",
       "   'description': '지구의 이상기후때문인지 이번 <b>장마</b>때 폭우가 내렸다 엄청난 양의 비때문에 여러 곳에서 피해가 발생했다 폭우에 비해를 입은 전주 천변의 풍경을 담아보았다 6월 말부터 서서히 <b>장마</b>가 시작되었다 다행히 엄청... ',\n",
       "   'bloggername': '아웃동어니언의 일상 탈출기',\n",
       "   'bloggerlink': 'blog.naver.com/mc906kde',\n",
       "   'postdate': '20230816'},\n",
       "  {'title': '<b>장마</b>와 제주',\n",
       "   'link': 'https://blog.naver.com/moyamoyakr/223202545477',\n",
       "   'description': '숙소까지 예약을 했지만 날짜가 다가올수록 <b>장마</b>전선은 더욱 또렷해졌다. 신랑이 어딘가에 소속되어 있다 보니 연차를 내고 결제까지 받은 상태라 일정 변경이 어려웠다. <b>장마</b>라도 간다. 태풍이 와도 간다.... ',\n",
       "   'bloggername': '모야씨작업실',\n",
       "   'bloggerlink': 'blog.naver.com/moyamoyakr',\n",
       "   'postdate': '20230905'},\n",
       "  {'title': '애증의 라벤더 대신 폭염, 추위, 가뭄, <b>장마</b>에도 끄떡없는... ',\n",
       "   'link': 'https://blog.naver.com/goglass/223209641949',\n",
       "   'description': '사라졌는지...<b>장마</b>를 넘기지를 못하더라고요. 그래서 갈아탔습니다. 맥문동으로요. 겨울에 상록인데다 여름에 보라보라한 꽃이 참 예쁘고 <b>장마</b>가 뭔지, 폭염이 뭔지 모르는 아이. 가뜩이나 이상기후로 정원에... ',\n",
       "   'bloggername': 'Always...늘 봄처럼 따뜻한 집',\n",
       "   'bloggerlink': 'blog.naver.com/goglass',\n",
       "   'postdate': '20230912'},\n",
       "  {'title': '아파트 옥상방수공사 철저하게 <b>장마</b>대비',\n",
       "   'link': 'https://blog.naver.com/far20/223119341263',\n",
       "   'description': '아파트 옥상방수공사 철저하게 <b>장마</b>대비 지난 20년간 다양한 사례 경험으로 노하우와 실력을 겸비한... 본격적인 <b>장마</b> 시즌이 다가오기 전 저희만의 친환경 제품과 꾸준한 기술개발로 기존 방수 공법의 한계를... ',\n",
       "   'bloggername': '그림 그리는',\n",
       "   'bloggerlink': 'blog.naver.com/far20',\n",
       "   'postdate': '20230603'},\n",
       "  {'title': '<b>장마</b> 후 폭염, ‘어떡해요!’ 보다 ‘어떤 대응’이 중요한 때!',\n",
       "   'link': 'https://blog.naver.com/rda2448/223168695998',\n",
       "   'description': '▲ 한 달여 이어진 올해 <b>장마</b>가 7월 26일 기준으로 공식 종료됐습니다. 지난 6월 25일 제주와 중부 지방을 시작으로 한 달여 이어진 올해 <b>장마</b>가 7월 26일 기준으로 공식 종료됐습니다. 올해 <b>장마</b> 기간 전국 평균... ',\n",
       "   'bloggername': \"농촌진흥청 블로그 '농다락'\",\n",
       "   'bloggerlink': 'blog.naver.com/rda2448',\n",
       "   'postdate': '20230728'},\n",
       "  {'title': '주택화재보험 <b>장마</b> 호우주의보 누수 챙기기!',\n",
       "   'link': 'https://blog.naver.com/lilac_queen/223155774718',\n",
       "   'description': '주택화재보험에서 <b>장마</b>와 호우주의보를 대비하여 풍수재해 특약을 넣는 것도 좋은데요 작년에... 주택화재보험 <b>장마</b> 호우주의보 누수를 챙겨보셨으면 하는 바램으로 이 글을 썼습니다 한참 호남 지방에는 <b>장마</b>... ',\n",
       "   'bloggername': 'ORVIETER',\n",
       "   'bloggerlink': 'blog.naver.com/lilac_queen',\n",
       "   'postdate': '20230714'},\n",
       "  {'title': '<b>장마</b>후 세탁기통세척-르주르 세탁기클렌저 사용후기',\n",
       "   'link': 'https://blog.naver.com/nayoung520/223204092994',\n",
       "   'description': '<b>장마</b>가 끝나고 해야 할일 세탁조 청소하기 꿉꿉한 <b>장마</b>가 지나가고 맑게 개인 하늘이 참 예쁜 요즘이에요. <b>장마</b>가 끝나고 미뤄두았던 세탁조를 청소하고 기분 좋게 쌓아놓은 세탁물도 빨아보았습니다. 세탁조... ',\n",
       "   'bloggername': \"nana's diary\",\n",
       "   'bloggerlink': 'blog.naver.com/nayoung520',\n",
       "   'postdate': '20230906'},\n",
       "  {'title': '<b>장마</b>로 초조한 사람들 (2006.07.16)',\n",
       "   'link': 'https://blog.naver.com/fendee/223209939305',\n",
       "   'description': '2006-07-16 01:00:09 <b>장마</b>로 초조한 사람들 사계절이 뚜렷한 대한민국 고유의 계절적 특성이 점점 사라지고 아열대성 기후로 변해간다는 소리와 함께, 매년 여름이면 게릴라성 집중호우로 산사태의 발생 위험이... ',\n",
       "   'bloggername': 'Guitar Blossom',\n",
       "   'bloggerlink': 'blog.naver.com/fendee',\n",
       "   'postdate': '20230913'},\n",
       "  {'title': '호박전 만들기 부침가루 없는 무수분 레시피 가을<b>장마</b>요리',\n",
       "   'link': 'https://blog.naver.com/kehkhk/223198587502',\n",
       "   'description': '여름<b>장마</b> 혹은 비가 오는 날 또는 가을<b>장마</b>요리로 해 먹기 딱 좋은 메뉴이기도 하는데요 밀가루나 부침가루의 농도를 잘 맞추지 못해서 뭔가 맘에 안든다면 요렇게 한번 따라해보세요 호박 자체의... ',\n",
       "   'bloggername': '영양사 오렌지버거의 영양 식재료 한 스푼',\n",
       "   'bloggerlink': 'blog.naver.com/kehkhk',\n",
       "   'postdate': '20230905'},\n",
       "  {'title': '2차우기 아님 가을 <b>장마</b>?',\n",
       "   'link': 'https://blog.naver.com/sanbbaram/223188386516',\n",
       "   'description': '원리와 일반 사항: 동아시아에서는 <b>장마</b>라고 불리는 일정 기간 동안 비가 내리는 시간이 있음. 한국의... &lt;1971~2000 전국 60개 지점 월평균 강수량&gt; 약 한달간 이어지는 <b>장마</b>가 끝나면 불볕더위가 이어지고 간간이... ',\n",
       "   'bloggername': '윤가네 자연벌꿀 (귀농 준비중인 도시민)',\n",
       "   'bloggerlink': 'blog.naver.com/sanbbaram',\n",
       "   'postdate': '20230820'},\n",
       "  {'title': '천연섬유유연제 <b>장마</b> 이기는 향긋한 빨래',\n",
       "   'link': 'https://blog.naver.com/ivoryegg/223158973430',\n",
       "   'description': '냄새와의 전쟁을 피할 수 없는 <b>장마</b>, 덥고 습한 날씨가 벌써 3주째 이어지다 보니 집안에 퀴퀴하고... <b>장마</b>철 냄새 없이 향긋한 빨래를 할 수 있는 천연섬유유연제 제대로 사용하는 방법을 알려드릴게요!... ',\n",
       "   'bloggername': '기승전챔',\n",
       "   'bloggerlink': 'blog.naver.com/ivoryegg',\n",
       "   'postdate': '20230717'},\n",
       "  {'title': '올해 <b>장마</b> 시작 시기 알고 대비 할려면',\n",
       "   'link': 'https://blog.naver.com/troilos/223125824720',\n",
       "   'description': '올해 <b>장마</b> 시작 시기 알고 미리 대비 할려면 안녕하세요, 여러분! 오늘은 대한민국 2023년 <b>장마</b>를 예측해보려 합니다. <b>장마</b>는 우리 나라에서 매년 6월부터 7월 중순까지 이어지는 기간으로, 이는 비가 가장 많이... ',\n",
       "   'bloggername': '블로그하는 경제비둘기',\n",
       "   'bloggerlink': 'blog.naver.com/troilos',\n",
       "   'postdate': '20230611'},\n",
       "  {'title': '[M.E.T TIP] <b>장마</b>·폭염·태풍 ‘3연타’…하늘로 솟구친... ',\n",
       "   'link': 'https://metservice.kr/75369',\n",
       "   'description': 'M.E.T/M.E.T Tip [M.E.T TIP] <b>장마</b>·폭염·태풍 ‘3연타’…하늘로 솟구친 밥상 물가 (주)엠이티 M.E.T Co.,Ltd 2023. 8. 14. 09:36 안녕하세요~(주)엠이티입니다. 최근에 폭염부터, <b>장마</b>, 태풍까지 3연타를 맞은... ',\n",
       "   'bloggername': '엠이티 블로그 | M.E.T',\n",
       "   'bloggerlink': 'https://metservice.kr/',\n",
       "   'postdate': '20230814'},\n",
       "  {'title': '♡필터포유 발수코팅 자동차와이퍼로 가을<b>장마</b> 대비♡',\n",
       "   'link': 'https://blog.naver.com/leeye1985/223196162295',\n",
       "   'description': '올해는 전국적으로 집중되는 폭우로 인해서 많은 피해를 봤죠.ㅠ 그런데 2차<b>장마</b>까지 이어진다고 하네요. 뒤늦은 태풍과 가을<b>장마</b>로 아직까지 비가 많이 내릴 예정인데요. 정말 심한 폭우에 운전을 해보니까... ',\n",
       "   'bloggername': '잭슨과나',\n",
       "   'bloggerlink': 'blog.naver.com/leeye1985',\n",
       "   'postdate': '20230829'},\n",
       "  {'title': '추석 농산물 물가는 극한 <b>장마</b>때부터 예상되었다.',\n",
       "   'link': 'https://blog.naver.com/j5875998/223203885615',\n",
       "   'description': '극한 <b>장마</b>가 오랫동안 지배한 계절에, 농민의 시선은 그 후폭풍인 결과인 추석 물가를 우려하였다. 원인에 대한 분석과 진단을 하더라도, 축적된 원인의 한계로 처방이 어려운 &quot;눈뜨고 당하는 실정&quot;을 맞는다.... ',\n",
       "   'bloggername': '이든농 ( 어질고 착한 농민의 꿈 )',\n",
       "   'bloggerlink': 'blog.naver.com/j5875998',\n",
       "   'postdate': '20230906'}]}"
      ]
     },
     "execution_count": 28,
     "metadata": {},
     "output_type": "execute_result"
    }
   ],
   "source": [
    "# 함수 호출 및 결과 확인\n",
    "keyword = '장마'\n",
    "display = 15\n",
    "json_obj = get_api_result(keyword, display)\n",
    "json_obj"
   ]
  },
  {
   "cell_type": "code",
   "execution_count": 29,
   "id": "90053790-42be-49bb-bb90-3d742ec7d36f",
   "metadata": {},
   "outputs": [
    {
     "data": {
      "text/plain": [
       "15"
      ]
     },
     "execution_count": 29,
     "metadata": {},
     "output_type": "execute_result"
    }
   ],
   "source": [
    "len(json_obj['items'])"
   ]
  },
  {
   "cell_type": "code",
   "execution_count": 30,
   "id": "96a561ca-039f-4fcb-8d5e-50b4cddab17c",
   "metadata": {},
   "outputs": [
    {
     "name": "stdout",
     "output_type": "stream",
     "text": [
      "1 . 2023년 7월 14일 장마와 폭우에 홍수가 난 전주천변 풍경 https://blog.naver.com/mc906kde/223184732079\n",
      "2 . 장마와 제주 https://blog.naver.com/moyamoyakr/223202545477\n",
      "3 . 애증의 라벤더 대신 폭염, 추위, 가뭄, 장마에도 끄떡없는...  https://blog.naver.com/goglass/223209641949\n",
      "4 . 아파트 옥상방수공사 철저하게 장마대비 https://blog.naver.com/far20/223119341263\n",
      "5 . 장마 후 폭염, ‘어떡해요!’ 보다 ‘어떤 대응’이 중요한 때! https://blog.naver.com/rda2448/223168695998\n",
      "6 . 주택화재보험 장마 호우주의보 누수 챙기기! https://blog.naver.com/lilac_queen/223155774718\n",
      "7 . 장마후 세탁기통세척-르주르 세탁기클렌저 사용후기 https://blog.naver.com/nayoung520/223204092994\n",
      "8 . 장마로 초조한 사람들 (2006.07.16) https://blog.naver.com/fendee/223209939305\n",
      "9 . 호박전 만들기 부침가루 없는 무수분 레시피 가을장마요리 https://blog.naver.com/kehkhk/223198587502\n",
      "10 . 2차우기 아님 가을 장마? https://blog.naver.com/sanbbaram/223188386516\n",
      "11 . 천연섬유유연제 장마 이기는 향긋한 빨래 https://blog.naver.com/ivoryegg/223158973430\n",
      "12 . 올해 장마 시작 시기 알고 대비 할려면 https://blog.naver.com/troilos/223125824720\n",
      "13 . [M.E.T TIP] 장마·폭염·태풍 ‘3연타’…하늘로 솟구친...  https://metservice.kr/75369\n",
      "14 . ♡필터포유 발수코팅 자동차와이퍼로 가을장마 대비♡ https://blog.naver.com/leeye1985/223196162295\n",
      "15 . 추석 농산물 물가는 극한 장마때부터 예상되었다. https://blog.naver.com/j5875998/223203885615\n"
     ]
    }
   ],
   "source": [
    "for i, item in enumerate(json_obj['items']):\n",
    "    print(i+1, '.', item['title'].replace('<b>','').replace('</b>',''), item['link'])"
   ]
  },
  {
   "cell_type": "markdown",
   "id": "0e338dad-ab2d-4a33-b5a3-753cd3f85d5e",
   "metadata": {},
   "source": [
    "#### 검색 결과 페이징 하기\n",
    "- 현재 검색 결과는 1~100개 (요청 파라미터 : start=1)\n",
    "- 5~100개를 추출하려면\n",
    "    - 1 ~ 100 : 100개\n",
    "    - 101 ~ 200 : 100개\n",
    "- 시작 값을 변경하려면\n",
    "  - 요청 파라미터 start를 101, 201, 301...."
   ]
  },
  {
   "cell_type": "code",
   "execution_count": 31,
   "id": "f783cfb8-38e4-48a6-8103-bef36226c253",
   "metadata": {},
   "outputs": [],
   "source": [
    "# get_api_result() 함수 수정\n",
    "#  - 시작 페이지 지정 : start 파라미터 사용"
   ]
  },
  {
   "cell_type": "code",
   "execution_count": 32,
   "id": "fcdbf84d-66c9-47e9-9f14-a13298550f23",
   "metadata": {},
   "outputs": [],
   "source": [
    "headers = {\n",
    "    \"X-Naver-Client-Id\":client_id,\n",
    "    \"X-Naver-Client-Secret\":client_secret\n",
    "}"
   ]
  },
  {
   "cell_type": "code",
   "execution_count": 33,
   "id": "6272a558-f6c2-45db-9801-2145c9e41230",
   "metadata": {},
   "outputs": [],
   "source": [
    "def get_api_result(keyword, display, start):\n",
    "    # id, scret\n",
    "    # client_id = \"E66AlVskhc0sKkAb69o7\"\n",
    "    # client_secret = \"TIyobm1msA\"\n",
    "\n",
    "    # 키워드\n",
    "    keyword = urllib.parse.quote(keyword)\n",
    "\n",
    "    # 요청 url + 파라미터\n",
    "    base_url = 'https://openapi.naver.com/v1/search/blog.json?'\n",
    "    param = 'query=' + keyword + \\\n",
    "            '&display=' + str(display) + \\\n",
    "            '&start=' + str(start)\n",
    "    url = base_url + param\n",
    "\n",
    "    # 요청 및 결과 반환\n",
    "    result = requests.get(url, headers=headers)\n",
    "\n",
    "    # json 변환\n",
    "    json_obj = result.json()\n",
    "\n",
    "    return json_obj"
   ]
  },
  {
   "cell_type": "code",
   "execution_count": 34,
   "id": "9f5ecba4-72a5-4e22-a694-626169ba9e2b",
   "metadata": {},
   "outputs": [
    {
     "data": {
      "text/plain": [
       "{'lastBuildDate': 'Fri, 15 Sep 2023 13:33:05 +0900',\n",
       " 'total': 3095804,\n",
       " 'start': 5,\n",
       " 'display': 50,\n",
       " 'items': [{'title': '<b>장마</b> 후 폭염, ‘어떡해요!’ 보다 ‘어떤 대응’이 중요한 때!',\n",
       "   'link': 'https://blog.naver.com/rda2448/223168695998',\n",
       "   'description': '▲ 한 달여 이어진 올해 <b>장마</b>가 7월 26일 기준으로 공식 종료됐습니다. 지난 6월 25일 제주와 중부 지방을 시작으로 한 달여 이어진 올해 <b>장마</b>가 7월 26일 기준으로 공식 종료됐습니다. 올해 <b>장마</b> 기간 전국 평균... ',\n",
       "   'bloggername': \"농촌진흥청 블로그 '농다락'\",\n",
       "   'bloggerlink': 'blog.naver.com/rda2448',\n",
       "   'postdate': '20230728'},\n",
       "  {'title': '주택화재보험 <b>장마</b> 호우주의보 누수 챙기기!',\n",
       "   'link': 'https://blog.naver.com/lilac_queen/223155774718',\n",
       "   'description': '주택화재보험에서 <b>장마</b>와 호우주의보를 대비하여 풍수재해 특약을 넣는 것도 좋은데요 작년에... 주택화재보험 <b>장마</b> 호우주의보 누수를 챙겨보셨으면 하는 바램으로 이 글을 썼습니다 한참 호남 지방에는 <b>장마</b>... ',\n",
       "   'bloggername': 'ORVIETER',\n",
       "   'bloggerlink': 'blog.naver.com/lilac_queen',\n",
       "   'postdate': '20230714'},\n",
       "  {'title': '<b>장마</b>후 세탁기통세척-르주르 세탁기클렌저 사용후기',\n",
       "   'link': 'https://blog.naver.com/nayoung520/223204092994',\n",
       "   'description': '<b>장마</b>가 끝나고 해야 할일 세탁조 청소하기 꿉꿉한 <b>장마</b>가 지나가고 맑게 개인 하늘이 참 예쁜 요즘이에요. <b>장마</b>가 끝나고 미뤄두았던 세탁조를 청소하고 기분 좋게 쌓아놓은 세탁물도 빨아보았습니다. 세탁조... ',\n",
       "   'bloggername': \"nana's diary\",\n",
       "   'bloggerlink': 'blog.naver.com/nayoung520',\n",
       "   'postdate': '20230906'},\n",
       "  {'title': '<b>장마</b>로 초조한 사람들 (2006.07.16)',\n",
       "   'link': 'https://blog.naver.com/fendee/223209939305',\n",
       "   'description': '2006-07-16 01:00:09 <b>장마</b>로 초조한 사람들 사계절이 뚜렷한 대한민국 고유의 계절적 특성이 점점 사라지고 아열대성 기후로 변해간다는 소리와 함께, 매년 여름이면 게릴라성 집중호우로 산사태의 발생 위험이... ',\n",
       "   'bloggername': 'Guitar Blossom',\n",
       "   'bloggerlink': 'blog.naver.com/fendee',\n",
       "   'postdate': '20230913'},\n",
       "  {'title': '호박전 만들기 부침가루 없는 무수분 레시피 가을<b>장마</b>요리',\n",
       "   'link': 'https://blog.naver.com/kehkhk/223198587502',\n",
       "   'description': '여름<b>장마</b> 혹은 비가 오는 날 또는 가을<b>장마</b>요리로 해 먹기 딱 좋은 메뉴이기도 하는데요 밀가루나 부침가루의 농도를 잘 맞추지 못해서 뭔가 맘에 안든다면 요렇게 한번 따라해보세요 호박 자체의... ',\n",
       "   'bloggername': '영양사 오렌지버거의 영양 식재료 한 스푼',\n",
       "   'bloggerlink': 'blog.naver.com/kehkhk',\n",
       "   'postdate': '20230905'},\n",
       "  {'title': '2차우기 아님 가을 <b>장마</b>?',\n",
       "   'link': 'https://blog.naver.com/sanbbaram/223188386516',\n",
       "   'description': '원리와 일반 사항: 동아시아에서는 <b>장마</b>라고 불리는 일정 기간 동안 비가 내리는 시간이 있음. 한국의... &lt;1971~2000 전국 60개 지점 월평균 강수량&gt; 약 한달간 이어지는 <b>장마</b>가 끝나면 불볕더위가 이어지고 간간이... ',\n",
       "   'bloggername': '윤가네 자연벌꿀 (귀농 준비중인 도시민)',\n",
       "   'bloggerlink': 'blog.naver.com/sanbbaram',\n",
       "   'postdate': '20230820'},\n",
       "  {'title': '천연섬유유연제 <b>장마</b> 이기는 향긋한 빨래',\n",
       "   'link': 'https://blog.naver.com/ivoryegg/223158973430',\n",
       "   'description': '냄새와의 전쟁을 피할 수 없는 <b>장마</b>, 덥고 습한 날씨가 벌써 3주째 이어지다 보니 집안에 퀴퀴하고... <b>장마</b>철 냄새 없이 향긋한 빨래를 할 수 있는 천연섬유유연제 제대로 사용하는 방법을 알려드릴게요!... ',\n",
       "   'bloggername': '기승전챔',\n",
       "   'bloggerlink': 'blog.naver.com/ivoryegg',\n",
       "   'postdate': '20230717'},\n",
       "  {'title': '올해 <b>장마</b> 시작 시기 알고 대비 할려면',\n",
       "   'link': 'https://blog.naver.com/troilos/223125824720',\n",
       "   'description': '올해 <b>장마</b> 시작 시기 알고 미리 대비 할려면 안녕하세요, 여러분! 오늘은 대한민국 2023년 <b>장마</b>를 예측해보려 합니다. <b>장마</b>는 우리 나라에서 매년 6월부터 7월 중순까지 이어지는 기간으로, 이는 비가 가장 많이... ',\n",
       "   'bloggername': '블로그하는 경제비둘기',\n",
       "   'bloggerlink': 'blog.naver.com/troilos',\n",
       "   'postdate': '20230611'},\n",
       "  {'title': '[M.E.T TIP] <b>장마</b>·폭염·태풍 ‘3연타’…하늘로 솟구친... ',\n",
       "   'link': 'https://metservice.kr/75369',\n",
       "   'description': 'M.E.T/M.E.T Tip [M.E.T TIP] <b>장마</b>·폭염·태풍 ‘3연타’…하늘로 솟구친 밥상 물가 (주)엠이티 M.E.T Co.,Ltd 2023. 8. 14. 09:36 안녕하세요~(주)엠이티입니다. 최근에 폭염부터, <b>장마</b>, 태풍까지 3연타를 맞은... ',\n",
       "   'bloggername': '엠이티 블로그 | M.E.T',\n",
       "   'bloggerlink': 'https://metservice.kr/',\n",
       "   'postdate': '20230814'},\n",
       "  {'title': '♡필터포유 발수코팅 자동차와이퍼로 가을<b>장마</b> 대비♡',\n",
       "   'link': 'https://blog.naver.com/leeye1985/223196162295',\n",
       "   'description': '올해는 전국적으로 집중되는 폭우로 인해서 많은 피해를 봤죠.ㅠ 그런데 2차<b>장마</b>까지 이어진다고 하네요. 뒤늦은 태풍과 가을<b>장마</b>로 아직까지 비가 많이 내릴 예정인데요. 정말 심한 폭우에 운전을 해보니까... ',\n",
       "   'bloggername': '잭슨과나',\n",
       "   'bloggerlink': 'blog.naver.com/leeye1985',\n",
       "   'postdate': '20230829'},\n",
       "  {'title': '추석 농산물 물가는 극한 <b>장마</b>때부터 예상되었다.',\n",
       "   'link': 'https://blog.naver.com/j5875998/223203885615',\n",
       "   'description': '극한 <b>장마</b>가 오랫동안 지배한 계절에, 농민의 시선은 그 후폭풍인 결과인 추석 물가를 우려하였다. 원인에 대한 분석과 진단을 하더라도, 축적된 원인의 한계로 처방이 어려운 &quot;눈뜨고 당하는 실정&quot;을 맞는다.... ',\n",
       "   'bloggername': '이든농 ( 어질고 착한 농민의 꿈 )',\n",
       "   'bloggerlink': 'blog.naver.com/j5875998',\n",
       "   'postdate': '20230906'},\n",
       "  {'title': '로또 예상번호 1074회 <b>장마</b>를보내며',\n",
       "   'link': 'https://blog.naver.com/mistarno1/223139640389',\n",
       "   'description': '벌써부터 <b>장마</b>가 시작됐는데 준비 잘 하셔서 <b>장마</b>기간 잘 보내시기를 바라겠습니다. 매주 포스팅을 할때마다 참고하시라고 말씀을 드리는부분이 있습니다. 포스팅에서 알려드리고 있는 번호들은 개인적으로... ',\n",
       "   'bloggername': '초록꿈',\n",
       "   'bloggerlink': 'blog.naver.com/mistarno1',\n",
       "   'postdate': '20230627'},\n",
       "  {'title': '가을<b>장마</b>속 마실길-무룡,진동',\n",
       "   'link': 'https://blog.naver.com/junio/223200322116',\n",
       "   'description': '가을<b>장마</b>속 습도 무지하게 높은 날. 7km 2시간30분의 산행. 비라도 올것이지 왜 비는 와서 이런 사달이 났을까... 또 한번 기상청 욕을 한바가지 ... 23년 8월의 마지막날. 나이생각 않고 무식하게 운동한다고... ',\n",
       "   'bloggername': '돈키호테님의 블로그',\n",
       "   'bloggerlink': 'blog.naver.com/junio',\n",
       "   'postdate': '20230902'},\n",
       "  {'title': '2023년 <b>장마</b>기간 중부 남부 제주 30일',\n",
       "   'link': 'https://likejkb.tistory.com/358',\n",
       "   'description': '2023년 <b>장마</b>가 시작되었습니다 여름이 다가 오기 몇달 전부터 올해 여름은 역대로 <b>장마</b>기간이 길수도 있다고 하였습니다 작년 2022년 폭우로 침수피해가 정말 많이 일어나서 이번 2023년 <b>장마</b>기간이 얼마나 긴지... ',\n",
       "   'bloggername': '오늘의best',\n",
       "   'bloggerlink': 'https://likejkb.tistory.com/',\n",
       "   'postdate': '20230629'},\n",
       "  {'title': '8월 일상 <b>장마</b>와 함께한 2023년 여름이야기, 고마웠어 :) !',\n",
       "   'link': 'https://blog.naver.com/jeeinomc/223202415440',\n",
       "   'description': '8월 일상 <b>장마</b>와 함께한 2023년 여름이야기, 고마웠어 :) ! 안녕하세요~~^^ 아직 한낮에는 여전히 덥지만, 아침, 저녁으로는 제법 쌀쌀해졌습니다. 9월이 되어 8월 일상을 뒤적여보니, 덥지만 다양한 선물을 안겨준... ',\n",
       "   'bloggername': '부천지인한의원 - 정성을 다하겠습니다!',\n",
       "   'bloggerlink': 'blog.naver.com/jeeinomc',\n",
       "   'postdate': '20230908'},\n",
       "  {'title': '태풍과 <b>장마</b>는 일기도에서 어떻게 나타날까?',\n",
       "   'link': 'https://blog.naver.com/kma_131/223179807942',\n",
       "   'description': '이번 여름에는 비가 많이 왔던 만큼 <b>장마</b>를 먼저 떠올리시는 분들이 많으실 텐데요, 여름에 대표적인 기상 현상으로는 <b>장마</b>뿐만 아니라 태풍도 있습니다. 일기 예보를 보시면서 <b>장마</b>전선이나 태풍이... ',\n",
       "   'bloggername': '대한민국 기상청 대표 블로그: 생기발랄',\n",
       "   'bloggerlink': 'blog.naver.com/kma_131',\n",
       "   'postdate': '20230810'},\n",
       "  {'title': '<b>장마</b>가 일으킨 비극',\n",
       "   'link': 'https://blog.naver.com/kimroh6688/223175407931',\n",
       "   'description': '<b>장마</b>가 일으킨 비극 본기자는 <b>장마</b>철을 싫어한다. 발톱염증의 원인도 되고 날씨를 덥게 만들어 버리기 때문이다. 하지만 그중에서 제일 싫은 이유는 많은 사상자가 발생한다는 거다. 그런데 최근 6월에... ',\n",
       "   'bloggername': '곰곰이, 어린이/청소년 독서문화공간',\n",
       "   'bloggerlink': 'blog.naver.com/kimroh6688',\n",
       "   'postdate': '20230830'},\n",
       "  {'title': '4호 태풍 탈림 경로 2023년 <b>장마</b> 기간 언제까지 끝 종료 시기는',\n",
       "   'link': 'https://blog.naver.com/dongi0508/223159890311',\n",
       "   'description': '4호 태풍 탈림 경로 2023년 <b>장마</b> 기간 언제까지 끝 종료 시기는 이른 아침에 더워서 깬것보다는 창문의... <b>장마</b>가 완전히 가신 건 아닌듯하다. 보니까 4호 태풍 탈림도 한창 이동중이라고 하고. 그나마... ',\n",
       "   'bloggername': 'Der Sinn des Lebens',\n",
       "   'bloggerlink': 'blog.naver.com/dongi0508',\n",
       "   'postdate': '20230718'},\n",
       "  {'title': '<b>장마</b> 끝, 다시 텃밭!',\n",
       "   'link': 'https://blog.naver.com/hl4gnn/223169470982',\n",
       "   'description': '<b>장마</b>가 끝이 났습니다. <b>장마</b> 기간 동안 텃밭에 피해가 좀 있었습니다. 애플 수박은 잎이 모두 녹아버렸고, 풋고추 8그루는 시들시들해서 죽어버렸고, 나머지 고추들은 탄저병에 몸살을 앓고 있습니다. 살아있지만... ',\n",
       "   'bloggername': '현답의 여행과 독서',\n",
       "   'bloggerlink': 'blog.naver.com/hl4gnn',\n",
       "   'postdate': '20230729'},\n",
       "  {'title': '<b>장마</b> - 뒷끝있다.',\n",
       "   'link': 'https://blog.naver.com/sense97/223170218154',\n",
       "   'description': '긴 <b>장마</b> 뒤... 콩, 팥, 들깨 중 콩이 가장 선전합니다. 한 밭에 심은 세 가지 작물 중, 처음엔 들깨가 가장 잘 나가더니, 긴 <b>장마</b> 후에 들깨는 녹병이 오고 팥은 물에 치어서 들쭉 날쭉. 그 와중에 신통하게도 콩이... ',\n",
       "   'bloggername': '지리산 산내농장',\n",
       "   'bloggerlink': 'blog.naver.com/sense97',\n",
       "   'postdate': '20230730'},\n",
       "  {'title': '<b>장마</b>기간 이사 시 주의 점들 알아보아요',\n",
       "   'link': 'https://blog.naver.com/eyey0811/223190982225',\n",
       "   'description': '다습한 <b>장마</b> 기간에 이사를 하실 때에는 날이 좋은 3-4월에 이사를 하실 때보다 주의해야 할 사항이 더 늘어나기 마련인데요 그런 의미로 오늘은 <b>장마</b>기간 이사 시 주의사항에 관한 글로 이웃님들과 소통하는... ',\n",
       "   'bloggername': '모두 행복하세요^^',\n",
       "   'bloggerlink': 'blog.naver.com/eyey0811',\n",
       "   'postdate': '20230823'},\n",
       "  {'title': '2023 <b>장마</b>기간 시작 언제까지 계속되는지 알아보기',\n",
       "   'link': 'https://blog.naver.com/joinjaang/223153956223',\n",
       "   'description': '한국의 <b>장마</b>기간이 점점 길어지는 것 같습니다. 강수량도 간헐적으로 오래 오던 이전과는 달리 한번에 집중적으로 국지성 호우가 내려 많은 인명과 재산 피해가 속출하고 있는데 일본에서 머물던 <b>장마</b>전선이... ',\n",
       "   'bloggername': '하우스마켓',\n",
       "   'bloggerlink': 'blog.naver.com/joinjaang',\n",
       "   'postdate': '20230712'},\n",
       "  {'title': \"<b>장마</b> 기간 중에 간 휴가 '거제 소노캄' 2박 3일\",\n",
       "   'link': 'https://blog.naver.com/ojhnim/223184095894',\n",
       "   'description': '가는 날이 장날이라고 하필 <b>장마</b> 기간과 휴가가 겹치게 되었다. 윽!! ㅠㅠ [1일차] 새벽에 집에서 출발... 산책 <b>장마</b> 기간이라 외부 활동은 많이 못했지만 실내에서 쉬면서 보낸 조용한 휴가였다. 아기 데리고... ',\n",
       "   'bloggername': '열정이 가득한 불꽃',\n",
       "   'bloggerlink': 'blog.naver.com/ojhnim',\n",
       "   'postdate': '20230815'},\n",
       "  {'title': '<b>장마</b>를 보낸 블루아이스 은청가문비',\n",
       "   'link': 'https://blog.naver.com/nerya_park/223195128361',\n",
       "   'description': '<b>장마</b>를 대비해서 더위와 다습에 약한 침엽수 화분들을 데크 위 반그늘 자리에 옮겨뒀었다 이제 <b>장마</b>도 끝났고 무더위도 한풀 꺾였다고 생각돼서 블루아이스와 은청가문비를 구석에서 꺼냈는데 화들짝 놀랬다... ',\n",
       "   'bloggername': '슬기로운 정원생활',\n",
       "   'bloggerlink': 'blog.naver.com/nerya_park',\n",
       "   'postdate': '20230828'},\n",
       "  {'title': '발생 한반도 영향? 2차<b>장마</b>, 가을<b>장마</b>, 국지호우 등 비 피해는?',\n",
       "   'link': 'https://blog.naver.com/sosin279/223196257506',\n",
       "   'description': '2차 <b>장마</b>, 가을 <b>장마</b>라는 표현을 쓰고 있습니다. 어제 부터 중부지방을 중심으로 시작되었던 비는 이번 수요일 30일까지 이어질 것으로 전망하고 있습니다. 위 이미지에서 보는 것처럼 북쪽 찬 공기와 남쪽... ',\n",
       "   'bloggername': '자유자 카이사르',\n",
       "   'bloggerlink': 'blog.naver.com/sosin279',\n",
       "   'postdate': '20230829'},\n",
       "  {'title': '대학로피부과 탈모, <b>장마</b> 때 악화되기 쉬워 주의해야',\n",
       "   'link': 'https://blog.naver.com/duoclinic/223154119104',\n",
       "   'description': '<b>장마</b> 때 심해질 수 있는 탈모 그렇지만 출산 후 1년 이후에도 탈모 증상을 느끼고 있다면 여성형 탈모로... 특히 요즘과 같이 덥고 습한 <b>장마</b>가 이어지는 한 달 동안에는 탈모가 악화되기 쉬워 주의해야 합니다.... ',\n",
       "   'bloggername': 'Since 1985 듀오피부과의원',\n",
       "   'bloggerlink': 'blog.naver.com/duoclinic',\n",
       "   'postdate': '20230712'},\n",
       "  {'title': '폭염과 <b>장마</b>에도 측백나무 묘목은 잘자라고 있네요!',\n",
       "   'link': 'https://blog.naver.com/ky12812/223182798155',\n",
       "   'description': '금년에도 여름철 폭염과 <b>장마</b>가 길게 이어져 왔지만 정식하거나 파종한 조선측백나무의 묘목 등은... 지루한 <b>장마</b>와 폭염을 이겨내고 지금도 무럭무럭 잘자라고 있습니다. 정식상에서 자라던 3년이상 된... ',\n",
       "   'bloggername': '솔향기 마을 농원',\n",
       "   'bloggerlink': 'blog.naver.com/ky12812',\n",
       "   'postdate': '20230813'},\n",
       "  {'title': '내일 <b>장마</b>, 충청이남지역 호우예보 (기상청, 2023.7.17. 저녁)',\n",
       "   'link': 'https://pcgeeks.tistory.com/23628',\n",
       "   'description': 'https://n.news.naver.com/mnews/article/025/0003294300 내일 시간당 최대 100㎜ 극한호우 퍼붓는다…<b>장마</b> 최대... 집중호우(22년), 태풍 힌남노(22년), 현재까지의 이번 <b>장마</b>(23년) 기상청 속보 2023년 7월 17일 17시경.',\n",
       "   'bloggername': \"PC Geek's\",\n",
       "   'bloggerlink': 'https://pcgeeks.tistory.com/',\n",
       "   'postdate': '20230717'},\n",
       "  {'title': '일상 ) 가을 <b>장마</b>도 끝',\n",
       "   'link': 'https://blog.naver.com/shrk041212/223198702644',\n",
       "   'description': '가을 <b>장마</b>라는게 원래 있었던건가?ㅎㅎㅎ 주구장창 흐리고 비오더니...이제야 좀 가을다운 느낌이다. 가을<b>장마</b>가 오기 바로 직전인듯, 월요일에는 조금 걸었다. 비가 온다는 예보가 있었는데 아주 조금... ',\n",
       "   'bloggername': '룰루랄라 BLOG',\n",
       "   'bloggerlink': 'blog.naver.com/shrk041212',\n",
       "   'postdate': '20230831'},\n",
       "  {'title': '<b>장마</b> 후 청소 필수 주차장',\n",
       "   'link': 'https://blog.naver.com/zovosky/223168487652',\n",
       "   'description': '얼마 전 가을이 오기 전 <b>장마</b>로 지저분 해지 주차장 청소를 하고 온 포스팅을 하겠습니다. <b>장마</b> 기간에는 주차장에 외부에 있는 물만 유입되는 것이 아니라 외부 오염이 유입되고 그동안 타이어에 내재된 타이어... ',\n",
       "   'bloggername': '청소전문가 - 오행종합개발 02-868-6547',\n",
       "   'bloggerlink': 'blog.naver.com/zovosky',\n",
       "   'postdate': '20230804'},\n",
       "  {'title': '7월 22일 긴 <b>장마</b> 후 텃밭',\n",
       "   'link': 'https://blog.naver.com/arare98/223170314766',\n",
       "   'description': '고생해서 키웠는데ㅜㅜ 참 잘컸는데, 이상한 긴 <b>장마</b>로 잎이 병들어 다 말라 버렸다. 아직 덜... 가지도 따고~ 토마토도 따고~ 긴 <b>장마</b>였는데, 토마토들은 병없이 잘 크고 있어 신기하다. 올해 토마토는... ',\n",
       "   'bloggername': '펭귄마을 아라레',\n",
       "   'bloggerlink': 'blog.naver.com/arare98',\n",
       "   'postdate': '20230730'},\n",
       "  {'title': '가을 <b>장마</b> 2차 <b>장마</b>기간 태풍 하이쿠이 예상경로 태풍영향... ',\n",
       "   'link': 'https://blog.naver.com/ohayo11/223196559855',\n",
       "   'description': '가을 <b>장마</b> 현재 상황: 중국 남부 내륙에서 발달한 저기압의 영향으로 전국에 비가 내리고 있음 비 예상 기간: 다음주 초까지 지속될 것으로 예상 강한 비: 전남남해안, 전라권, 수도권, 강원중·북부, 충남... ',\n",
       "   'bloggername': '여행 & 어학 & 건강 그리고 행복',\n",
       "   'bloggerlink': 'blog.naver.com/ohayo11',\n",
       "   'postdate': '20230829'},\n",
       "  {'title': '제주 45일 살기 &lt;<b>장마</b>기간 서귀포에서 보름 살며 느낀점&gt;',\n",
       "   'link': 'https://blog.naver.com/gracepark69/223187396282',\n",
       "   'description': '6월 말부터 <b>장마</b>가 시작 되어 연장을 할까 말까 고민하던 중 넘어진김에 쉬어가라는 속담이 생각났다.... 나의 제주 45일 살기 후반은 <b>장마</b>와 습도, 코로나로 멍이 들고 말았다. 그냥 한달 살기로 마무리 할걸... ',\n",
       "   'bloggername': '은혜의 샘',\n",
       "   'bloggerlink': 'blog.naver.com/gracepark69',\n",
       "   'postdate': '20230818'},\n",
       "  {'title': '가을 <b>장마</b>',\n",
       "   'link': 'https://blog.naver.com/et0631/223199749484',\n",
       "   'description': '부산은 가을 <b>장마</b>라며...일주일 내내 비가오면서 ..끈적끈적... 산신령나올듯한 무드 입니다 에어컨도 내내 제습으로 빵빵 돌리는 중...이제 정말 열대기후로 변하는 건지 .... 여름이면 외삼촌이 농사짓는... ',\n",
       "   'bloggername': 'TIME',\n",
       "   'bloggerlink': 'blog.naver.com/et0631',\n",
       "   'postdate': '20230901'},\n",
       "  {'title': '판타지 장편 소설 베스트셀러 | 비가 오면 열리는 상점, <b>장마</b>상... ',\n",
       "   'link': 'https://blog.naver.com/pshalterego/223202152253',\n",
       "   'description': '<b>장마</b> 기간에만 열리는 아주 특별한 상점이 있습니다. 사연을 받아 선택한 사람만이 이곳으로 올 수... 바로 유영광 작가의 《비가 오면 열리는 상점》에 나오는 <b>장마</b>상점에 대한 이야기입니다. 작가 소개... ',\n",
       "   'bloggername': '소리로 읽는 소곤',\n",
       "   'bloggerlink': 'blog.naver.com/pshalterego',\n",
       "   'postdate': '20230905'},\n",
       "  {'title': \"가을<b>장마</b> 시작..11호 태풍 '하이쿠이' 발생\",\n",
       "   'link': 'https://blog.naver.com/ubcnews/223196296076',\n",
       "   'description': '(앵커멘트) 기상청이 공식적으로 <b>장마</b> 종료를 선언한 지 한 달여 만에 다시 흐린 날씨가... ((브릿지: 지난달 26일, 기상청이 <b>장마</b> 종료를 공식화한 이후 한 달여 만에 다시 흐린 날씨가 찾아왔습니다.)... ',\n",
       "   'bloggername': \"울산의 대표방송 'ubc 울산방송'\",\n",
       "   'bloggerlink': 'blog.naver.com/ubcnews',\n",
       "   'postdate': '20230829'},\n",
       "  {'title': '8월 둘째 주 <b>장마</b> 이후 에키놉스 각시석남 향소국 큰꿩의비름',\n",
       "   'link': 'https://blog.naver.com/nerya_park/223176435461',\n",
       "   'description': '은엽 톱풀 앓이를 해가며 구해서 심었던 은엽 톱풀은 <b>장마</b>에 사라졌다 은엽을 키우기에는 한국의 <b>장마</b>가 너무 무시무시하다 기후 변화로 <b>장마</b> 나기가 더 힘겨워진 것 같기도 올봄에 보식했던 에키놉스 베니치... ',\n",
       "   'bloggername': '슬기로운 정원생활',\n",
       "   'bloggerlink': 'blog.naver.com/nerya_park',\n",
       "   'postdate': '20230806'},\n",
       "  {'title': '<b>장마</b>와 폭염에 살아남을 확률(우리집제라늄)',\n",
       "   'link': 'https://blog.naver.com/alberoazzuro/223189165174',\n",
       "   'description': '100개 정도 제라늄을 순차적으로4,5,6,7월에 구입하여 <b>장마</b>와 폭염 7,8월을 보냈는데요 7월 <b>장마</b>에는 과습으로 무름병에 취약했고 8월 폭염에는 검은색벌레와 곰팡이균에 취약했어요 뿌리 줄기를 타고 검은색... ',\n",
       "   'bloggername': '푸른나무',\n",
       "   'bloggerlink': 'blog.naver.com/alberoazzuro',\n",
       "   'postdate': '20230821'},\n",
       "  {'title': '베리크래프트/ <b>장마</b> 후  햇살 카드(with 크리컷)',\n",
       "   'link': 'https://blog.naver.com/000naya/223183517421',\n",
       "   'description': '계속 <b>장마</b>로 비내리는 나날이였어요. 전례없이 대규모 폭우로 인해 사상자가 생겨서 안타까움을 금할 수가 없네요.ㅜㅜ 다행히 지금 8월은 쨍쨍한 햇볕 가득한 나날입니다. 7월에 만들때만 해도 지리한 <b>장마</b>... ',\n",
       "   'bloggername': '베리크래프트(berrycraft)',\n",
       "   'bloggerlink': 'blog.naver.com/000naya',\n",
       "   'postdate': '20230814'},\n",
       "  {'title': '<b>장마</b>와 식물, 그리고 희망',\n",
       "   'link': 'https://blog.naver.com/ecolab210/223187385145',\n",
       "   'description': '#<b>장마</b> #도장지 #스트레스 #잠아 지난 7월은 길고 긴 <b>장마</b>로 인해 많은 사람들이 힘들어 했습니다. 갑작스런 폭우로 목숨을 잃으신 분도 많으셨고요. 농사를 짓는 분들도 피해가 이만저만이 아니었다고 합니다.... ',\n",
       "   'bloggername': 'ECO LAB',\n",
       "   'bloggerlink': 'blog.naver.com/ecolab210',\n",
       "   'postdate': '20230818'},\n",
       "  {'title': '대구 지긋지긋한 <b>장마</b> 속 반야월 연꽃단지에서 빗바람 산책',\n",
       "   'link': 'https://blog.naver.com/coreabis/223158921880',\n",
       "   'description': '지긋지긋한 <b>장마</b>다. 코로나에 또 걸렸다가 회복하긴 했으나 여전히 기력없고 온갖군데 아프고 날도... 비가 많이 내려 집으로 왔더니 일주일만에 파란하늘이 보였다 이 지겨운 <b>장마</b>도 결국 끝나겠지? 가을이... ',\n",
       "   'bloggername': '우나의 행복한 일상과 여행',\n",
       "   'bloggerlink': 'blog.naver.com/coreabis',\n",
       "   'postdate': '20230717'},\n",
       "  {'title': '2차 <b>장마</b>가 시작된 날, 전통시장에서 느낀 일본 오염수 방류 문제',\n",
       "   'link': 'https://blog.naver.com/pingkyak/223196536541',\n",
       "   'description': '2차 <b>장마</b>가 시작된 날 볼일을 보러 나가는 길에 근처 전통시장을 둘러보았다. 야채 가게에서는 고구마와 제주 더덕, 도라지가 보였고 복숭아와 비름나물도 눈에 띄었다. 한창 무더위가 심할때는 시장내 생선... ',\n",
       "   'bloggername': '아시아(ASIA), 그 길 위에서 친구를 만나다',\n",
       "   'bloggerlink': 'blog.naver.com/pingkyak',\n",
       "   'postdate': '20230829'},\n",
       "  {'title': '폭염.폭우. 가을<b>장마</b>로 이어지는 2023년 공룡약초농장은',\n",
       "   'link': 'https://blog.naver.com/happynamc/223196300145',\n",
       "   'description': '균형섭생과 바른양생으로 청혈과 해독을 강조하는 공룡약초 청각관리사 입니다 2023년 유난히도 긴 <b>장마</b>와 폭염과 폭우와 가을<b>장마</b> 까지 이어지는것 같아서 참 피곤한 농업과 농부의 일상이 아닐까 합니다... ',\n",
       "   'bloggername': '건강과 발효를 論하는 Berry Happy 공룡약초 농원',\n",
       "   'bloggerlink': 'blog.naver.com/happynamc',\n",
       "   'postdate': '20230829'},\n",
       "  {'title': '이상한 날씨 두번째 <b>장마</b>~~',\n",
       "   'link': 'https://blog.naver.com/jmy9026/223191066214',\n",
       "   'description': '이상기온이랍니다 이상한일 ~우리가 사람이 미처 생각지 못한일 =이상한 일 이상기온 이상한 날씨 두번째 <b>장마</b> 그 이상한 날씨 두번째 <b>장마</b> 때문에 어제부터 비가 내리고 있습니다 세계는 불바다 ~ 물바다~ 지진... ',\n",
       "   'bloggername': '세요공방의 꾸메농원',\n",
       "   'bloggerlink': 'blog.naver.com/jmy9026',\n",
       "   'postdate': '20230823'},\n",
       "  {'title': '♡대용량 제습제 쉼표365 습기냠냠 습기제거제로 2차<b>장마</b>... ',\n",
       "   'link': 'https://blog.naver.com/leeye1985/223197171801',\n",
       "   'description': '<b>장마</b>가 지나고 쨍쨍하던 날이 지속되길래 1일 1빨래 하면서 텅빈 빨래통을 보고 정말 흐뭇했습니다. 하지만 2차<b>장마</b> 라니요..ㅎ 태풍도 여러개가 올라오고 있다는데요.ㅠ 정말 날씨가 이상기온으로 갈수록... ',\n",
       "   'bloggername': '잭슨과나',\n",
       "   'bloggerlink': 'blog.naver.com/leeye1985',\n",
       "   'postdate': '20230830'},\n",
       "  {'title': '<b>장마</b> 후의 여름의 모습을 볼 수 있는 정림동 갑천',\n",
       "   'link': 'https://blog.naver.com/first_seogu/223178084647',\n",
       "   'description': '<b>장마</b> 후의 여름의 모습을 볼 수 있는 정림동 갑천 #대전서구 #정림동갑천 #정림동 #여름풍경 #풍경... 비 오는 동안 더위는 꺾였지만, <b>장마</b> 동안 엄청난 폭우로 전국에 많은 자연재해가 잇따랐는데요, <b>장마</b> 후에... ',\n",
       "   'bloggername': '대전광역시 서구청 블로그입니다.',\n",
       "   'bloggerlink': 'blog.naver.com/first_seogu',\n",
       "   'postdate': '20230808'},\n",
       "  {'title': '여쿨 틴트 추천 물다 여름<b>장마</b> 지속력도 갑이야',\n",
       "   'link': 'https://blog.naver.com/jh_0927/223205346710',\n",
       "   'description': '여름<b>장마</b> 틴트인데, 지속력 진짜 미쳤고 .. 색도 정말 예쁘답니다. 단독으로 발라줘도 예쁘지만 제가... 물다 타투 픽싱 립 틴트 여름<b>장마</b> 립은 무조건 웜톤 립만 발랐던 과거의 저.. 요즘엔 쿨톤 색이 더 예뻐... ',\n",
       "   'bloggername': '보름달로그',\n",
       "   'bloggerlink': 'blog.naver.com/jh_0927',\n",
       "   'postdate': '20230907'},\n",
       "  {'title': '산청 날씨 <b>장마</b>는 끝자락',\n",
       "   'link': 'https://blog.naver.com/kakasi000/223157717220',\n",
       "   'description': '평년의 <b>장마</b>를 예상하면 딱 다음 주 월요일이 <b>장마</b>가 끝나는 시기이긴 합니다. 주간예보 하지만 올해는 조금 다를 수도 있기 때문에 아직 조금 더 지켜봐야 하지 않을까 생각합니다. 보통 지금이 <b>장마</b> 이긴 한데... ',\n",
       "   'bloggername': '카카시의 평범한 일상',\n",
       "   'bloggerlink': 'blog.naver.com/kakasi000',\n",
       "   'postdate': '20230716'},\n",
       "  {'title': '2차 <b>장마</b> 시작으로 인한 꿉꿉함을 대용량제습기로 제거하세요.',\n",
       "   'link': 'https://blog.naver.com/gatewelly/223189556996',\n",
       "   'description': '지난 달 26일 <b>장마</b>철이 끝나고 2차 <b>장마</b>가 찾아오고 있는 것으로 분석됐습니다. <b>장마</b>로 인한 눅눅한 실내 습도를 가장 빠르고 강력하게 제거할 수 있는 방법에 대해 알려드리겠습니다. 실내 습도가... ',\n",
       "   'bloggername': '게이트비젼',\n",
       "   'bloggerlink': 'blog.naver.com/gatewelly',\n",
       "   'postdate': '20230821'},\n",
       "  {'title': '여기저기 들리는 <b>장마</b> 위험 경보! 이번 <b>장마</b>는 어떻게 다른지... ',\n",
       "   'link': 'https://blog.naver.com/hi_nso/223165702230',\n",
       "   'description': '전국적으로 <b>장마</b> 기간에 접어든 요즘! 여름을 즐기기에 앞서 시작된 <b>장마</b> 때문에 걱정이 많으실 것 같습니다. 올해는 특히 길게 예정된 <b>장마</b> 예보에 <b>장마</b> 피해 예방에 관한 다양한 기사들이 잇따르고... ',\n",
       "   'bloggername': '통계청 공식 블로그-통하는 세상',\n",
       "   'bloggerlink': 'blog.naver.com/hi_nso',\n",
       "   'postdate': '20230725'}]}"
      ]
     },
     "execution_count": 34,
     "metadata": {},
     "output_type": "execute_result"
    }
   ],
   "source": [
    "# 함수 확인\n",
    "keyword = '장마'\n",
    "display = 50\n",
    "start = 5\n",
    "json_obj = get_api_result(keyword, display, start)\n",
    "json_obj"
   ]
  },
  {
   "cell_type": "code",
   "execution_count": 35,
   "id": "b79f28c6-8914-49b4-81eb-1df6fd9eea91",
   "metadata": {},
   "outputs": [
    {
     "name": "stdout",
     "output_type": "stream",
     "text": [
      "1 . 장마 후 폭염, ‘어떡해요!’ 보다 ‘어떤 대응’이 중요한 때! https://blog.naver.com/rda2448/223168695998\n",
      "2 . 주택화재보험 장마 호우주의보 누수 챙기기! https://blog.naver.com/lilac_queen/223155774718\n",
      "3 . 장마후 세탁기통세척-르주르 세탁기클렌저 사용후기 https://blog.naver.com/nayoung520/223204092994\n",
      "4 . 장마로 초조한 사람들 (2006.07.16) https://blog.naver.com/fendee/223209939305\n",
      "5 . 호박전 만들기 부침가루 없는 무수분 레시피 가을장마요리 https://blog.naver.com/kehkhk/223198587502\n",
      "6 . 2차우기 아님 가을 장마? https://blog.naver.com/sanbbaram/223188386516\n",
      "7 . 천연섬유유연제 장마 이기는 향긋한 빨래 https://blog.naver.com/ivoryegg/223158973430\n",
      "8 . 올해 장마 시작 시기 알고 대비 할려면 https://blog.naver.com/troilos/223125824720\n",
      "9 . [M.E.T TIP] 장마·폭염·태풍 ‘3연타’…하늘로 솟구친...  https://metservice.kr/75369\n",
      "10 . ♡필터포유 발수코팅 자동차와이퍼로 가을장마 대비♡ https://blog.naver.com/leeye1985/223196162295\n",
      "11 . 추석 농산물 물가는 극한 장마때부터 예상되었다. https://blog.naver.com/j5875998/223203885615\n",
      "12 . 로또 예상번호 1074회 장마를보내며 https://blog.naver.com/mistarno1/223139640389\n",
      "13 . 가을장마속 마실길-무룡,진동 https://blog.naver.com/junio/223200322116\n",
      "14 . 2023년 장마기간 중부 남부 제주 30일 https://likejkb.tistory.com/358\n",
      "15 . 8월 일상 장마와 함께한 2023년 여름이야기, 고마웠어 :) ! https://blog.naver.com/jeeinomc/223202415440\n",
      "16 . 태풍과 장마는 일기도에서 어떻게 나타날까? https://blog.naver.com/kma_131/223179807942\n",
      "17 . 장마가 일으킨 비극 https://blog.naver.com/kimroh6688/223175407931\n",
      "18 . 4호 태풍 탈림 경로 2023년 장마 기간 언제까지 끝 종료 시기는 https://blog.naver.com/dongi0508/223159890311\n",
      "19 . 장마 끝, 다시 텃밭! https://blog.naver.com/hl4gnn/223169470982\n",
      "20 . 장마 - 뒷끝있다. https://blog.naver.com/sense97/223170218154\n",
      "21 . 장마기간 이사 시 주의 점들 알아보아요 https://blog.naver.com/eyey0811/223190982225\n",
      "22 . 2023 장마기간 시작 언제까지 계속되는지 알아보기 https://blog.naver.com/joinjaang/223153956223\n",
      "23 . 장마 기간 중에 간 휴가 '거제 소노캄' 2박 3일 https://blog.naver.com/ojhnim/223184095894\n",
      "24 . 장마를 보낸 블루아이스 은청가문비 https://blog.naver.com/nerya_park/223195128361\n",
      "25 . 발생 한반도 영향? 2차장마, 가을장마, 국지호우 등 비 피해는? https://blog.naver.com/sosin279/223196257506\n",
      "26 . 대학로피부과 탈모, 장마 때 악화되기 쉬워 주의해야 https://blog.naver.com/duoclinic/223154119104\n",
      "27 . 폭염과 장마에도 측백나무 묘목은 잘자라고 있네요! https://blog.naver.com/ky12812/223182798155\n",
      "28 . 내일 장마, 충청이남지역 호우예보 (기상청, 2023.7.17. 저녁) https://pcgeeks.tistory.com/23628\n",
      "29 . 일상 ) 가을 장마도 끝 https://blog.naver.com/shrk041212/223198702644\n",
      "30 . 장마 후 청소 필수 주차장 https://blog.naver.com/zovosky/223168487652\n",
      "31 . 7월 22일 긴 장마 후 텃밭 https://blog.naver.com/arare98/223170314766\n",
      "32 . 가을 장마 2차 장마기간 태풍 하이쿠이 예상경로 태풍영향...  https://blog.naver.com/ohayo11/223196559855\n",
      "33 . 제주 45일 살기 &lt;장마기간 서귀포에서 보름 살며 느낀점&gt; https://blog.naver.com/gracepark69/223187396282\n",
      "34 . 가을 장마 https://blog.naver.com/et0631/223199749484\n",
      "35 . 판타지 장편 소설 베스트셀러 | 비가 오면 열리는 상점, 장마상...  https://blog.naver.com/pshalterego/223202152253\n",
      "36 . 가을장마 시작..11호 태풍 '하이쿠이' 발생 https://blog.naver.com/ubcnews/223196296076\n",
      "37 . 8월 둘째 주 장마 이후 에키놉스 각시석남 향소국 큰꿩의비름 https://blog.naver.com/nerya_park/223176435461\n",
      "38 . 장마와 폭염에 살아남을 확률(우리집제라늄) https://blog.naver.com/alberoazzuro/223189165174\n",
      "39 . 베리크래프트/ 장마 후  햇살 카드(with 크리컷) https://blog.naver.com/000naya/223183517421\n",
      "40 . 장마와 식물, 그리고 희망 https://blog.naver.com/ecolab210/223187385145\n",
      "41 . 대구 지긋지긋한 장마 속 반야월 연꽃단지에서 빗바람 산책 https://blog.naver.com/coreabis/223158921880\n",
      "42 . 2차 장마가 시작된 날, 전통시장에서 느낀 일본 오염수 방류 문제 https://blog.naver.com/pingkyak/223196536541\n",
      "43 . 폭염.폭우. 가을장마로 이어지는 2023년 공룡약초농장은 https://blog.naver.com/happynamc/223196300145\n",
      "44 . 이상한 날씨 두번째 장마~~ https://blog.naver.com/jmy9026/223191066214\n",
      "45 . ♡대용량 제습제 쉼표365 습기냠냠 습기제거제로 2차장마...  https://blog.naver.com/leeye1985/223197171801\n",
      "46 . 장마 후의 여름의 모습을 볼 수 있는 정림동 갑천 https://blog.naver.com/first_seogu/223178084647\n",
      "47 . 여쿨 틴트 추천 물다 여름장마 지속력도 갑이야 https://blog.naver.com/jh_0927/223205346710\n",
      "48 . 산청 날씨 장마는 끝자락 https://blog.naver.com/kakasi000/223157717220\n",
      "49 . 2차 장마 시작으로 인한 꿉꿉함을 대용량제습기로 제거하세요. https://blog.naver.com/gatewelly/223189556996\n",
      "50 . 여기저기 들리는 장마 위험 경보! 이번 장마는 어떻게 다른지...  https://blog.naver.com/hi_nso/223165702230\n"
     ]
    }
   ],
   "source": [
    "for i, item in enumerate(json_obj['items']):\n",
    "    print(i+1, '.', item['title'].replace('<b>','').replace('</b>',''), item['link'])"
   ]
  },
  {
   "cell_type": "code",
   "execution_count": null,
   "id": "7b105b6f-7d1e-4ba1-b950-1df2449288c8",
   "metadata": {},
   "outputs": [],
   "source": []
  },
  {
   "cell_type": "markdown",
   "id": "0975abc3-34e2-42d4-842b-4454532e0c48",
   "metadata": {},
   "source": [
    "#### 여러 페이지 호출하는 함수 구현\n",
    "- start 값에 따라 페이지 별로 쉽게 출력하기 위해  \n",
    "- 출력 부분을 함수로 묶기  \n",
    "- call_and_print(keyword, display, start):  \n",
    "    - 검색어, 추출 개수, 시작 페이지 전달받아서  \n",
    "    - 검색 결과에 대해 블로그 제목, 글링크, 블로거 이름을 출력하는 함수  \n",
    "    - 함수 내에서 get_api_result(keyword, display, start) 함수 호출하고   \n",
    "    - 결과 받아서 추출 "
   ]
  },
  {
   "cell_type": "code",
   "execution_count": 36,
   "id": "988a816e-1594-4095-8d6d-36dc9a374356",
   "metadata": {},
   "outputs": [],
   "source": [
    "def call_and_print(keyword, display, start):\n",
    "    json_obj = get_api_result(keyword, display, start)\n",
    "\n",
    "    for i, item in enumerate(json_obj['items']):\n",
    "        print(i+1, '.', item['title'].replace('<b>','').replace('</b>',''), item['link'])"
   ]
  },
  {
   "cell_type": "code",
   "execution_count": 37,
   "id": "c0698021-f661-467e-b496-c0329d86a7ac",
   "metadata": {},
   "outputs": [
    {
     "name": "stdout",
     "output_type": "stream",
     "text": [
      "1 . 장마 후 폭염, ‘어떡해요!’ 보다 ‘어떤 대응’이 중요한 때! https://blog.naver.com/rda2448/223168695998\n",
      "2 . 주택화재보험 장마 호우주의보 누수 챙기기! https://blog.naver.com/lilac_queen/223155774718\n",
      "3 . 장마후 세탁기통세척-르주르 세탁기클렌저 사용후기 https://blog.naver.com/nayoung520/223204092994\n",
      "4 . 장마로 초조한 사람들 (2006.07.16) https://blog.naver.com/fendee/223209939305\n",
      "5 . 호박전 만들기 부침가루 없는 무수분 레시피 가을장마요리 https://blog.naver.com/kehkhk/223198587502\n",
      "6 . 2차우기 아님 가을 장마? https://blog.naver.com/sanbbaram/223188386516\n",
      "7 . 천연섬유유연제 장마 이기는 향긋한 빨래 https://blog.naver.com/ivoryegg/223158973430\n",
      "8 . 올해 장마 시작 시기 알고 대비 할려면 https://blog.naver.com/troilos/223125824720\n",
      "9 . [M.E.T TIP] 장마·폭염·태풍 ‘3연타’…하늘로 솟구친...  https://metservice.kr/75369\n",
      "10 . ♡필터포유 발수코팅 자동차와이퍼로 가을장마 대비♡ https://blog.naver.com/leeye1985/223196162295\n"
     ]
    }
   ],
   "source": [
    "# 함수 테스트\n",
    "call_and_print('장마', 10, 5)"
   ]
  },
  {
   "cell_type": "markdown",
   "id": "3df45911-8ff5-4598-9e54-683fb9745380",
   "metadata": {},
   "source": [
    "#### 검색결과 요청 후 결과를 데이터 프레임으로 반환하는 함수"
   ]
  },
  {
   "cell_type": "code",
   "execution_count": 38,
   "id": "a8ca2954-c2b0-4dce-8b50-fdd59dadd4e3",
   "metadata": {},
   "outputs": [],
   "source": [
    "# 방법 1"
   ]
  },
  {
   "cell_type": "code",
   "execution_count": 39,
   "id": "6054b7d4-78cc-495c-bfdd-9cc9fb1395f4",
   "metadata": {},
   "outputs": [],
   "source": [
    "import pandas as pd"
   ]
  },
  {
   "cell_type": "code",
   "execution_count": 47,
   "id": "3687f84b-953e-4bfe-b696-384408c86403",
   "metadata": {},
   "outputs": [],
   "source": [
    "def call_and_save(keyword, display, start):\n",
    "    json_obj = get_api_result(keyword, display, start)\n",
    "\n",
    "    title = [item['title'].replace('<b>', '').replace('</b>', '') for item in json_obj['items']]\n",
    "    link = [item['link'] for item in json_obj['items']]\n",
    "    bloggername = [item['bloggername'] for item in json_obj['items']]\n",
    "\n",
    "    # 결과를 데이터 프레임으로 생성해서 반환\n",
    "    return pd.DataFrame({\n",
    "        '제목' : title,\n",
    "        '링크' : link,\n",
    "        '블로거' : bloggername\n",
    "    })\n"
   ]
  },
  {
   "cell_type": "code",
   "execution_count": 46,
   "id": "80876f41-bf1a-4df0-9245-98201bb3ed10",
   "metadata": {},
   "outputs": [
    {
     "name": "stdout",
     "output_type": "stream",
     "text": [
      "start\n"
     ]
    },
    {
     "data": {
      "text/html": [
       "<div>\n",
       "<style scoped>\n",
       "    .dataframe tbody tr th:only-of-type {\n",
       "        vertical-align: middle;\n",
       "    }\n",
       "\n",
       "    .dataframe tbody tr th {\n",
       "        vertical-align: top;\n",
       "    }\n",
       "\n",
       "    .dataframe thead th {\n",
       "        text-align: right;\n",
       "    }\n",
       "</style>\n",
       "<table border=\"1\" class=\"dataframe\">\n",
       "  <thead>\n",
       "    <tr style=\"text-align: right;\">\n",
       "      <th></th>\n",
       "      <th>제목</th>\n",
       "      <th>링크</th>\n",
       "      <th>블로거</th>\n",
       "    </tr>\n",
       "  </thead>\n",
       "  <tbody>\n",
       "    <tr>\n",
       "      <th>0</th>\n",
       "      <td>애플워치 무료 유튜브 시청 방법 (앱)</td>\n",
       "      <td>https://blog.naver.com/ferrari666/223203359726</td>\n",
       "      <td>KIMER'S BLOG</td>\n",
       "    </tr>\n",
       "    <tr>\n",
       "      <th>1</th>\n",
       "      <td>힐스테이트 인천시청역 모델하우스 공급안내</td>\n",
       "      <td>https://blog.naver.com/shukii/223151804490</td>\n",
       "      <td>가화만사성</td>\n",
       "    </tr>\n",
       "    <tr>\n",
       "      <th>2</th>\n",
       "      <td>힐스테이트 인천시청역 아파트 공급정보</td>\n",
       "      <td>https://blog.naver.com/ryong48/223159364270</td>\n",
       "      <td>스마일 부동산 소식</td>\n",
       "    </tr>\n",
       "    <tr>\n",
       "      <th>3</th>\n",
       "      <td>시청역 맥주 더블린브루어리 시청점 수제맥주 해피아워</td>\n",
       "      <td>https://blog.naver.com/kirara1974/223181631521</td>\n",
       "      <td>만드나마나 시즌2</td>\n",
       "    </tr>\n",
       "    <tr>\n",
       "      <th>4</th>\n",
       "      <td>힐스테이트 인천시청역 공급정보</td>\n",
       "      <td>https://blog.naver.com/whitegood66/223157883337</td>\n",
       "      <td>부동산으로 부자되는길</td>\n",
       "    </tr>\n",
       "    <tr>\n",
       "      <th>...</th>\n",
       "      <td>...</td>\n",
       "      <td>...</td>\n",
       "      <td>...</td>\n",
       "    </tr>\n",
       "    <tr>\n",
       "      <th>95</th>\n",
       "      <td>당진시청 숲 놀이터</td>\n",
       "      <td>https://blog.naver.com/dangjin2030/223192078128</td>\n",
       "      <td>당진시 공식블로그</td>\n",
       "    </tr>\n",
       "    <tr>\n",
       "      <th>96</th>\n",
       "      <td>화성시청 맛집 회식 장소로 좋은 머슴고기</td>\n",
       "      <td>https://blog.naver.com/clare1/223196079984</td>\n",
       "      <td>미카의 놀이동산</td>\n",
       "    </tr>\n",
       "    <tr>\n",
       "      <th>97</th>\n",
       "      <td>진주시청 구인구직 게시판 (시민광장)</td>\n",
       "      <td>https://www.iamhy.com/entry/%EC%A7%84%EC%A3%BC...</td>\n",
       "      <td>hanyang :: hanyang</td>\n",
       "    </tr>\n",
       "    <tr>\n",
       "      <th>98</th>\n",
       "      <td>인천시청역 힐스테이트 모델하우스 분양가</td>\n",
       "      <td>https://blog.naver.com/kat279/223160378824</td>\n",
       "      <td>부린이 탈출</td>\n",
       "    </tr>\n",
       "    <tr>\n",
       "      <th>99</th>\n",
       "      <td>MLB중계 무료 시청했어요</td>\n",
       "      <td>https://blog.naver.com/chjc9/223196922300</td>\n",
       "      <td>영어이야기</td>\n",
       "    </tr>\n",
       "  </tbody>\n",
       "</table>\n",
       "<p>100 rows × 3 columns</p>\n",
       "</div>"
      ],
      "text/plain": [
       "                              제목  \\\n",
       "0          애플워치 무료 유튜브 시청 방법 (앱)   \n",
       "1         힐스테이트 인천시청역 모델하우스 공급안내   \n",
       "2           힐스테이트 인천시청역 아파트 공급정보   \n",
       "3   시청역 맥주 더블린브루어리 시청점 수제맥주 해피아워   \n",
       "4               힐스테이트 인천시청역 공급정보   \n",
       "..                           ...   \n",
       "95                    당진시청 숲 놀이터   \n",
       "96        화성시청 맛집 회식 장소로 좋은 머슴고기   \n",
       "97          진주시청 구인구직 게시판 (시민광장)   \n",
       "98         인천시청역 힐스테이트 모델하우스 분양가   \n",
       "99                MLB중계 무료 시청했어요   \n",
       "\n",
       "                                                   링크                 블로거  \n",
       "0      https://blog.naver.com/ferrari666/223203359726        KIMER'S BLOG  \n",
       "1          https://blog.naver.com/shukii/223151804490               가화만사성  \n",
       "2         https://blog.naver.com/ryong48/223159364270          스마일 부동산 소식  \n",
       "3      https://blog.naver.com/kirara1974/223181631521           만드나마나 시즌2  \n",
       "4     https://blog.naver.com/whitegood66/223157883337         부동산으로 부자되는길  \n",
       "..                                                ...                 ...  \n",
       "95    https://blog.naver.com/dangjin2030/223192078128           당진시 공식블로그  \n",
       "96         https://blog.naver.com/clare1/223196079984            미카의 놀이동산  \n",
       "97  https://www.iamhy.com/entry/%EC%A7%84%EC%A3%BC...  hanyang :: hanyang  \n",
       "98         https://blog.naver.com/kat279/223160378824              부린이 탈출  \n",
       "99          https://blog.naver.com/chjc9/223196922300               영어이야기  \n",
       "\n",
       "[100 rows x 3 columns]"
      ]
     },
     "execution_count": 46,
     "metadata": {},
     "output_type": "execute_result"
    }
   ],
   "source": [
    "# 함수 테스트\n",
    "result_df = call_and_save('시청', 100, 101)\n",
    "result_df"
   ]
  },
  {
   "cell_type": "markdown",
   "id": "38d3812c-5138-4486-953a-e227836d92cb",
   "metadata": {},
   "source": [
    "### call_and_save() 함수 여러 번 호출"
   ]
  },
  {
   "cell_type": "code",
   "execution_count": 48,
   "id": "873cc924-9b48-4c4d-b974-14edfceb278a",
   "metadata": {},
   "outputs": [],
   "source": [
    "# 최종 결과 저장할 빈 데이터 프레임 생성\n",
    "blog_df_final = pd.DataFrame()"
   ]
  },
  {
   "cell_type": "code",
   "execution_count": 49,
   "id": "bd15b117-2be0-4c65-96f0-e154c597aec6",
   "metadata": {},
   "outputs": [],
   "source": [
    "keyword = '시청'\n",
    "display = 100\n",
    "start = 1"
   ]
  },
  {
   "cell_type": "code",
   "execution_count": 52,
   "id": "461fbde4-43f5-4e8f-9164-5728ab76d003",
   "metadata": {},
   "outputs": [],
   "source": [
    "for i in range(1, 402, 100):\n",
    "    df = call_and_save(keyword, display, start)\n",
    "    blog_df_final = pd.concat([blog_df_final, df], ignore_index=True)"
   ]
  },
  {
   "cell_type": "code",
   "execution_count": 53,
   "id": "a1cb6386-4c0d-446f-9494-e3a20a13dc69",
   "metadata": {},
   "outputs": [
    {
     "data": {
      "text/html": [
       "<div>\n",
       "<style scoped>\n",
       "    .dataframe tbody tr th:only-of-type {\n",
       "        vertical-align: middle;\n",
       "    }\n",
       "\n",
       "    .dataframe tbody tr th {\n",
       "        vertical-align: top;\n",
       "    }\n",
       "\n",
       "    .dataframe thead th {\n",
       "        text-align: right;\n",
       "    }\n",
       "</style>\n",
       "<table border=\"1\" class=\"dataframe\">\n",
       "  <thead>\n",
       "    <tr style=\"text-align: right;\">\n",
       "      <th></th>\n",
       "      <th>제목</th>\n",
       "      <th>링크</th>\n",
       "      <th>블로거</th>\n",
       "    </tr>\n",
       "  </thead>\n",
       "  <tbody>\n",
       "    <tr>\n",
       "      <th>995</th>\n",
       "      <td>WFK KOICA 해외봉사단 유튜브 &amp;quot;봉구라이브&amp;quot; 시청소감 이벤트</td>\n",
       "      <td>https://blog.naver.com/wfk2012/223191544620</td>\n",
       "      <td>월드프렌즈코리아 공식 블로그</td>\n",
       "    </tr>\n",
       "    <tr>\n",
       "      <th>996</th>\n",
       "      <td>&amp;lt;제주시청 떡볶이 맛집&amp;gt;해피치즈스마일</td>\n",
       "      <td>https://blog.naver.com/7633974/223158813392</td>\n",
       "      <td>주연 블로그</td>\n",
       "    </tr>\n",
       "    <tr>\n",
       "      <th>997</th>\n",
       "      <td>덕수궁 근처 맛집 시청역 룸식당 분위기 좋은 한암동</td>\n",
       "      <td>https://blog.naver.com/mam0515/223165821937</td>\n",
       "      <td>분실물 보관함</td>\n",
       "    </tr>\n",
       "    <tr>\n",
       "      <th>998</th>\n",
       "      <td>인계동 맛집 수원시청 파스타 조용하고 맛있는 '파스타빌런'</td>\n",
       "      <td>https://blog.naver.com/eso777/223180703116</td>\n",
       "      <td>이또히의 일상 치트키</td>\n",
       "    </tr>\n",
       "    <tr>\n",
       "      <th>999</th>\n",
       "      <td>[ 서울시청 미쉐린가이드 ] 메밀국수 유림면 _ 별그대 드라마...</td>\n",
       "      <td>https://blog.naver.com/cyberlife_jh/223164220066</td>\n",
       "      <td>2G의 Fun한 리뷰와 soso한 일상</td>\n",
       "    </tr>\n",
       "  </tbody>\n",
       "</table>\n",
       "</div>"
      ],
      "text/plain": [
       "                                                 제목  \\\n",
       "995  WFK KOICA 해외봉사단 유튜브 &quot;봉구라이브&quot; 시청소감 이벤트   \n",
       "996                      &lt;제주시청 떡볶이 맛집&gt;해피치즈스마일   \n",
       "997                    덕수궁 근처 맛집 시청역 룸식당 분위기 좋은 한암동   \n",
       "998                인계동 맛집 수원시청 파스타 조용하고 맛있는 '파스타빌런'   \n",
       "999          [ 서울시청 미쉐린가이드 ] 메밀국수 유림면 _ 별그대 드라마...    \n",
       "\n",
       "                                                   링크                    블로거  \n",
       "995       https://blog.naver.com/wfk2012/223191544620        월드프렌즈코리아 공식 블로그  \n",
       "996       https://blog.naver.com/7633974/223158813392                 주연 블로그  \n",
       "997       https://blog.naver.com/mam0515/223165821937                분실물 보관함  \n",
       "998        https://blog.naver.com/eso777/223180703116            이또히의 일상 치트키  \n",
       "999  https://blog.naver.com/cyberlife_jh/223164220066  2G의 Fun한 리뷰와 soso한 일상  "
      ]
     },
     "execution_count": 53,
     "metadata": {},
     "output_type": "execute_result"
    }
   ],
   "source": [
    "blog_df_final.tail()"
   ]
  },
  {
   "cell_type": "code",
   "execution_count": 54,
   "id": "2a8db7de-1d52-4792-9b38-6e9e61d548e6",
   "metadata": {},
   "outputs": [],
   "source": [
    "##################################################################"
   ]
  },
  {
   "cell_type": "markdown",
   "id": "2034ef41-f49a-464a-812b-215799898540",
   "metadata": {},
   "source": [
    "#### 뉴스 / 블로그 둘 다 검색 가능하게 함수 수정\n",
    "- 블로그 또는 뉴스 검색 후 결과를 지정하는 함수로 구현\n",
    "- 블로그와 뉴스에 대한 url 변경되게 구성\n",
    "      - category 사용해서\n",
    "- title, link 추출\n",
    "- https://openapi.naver.com/v1/search/news.json\n",
    "- if category == '뉴스' :\n",
    "      ctg = 'news'\n",
    "  else:\n",
    "      ctg = 'blog'"
   ]
  },
  {
   "cell_type": "code",
   "execution_count": 109,
   "id": "d612e9a0-dd84-4cdd-8046-ec7cc87f7705",
   "metadata": {},
   "outputs": [],
   "source": [
    "# get_api_result() 함수 수정\n",
    "def get_api_result(keyword, display, start, category):\n",
    "    # id, scret\n",
    "    # client_id = \"E66AlVskhc0sKkAb69o7\"\n",
    "    # client_secret = \"TIyobm1msA\"\n",
    "\n",
    "    # 키워드\n",
    "    keyword = urllib.parse.quote(keyword)\n",
    "\n",
    "    # 요청 url + 파라미터\n",
    "    if category == 'blog':\n",
    "        base_url = 'https://openapi.naver.com/v1/search/blog.json?'\n",
    "    elif category == 'news':\n",
    "        base_url = 'https://openapi.naver.com/v1/search/news.json?'\n",
    "        \n",
    "    param = 'query=' + keyword + \\\n",
    "         '&display=' + str(display) + \\\n",
    "           '&start=' + str(start)\n",
    "    url = base_url + param\n",
    "    # 요청 및 결과 반환\n",
    "    result = requests.get(url, headers=headers)\n",
    "\n",
    "    # json 변환\n",
    "    json_obj = result.json()\n",
    "\n",
    "    return json_obj"
   ]
  },
  {
   "cell_type": "code",
   "execution_count": 116,
   "id": "dc313134-758d-438a-b650-b1612318c28e",
   "metadata": {},
   "outputs": [],
   "source": [
    "# all_and_save() 함수 수정\n",
    "# 요청하는 display(사용자가 원하는 갯수)와 start 계산해서 반복\n",
    "# 데이터프레임 다 저장해서 데이터 프레임 반환\n",
    "def call_and_save(keyword, display, category):\n",
    "    result_df = pd.DataFrame()\n",
    "\n",
    "    quo = display // 100 # 100로 나눈 몫 : quotient\n",
    "    rem = display % 100 # 나머지\n",
    "\n",
    "    for i in range(quo + 1):\n",
    "        if i == quo:\n",
    "            display = rem\n",
    "        else:\n",
    "            display = 100\n",
    "            \n",
    "        json_obj = get_api_result(keyword, display, quo*100+1, category)\n",
    "        \n",
    "        title = [item['title'].replace('<b>', '').replace('</b>', '') for item in json_obj['items']]\n",
    "        link = [item['link'] for item in json_obj['items']]\n",
    "        \n",
    "        df = pd.DataFrame({\n",
    "            '제목' : title,\n",
    "            '링크' : link,\n",
    "        })\n",
    "        \n",
    "        result_df = pd.concat([result_df, df], axis=0, ignore_index=True)\n",
    "    \n",
    "    return result_df"
   ]
  },
  {
   "cell_type": "code",
   "execution_count": 120,
   "id": "d0f716c4-2f34-4be6-a833-8fafbefbc430",
   "metadata": {},
   "outputs": [
    {
     "name": "stdin",
     "output_type": "stream",
     "text": [
      "검색어를 입력하세요 :  안산\n",
      "검색 수량을 입력하세요 :  152\n",
      "blog나 news를 입력하세요 :  news\n"
     ]
    }
   ],
   "source": [
    "keyword = input('검색어를 입력하세요 : ')\n",
    "display = int(input('검색 수량을 입력하세요 : '))\n",
    "start = 1\n",
    "category = input('blog나 news를 입력하세요 : ')"
   ]
  },
  {
   "cell_type": "code",
   "execution_count": 121,
   "id": "6389a925-1cf1-479a-91ba-ee07a6f3bf25",
   "metadata": {},
   "outputs": [
    {
     "data": {
      "text/html": [
       "<div>\n",
       "<style scoped>\n",
       "    .dataframe tbody tr th:only-of-type {\n",
       "        vertical-align: middle;\n",
       "    }\n",
       "\n",
       "    .dataframe tbody tr th {\n",
       "        vertical-align: top;\n",
       "    }\n",
       "\n",
       "    .dataframe thead th {\n",
       "        text-align: right;\n",
       "    }\n",
       "</style>\n",
       "<table border=\"1\" class=\"dataframe\">\n",
       "  <thead>\n",
       "    <tr style=\"text-align: right;\">\n",
       "      <th></th>\n",
       "      <th>제목</th>\n",
       "      <th>링크</th>\n",
       "    </tr>\n",
       "  </thead>\n",
       "  <tbody>\n",
       "    <tr>\n",
       "      <th>0</th>\n",
       "      <td>[건강 Q&amp;amp;A] 모공각화증의 방치, 어떤 질환까지 이어지나?</td>\n",
       "      <td>http://www.dailypop.kr/news/articleView.html?i...</td>\n",
       "    </tr>\n",
       "    <tr>\n",
       "      <th>1</th>\n",
       "      <td>안산다문화마을특구, 특구 지정 2년 더 연장… 2025년까지</td>\n",
       "      <td>http://www.enewstoday.co.kr/news/articleView.h...</td>\n",
       "    </tr>\n",
       "    <tr>\n",
       "      <th>2</th>\n",
       "      <td>이권재 오산시장 &amp;quot;물향기수목원은 道 특화자원…공동발전 모색&amp;quot;</td>\n",
       "      <td>https://n.news.naver.com/mnews/article/417/000...</td>\n",
       "    </tr>\n",
       "    <tr>\n",
       "      <th>3</th>\n",
       "      <td>이권재 오산시장, 경기도시장-군수협의회에서 주요 안건 의결…경기도 공동 발...</td>\n",
       "      <td>http://www.m-i.kr/news/articleView.html?idxno=...</td>\n",
       "    </tr>\n",
       "    <tr>\n",
       "      <th>4</th>\n",
       "      <td>철도노조 파업 이틀째…'현재 지연 중인 열차 리스트', 다들 이거 꼭 확인하세...</td>\n",
       "      <td>https://www.wikitree.co.kr/articles/887092</td>\n",
       "    </tr>\n",
       "    <tr>\n",
       "      <th>...</th>\n",
       "      <td>...</td>\n",
       "      <td>...</td>\n",
       "    </tr>\n",
       "    <tr>\n",
       "      <th>147</th>\n",
       "      <td>고려대안산병원 이수교 교수, '장기기증문화 활성화 기여' 보건복지부장관 표...</td>\n",
       "      <td>https://n.news.naver.com/mnews/article/076/000...</td>\n",
       "    </tr>\n",
       "    <tr>\n",
       "      <th>148</th>\n",
       "      <td>IT 新교통수단·한 차원 높은 교통인프라·기회의 교통… 이 모든 게 교통공기...</td>\n",
       "      <td>https://n.news.naver.com/mnews/article/023/000...</td>\n",
       "    </tr>\n",
       "    <tr>\n",
       "      <th>149</th>\n",
       "      <td>`GTX C노선 가시화`로 의정부 `강남생활권 진입` 초읽기</td>\n",
       "      <td>https://n.news.naver.com/mnews/article/029/000...</td>\n",
       "    </tr>\n",
       "    <tr>\n",
       "      <th>150</th>\n",
       "      <td>4호선 범계역 사고에 철도노조 파업까지... 출근길 시민들 아우성</td>\n",
       "      <td>https://weekly.cnbnews.com/news/article.html?n...</td>\n",
       "    </tr>\n",
       "    <tr>\n",
       "      <th>151</th>\n",
       "      <td>카카오, 안정성 보고서 발간</td>\n",
       "      <td>http://www.boannews.com/media/view.asp?idx=121...</td>\n",
       "    </tr>\n",
       "  </tbody>\n",
       "</table>\n",
       "<p>152 rows × 2 columns</p>\n",
       "</div>"
      ],
      "text/plain": [
       "                                                 제목  \\\n",
       "0             [건강 Q&amp;A] 모공각화증의 방치, 어떤 질환까지 이어지나?   \n",
       "1                 안산다문화마을특구, 특구 지정 2년 더 연장… 2025년까지   \n",
       "2       이권재 오산시장 &quot;물향기수목원은 道 특화자원…공동발전 모색&quot;   \n",
       "3      이권재 오산시장, 경기도시장-군수협의회에서 주요 안건 의결…경기도 공동 발...   \n",
       "4    철도노조 파업 이틀째…'현재 지연 중인 열차 리스트', 다들 이거 꼭 확인하세...   \n",
       "..                                              ...   \n",
       "147    고려대안산병원 이수교 교수, '장기기증문화 활성화 기여' 보건복지부장관 표...   \n",
       "148   IT 新교통수단·한 차원 높은 교통인프라·기회의 교통… 이 모든 게 교통공기...   \n",
       "149               `GTX C노선 가시화`로 의정부 `강남생활권 진입` 초읽기   \n",
       "150            4호선 범계역 사고에 철도노조 파업까지... 출근길 시민들 아우성   \n",
       "151                                 카카오, 안정성 보고서 발간   \n",
       "\n",
       "                                                    링크  \n",
       "0    http://www.dailypop.kr/news/articleView.html?i...  \n",
       "1    http://www.enewstoday.co.kr/news/articleView.h...  \n",
       "2    https://n.news.naver.com/mnews/article/417/000...  \n",
       "3    http://www.m-i.kr/news/articleView.html?idxno=...  \n",
       "4           https://www.wikitree.co.kr/articles/887092  \n",
       "..                                                 ...  \n",
       "147  https://n.news.naver.com/mnews/article/076/000...  \n",
       "148  https://n.news.naver.com/mnews/article/023/000...  \n",
       "149  https://n.news.naver.com/mnews/article/029/000...  \n",
       "150  https://weekly.cnbnews.com/news/article.html?n...  \n",
       "151  http://www.boannews.com/media/view.asp?idx=121...  \n",
       "\n",
       "[152 rows x 2 columns]"
      ]
     },
     "execution_count": 121,
     "metadata": {},
     "output_type": "execute_result"
    }
   ],
   "source": [
    "final_df = call_and_save(keyword, display, category)\n",
    "final_df"
   ]
  },
  {
   "cell_type": "code",
   "execution_count": null,
   "id": "d5cc6b90-41b1-4218-aeff-d4bfc744c74e",
   "metadata": {},
   "outputs": [],
   "source": []
  }
 ],
 "metadata": {
  "kernelspec": {
   "display_name": "Python 3 (ipykernel)",
   "language": "python",
   "name": "python3"
  },
  "language_info": {
   "codemirror_mode": {
    "name": "ipython",
    "version": 3
   },
   "file_extension": ".py",
   "mimetype": "text/x-python",
   "name": "python",
   "nbconvert_exporter": "python",
   "pygments_lexer": "ipython3",
   "version": "3.11.5"
  }
 },
 "nbformat": 4,
 "nbformat_minor": 5
}
