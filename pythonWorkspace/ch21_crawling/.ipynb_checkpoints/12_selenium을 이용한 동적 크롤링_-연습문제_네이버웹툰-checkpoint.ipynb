{
 "cells": [
  {
   "cell_type": "markdown",
   "id": "5302483e",
   "metadata": {},
   "source": [
    "## selenium을 이용한 동적 크롤링 연습문제 : 네이버웹툰"
   ]
  },
  {
   "cell_type": "markdown",
   "id": "a1f8e116",
   "metadata": {},
   "source": [
    "### 네이버 웹툰 페이지에서 데이터 추출\n",
    "- https://comic.naver.com/genre/bestChallenge.nhn  \n",
    "- [전제베스트도전] 웹툰에서\n",
    "    - 제목, 작가, 별점, 조회수 추출"
   ]
  },
  {
   "cell_type": "code",
   "execution_count": 1,
   "id": "a608b503-6849-448f-964e-fff54c1556d5",
   "metadata": {},
   "outputs": [
    {
     "ename": "PermissionError",
     "evalue": "[WinError 5] 액세스가 거부되었습니다: 'C:\\\\Users\\\\happy\\\\.wdm\\\\drivers\\\\chromedriver\\\\win64\\\\116.0.5845.188\\\\chromedriver-win32\\\\chromedriver.exe' -> 'C:\\\\Users\\\\happy\\\\.wdm\\\\drivers\\\\chromedriver\\\\win64\\\\116.0.5845.188\\\\chromedriver.exe'",
     "output_type": "error",
     "traceback": [
      "\u001b[1;31m---------------------------------------------------------------------------\u001b[0m",
      "\u001b[1;31mPermissionError\u001b[0m                           Traceback (most recent call last)",
      "File \u001b[1;32m~\\AppData\\Local\\Programs\\Python\\Python311\\Lib\\site-packages\\webdriver_manager\\core\\file_manager.py:65\u001b[0m, in \u001b[0;36mFileManager.__extract_zip\u001b[1;34m(self, archive_file, to_directory)\u001b[0m\n\u001b[0;32m     64\u001b[0m \u001b[38;5;28;01mtry\u001b[39;00m:\n\u001b[1;32m---> 65\u001b[0m     \u001b[43marchive\u001b[49m\u001b[38;5;241;43m.\u001b[39;49m\u001b[43mextractall\u001b[49m\u001b[43m(\u001b[49m\u001b[43mto_directory\u001b[49m\u001b[43m)\u001b[49m\n\u001b[0;32m     66\u001b[0m \u001b[38;5;28;01mexcept\u001b[39;00m \u001b[38;5;167;01mException\u001b[39;00m \u001b[38;5;28;01mas\u001b[39;00m e:\n",
      "File \u001b[1;32m~\\AppData\\Local\\Programs\\Python\\Python311\\Lib\\zipfile.py:1681\u001b[0m, in \u001b[0;36mZipFile.extractall\u001b[1;34m(self, path, members, pwd)\u001b[0m\n\u001b[0;32m   1680\u001b[0m \u001b[38;5;28;01mfor\u001b[39;00m zipinfo \u001b[38;5;129;01min\u001b[39;00m members:\n\u001b[1;32m-> 1681\u001b[0m     \u001b[38;5;28;43mself\u001b[39;49m\u001b[38;5;241;43m.\u001b[39;49m\u001b[43m_extract_member\u001b[49m\u001b[43m(\u001b[49m\u001b[43mzipinfo\u001b[49m\u001b[43m,\u001b[49m\u001b[43m \u001b[49m\u001b[43mpath\u001b[49m\u001b[43m,\u001b[49m\u001b[43m \u001b[49m\u001b[43mpwd\u001b[49m\u001b[43m)\u001b[49m\n",
      "File \u001b[1;32m~\\AppData\\Local\\Programs\\Python\\Python311\\Lib\\zipfile.py:1735\u001b[0m, in \u001b[0;36mZipFile._extract_member\u001b[1;34m(self, member, targetpath, pwd)\u001b[0m\n\u001b[0;32m   1732\u001b[0m     \u001b[38;5;28;01mreturn\u001b[39;00m targetpath\n\u001b[0;32m   1734\u001b[0m \u001b[38;5;28;01mwith\u001b[39;00m \u001b[38;5;28mself\u001b[39m\u001b[38;5;241m.\u001b[39mopen(member, pwd\u001b[38;5;241m=\u001b[39mpwd) \u001b[38;5;28;01mas\u001b[39;00m source, \\\n\u001b[1;32m-> 1735\u001b[0m      \u001b[38;5;28;43mopen\u001b[39;49m\u001b[43m(\u001b[49m\u001b[43mtargetpath\u001b[49m\u001b[43m,\u001b[49m\u001b[43m \u001b[49m\u001b[38;5;124;43m\"\u001b[39;49m\u001b[38;5;124;43mwb\u001b[39;49m\u001b[38;5;124;43m\"\u001b[39;49m\u001b[43m)\u001b[49m \u001b[38;5;28;01mas\u001b[39;00m target:\n\u001b[0;32m   1736\u001b[0m     shutil\u001b[38;5;241m.\u001b[39mcopyfileobj(source, target)\n",
      "\u001b[1;31mPermissionError\u001b[0m: [Errno 13] Permission denied: 'C:\\\\Users\\\\happy\\\\.wdm\\\\drivers\\\\chromedriver\\\\win64\\\\116.0.5845.188\\\\chromedriver-win32\\\\chromedriver.exe'",
      "\nDuring handling of the above exception, another exception occurred:\n",
      "\u001b[1;31mPermissionError\u001b[0m                           Traceback (most recent call last)",
      "Cell \u001b[1;32mIn[1], line 21\u001b[0m\n\u001b[0;32m     18\u001b[0m \u001b[38;5;28;01mfrom\u001b[39;00m \u001b[38;5;21;01mwebdriver_manager\u001b[39;00m\u001b[38;5;21;01m.\u001b[39;00m\u001b[38;5;21;01mchrome\u001b[39;00m \u001b[38;5;28;01mimport\u001b[39;00m ChromeDriverManager\n\u001b[0;32m     20\u001b[0m chrome_options \u001b[38;5;241m=\u001b[39m webdriver\u001b[38;5;241m.\u001b[39mChromeOptions()\n\u001b[1;32m---> 21\u001b[0m driver \u001b[38;5;241m=\u001b[39m webdriver\u001b[38;5;241m.\u001b[39mChrome(service\u001b[38;5;241m=\u001b[39mService(\u001b[43mChromeDriverManager\u001b[49m\u001b[43m(\u001b[49m\u001b[43m)\u001b[49m\u001b[38;5;241;43m.\u001b[39;49m\u001b[43minstall\u001b[49m\u001b[43m(\u001b[49m\u001b[43m)\u001b[49m), options\u001b[38;5;241m=\u001b[39mchrome_options)\n\u001b[0;32m     23\u001b[0m driver\u001b[38;5;241m.\u001b[39mget(\u001b[38;5;124m'\u001b[39m\u001b[38;5;124mhttps://comic.naver.com/genre/bestChallenge.nhn\u001b[39m\u001b[38;5;124m'\u001b[39m)\n",
      "File \u001b[1;32m~\\AppData\\Local\\Programs\\Python\\Python311\\Lib\\site-packages\\webdriver_manager\\chrome.py:40\u001b[0m, in \u001b[0;36mChromeDriverManager.install\u001b[1;34m(self)\u001b[0m\n\u001b[0;32m     39\u001b[0m \u001b[38;5;28;01mdef\u001b[39;00m \u001b[38;5;21minstall\u001b[39m(\u001b[38;5;28mself\u001b[39m) \u001b[38;5;241m-\u001b[39m\u001b[38;5;241m>\u001b[39m \u001b[38;5;28mstr\u001b[39m:\n\u001b[1;32m---> 40\u001b[0m     driver_path \u001b[38;5;241m=\u001b[39m \u001b[38;5;28;43mself\u001b[39;49m\u001b[38;5;241;43m.\u001b[39;49m\u001b[43m_get_driver_binary_path\u001b[49m\u001b[43m(\u001b[49m\u001b[38;5;28;43mself\u001b[39;49m\u001b[38;5;241;43m.\u001b[39;49m\u001b[43mdriver\u001b[49m\u001b[43m)\u001b[49m\n\u001b[0;32m     41\u001b[0m     os\u001b[38;5;241m.\u001b[39mchmod(driver_path, \u001b[38;5;241m0o755\u001b[39m)\n\u001b[0;32m     42\u001b[0m     \u001b[38;5;28;01mreturn\u001b[39;00m driver_path\n",
      "File \u001b[1;32m~\\AppData\\Local\\Programs\\Python\\Python311\\Lib\\site-packages\\webdriver_manager\\core\\manager.py:41\u001b[0m, in \u001b[0;36mDriverManager._get_driver_binary_path\u001b[1;34m(self, driver)\u001b[0m\n\u001b[0;32m     39\u001b[0m os_type \u001b[38;5;241m=\u001b[39m \u001b[38;5;28mself\u001b[39m\u001b[38;5;241m.\u001b[39mget_os_type()\n\u001b[0;32m     40\u001b[0m file \u001b[38;5;241m=\u001b[39m \u001b[38;5;28mself\u001b[39m\u001b[38;5;241m.\u001b[39m_download_manager\u001b[38;5;241m.\u001b[39mdownload_file(driver\u001b[38;5;241m.\u001b[39mget_driver_download_url(os_type))\n\u001b[1;32m---> 41\u001b[0m binary_path \u001b[38;5;241m=\u001b[39m \u001b[38;5;28;43mself\u001b[39;49m\u001b[38;5;241;43m.\u001b[39;49m\u001b[43m_cache_manager\u001b[49m\u001b[38;5;241;43m.\u001b[39;49m\u001b[43msave_file_to_cache\u001b[49m\u001b[43m(\u001b[49m\u001b[43mdriver\u001b[49m\u001b[43m,\u001b[49m\u001b[43m \u001b[49m\u001b[43mfile\u001b[49m\u001b[43m)\u001b[49m\n\u001b[0;32m     42\u001b[0m \u001b[38;5;28;01mreturn\u001b[39;00m binary_path\n",
      "File \u001b[1;32m~\\AppData\\Local\\Programs\\Python\\Python311\\Lib\\site-packages\\webdriver_manager\\core\\driver_cache.py:54\u001b[0m, in \u001b[0;36mDriverCacheManager.save_file_to_cache\u001b[1;34m(self, driver, file)\u001b[0m\n\u001b[0;32m     52\u001b[0m path \u001b[38;5;241m=\u001b[39m \u001b[38;5;28mself\u001b[39m\u001b[38;5;241m.\u001b[39m__get_path(driver)\n\u001b[0;32m     53\u001b[0m archive \u001b[38;5;241m=\u001b[39m \u001b[38;5;28mself\u001b[39m\u001b[38;5;241m.\u001b[39msave_archive_file(file, path)\n\u001b[1;32m---> 54\u001b[0m files \u001b[38;5;241m=\u001b[39m \u001b[38;5;28;43mself\u001b[39;49m\u001b[38;5;241;43m.\u001b[39;49m\u001b[43munpack_archive\u001b[49m\u001b[43m(\u001b[49m\u001b[43marchive\u001b[49m\u001b[43m,\u001b[49m\u001b[43m \u001b[49m\u001b[43mpath\u001b[49m\u001b[43m)\u001b[49m\n\u001b[0;32m     55\u001b[0m binary \u001b[38;5;241m=\u001b[39m \u001b[38;5;28mself\u001b[39m\u001b[38;5;241m.\u001b[39m__get_binary(files, driver\u001b[38;5;241m.\u001b[39mget_name())\n\u001b[0;32m     56\u001b[0m binary_path \u001b[38;5;241m=\u001b[39m os\u001b[38;5;241m.\u001b[39mpath\u001b[38;5;241m.\u001b[39mjoin(path, binary)\n",
      "File \u001b[1;32m~\\AppData\\Local\\Programs\\Python\\Python311\\Lib\\site-packages\\webdriver_manager\\core\\driver_cache.py:49\u001b[0m, in \u001b[0;36mDriverCacheManager.unpack_archive\u001b[1;34m(self, archive, path)\u001b[0m\n\u001b[0;32m     48\u001b[0m \u001b[38;5;28;01mdef\u001b[39;00m \u001b[38;5;21munpack_archive\u001b[39m(\u001b[38;5;28mself\u001b[39m, archive, path):\n\u001b[1;32m---> 49\u001b[0m     \u001b[38;5;28;01mreturn\u001b[39;00m \u001b[38;5;28;43mself\u001b[39;49m\u001b[38;5;241;43m.\u001b[39;49m\u001b[43m_file_manager\u001b[49m\u001b[38;5;241;43m.\u001b[39;49m\u001b[43munpack_archive\u001b[49m\u001b[43m(\u001b[49m\u001b[43marchive\u001b[49m\u001b[43m,\u001b[49m\u001b[43m \u001b[49m\u001b[43mpath\u001b[49m\u001b[43m)\u001b[49m\n",
      "File \u001b[1;32m~\\AppData\\Local\\Programs\\Python\\Python311\\Lib\\site-packages\\webdriver_manager\\core\\file_manager.py:57\u001b[0m, in \u001b[0;36mFileManager.unpack_archive\u001b[1;34m(self, archive_file, target_dir)\u001b[0m\n\u001b[0;32m     55\u001b[0m file_path \u001b[38;5;241m=\u001b[39m archive_file\u001b[38;5;241m.\u001b[39mfile_path\n\u001b[0;32m     56\u001b[0m \u001b[38;5;28;01mif\u001b[39;00m file_path\u001b[38;5;241m.\u001b[39mendswith(\u001b[38;5;124m\"\u001b[39m\u001b[38;5;124m.zip\u001b[39m\u001b[38;5;124m\"\u001b[39m):\n\u001b[1;32m---> 57\u001b[0m     \u001b[38;5;28;01mreturn\u001b[39;00m \u001b[38;5;28;43mself\u001b[39;49m\u001b[38;5;241;43m.\u001b[39;49m\u001b[43m__extract_zip\u001b[49m\u001b[43m(\u001b[49m\u001b[43marchive_file\u001b[49m\u001b[43m,\u001b[49m\u001b[43m \u001b[49m\u001b[43mtarget_dir\u001b[49m\u001b[43m)\u001b[49m\n\u001b[0;32m     58\u001b[0m \u001b[38;5;28;01melif\u001b[39;00m file_path\u001b[38;5;241m.\u001b[39mendswith(\u001b[38;5;124m\"\u001b[39m\u001b[38;5;124m.tar.gz\u001b[39m\u001b[38;5;124m\"\u001b[39m):\n\u001b[0;32m     59\u001b[0m     \u001b[38;5;28;01mreturn\u001b[39;00m \u001b[38;5;28mself\u001b[39m\u001b[38;5;241m.\u001b[39m__extract_tar_file(archive_file, target_dir)\n",
      "File \u001b[1;32m~\\AppData\\Local\\Programs\\Python\\Python311\\Lib\\site-packages\\webdriver_manager\\core\\file_manager.py:81\u001b[0m, in \u001b[0;36mFileManager.__extract_zip\u001b[1;34m(self, archive_file, to_directory)\u001b[0m\n\u001b[0;32m     79\u001b[0m         source \u001b[38;5;241m=\u001b[39m os\u001b[38;5;241m.\u001b[39mpath\u001b[38;5;241m.\u001b[39mjoin(full_file_path, file_name)\n\u001b[0;32m     80\u001b[0m         destination \u001b[38;5;241m=\u001b[39m os\u001b[38;5;241m.\u001b[39mpath\u001b[38;5;241m.\u001b[39mjoin(to_directory, file_name)\n\u001b[1;32m---> 81\u001b[0m         \u001b[43mos\u001b[49m\u001b[38;5;241;43m.\u001b[39;49m\u001b[43mreplace\u001b[49m\u001b[43m(\u001b[49m\u001b[43msource\u001b[49m\u001b[43m,\u001b[49m\u001b[43m \u001b[49m\u001b[43mdestination\u001b[49m\u001b[43m)\u001b[49m\n\u001b[0;32m     82\u001b[0m         file_names\u001b[38;5;241m.\u001b[39mappend(file_name)\n\u001b[0;32m     83\u001b[0m \u001b[38;5;28;01mreturn\u001b[39;00m \u001b[38;5;28msorted\u001b[39m(file_names, key\u001b[38;5;241m=\u001b[39m\u001b[38;5;28;01mlambda\u001b[39;00m x: x\u001b[38;5;241m.\u001b[39mlower())\n",
      "\u001b[1;31mPermissionError\u001b[0m: [WinError 5] 액세스가 거부되었습니다: 'C:\\\\Users\\\\happy\\\\.wdm\\\\drivers\\\\chromedriver\\\\win64\\\\116.0.5845.188\\\\chromedriver-win32\\\\chromedriver.exe' -> 'C:\\\\Users\\\\happy\\\\.wdm\\\\drivers\\\\chromedriver\\\\win64\\\\116.0.5845.188\\\\chromedriver.exe'"
     ]
    }
   ],
   "source": [
    "from IPython.core.interactiveshell import InteractiveShell\n",
    "InteractiveShell.ast_node_interactivity=\"all\"\n",
    "from urllib.request import urlopen\n",
    "import bs4\n",
    "import pandas as pd\n",
    "import requests\n",
    "\n",
    "url = 'https://comic.naver.com/genre/bestChallenge.nhn'\n",
    "html = urlopen(url)\n",
    "# 파서 객체 생성\n",
    "bs_obj = bs4.BeautifulSoup(html, 'html.parser')\n",
    "\n",
    "import selenium\n",
    "from selenium import webdriver\n",
    "from selenium.webdriver.common.by import By # 셀레니움 4.0부터 포함된 객체(모듈)\n",
    "\n",
    "from selenium.webdriver.chrome.service import Service\n",
    "from webdriver_manager.chrome import ChromeDriverManager\n",
    "\n",
    "chrome_options = webdriver.ChromeOptions()\n",
    "driver = webdriver.Chrome(service=Service(ChromeDriverManager().install()), options=chrome_options)\n",
    "\n",
    "driver.get('https://comic.naver.com/genre/bestChallenge.nhn')"
   ]
  },
  {
   "cell_type": "markdown",
   "id": "d3513aad",
   "metadata": {},
   "source": [
    "### 문제1\n",
    "- 한 페이지 크롤링\n",
    "- https://comic.naver.com/genre/bestChallenge.nhn 페이지에서\n",
    "- 현재 페이지의 [전제베스트도전] 웹툰에서\n",
    "    - 제목, 작가, 별점, 조회수 추출해서\n",
    "    - 데이터프레임 생성 : naver_webtoon_df"
   ]
  },
  {
   "cell_type": "code",
   "execution_count": null,
   "id": "67bfb979",
   "metadata": {},
   "outputs": [],
   "source": [
    "# naver_webtoon_df_final\n",
    "# naver_webtoon.csv"
   ]
  },
  {
   "cell_type": "code",
   "execution_count": null,
   "id": "9a946cc8",
   "metadata": {},
   "outputs": [],
   "source": [
    "import time\n",
    "import pandas as pd"
   ]
  },
  {
   "cell_type": "code",
   "execution_count": null,
   "id": "f79a57b7",
   "metadata": {},
   "outputs": [],
   "source": [
    "driver.get(url)\n",
    "time.sleep(2)\n",
    "\n",
    "def get_page_webtoon(url):\n",
    "    driver.get(url)\n",
    "    time.sleep(2)"
   ]
  },
  {
   "cell_type": "code",
   "execution_count": null,
   "id": "b0a9d603-0857-46ba-b1a1-db7be6d3c30b",
   "metadata": {},
   "outputs": [],
   "source": [
    "t_list = []\n",
    "a_list = []\n",
    "s_list = []\n",
    "v_list = []"
   ]
  },
  {
   "cell_type": "code",
   "execution_count": null,
   "id": "38ffc23b-e1ca-4522-8036-cad2a496094f",
   "metadata": {},
   "outputs": [],
   "source": [
    "title = driver.find_elements(By.CSS_SELECTOR, '.BestChallengeView__challenge_list--sUqhh .ContentTitle__title_area--x24vt span.ContentTitle__title--e3qXt')\n",
    "author = driver.find_elements(By.CSS_SELECTOR, '.BestChallengeView__challenge_list--sUqhh .ContentAuthor__author--CTAAP')\n",
    "star_score = driver.find_elements(By.CSS_SELECTOR, '.BestChallengeView__challenge_list--sUqhh .Rating__star_area--dFzsb span.text')\n",
    "view = driver.find_elements(By.CSS_SELECTOR, '.BestChallengeView__challenge_list--sUqhh .Rating__view_area--GQb_S span.text')\n",
    "\n",
    "for title, author, star_score, view in zip(title, author, star_score, view):\n",
    "    t_list.append(title.text)\n",
    "    a_list.append(author.text)\n",
    "    s_list.append(star_score.text)\n",
    "    v_list.append(view.text)\n",
    "\n",
    "# t_list\n",
    "# a_list\n",
    "# s_list\n",
    "# v_list"
   ]
  },
  {
   "cell_type": "code",
   "execution_count": null,
   "id": "e13c5694-a24c-41e6-8016-1f58355e6ebb",
   "metadata": {},
   "outputs": [],
   "source": [
    "# 데이터 프레임 생성\n",
    "naver_webtoon_df = pd.DataFrame({'제목':t_list, '작가':a_list, '별점':s_list, '조회수':v_list})\n",
    "naver_webtoon_df"
   ]
  },
  {
   "cell_type": "markdown",
   "id": "9483999f",
   "metadata": {},
   "source": [
    "### 문제2\n",
    "- 1 ~ 20 페이지까지 추출해서 데이터프레임으로 생성"
   ]
  },
  {
   "cell_type": "code",
   "execution_count": null,
   "id": "0ab6d5cc",
   "metadata": {},
   "outputs": [],
   "source": [
    "base_url = 'https://comic.naver.com/bestChallenge?page='"
   ]
  },
  {
   "cell_type": "code",
   "execution_count": null,
   "id": "12fa19f5",
   "metadata": {},
   "outputs": [],
   "source": [
    "def get_df(url):\n",
    "    driver.get(url)\n",
    "    time.sleep(2)\n",
    "    lis = driver.find_elements(By.CSS_SELECTOR, 'ul.BestChallengeView__challenge_list--sUqhh li')\n",
    "    \n",
    "    name, writer, rate, view = [[] for _ in range(4)]\n",
    "    \n",
    "    for li in lis:\n",
    "        name.append(li.find_element(By.CLASS_NAME, 'ContentTitle__title--e3qXt').text)\n",
    "        writer.append(li.find_element(By.CLASS_NAME, 'ContentAuthor__author--CTAAP').text)\n",
    "        rate.append(li.find_element(By.CLASS_NAME, 'Rating__star_area--dFzsb').text.split('\\n')[1])\n",
    "        view.append(li.find_element(By.CLASS_NAME, 'Rating__view_area--GQb_S').text.split('\\n')[1])\n",
    "    \n",
    "    df = pd.DataFrame({\n",
    "        '제목' : name,\n",
    "        '작가' : writer,\n",
    "        '별점' : rate,\n",
    "        '조회수' : view\n",
    "    })\n",
    "\n",
    "    return df"
   ]
  },
  {
   "cell_type": "code",
   "execution_count": null,
   "id": "9178249c",
   "metadata": {},
   "outputs": [],
   "source": [
    "naver_webtoon_df = pd.DataFrame({\n",
    "    '제목' : [],\n",
    "    '작가' : [],\n",
    "    '별점' : [],\n",
    "    '조회수' : []\n",
    "})\n",
    "\n",
    "for i in range(1, 21):\n",
    "    print('%2d번째 페이지 추출충'%i)\n",
    "    url = base_url+str(i)\n",
    "    df = get_df(url)\n",
    "    naver_webtoon_df = pd.concat([naver_webtoon_df, df], axis=0, ignore_index=True)\n",
    "\n",
    "naver_webtoon_df"
   ]
  },
  {
   "cell_type": "code",
   "execution_count": null,
   "id": "03bbe746",
   "metadata": {},
   "outputs": [],
   "source": []
  },
  {
   "cell_type": "code",
   "execution_count": null,
   "id": "d80155c4-a24e-4ce9-bbe6-a625aebd7f10",
   "metadata": {},
   "outputs": [],
   "source": []
  },
  {
   "cell_type": "code",
   "execution_count": null,
   "id": "6c82f7f0-dd9f-4d07-9f07-33f7d9498677",
   "metadata": {},
   "outputs": [],
   "source": []
  }
 ],
 "metadata": {
  "kernelspec": {
   "display_name": "Python 3 (ipykernel)",
   "language": "python",
   "name": "python3"
  },
  "language_info": {
   "codemirror_mode": {
    "name": "ipython",
    "version": 3
   },
   "file_extension": ".py",
   "mimetype": "text/x-python",
   "name": "python",
   "nbconvert_exporter": "python",
   "pygments_lexer": "ipython3",
   "version": "3.11.5"
  }
 },
 "nbformat": 4,
 "nbformat_minor": 5
}
