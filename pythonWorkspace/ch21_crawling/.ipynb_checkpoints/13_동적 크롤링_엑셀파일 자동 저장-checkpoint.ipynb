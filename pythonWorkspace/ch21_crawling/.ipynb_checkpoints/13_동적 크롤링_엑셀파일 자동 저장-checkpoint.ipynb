{
 "cells": [
  {
   "cell_type": "markdown",
   "id": "e53e5d0b-2024-481e-ab0f-2425c6787c37",
   "metadata": {},
   "source": [
    "### 서울시 주유소 가격 정보를 갖고 있는 엑셀 파일 자동 다운로드"
   ]
  },
  {
   "cell_type": "markdown",
   "id": "ae2aff70-f2b7-4649-b37e-3538150536d0",
   "metadata": {},
   "source": [
    "#### opinet 사이트\n",
    "https://www.opinet.co.kr/user/main/mainView.do     \n",
    "주유소의 가격을 비교하는 사이트"
   ]
  },
  {
   "cell_type": "markdown",
   "id": "7824b782-13a2-4891-b25c-f7985890765d",
   "metadata": {},
   "source": [
    "메뉴에서 [싼 주유소 찾기] / [지역별]  \r",
    "이 페이지부터 시작  \r",
    "https://www.opinet.co.kr/searRgSelect.do  \r",
    "접속한 지역으로 자동 설정됨  \r",
    "지역을 [서울]로 선택  "
   ]
  },
  {
   "cell_type": "code",
   "execution_count": 1,
   "id": "5ba81e83-125a-4004-a8f2-80a96cbc0152",
   "metadata": {},
   "outputs": [],
   "source": [
    "from IPython.core.interactiveshell import InteractiveShell\n",
    "InteractiveShell.ast_node_interactivity=\"all\"\n",
    "from urllib.request import urlopen\n",
    "import bs4\n",
    "import pandas as pd\n",
    "import requests"
   ]
  },
  {
   "cell_type": "code",
   "execution_count": 2,
   "id": "da76634f-41d0-441c-bed5-6dbe6b7a1da9",
   "metadata": {},
   "outputs": [],
   "source": [
    "url = 'https://www.opinet.co.kr/searRgSelect.do'\n",
    "html = urlopen(url)\n",
    "bs_obj = bs4.BeautifulSoup(html, 'html.parser')"
   ]
  },
  {
   "cell_type": "code",
   "execution_count": 3,
   "id": "60d8856c-a9bd-4fec-aa18-2290817c5cdc",
   "metadata": {},
   "outputs": [],
   "source": [
    "import selenium\n",
    "from selenium import webdriver\n",
    "from selenium.webdriver.common.by import By # 셀레니움 4.0부터 포함된 객체(모듈)\n",
    "\n",
    "from selenium.webdriver.chrome.service import Service\n",
    "from webdriver_manager.chrome import ChromeDriverManager"
   ]
  },
  {
   "cell_type": "code",
   "execution_count": 7,
   "id": "1397c159-c526-4104-a58f-95820b1f572f",
   "metadata": {},
   "outputs": [],
   "source": [
    "chrome_options = webdriver.ChromeOptions()\n",
    "driver = webdriver.Chrome(service=Service(ChromeDriverManager().install()), options=chrome_options)\n",
    "# 페이지 접속\n",
    "driver.get(url)\n",
    "\n",
    "# 다른 지역에서 접속시 페이지 열리면\n",
    "# 서울 강남구 선택"
   ]
  },
  {
   "cell_type": "code",
   "execution_count": 8,
   "id": "46055508-dbae-4ecc-93e2-954a48dce882",
   "metadata": {},
   "outputs": [],
   "source": [
    "# 진행 상황 표시 (프로그레스 바 출력) : tqdm 패키지 사용\n",
    "# !pip install tqdm"
   ]
  },
  {
   "cell_type": "code",
   "execution_count": 9,
   "id": "0f36741b-67dd-4dbe-9079-97f886bdeba1",
   "metadata": {},
   "outputs": [],
   "source": [
    "# id : SIGUNGU_NM0\n",
    "# id 선택자 사용\n",
    "gu_list_raw = driver.find_element(By.ID, 'SIGUNGU_NM0')\n",
    "# gu_list_raw \n",
    "\n",
    "gu_list = gu_list_raw.find_elements(By.TAG_NAME, 'option')\n",
    "# gu_list"
   ]
  },
  {
   "cell_type": "code",
   "execution_count": 10,
   "id": "60f5dc55-5366-43f9-a1b9-659b438e372a",
   "metadata": {},
   "outputs": [
    {
     "data": {
      "text/plain": [
       "['가평군',\n",
       " '고양시',\n",
       " '고양시덕양구',\n",
       " '고양시일산동구',\n",
       " '고양시일산서구',\n",
       " '과천시',\n",
       " '광명시',\n",
       " '광주시',\n",
       " '구리시',\n",
       " '군포시',\n",
       " '김포시',\n",
       " '남양주시',\n",
       " '동두천시',\n",
       " '부천시',\n",
       " '성남시',\n",
       " '성남시분당구',\n",
       " '성남시수정구',\n",
       " '성남시중원구',\n",
       " '수원시',\n",
       " '수원시권선구',\n",
       " '수원시영통구',\n",
       " '수원시장안구',\n",
       " '수원시팔달구',\n",
       " '시흥시',\n",
       " '안산시',\n",
       " '안산시단원구',\n",
       " '안산시상록구',\n",
       " '안성시',\n",
       " '안양시',\n",
       " '안양시동안구',\n",
       " '안양시만안구',\n",
       " '양주시',\n",
       " '양평군',\n",
       " '여주시',\n",
       " '연천군',\n",
       " '오산시',\n",
       " '용인시',\n",
       " '용인시기흥구',\n",
       " '용인시수지구',\n",
       " '용인시처인구',\n",
       " '의왕시',\n",
       " '의정부시',\n",
       " '이천시',\n",
       " '파주시',\n",
       " '평택시',\n",
       " '포천시',\n",
       " '하남시',\n",
       " '화성시']"
      ]
     },
     "execution_count": 10,
     "metadata": {},
     "output_type": "execute_result"
    }
   ],
   "source": [
    "# element에서 속성값 추출 \n",
    "# <select> 태그 내의 <option> 태그의 value 속성\n",
    "gu_name_list = [ opt.get_attribute('value')  for opt in gu_list ]\n",
    "gu_name_list.remove('')\n",
    "gu_name_list"
   ]
  },
  {
   "cell_type": "code",
   "execution_count": 11,
   "id": "c188d82e-35c1-4238-8559-afd036f01744",
   "metadata": {},
   "outputs": [],
   "source": [
    "# 테스트\n",
    "# gu_name_list에 이쓴 구 이름에 해당되는 페이지가 동적으로 바뀌는지 확인\n",
    "# 첫 번째 구 이름(강남구)으로 확인\n",
    "sigungu_sel = driver.find_element(By.ID, 'SIGUNGU_NM0') # 첫 번째 강남구\n",
    "\n",
    "# option 태그의 value 값을 가져와서 \n",
    "# send_keys(구이름) 호출하면서 전달 (입력 값 전달)\n",
    "# 입력값에 해당되는 화면으로 전환되고\n",
    "# 전환된  화면에 바뀐 데이터 출력 \n",
    "\n",
    "sigungu_sel.send_keys(gu_name_list[2]) # 강북구 값 전달 \n",
    "# 인덱스 숫자 변경하면 지도에서 해당구의 지도로 자동 변경되는지 확인\n",
    "# send_keys() : 값을 전달해서 웹 브라우저 내용을 동적으로 변경하는 메소드"
   ]
  },
  {
   "cell_type": "code",
   "execution_count": 12,
   "id": "b37f5ae1-7249-4c5c-996c-9ffe95064788",
   "metadata": {},
   "outputs": [],
   "source": [
    "# 선택자로 선택\n",
    "# 기능 수행 : 다음 페이지로 전환해서 페이지 내의 데이터 추출\n",
    "# 기능 수행 메소드 2가지 방법\n",
    "# (1) send_keys()\n",
    "# (2) click()"
   ]
  },
  {
   "cell_type": "code",
   "execution_count": 13,
   "id": "9dae4fac-a961-4698-ad31-be5aea841669",
   "metadata": {},
   "outputs": [],
   "source": [
    "# 엑셀 파일  자동 저장\n",
    "# 왼쪽 주유 가격 맨 아래에 [엑셀저장] 버튼을 자동 실행시켜서\n",
    "# 모든 구의  주유  정보를 포함하는 엑셀 파일을 자동으로 다운로드"
   ]
  },
  {
   "cell_type": "code",
   "execution_count": 14,
   "id": "ade8de91-6635-410f-92f0-45d69533331b",
   "metadata": {},
   "outputs": [],
   "source": [
    "# 테스트 : 1개 파일 다운로드 되는지 확인\n",
    "# id : glopopd_excel\n",
    "excel_btn = driver.find_element(By.ID, 'glopopd_excel')\n",
    "excel_btn.click()"
   ]
  },
  {
   "cell_type": "code",
   "execution_count": 15,
   "id": "03c24f5d-ba0f-45a6-8b00-2ee6b308f738",
   "metadata": {},
   "outputs": [],
   "source": [
    "from tqdm.notebook import tqdm\n",
    "import time"
   ]
  },
  {
   "cell_type": "code",
   "execution_count": 16,
   "id": "5eb28bde-9f88-4623-b2be-09509434af3d",
   "metadata": {},
   "outputs": [
    {
     "data": {
      "application/vnd.jupyter.widget-view+json": {
       "model_id": "fc4de08969e346f49046fa00767ba7a7",
       "version_major": 2,
       "version_minor": 0
      },
      "text/plain": [
       "  0%|          | 0/48 [00:00<?, ?it/s]"
      ]
     },
     "metadata": {},
     "output_type": "display_data"
    }
   ],
   "source": [
    "for gu in tqdm(gu_name_list) : # 구별 페이지에서 데이터 추출하는 진행상황 표시 (프로그레스 바 출력)\n",
    "    # 구별로 '구이름' 값 전달하고(입력) 동적 페이지 실행\n",
    "    sigungu_sel = driver.find_element(By.ID, 'SIGUNGU_NM0')\n",
    "    sigungu_sel.send_keys(gu)\n",
    "\n",
    "    time.sleep(2) # 2초 딜레이\n",
    "\n",
    "    # [엑셀저장] 버튼 클릭 실행\n",
    "    excel_btn = driver.find_element(By.ID, 'glopopd_excel')\n",
    "    excel_btn.click()\n",
    "\n",
    "    time.sleep(2)"
   ]
  },
  {
   "cell_type": "code",
   "execution_count": null,
   "id": "5bdbafc9-974f-4f0a-b6f0-bfedd1bfb261",
   "metadata": {},
   "outputs": [],
   "source": []
  },
  {
   "cell_type": "code",
   "execution_count": null,
   "id": "542edbc9-763b-49e0-8745-f533e90dca4a",
   "metadata": {},
   "outputs": [],
   "source": []
  },
  {
   "cell_type": "code",
   "execution_count": null,
   "id": "6e2813ca-4183-4f0f-8e49-bd5ec6ce23b5",
   "metadata": {},
   "outputs": [],
   "source": []
  },
  {
   "cell_type": "code",
   "execution_count": 17,
   "id": "a17bd842-22d5-40d0-a49b-dae6c979edaa",
   "metadata": {},
   "outputs": [
    {
     "ename": "WebDriverException",
     "evalue": "Message: disconnected: not connected to DevTools\n  (failed to check if window was closed: disconnected: not connected to DevTools)\n  (Session info: chrome=116.0.5845.188)\nStacktrace:\n\tGetHandleVerifier [0x005837C3+48947]\n\t(No symbol) [0x00518551]\n\t(No symbol) [0x0041C92D]\n\t(No symbol) [0x0040D249]\n\t(No symbol) [0x0040D79A]\n\t(No symbol) [0x0040D738]\n\t(No symbol) [0x004026FD]\n\t(No symbol) [0x00402F8D]\n\t(No symbol) [0x0046D288]\n\t(No symbol) [0x00465053]\n\t(No symbol) [0x004416C7]\n\t(No symbol) [0x0044284D]\n\tGetHandleVerifier [0x007CFDF9+2458985]\n\tGetHandleVerifier [0x0081744F+2751423]\n\tGetHandleVerifier [0x00811361+2726609]\n\tGetHandleVerifier [0x00600680+560624]\n\t(No symbol) [0x0052238C]\n\t(No symbol) [0x0051E268]\n\t(No symbol) [0x0051E392]\n\t(No symbol) [0x005110B7]\n\tBaseThreadInitThunk [0x762E00C9+25]\n\tRtlGetAppContainerNamedObjectPath [0x771D7B1E+286]\n\tRtlGetAppContainerNamedObjectPath [0x771D7AEE+238]\n",
     "output_type": "error",
     "traceback": [
      "\u001b[1;31m---------------------------------------------------------------------------\u001b[0m",
      "\u001b[1;31mWebDriverException\u001b[0m                        Traceback (most recent call last)",
      "Cell \u001b[1;32mIn[17], line 1\u001b[0m\n\u001b[1;32m----> 1\u001b[0m \u001b[43mdriver\u001b[49m\u001b[38;5;241;43m.\u001b[39;49m\u001b[43mclose\u001b[49m\u001b[43m(\u001b[49m\u001b[43m)\u001b[49m\n",
      "File \u001b[1;32m~\\AppData\\Local\\Programs\\Python\\Python311\\Lib\\site-packages\\selenium\\webdriver\\remote\\webdriver.py:455\u001b[0m, in \u001b[0;36mWebDriver.close\u001b[1;34m(self)\u001b[0m\n\u001b[0;32m    447\u001b[0m \u001b[38;5;28;01mdef\u001b[39;00m \u001b[38;5;21mclose\u001b[39m(\u001b[38;5;28mself\u001b[39m) \u001b[38;5;241m-\u001b[39m\u001b[38;5;241m>\u001b[39m \u001b[38;5;28;01mNone\u001b[39;00m:\n\u001b[0;32m    448\u001b[0m \u001b[38;5;250m    \u001b[39m\u001b[38;5;124;03m\"\"\"Closes the current window.\u001b[39;00m\n\u001b[0;32m    449\u001b[0m \n\u001b[0;32m    450\u001b[0m \u001b[38;5;124;03m    :Usage:\u001b[39;00m\n\u001b[1;32m   (...)\u001b[0m\n\u001b[0;32m    453\u001b[0m \u001b[38;5;124;03m            driver.close()\u001b[39;00m\n\u001b[0;32m    454\u001b[0m \u001b[38;5;124;03m    \"\"\"\u001b[39;00m\n\u001b[1;32m--> 455\u001b[0m     \u001b[38;5;28;43mself\u001b[39;49m\u001b[38;5;241;43m.\u001b[39;49m\u001b[43mexecute\u001b[49m\u001b[43m(\u001b[49m\u001b[43mCommand\u001b[49m\u001b[38;5;241;43m.\u001b[39;49m\u001b[43mCLOSE\u001b[49m\u001b[43m)\u001b[49m\n",
      "File \u001b[1;32m~\\AppData\\Local\\Programs\\Python\\Python311\\Lib\\site-packages\\selenium\\webdriver\\remote\\webdriver.py:344\u001b[0m, in \u001b[0;36mWebDriver.execute\u001b[1;34m(self, driver_command, params)\u001b[0m\n\u001b[0;32m    342\u001b[0m response \u001b[38;5;241m=\u001b[39m \u001b[38;5;28mself\u001b[39m\u001b[38;5;241m.\u001b[39mcommand_executor\u001b[38;5;241m.\u001b[39mexecute(driver_command, params)\n\u001b[0;32m    343\u001b[0m \u001b[38;5;28;01mif\u001b[39;00m response:\n\u001b[1;32m--> 344\u001b[0m     \u001b[38;5;28;43mself\u001b[39;49m\u001b[38;5;241;43m.\u001b[39;49m\u001b[43merror_handler\u001b[49m\u001b[38;5;241;43m.\u001b[39;49m\u001b[43mcheck_response\u001b[49m\u001b[43m(\u001b[49m\u001b[43mresponse\u001b[49m\u001b[43m)\u001b[49m\n\u001b[0;32m    345\u001b[0m     response[\u001b[38;5;124m\"\u001b[39m\u001b[38;5;124mvalue\u001b[39m\u001b[38;5;124m\"\u001b[39m] \u001b[38;5;241m=\u001b[39m \u001b[38;5;28mself\u001b[39m\u001b[38;5;241m.\u001b[39m_unwrap_value(response\u001b[38;5;241m.\u001b[39mget(\u001b[38;5;124m\"\u001b[39m\u001b[38;5;124mvalue\u001b[39m\u001b[38;5;124m\"\u001b[39m, \u001b[38;5;28;01mNone\u001b[39;00m))\n\u001b[0;32m    346\u001b[0m     \u001b[38;5;28;01mreturn\u001b[39;00m response\n",
      "File \u001b[1;32m~\\AppData\\Local\\Programs\\Python\\Python311\\Lib\\site-packages\\selenium\\webdriver\\remote\\errorhandler.py:229\u001b[0m, in \u001b[0;36mErrorHandler.check_response\u001b[1;34m(self, response)\u001b[0m\n\u001b[0;32m    227\u001b[0m         alert_text \u001b[38;5;241m=\u001b[39m value[\u001b[38;5;124m\"\u001b[39m\u001b[38;5;124malert\u001b[39m\u001b[38;5;124m\"\u001b[39m]\u001b[38;5;241m.\u001b[39mget(\u001b[38;5;124m\"\u001b[39m\u001b[38;5;124mtext\u001b[39m\u001b[38;5;124m\"\u001b[39m)\n\u001b[0;32m    228\u001b[0m     \u001b[38;5;28;01mraise\u001b[39;00m exception_class(message, screen, stacktrace, alert_text)  \u001b[38;5;66;03m# type: ignore[call-arg]  # mypy is not smart enough here\u001b[39;00m\n\u001b[1;32m--> 229\u001b[0m \u001b[38;5;28;01mraise\u001b[39;00m exception_class(message, screen, stacktrace)\n",
      "\u001b[1;31mWebDriverException\u001b[0m: Message: disconnected: not connected to DevTools\n  (failed to check if window was closed: disconnected: not connected to DevTools)\n  (Session info: chrome=116.0.5845.188)\nStacktrace:\n\tGetHandleVerifier [0x005837C3+48947]\n\t(No symbol) [0x00518551]\n\t(No symbol) [0x0041C92D]\n\t(No symbol) [0x0040D249]\n\t(No symbol) [0x0040D79A]\n\t(No symbol) [0x0040D738]\n\t(No symbol) [0x004026FD]\n\t(No symbol) [0x00402F8D]\n\t(No symbol) [0x0046D288]\n\t(No symbol) [0x00465053]\n\t(No symbol) [0x004416C7]\n\t(No symbol) [0x0044284D]\n\tGetHandleVerifier [0x007CFDF9+2458985]\n\tGetHandleVerifier [0x0081744F+2751423]\n\tGetHandleVerifier [0x00811361+2726609]\n\tGetHandleVerifier [0x00600680+560624]\n\t(No symbol) [0x0052238C]\n\t(No symbol) [0x0051E268]\n\t(No symbol) [0x0051E392]\n\t(No symbol) [0x005110B7]\n\tBaseThreadInitThunk [0x762E00C9+25]\n\tRtlGetAppContainerNamedObjectPath [0x771D7B1E+286]\n\tRtlGetAppContainerNamedObjectPath [0x771D7AEE+238]\n"
     ]
    }
   ],
   "source": [
    "driver.close()"
   ]
  },
  {
   "cell_type": "code",
   "execution_count": null,
   "id": "ea6ca158-701f-441d-8fb4-402de85a1003",
   "metadata": {},
   "outputs": [],
   "source": []
  }
 ],
 "metadata": {
  "kernelspec": {
   "display_name": "Python 3 (ipykernel)",
   "language": "python",
   "name": "python3"
  },
  "language_info": {
   "codemirror_mode": {
    "name": "ipython",
    "version": 3
   },
   "file_extension": ".py",
   "mimetype": "text/x-python",
   "name": "python",
   "nbconvert_exporter": "python",
   "pygments_lexer": "ipython3",
   "version": "3.11.5"
  }
 },
 "nbformat": 4,
 "nbformat_minor": 5
}
