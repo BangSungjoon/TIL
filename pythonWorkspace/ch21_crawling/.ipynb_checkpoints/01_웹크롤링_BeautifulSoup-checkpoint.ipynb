{
 "cells": [
  {
   "cell_type": "markdown",
   "id": "dbed81ce-f005-41df-a0f3-b7f660227305",
   "metadata": {},
   "source": [
    "파싱\n",
    "- html 문서에서 원하는 내용 추출\n",
    "   - 필요한 내용만 추출\n",
    "   - BeautifulSoup 라이브러리 사용\n",
    "      - 데이터를 추출하는데 필요한 기능이 들어있는 라이브러리 (피싱 라이브러리)\n",
    "      - find() / findall()"
   ]
  },
  {
   "cell_type": "code",
   "execution_count": 35,
   "id": "280c4ea7-1b72-4290-b07c-5506dad01d4b",
   "metadata": {},
   "outputs": [],
   "source": [
    "from IPython.core.interactiveshell import InteractiveShell\n",
    "InteractiveShell.ast_node_interactivity=\"all\""
   ]
  },
  {
   "cell_type": "code",
   "execution_count": 1,
   "id": "ce1e7a91-2c59-44fa-a318-124839c3e145",
   "metadata": {},
   "outputs": [],
   "source": [
    "from urllib.request import urlopen"
   ]
  },
  {
   "cell_type": "code",
   "execution_count": 3,
   "id": "869966c4-7579-45b8-a7d5-4d3993afa6f1",
   "metadata": {},
   "outputs": [],
   "source": [
    "# 셀 실행\n",
    "# ctrl + enter\n",
    "# shift + enter (다음 셀로 이동)"
   ]
  },
  {
   "cell_type": "code",
   "execution_count": 4,
   "id": "cfcadf93-ab57-4a84-89ab-cc808265ad1b",
   "metadata": {},
   "outputs": [],
   "source": [
    "# 응답 객체에서 소스 코드 가져오기\n",
    "url = 'https://www.tistory.com'\n",
    "html = urlopen(url)\n",
    "text = html.read()"
   ]
  },
  {
   "cell_type": "code",
   "execution_count": 6,
   "id": "7bdda394-57a3-4fca-9ef0-c2d92b5b2c1a",
   "metadata": {},
   "outputs": [],
   "source": [
    "# text.decode('utf8') # 인코딩\n",
    "# 문서 전체 내용을 텍스트로 받아서 출력"
   ]
  },
  {
   "cell_type": "code",
   "execution_count": 7,
   "id": "06d753cc-b4de-471c-9719-e00f73575df3",
   "metadata": {},
   "outputs": [],
   "source": [
    "######################################################"
   ]
  },
  {
   "cell_type": "code",
   "execution_count": 8,
   "id": "abfd5d61-ee8b-4536-aee2-93de220b9a38",
   "metadata": {},
   "outputs": [],
   "source": [
    "### BeautifulSoup 사용법"
   ]
  },
  {
   "cell_type": "code",
   "execution_count": 37,
   "id": "e0bd8418-6bed-413b-9c16-4a8b0ad2eb29",
   "metadata": {},
   "outputs": [],
   "source": [
    "import bs4\n",
    "# 오류 있으면 패키지 설치\n",
    "# !pip install bs4"
   ]
  },
  {
   "cell_type": "code",
   "execution_count": 22,
   "id": "161d3cb0-7d87-48e1-a07e-645d97f46642",
   "metadata": {},
   "outputs": [],
   "source": [
    "url = 'https://www.tistory.com'\n",
    "html = urlopen(url)"
   ]
  },
  {
   "cell_type": "code",
   "execution_count": 23,
   "id": "532ffd31-0ae2-4a35-a120-047c0f2f3def",
   "metadata": {},
   "outputs": [],
   "source": [
    "# bs4 파싱 객체 반환\n",
    "bs_obj = bs4.BeautifulSoup(html, 'html.parser')\n",
    "# 파싱 객체가 생성되면, 객체의 메소드 사용해서 추출 가능"
   ]
  },
  {
   "cell_type": "code",
   "execution_count": 30,
   "id": "d286f900-d9bf-409b-b550-2bf80d1b385d",
   "metadata": {},
   "outputs": [],
   "source": [
    "# bs_obj"
   ]
  },
  {
   "cell_type": "code",
   "execution_count": 27,
   "id": "6c9b55e9-1dae-4085-ba5b-c839e54f6654",
   "metadata": {},
   "outputs": [],
   "source": [
    "# 계층구조 표현 : 가독성이 좋음\n",
    "# print(bs_obj.prettify())"
   ]
  },
  {
   "cell_type": "code",
   "execution_count": 31,
   "id": "b4fac252-31db-40db-b21f-ced7d966195b",
   "metadata": {},
   "outputs": [],
   "source": [
    "html_str = '<html><div>hello</div><html>'"
   ]
  },
  {
   "cell_type": "code",
   "execution_count": 32,
   "id": "74562f90-96f6-48a3-84d3-fb7d86ee0fef",
   "metadata": {},
   "outputs": [
    {
     "data": {
      "text/plain": [
       "<html><div>hello</div><html></html></html>"
      ]
     },
     "execution_count": 32,
     "metadata": {},
     "output_type": "execute_result"
    }
   ],
   "source": [
    "bs_obj = bs4.BeautifulSoup(html_str, 'html.parser')\n",
    "bs_obj"
   ]
  },
  {
   "cell_type": "code",
   "execution_count": 36,
   "id": "66bb4ef6-7938-4b09-a30c-e5a7be22c129",
   "metadata": {},
   "outputs": [
    {
     "data": {
      "text/plain": [
       "<div>hello</div>"
      ]
     },
     "execution_count": 36,
     "metadata": {},
     "output_type": "execute_result"
    },
    {
     "data": {
      "text/plain": [
       "'hello'"
      ]
     },
     "execution_count": 36,
     "metadata": {},
     "output_type": "execute_result"
    }
   ],
   "source": [
    "# (2) find() 메소드 사용해서 태그 추출\n",
    "# find() : 첫 번째 태그만 추출\n",
    "# find('태그명')\n",
    "bs_obj.find('div') \n",
    "bs_obj.find('div').text"
   ]
  },
  {
   "cell_type": "code",
   "execution_count": 39,
   "id": "deca6657-50d7-40bb-aaed-e085a82a1032",
   "metadata": {},
   "outputs": [],
   "source": [
    "html_str = \"\"\"\n",
    "<html>\n",
    "    <body>\n",
    "        <ul>\n",
    "            <li>hello</li>\n",
    "            <li>bye</li>\n",
    "            <li>welcome</li>\n",
    "        </ul>\n",
    "    </body>\n",
    "</html>\n",
    "\"\"\""
   ]
  },
  {
   "cell_type": "code",
   "execution_count": 40,
   "id": "4a8c50fb-d00d-4ebf-b23e-0ad331809251",
   "metadata": {},
   "outputs": [
    {
     "data": {
      "text/plain": [
       "\n",
       "<html>\n",
       "<body>\n",
       "<ul>\n",
       "<li>hello</li>\n",
       "<li>bye</li>\n",
       "<li>welcome</li>\n",
       "</ul>\n",
       "</body>\n",
       "</html>"
      ]
     },
     "execution_count": 40,
     "metadata": {},
     "output_type": "execute_result"
    }
   ],
   "source": [
    "# 파싱 객체 생성\n",
    "bs_obj = bs4.BeautifulSoup(html_str, 'html.parser')\n",
    "bs_obj"
   ]
  },
  {
   "cell_type": "code",
   "execution_count": 41,
   "id": "ecb7f5e0-5925-4fc5-bec4-2392d1c80738",
   "metadata": {},
   "outputs": [
    {
     "data": {
      "text/plain": [
       "<ul>\n",
       "<li>hello</li>\n",
       "<li>bye</li>\n",
       "<li>welcome</li>\n",
       "</ul>"
      ]
     },
     "execution_count": 41,
     "metadata": {},
     "output_type": "execute_result"
    }
   ],
   "source": [
    "# <ul> 태그 추출\n",
    "ul = bs_obj.find('ul')\n",
    "ul"
   ]
  },
  {
   "cell_type": "code",
   "execution_count": 43,
   "id": "db1e56d8-2197-4af5-95a8-7d024d24f163",
   "metadata": {},
   "outputs": [
    {
     "data": {
      "text/plain": [
       "<li>hello</li>"
      ]
     },
     "execution_count": 43,
     "metadata": {},
     "output_type": "execute_result"
    },
    {
     "data": {
      "text/plain": [
       "[<li>hello</li>, <li>bye</li>, <li>welcome</li>]"
      ]
     },
     "execution_count": 43,
     "metadata": {},
     "output_type": "execute_result"
    }
   ],
   "source": [
    "# <ul> 태그 중에서 첫 번째 <li> 태그만 추출\n",
    "ul.find('li')\n",
    "\n",
    "ul.findAll('li')"
   ]
  },
  {
   "cell_type": "code",
   "execution_count": 54,
   "id": "6f94dbb0-0f9a-4d97-8359-bd8a36c17ab0",
   "metadata": {},
   "outputs": [
    {
     "name": "stdout",
     "output_type": "stream",
     "text": [
      "hello\n",
      "bye\n",
      "welcome\n"
     ]
    }
   ],
   "source": [
    "# 모든 <li> 태그 내 text 추출 : 반복문 사용\n",
    "for i in ul.findAll('li'):\n",
    "    print(i.text)"
   ]
  },
  {
   "cell_type": "code",
   "execution_count": 55,
   "id": "68c1760e-5487-42e4-a700-57951dc0bae5",
   "metadata": {},
   "outputs": [],
   "source": [
    "#################################################"
   ]
  },
  {
   "cell_type": "code",
   "execution_count": 56,
   "id": "0166651b-7614-4e9d-b846-d8718a1d961d",
   "metadata": {},
   "outputs": [],
   "source": [
    "# 태그 중에 특정 속성을 갖고 있는 태그 추출\n",
    "# find('태그명', {'속성명':'속성값'})\n",
    "# ('ul', {'class':'greet'})"
   ]
  },
  {
   "cell_type": "code",
   "execution_count": 57,
   "id": "9c73eea0-4b2a-4f7c-9f00-f80179a20f38",
   "metadata": {},
   "outputs": [],
   "source": [
    "html_str = \"\"\"\n",
    "<html>\n",
    "    <body>\n",
    "        <ul class=\"greet\">\n",
    "            <li>hello</li>\n",
    "            <li>bye</li>\n",
    "            <li>welcome</li>\n",
    "        </ul>\n",
    "        <ul class=\"reply\">\n",
    "            <li>ok</li>\n",
    "            <li>no</li>\n",
    "            <li>sure</li>\n",
    "        </ul>\n",
    "    </body>\n",
    "</html>\n",
    "\"\"\""
   ]
  },
  {
   "cell_type": "code",
   "execution_count": 59,
   "id": "a180c48b-db61-435d-8b03-ca18fbedb5de",
   "metadata": {},
   "outputs": [],
   "source": [
    "bs_obj = bs4.BeautifulSoup(html_str, 'html.parser')\n",
    "# bs_obj"
   ]
  },
  {
   "cell_type": "code",
   "execution_count": 77,
   "id": "2287027e-b9b2-4fe3-b88e-f4ebfc67514c",
   "metadata": {},
   "outputs": [
    {
     "name": "stdout",
     "output_type": "stream",
     "text": [
      "hello\n",
      "bye\n",
      "welcome\n"
     ]
    }
   ],
   "source": [
    "# class 속성값이 greet인 ul 태그 내 모든 li 태그의 텍스트 값 추출\n",
    "# bs_obj.findAll('ul',{'class':'greet'}).findAll('li') -> 리스트로 반환된다\n",
    "for i in bs_obj.find('ul',{'class':'greet'}).findAll('li'):\n",
    "    print(i.text)"
   ]
  },
  {
   "cell_type": "code",
   "execution_count": 78,
   "id": "6fc04186-501c-4654-8cc4-7bbef8698e3c",
   "metadata": {},
   "outputs": [],
   "source": [
    "html_str = '''\n",
    "<html>\n",
    "    <body>\n",
    "        <h1 id='title'>Hello Python</h1>\n",
    "        <p id=\"crawling\">웹 크롤링</p>\n",
    "        <p id=\"parsing\">파싱</p>\n",
    "    </body>\n",
    "</html>'''"
   ]
  },
  {
   "cell_type": "code",
   "execution_count": 79,
   "id": "a4fba349-14a7-4251-87b8-5c11e854b9db",
   "metadata": {},
   "outputs": [],
   "source": [
    "bs_obj = bs4.BeautifulSoup(html_str, 'html.parser')"
   ]
  },
  {
   "cell_type": "code",
   "execution_count": 84,
   "id": "ab96f1fa-a9e4-4e1e-ab5d-8bcf8d7a27c4",
   "metadata": {},
   "outputs": [
    {
     "data": {
      "text/plain": [
       "<h1 id=\"title\">Hello Python</h1>"
      ]
     },
     "execution_count": 84,
     "metadata": {},
     "output_type": "execute_result"
    },
    {
     "data": {
      "text/plain": [
       "'Hello Python'"
      ]
     },
     "execution_count": 84,
     "metadata": {},
     "output_type": "execute_result"
    }
   ],
   "source": [
    "# id가 title인 태그와 텍스트 추출\n",
    "bs_obj.find('h1',{'id':'title'})\n",
    "bs_obj.find('h1',{'id':'title'}).text"
   ]
  },
  {
   "cell_type": "code",
   "execution_count": 85,
   "id": "ef92c05d-f093-4cb9-aa7f-257584379701",
   "metadata": {},
   "outputs": [
    {
     "data": {
      "text/plain": [
       "<p id=\"parsing\">파싱</p>"
      ]
     },
     "execution_count": 85,
     "metadata": {},
     "output_type": "execute_result"
    },
    {
     "data": {
      "text/plain": [
       "'파싱'"
      ]
     },
     "execution_count": 85,
     "metadata": {},
     "output_type": "execute_result"
    }
   ],
   "source": [
    "# id가 parsing인 태그와 택스트 추출\n",
    "bs_obj.find('p',{'id':'parsing'})\n",
    "bs_obj.find('p',{'id':'parsing'}).text"
   ]
  },
  {
   "cell_type": "code",
   "execution_count": null,
   "id": "d5353726-d26f-4349-a48f-a9466d6df709",
   "metadata": {},
   "outputs": [],
   "source": [
    "# 형제 노드 찾기"
   ]
  },
  {
   "cell_type": "code",
   "execution_count": 86,
   "id": "ecae9b24-dfd9-4591-8f73-e873532081b5",
   "metadata": {},
   "outputs": [],
   "source": [
    "html_str = \"\"\"\n",
    "<html>\n",
    "    <body>\n",
    "        <h1>파이썬 프로그래밍</h1>\n",
    "        <p>웹 페이지 분석</p>\n",
    "        <p>크롤링</p><p>파싱</p>        \n",
    "    </body>\n",
    "</html>\n",
    "\"\"\""
   ]
  },
  {
   "cell_type": "code",
   "execution_count": 87,
   "id": "39033306-8673-4519-b1d8-2f4f59580ace",
   "metadata": {},
   "outputs": [],
   "source": [
    "# 파싱 객체 생성\n",
    "bs_obj = bs4.BeautifulSoup(html_str, 'html.parser')"
   ]
  },
  {
   "cell_type": "code",
   "execution_count": 88,
   "id": "9ffdb6f0-4c7f-4e6b-8a01-0c935f5d78f5",
   "metadata": {},
   "outputs": [
    {
     "data": {
      "text/plain": [
       "<p>웹 페이지 분석</p>"
      ]
     },
     "execution_count": 88,
     "metadata": {},
     "output_type": "execute_result"
    }
   ],
   "source": [
    "# 첫 번째 p 태그\n",
    "bs_obj.find('p')"
   ]
  },
  {
   "cell_type": "code",
   "execution_count": 90,
   "id": "58269088-00cc-44f6-8d4a-56c226da3f94",
   "metadata": {},
   "outputs": [
    {
     "data": {
      "text/plain": [
       "[<p>웹 페이지 분석</p>, <p>크롤링</p>, <p>파싱</p>]"
      ]
     },
     "execution_count": 90,
     "metadata": {},
     "output_type": "execute_result"
    },
    {
     "data": {
      "text/plain": [
       "<p>크롤링</p>"
      ]
     },
     "execution_count": 90,
     "metadata": {},
     "output_type": "execute_result"
    }
   ],
   "source": [
    "# 모든 p 태그\n",
    "bs_obj.findAll('p')\n",
    "bs_obj.findAll('p')[1] # 인덱스1 번째 (두 번째) p 태그"
   ]
  },
  {
   "cell_type": "code",
   "execution_count": null,
   "id": "1936f092-33f6-45f7-b591-8229ada76cc1",
   "metadata": {},
   "outputs": [],
   "source": [
    "p1 = bs_obj.find('p')\n",
    "p1\n",
    "\n",
    "p1.next_sibling # 줄바꿈한 경우 현제 태그로 '\\n'을 인식\n",
    "p1.next_sibling.next_sibling"
   ]
  }
 ],
 "metadata": {
  "kernelspec": {
   "display_name": "Python 3 (ipykernel)",
   "language": "python",
   "name": "python3"
  },
  "language_info": {
   "codemirror_mode": {
    "name": "ipython",
    "version": 3
   },
   "file_extension": ".py",
   "mimetype": "text/x-python",
   "name": "python",
   "nbconvert_exporter": "python",
   "pygments_lexer": "ipython3",
   "version": "3.11.5"
  }
 },
 "nbformat": 4,
 "nbformat_minor": 5
}
