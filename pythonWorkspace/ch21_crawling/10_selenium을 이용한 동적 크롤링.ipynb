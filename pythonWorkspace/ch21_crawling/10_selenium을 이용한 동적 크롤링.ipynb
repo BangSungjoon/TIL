{
 "cells": [
  {
   "cell_type": "code",
   "execution_count": 1,
   "id": "c5f54fe6-bd4b-4375-aec8-5e9e2e62553c",
   "metadata": {},
   "outputs": [],
   "source": [
    "from IPython.core.interactiveshell import InteractiveShell\n",
    "InteractiveShell.ast_node_interactivity=\"all\"\n",
    "from urllib.request import urlopen\n",
    "import bs4\n",
    "import pandas as pd\n",
    "import requests"
   ]
  },
  {
   "cell_type": "markdown",
   "id": "e434d636-1182-498f-9c5d-e150cf6e8a29",
   "metadata": {},
   "source": [
    "#### 실행 중에 자바스크립트를 통해 동적으로 변환된 값 추출\n",
    "- 정적 페이지에서는 추출 안 됨\n",
    "- 셀레니움을 사용해서 동적 페이지를 별도로 열어서 추출"
   ]
  },
  {
   "cell_type": "code",
   "execution_count": 2,
   "id": "1517b132-1be2-49c0-aeaf-8c0f42d7e727",
   "metadata": {},
   "outputs": [],
   "source": [
    "url = 'https://n.news.naver.com/mnews/article/079/0003812365?sid=100'\n",
    "html = urlopen(url)\n",
    "# 파서 객체 생성\n",
    "bs_obj = bs4.BeautifulSoup(html, 'html.parser')"
   ]
  },
  {
   "cell_type": "code",
   "execution_count": 3,
   "id": "fd549976-e3f5-43ba-994b-d494917cbdd2",
   "metadata": {},
   "outputs": [
    {
     "data": {
      "text/plain": [
       "'尹 \"가짜뉴스, AI 이용해 빠른 속도 확산…자유민주주의 훼손, 미래 망쳐\"'"
      ]
     },
     "execution_count": 3,
     "metadata": {},
     "output_type": "execute_result"
    }
   ],
   "source": [
    "# 제목은 추출 가능\n",
    "title = bs_obj.find('div', {'class' : 'media_end_head_title'}).select_one('span').text\n",
    "title"
   ]
  },
  {
   "cell_type": "code",
   "execution_count": 4,
   "id": "1da5fb3a-e9de-43c0-b5f2-208af00a364c",
   "metadata": {},
   "outputs": [
    {
     "name": "stdout",
     "output_type": "stream",
     "text": [
      "None\n"
     ]
    }
   ],
   "source": [
    "# 좋아요 수 추출\n",
    "like_num = bs_obj.find('span', {'class':'u_likeit_text _count num'})\n",
    "like_num\n",
    "\n",
    "if like_num is None:\n",
    "    print('None')"
   ]
  },
  {
   "cell_type": "code",
   "execution_count": 6,
   "id": "18a8b1d3-6926-4973-8b46-eff231214433",
   "metadata": {},
   "outputs": [
    {
     "data": {
      "text/plain": [
       "'댓글'"
      ]
     },
     "execution_count": 6,
     "metadata": {},
     "output_type": "execute_result"
    }
   ],
   "source": [
    "# comment_count 수 추출\n",
    "comment_count = bs_obj.find('a', {'id':'comment_count'}).text\n",
    "comment_count\n",
    "\n",
    "if comment_count is None:\n",
    "    print('None')"
   ]
  },
  {
   "cell_type": "code",
   "execution_count": 7,
   "id": "60fe0f02-b2f0-42f0-9702-424270b1851e",
   "metadata": {},
   "outputs": [],
   "source": [
    "##################################################################################"
   ]
  },
  {
   "cell_type": "markdown",
   "id": "f4592c04-9256-403c-a9d6-9ec2b01351b4",
   "metadata": {},
   "source": [
    "#### selenium 패키지 모듈 이용한 자동 크롤링\n",
    "- selenium\n",
    "- webdriver 라는 API를 통해 운영체제에 설치된 웹 브라우저를 제어하는 함수를 포함한 패키지\n",
    "- 써드파티라이브러리이기 때문에 설치를 해 줘야 함\n",
    "- !pip install selenium"
   ]
  },
  {
   "cell_type": "markdown",
   "id": "6ace18c5-0b7e-4665-a255-bc8d1b4c3f95",
   "metadata": {},
   "source": [
    "selenium : 동적으로 변하는 값 또는 페이지 크롤링에 사용\n",
    "- webdriver라는 API를 통해 웹 브라우저를 제어하는 도구"
   ]
  },
  {
   "cell_type": "code",
   "execution_count": null,
   "id": "bff11b6f-be13-42ac-bd09-34f767d8bc6f",
   "metadata": {},
   "outputs": [],
   "source": [
    "# selenium 메소드\n",
    "# driver.find_element(By.CLASS_NAME, \"information\")\n",
    "# driver.find_element(By.CSS_SELECTOR, \"#fname\")\n",
    "# driver.find_element(By.ID, \"lname\")\n",
    "# driver.find_element(By.LINK_TEXT, \"Selenium Official Page\")\n",
    "# driver.find_element(By.NAME, \"newsletter\")\n",
    "# driver.find_element(By.PARTIAL_LINK_TEXT, \"Official Page\")\n",
    "# driver.find_element(By.TAG_NAME, \"a\")\n",
    "# driver.find_element(By.XPATH, \"//input[@value='f']\")\n",
    "# driver가 접근한 페이지의 source 추출\n",
    "# html = driver.page_source"
   ]
  },
  {
   "cell_type": "code",
   "execution_count": 39,
   "id": "e7fa998e-4fbe-464a-bc94-176d3c62250d",
   "metadata": {},
   "outputs": [],
   "source": [
    "# !pip install selenium"
   ]
  },
  {
   "cell_type": "code",
   "execution_count": 9,
   "id": "6c658e74-da27-475a-a86c-da2fe3a126e6",
   "metadata": {},
   "outputs": [],
   "source": [
    "import selenium"
   ]
  },
  {
   "cell_type": "code",
   "execution_count": 29,
   "id": "9c130d64-1b45-41a4-9631-b3a4f2e6423f",
   "metadata": {},
   "outputs": [],
   "source": [
    "# !pip show selenium"
   ]
  },
  {
   "cell_type": "code",
   "execution_count": 11,
   "id": "d84ac439-6832-45d3-a672-d1ff8cbec02d",
   "metadata": {},
   "outputs": [],
   "source": [
    "# selenium 버전이 3인 경우 4로 업그레이드 필요\n",
    "# !pip install --upgrade selenium"
   ]
  },
  {
   "cell_type": "code",
   "execution_count": 28,
   "id": "7a4d98bd-5dbf-48fe-b853-849b441ed099",
   "metadata": {},
   "outputs": [],
   "source": [
    "# !pip install webdriver_manager"
   ]
  },
  {
   "cell_type": "code",
   "execution_count": 16,
   "id": "f7596e36-80ed-4ccb-a3ef-ec5c4d1f7d73",
   "metadata": {},
   "outputs": [],
   "source": [
    "import selenium\n",
    "from selenium import webdriver\n",
    "from selenium.webdriver.common.by import By # 셀레니움 4.0부터 포함된 객체(모듈)\n",
    "\n",
    "from selenium.webdriver.chrome.service import Service\n",
    "from webdriver_manager.chrome import ChromeDriverManager"
   ]
  },
  {
   "cell_type": "code",
   "execution_count": 18,
   "id": "35eb49af-c943-439e-855c-233e6d7f8c8d",
   "metadata": {},
   "outputs": [],
   "source": [
    "# (1) webdriver 객체 생성\n",
    "chrome_options = webdriver.ChromeOptions()\n",
    "driver = webdriver.Chrome(service=Service(ChromeDriverManager().install()), options=chrome_options)"
   ]
  },
  {
   "cell_type": "code",
   "execution_count": 19,
   "id": "f06061c2-b132-42f6-8057-a15330962f25",
   "metadata": {},
   "outputs": [],
   "source": [
    "# 페이지 접속\n",
    "driver.get('https://n.news.naver.com/mnews/article/079/0003812365?sid=100')"
   ]
  },
  {
   "cell_type": "code",
   "execution_count": 26,
   "id": "a2d40534-521d-49c7-b27e-5649ae8807ba",
   "metadata": {},
   "outputs": [
    {
     "data": {
      "text/plain": [
       "'2'"
      ]
     },
     "execution_count": 26,
     "metadata": {},
     "output_type": "execute_result"
    },
    {
     "data": {
      "text/plain": [
       "'2'"
      ]
     },
     "execution_count": 26,
     "metadata": {},
     "output_type": "execute_result"
    }
   ],
   "source": [
    "# 좋아요 수 추출\n",
    "\n",
    "# 클래스 선택자로 선택\n",
    "like_num = driver.find_element(By.CSS_SELECTOR, '.u_likeit_text._count.num')\n",
    "like_num.text\n",
    "\n",
    "# 클래스 이름으로 선택\n",
    "like_num = driver.find_element(By.CLASS_NAME, 'u_likeit_text._count.num')\n",
    "like_num.text\n",
    "# 선택자 주의!\n",
    "# 중간에 스페이스 있으면 안됨 : (.)점으로 연결해야 함"
   ]
  },
  {
   "cell_type": "code",
   "execution_count": 27,
   "id": "c2fca815-69b6-4f73-b21c-0698fb77a2bc",
   "metadata": {},
   "outputs": [
    {
     "data": {
      "text/plain": [
       "'36'"
      ]
     },
     "execution_count": 27,
     "metadata": {},
     "output_type": "execute_result"
    }
   ],
   "source": [
    "# 댓글 수 추출 : 'a', {'id':comment_count'}\n",
    "comment_count = driver.find_element(By.ID, 'comment_count')\n",
    "comment_count.text"
   ]
  },
  {
   "cell_type": "code",
   "execution_count": 38,
   "id": "0f3d1373-a9d8-4ad1-8260-d08db7d5f688",
   "metadata": {},
   "outputs": [
    {
     "data": {
      "text/plain": [
       "'노컷뉴스'"
      ]
     },
     "execution_count": 38,
     "metadata": {},
     "output_type": "execute_result"
    },
    {
     "data": {
      "text/plain": [
       "'尹 \"가짜뉴스, AI 이용해 빠른 속도 확산…자유민주주의 훼손, 미래 망쳐\"'"
      ]
     },
     "execution_count": 38,
     "metadata": {},
     "output_type": "execute_result"
    },
    {
     "data": {
      "text/plain": [
       "'2023.09.13. 오후 3:07'"
      ]
     },
     "execution_count": 38,
     "metadata": {},
     "output_type": "execute_result"
    }
   ],
   "source": [
    "# 정적 데이터로 셀레니움 사용 가능\n",
    "paper = driver.find_element(By.CSS_SELECTOR, '.media_end_head_top_logo img')\n",
    "paper.get_attribute('title') # <img> 태그의 title 속성값 추출\n",
    "\n",
    "title = driver.find_element(By.CSS_SELECTOR, '.media_end_head_title').text\n",
    "title\n",
    "\n",
    "datetime = driver.find_element(By.CSS_SELECTOR, '.media_end_head_info_datestamp_time._ARTICLE_DATE_TIME').text\n",
    "datetime"
   ]
  },
  {
   "cell_type": "code",
   "execution_count": 31,
   "id": "e6fb6672-3fe9-47ce-9e70-583c56e448ac",
   "metadata": {},
   "outputs": [
    {
     "data": {
      "text/plain": [
       "'노컷뉴스'"
      ]
     },
     "execution_count": 31,
     "metadata": {},
     "output_type": "execute_result"
    },
    {
     "data": {
      "text/plain": [
       "'尹 \"가짜뉴스, AI 이용해 빠른 속도 확산…자유민주주의 훼손, 미래 망쳐\"'"
      ]
     },
     "execution_count": 31,
     "metadata": {},
     "output_type": "execute_result"
    },
    {
     "data": {
      "text/plain": [
       "'2023.09.13. 오후 3:07'"
      ]
     },
     "execution_count": 31,
     "metadata": {},
     "output_type": "execute_result"
    }
   ],
   "source": [
    "# 정적 크롤링으로 데이터 추출\n",
    "\n",
    "paper = bs_obj.find('a', {'class':'media_end_head_top_logo'}).select_one('img')['title']\n",
    "paper\n",
    "\n",
    "title = bs_obj.find('h2', {'class':'media_end_head_headline'}).select_one('span').text\n",
    "title\n",
    "\n",
    "datetime = bs_obj.find('div', {'class':'media_end_head_info_datestamp_bunch'}).select_one('span').text\n",
    "datetime"
   ]
  },
  {
   "cell_type": "code",
   "execution_count": null,
   "id": "a1b42ae9-8d6b-449a-a73e-87527eb62812",
   "metadata": {},
   "outputs": [],
   "source": []
  },
  {
   "cell_type": "code",
   "execution_count": null,
   "id": "a889a7f4-c04b-489d-a6ab-37e8ba4416b7",
   "metadata": {},
   "outputs": [],
   "source": [
    "# find_elements() : 여러 객체를 리스트로 반환\n",
    "dates = driver.find_elements(By.CSS_SELECTOR, 'media_end"
   ]
  },
  {
   "cell_type": "code",
   "execution_count": null,
   "id": "9757982f-8134-401b-9641-156e4c93c7e0",
   "metadata": {},
   "outputs": [],
   "source": [
    "driver.close()"
   ]
  },
  {
   "cell_type": "code",
   "execution_count": null,
   "id": "7efef453-179c-462a-87aa-993605c324de",
   "metadata": {},
   "outputs": [],
   "source": [
    "# 주의!\n",
    "# driver를 통해서 연 브라우저는 driver.close() 해서 닫음\n",
    "# 다시 (1) webdriver 객체 생성을 할 때 오류가 발생하면\n",
    "# (1) kernal / Restart Kernal...\n",
    "# 그래도 오류나면 주피터 노트북을 닫고 다시 실행시켜야 함"
   ]
  }
 ],
 "metadata": {
  "kernelspec": {
   "display_name": "Python 3 (ipykernel)",
   "language": "python",
   "name": "python3"
  },
  "language_info": {
   "codemirror_mode": {
    "name": "ipython",
    "version": 3
   },
   "file_extension": ".py",
   "mimetype": "text/x-python",
   "name": "python",
   "nbconvert_exporter": "python",
   "pygments_lexer": "ipython3",
   "version": "3.11.5"
  }
 },
 "nbformat": 4,
 "nbformat_minor": 5
}
