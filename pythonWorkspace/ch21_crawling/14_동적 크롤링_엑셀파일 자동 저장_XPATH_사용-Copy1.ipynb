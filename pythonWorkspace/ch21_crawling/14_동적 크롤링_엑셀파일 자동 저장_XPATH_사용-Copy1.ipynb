{
 "cells": [
  {
   "cell_type": "markdown",
   "id": "e53e5d0b-2024-481e-ab0f-2425c6787c37",
   "metadata": {},
   "source": [
    "### 서울시 주유소 가격 정보를 갖고 있는 엑셀 파일 자동 다운로드\n",
    "- XPATH 사용"
   ]
  },
  {
   "cell_type": "markdown",
   "id": "af1cea0f-93f0-432f-bffb-8189c5567210",
   "metadata": {},
   "source": [
    "XPATH\n",
    "- XML Path Language\n",
    "- XML 문서의 특정 요소 속성에 접근하기 위한 경로를 지정하는 언어\n",
    "- XPATH 식 : 경로식 사용, 수학함수 기타 확장 가능한 표현(기호) 사용"
   ]
  },
  {
   "cell_type": "markdown",
   "id": "ae2aff70-f2b7-4649-b37e-3538150536d0",
   "metadata": {},
   "source": [
    "#### opinet 사이트\n",
    "https://www.opinet.co.kr/user/main/mainView.do     \n",
    "주유소의 가격을 비교하는 사이트"
   ]
  },
  {
   "cell_type": "markdown",
   "id": "7824b782-13a2-4891-b25c-f7985890765d",
   "metadata": {},
   "source": [
    "메뉴에서 [싼 주유소 찾기] / [지역별]  \r",
    "이 페이지부터 시작  \r",
    "https://www.opinet.co.kr/searRgSelect.do  \r",
    "접속한 지역으로 자동 설정됨  \r",
    "지역을 [서울]로 선택  "
   ]
  },
  {
   "cell_type": "code",
   "execution_count": 1,
   "id": "5ba81e83-125a-4004-a8f2-80a96cbc0152",
   "metadata": {},
   "outputs": [],
   "source": [
    "from IPython.core.interactiveshell import InteractiveShell\n",
    "InteractiveShell.ast_node_interactivity=\"all\"\n",
    "from urllib.request import urlopen\n",
    "import bs4\n",
    "import pandas as pd\n",
    "import requests"
   ]
  },
  {
   "cell_type": "code",
   "execution_count": 2,
   "id": "da76634f-41d0-441c-bed5-6dbe6b7a1da9",
   "metadata": {},
   "outputs": [],
   "source": [
    "url = 'https://www.opinet.co.kr/searRgSelect.do'\n",
    "html = urlopen(url)\n",
    "bs_obj = bs4.BeautifulSoup(html, 'html.parser')"
   ]
  },
  {
   "cell_type": "code",
   "execution_count": 3,
   "id": "60d8856c-a9bd-4fec-aa18-2290817c5cdc",
   "metadata": {},
   "outputs": [],
   "source": [
    "import selenium\n",
    "from selenium import webdriver\n",
    "from selenium.webdriver.common.by import By # 셀레니움 4.0부터 포함된 객체(모듈)\n",
    "\n",
    "from selenium.webdriver.chrome.service import Service\n",
    "from webdriver_manager.chrome import ChromeDriverManager"
   ]
  },
  {
   "cell_type": "code",
   "execution_count": 4,
   "id": "1397c159-c526-4104-a58f-95820b1f572f",
   "metadata": {},
   "outputs": [],
   "source": [
    "chrome_options = webdriver.ChromeOptions()\n",
    "driver = webdriver.Chrome(service=Service(ChromeDriverManager().install()), options=chrome_options)\n",
    "# 페이지 접속\n",
    "driver.get(url)\n",
    "\n",
    "# 다른 지역에서 접속시 페이지 열리면\n",
    "# 서울 강남구 선택"
   ]
  },
  {
   "cell_type": "code",
   "execution_count": 5,
   "id": "fc284948-beec-4788-999c-68f897e93fd1",
   "metadata": {},
   "outputs": [],
   "source": [
    "# XPATH 값 복사하기\n",
    "# 개발자도구 열고 [강남구] select 태그\n",
    "# 선택하고 우클릭 / [Copy] / [Copy Xpath]\n",
    "#  //*[@id=\"SIGUNGU_NM0\"]"
   ]
  },
  {
   "cell_type": "code",
   "execution_count": 7,
   "id": "0f36741b-67dd-4dbe-9079-97f886bdeba1",
   "metadata": {},
   "outputs": [],
   "source": [
    "# Xpath : //*[@id=\"SIGUNGU_NM0\"]\n",
    "# Xpath 사용\n",
    "xpath = '//*[@id=\"SIGUNGU_NM0\"]'\n",
    "gu_list_raw = driver.find_element(By.XPATH, xpath)\n",
    "# gu_list_raw \n",
    "\n",
    "gu_list = gu_list_raw.find_elements(By.TAG_NAME, 'option')\n",
    "# gu_list"
   ]
  },
  {
   "cell_type": "code",
   "execution_count": 8,
   "id": "60f5dc55-5366-43f9-a1b9-659b438e372a",
   "metadata": {},
   "outputs": [
    {
     "data": {
      "text/plain": [
       "['강남구',\n",
       " '강동구',\n",
       " '강북구',\n",
       " '강서구',\n",
       " '관악구',\n",
       " '광진구',\n",
       " '구로구',\n",
       " '금천구',\n",
       " '노원구',\n",
       " '도봉구',\n",
       " '동대문구',\n",
       " '동작구',\n",
       " '마포구',\n",
       " '서대문구',\n",
       " '서초구',\n",
       " '성동구',\n",
       " '성북구',\n",
       " '송파구',\n",
       " '양천구',\n",
       " '영등포구',\n",
       " '용산구',\n",
       " '은평구',\n",
       " '종로구',\n",
       " '중구',\n",
       " '중랑구']"
      ]
     },
     "execution_count": 8,
     "metadata": {},
     "output_type": "execute_result"
    }
   ],
   "source": [
    "# element에서 속성값 추출 \n",
    "# <select> 태그 내의 <option> 태그의 value 속성\n",
    "gu_name_list = [ opt.get_attribute('value')  for opt in gu_list ]\n",
    "gu_name_list.remove('')\n",
    "gu_name_list"
   ]
  },
  {
   "cell_type": "code",
   "execution_count": 9,
   "id": "c188d82e-35c1-4238-8559-afd036f01744",
   "metadata": {},
   "outputs": [],
   "source": [
    "# 테스트\n",
    "# gu_name_list에 이쓴 구 이름에 해당되는 페이지가 동적으로 바뀌는지 확인\n",
    "# 첫 번째 구 이름(강남구)으로 확인\n",
    "sigungu_sel = driver.find_element(By.ID, 'SIGUNGU_NM0') # 첫 번째 강남구\n",
    "\n",
    "# option 태그의 value 값을 가져와서 \n",
    "# send_keys(구이름) 호출하면서 전달 (입력 값 전달)\n",
    "# 입력값에 해당되는 화면으로 전환되고\n",
    "# 전환된  화면에 바뀐 데이터 출력 \n",
    "\n",
    "sigungu_sel.send_keys(gu_name_list[2]) # 강북구 값 전달 \n",
    "# 인덱스 숫자 변경하면 지도에서 해당구의 지도로 자동 변경되는지 확인\n",
    "# send_keys() : 값을 전달해서 웹 브라우저 내용을 동적으로 변경하는 메소드"
   ]
  },
  {
   "cell_type": "code",
   "execution_count": 10,
   "id": "b37f5ae1-7249-4c5c-996c-9ffe95064788",
   "metadata": {},
   "outputs": [],
   "source": [
    "# 선택자로 선택\n",
    "# 기능 수행 : 다음 페이지로 전환해서 페이지 내의 데이터 추출\n",
    "# 기능 수행 메소드 2가지 방법\n",
    "# (1) send_keys()\n",
    "# (2) click()"
   ]
  },
  {
   "cell_type": "code",
   "execution_count": 11,
   "id": "9dae4fac-a961-4698-ad31-be5aea841669",
   "metadata": {},
   "outputs": [],
   "source": [
    "# 엑셀 파일  자동 저장\n",
    "# 왼쪽 주유 가격 맨 아래에 [엑셀저장] 버튼을 자동 실행시켜서\n",
    "# 모든 구의  주유  정보를 포함하는 엑셀 파일을 자동으로 다운로드"
   ]
  },
  {
   "cell_type": "code",
   "execution_count": 12,
   "id": "ade8de91-6635-410f-92f0-45d69533331b",
   "metadata": {},
   "outputs": [],
   "source": [
    "# 테스트 : 1개 파일 다운로드 되는지 확인\n",
    "# //*[@id=\"glopopd_excel\"]\n",
    "excel_path = driver.find_element(By.XPATH, '//*[@id=\"glopopd_excel\"]')\n",
    "excel_path.click()"
   ]
  },
  {
   "cell_type": "code",
   "execution_count": 13,
   "id": "03c24f5d-ba0f-45a6-8b00-2ee6b308f738",
   "metadata": {},
   "outputs": [],
   "source": [
    "from tqdm.notebook import tqdm\n",
    "import time"
   ]
  },
  {
   "cell_type": "code",
   "execution_count": 14,
   "id": "5eb28bde-9f88-4623-b2be-09509434af3d",
   "metadata": {},
   "outputs": [
    {
     "data": {
      "application/vnd.jupyter.widget-view+json": {
       "model_id": "0a6fc7e2648747148faa0e8336f1498c",
       "version_major": 2,
       "version_minor": 0
      },
      "text/plain": [
       "  0%|          | 0/25 [00:00<?, ?it/s]"
      ]
     },
     "metadata": {},
     "output_type": "display_data"
    }
   ],
   "source": [
    "for gu in tqdm(gu_name_list) : # 구별 페이지에서 데이터 추출하는 진행상황 표시 (프로그레스 바 출력)\n",
    "    # 구별로 '구이름' 값 전달하고(입력) 동적 페이지 실행\n",
    "    sigungu_sel = driver.find_element(By.XPATH, '//*[@id=\"SIGUNGU_NM0\"]')\n",
    "    sigungu_sel.send_keys(gu)\n",
    "\n",
    "    time.sleep(2) # 2초 딜레이\n",
    "\n",
    "    # [엑셀저장] 버튼 클릭 실행\n",
    "    excel_path = driver.find_element(By.XPATH, '//*[@id=\"glopopd_excel\"]')\n",
    "    excel_path.click()\n",
    "\n",
    "    time.sleep(2)"
   ]
  },
  {
   "cell_type": "code",
   "execution_count": 16,
   "id": "5bdbafc9-974f-4f0a-b6f0-bfedd1bfb261",
   "metadata": {},
   "outputs": [],
   "source": [
    "driver.close()"
   ]
  },
  {
   "cell_type": "code",
   "execution_count": null,
   "id": "542edbc9-763b-49e0-8745-f533e90dca4a",
   "metadata": {},
   "outputs": [],
   "source": []
  },
  {
   "cell_type": "code",
   "execution_count": null,
   "id": "6e2813ca-4183-4f0f-8e49-bd5ec6ce23b5",
   "metadata": {},
   "outputs": [],
   "source": []
  },
  {
   "cell_type": "code",
   "execution_count": null,
   "id": "a17bd842-22d5-40d0-a49b-dae6c979edaa",
   "metadata": {},
   "outputs": [],
   "source": [
    "# driver.close()"
   ]
  }
 ],
 "metadata": {
  "kernelspec": {
   "display_name": "Python 3 (ipykernel)",
   "language": "python",
   "name": "python3"
  },
  "language_info": {
   "codemirror_mode": {
    "name": "ipython",
    "version": 3
   },
   "file_extension": ".py",
   "mimetype": "text/x-python",
   "name": "python",
   "nbconvert_exporter": "python",
   "pygments_lexer": "ipython3",
   "version": "3.11.5"
  }
 },
 "nbformat": 4,
 "nbformat_minor": 5
}
