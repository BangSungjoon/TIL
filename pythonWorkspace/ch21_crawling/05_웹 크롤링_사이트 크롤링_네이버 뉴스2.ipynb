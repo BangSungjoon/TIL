{
 "cells": [
  {
   "cell_type": "markdown",
   "id": "2f7f5878-6242-43f0-8b09-bdd9a8e4462a",
   "metadata": {},
   "source": [
    "### (1) 네이버 뉴스 섹션별 헤드라인(topic) 페이지 크롤링"
   ]
  },
  {
   "cell_type": "code",
   "execution_count": 1,
   "id": "ab420c3d-e3b4-4a24-8fdb-6836e9aa6aeb",
   "metadata": {},
   "outputs": [],
   "source": [
    "from IPython.core.interactiveshell import InteractiveShell\n",
    "InteractiveShell.ast_node_interactivity=\"all\""
   ]
  },
  {
   "cell_type": "code",
   "execution_count": 2,
   "id": "5462a19b-378a-4f00-94ee-616f9e0f4eab",
   "metadata": {},
   "outputs": [],
   "source": [
    "from urllib.request import urlopen\n",
    "import bs4"
   ]
  },
  {
   "cell_type": "code",
   "execution_count": 3,
   "id": "62eeb207-2417-47e4-83c1-0d8049c6f9a0",
   "metadata": {},
   "outputs": [],
   "source": [
    "import pandas as pd"
   ]
  },
  {
   "cell_type": "code",
   "execution_count": 4,
   "id": "b84505a7-ee56-4e30-b298-933bcc14ea15",
   "metadata": {},
   "outputs": [
    {
     "data": {
      "text/html": [
       "<div>\n",
       "<style scoped>\n",
       "    .dataframe tbody tr th:only-of-type {\n",
       "        vertical-align: middle;\n",
       "    }\n",
       "\n",
       "    .dataframe tbody tr th {\n",
       "        vertical-align: top;\n",
       "    }\n",
       "\n",
       "    .dataframe thead th {\n",
       "        text-align: right;\n",
       "    }\n",
       "</style>\n",
       "<table border=\"1\" class=\"dataframe\">\n",
       "  <thead>\n",
       "    <tr style=\"text-align: right;\">\n",
       "      <th></th>\n",
       "      <th>section</th>\n",
       "      <th>link</th>\n",
       "    </tr>\n",
       "  </thead>\n",
       "  <tbody>\n",
       "    <tr>\n",
       "      <th>0</th>\n",
       "      <td>언론사별</td>\n",
       "      <td>https://news.naver.com/?viewType=pc</td>\n",
       "    </tr>\n",
       "    <tr>\n",
       "      <th>1</th>\n",
       "      <td>정치</td>\n",
       "      <td>https://news.naver.com/main/main.naver?mode=LS...</td>\n",
       "    </tr>\n",
       "    <tr>\n",
       "      <th>2</th>\n",
       "      <td>경제</td>\n",
       "      <td>https://news.naver.com/main/main.naver?mode=LS...</td>\n",
       "    </tr>\n",
       "    <tr>\n",
       "      <th>3</th>\n",
       "      <td>사회</td>\n",
       "      <td>https://news.naver.com/main/main.naver?mode=LS...</td>\n",
       "    </tr>\n",
       "    <tr>\n",
       "      <th>4</th>\n",
       "      <td>생활/문화</td>\n",
       "      <td>https://news.naver.com/main/main.naver?mode=LS...</td>\n",
       "    </tr>\n",
       "    <tr>\n",
       "      <th>5</th>\n",
       "      <td>IT/과학</td>\n",
       "      <td>https://news.naver.com/main/main.naver?mode=LS...</td>\n",
       "    </tr>\n",
       "    <tr>\n",
       "      <th>6</th>\n",
       "      <td>세계</td>\n",
       "      <td>https://news.naver.com/main/main.naver?mode=LS...</td>\n",
       "    </tr>\n",
       "    <tr>\n",
       "      <th>7</th>\n",
       "      <td>랭킹</td>\n",
       "      <td>https://news.naver.com/main/ranking/popularDay...</td>\n",
       "    </tr>\n",
       "    <tr>\n",
       "      <th>8</th>\n",
       "      <td>신문보기</td>\n",
       "      <td>https://news.naver.com/newspaper/home?viewType=pc</td>\n",
       "    </tr>\n",
       "    <tr>\n",
       "      <th>9</th>\n",
       "      <td>오피니언</td>\n",
       "      <td>https://news.naver.com/opinion/home</td>\n",
       "    </tr>\n",
       "    <tr>\n",
       "      <th>10</th>\n",
       "      <td>TV</td>\n",
       "      <td>https://news.naver.com/main/tv/index.naver?mid...</td>\n",
       "    </tr>\n",
       "    <tr>\n",
       "      <th>11</th>\n",
       "      <td>팩트체크</td>\n",
       "      <td>https://news.naver.com/main/factcheck/main.naver</td>\n",
       "    </tr>\n",
       "    <tr>\n",
       "      <th>12</th>\n",
       "      <td>알고리즘 안내</td>\n",
       "      <td>https://media.naver.com/algorithm</td>\n",
       "    </tr>\n",
       "  </tbody>\n",
       "</table>\n",
       "</div>"
      ],
      "text/plain": [
       "    section                                               link\n",
       "0      언론사별                https://news.naver.com/?viewType=pc\n",
       "1        정치  https://news.naver.com/main/main.naver?mode=LS...\n",
       "2        경제  https://news.naver.com/main/main.naver?mode=LS...\n",
       "3        사회  https://news.naver.com/main/main.naver?mode=LS...\n",
       "4     생활/문화  https://news.naver.com/main/main.naver?mode=LS...\n",
       "5     IT/과학  https://news.naver.com/main/main.naver?mode=LS...\n",
       "6        세계  https://news.naver.com/main/main.naver?mode=LS...\n",
       "7        랭킹  https://news.naver.com/main/ranking/popularDay...\n",
       "8      신문보기  https://news.naver.com/newspaper/home?viewType=pc\n",
       "9      오피니언                https://news.naver.com/opinion/home\n",
       "10       TV  https://news.naver.com/main/tv/index.naver?mid...\n",
       "11     팩트체크   https://news.naver.com/main/factcheck/main.naver\n",
       "12  알고리즘 안내                  https://media.naver.com/algorithm"
      ]
     },
     "execution_count": 4,
     "metadata": {},
     "output_type": "execute_result"
    }
   ],
   "source": [
    "# 네이버 뉴스1에서 저장한 naver_news_section.csv 읽어오기\n",
    "section_menu_df = pd.read_csv('./crawl_data/naver_news_section.csv')\n",
    "section_menu_df"
   ]
  },
  {
   "cell_type": "code",
   "execution_count": 5,
   "id": "966f76e7-e6f9-448f-9c56-127e6878e6ab",
   "metadata": {},
   "outputs": [
    {
     "data": {
      "text/plain": [
       "'https://news.naver.com/main/main.naver?mode=LSD&mid=shm&sid1=101'"
      ]
     },
     "execution_count": 5,
     "metadata": {},
     "output_type": "execute_result"
    }
   ],
   "source": [
    "# 경제 섹션 링크 확인\n",
    "section_menu_df['link'][2]"
   ]
  },
  {
   "cell_type": "code",
   "execution_count": 6,
   "id": "c58ab0ac-4c3b-4612-b9fa-e894a27961ed",
   "metadata": {},
   "outputs": [],
   "source": [
    "url = section_menu_df['link'][2]\n",
    "html = urlopen(url)\n",
    "bs_obj = bs4.BeautifulSoup(html, 'html.parser')"
   ]
  },
  {
   "cell_type": "code",
   "execution_count": 7,
   "id": "8c81f4ab-1dcb-474f-a268-db2b09c0e443",
   "metadata": {},
   "outputs": [],
   "source": [
    "#bs_obj"
   ]
  },
  {
   "cell_type": "code",
   "execution_count": 8,
   "id": "8069b4c7-e7d9-46d7-8e35-2798523484f0",
   "metadata": {},
   "outputs": [],
   "source": [
    "# 네이버 뉴스 섹션을 확인하려면 \n",
    "# 섹션별 헤드라인(topic)이 있고\n",
    "# topic의 title과 link를 크롤링할 예정"
   ]
  },
  {
   "cell_type": "code",
   "execution_count": 9,
   "id": "2cc1e5af-23a0-44eb-b8d1-b56c16fa01dd",
   "metadata": {},
   "outputs": [
    {
     "data": {
      "text/plain": [
       "10"
      ]
     },
     "execution_count": 9,
     "metadata": {},
     "output_type": "execute_result"
    }
   ],
   "source": [
    "# 헤드라인 뉴스에서 각 topic 추출 : <div class='sh_text'>\n",
    "# 섹션 중에서 정치 ~ 세계 6개 섹션에 동일한 포맷\n",
    "topic_list = bs_obj.findAll('div',{'class':'sh_text'})\n",
    "len(topic_list)"
   ]
  },
  {
   "cell_type": "code",
   "execution_count": 10,
   "id": "1b7039bd-8861-4d53-960e-2c70e7fd9bd9",
   "metadata": {},
   "outputs": [
    {
     "data": {
      "text/plain": [
       "10"
      ]
     },
     "execution_count": 10,
     "metadata": {},
     "output_type": "execute_result"
    }
   ],
   "source": [
    "# select로 하는법\n",
    "topic_list2 = bs_obj.select('div.sh_text')\n",
    "len(topic_list2)"
   ]
  },
  {
   "cell_type": "code",
   "execution_count": 11,
   "id": "8d2b63af-7797-4cbe-b0e0-3d51246491c5",
   "metadata": {},
   "outputs": [
    {
     "data": {
      "text/plain": [
       "<a class=\"sh_text_headline nclicks(cls_eco.clsart)\" href=\"https://n.news.naver.com/mnews/article/052/0001934918?sid=101\">취업자 증가 두 달째 20만 명대...제조업 8개월 연속 감소</a>"
      ]
     },
     "execution_count": 11,
     "metadata": {},
     "output_type": "execute_result"
    },
    {
     "data": {
      "text/plain": [
       "'취업자 증가 두 달째 20만 명대...제조업 8개월 연속 감소'"
      ]
     },
     "execution_count": 11,
     "metadata": {},
     "output_type": "execute_result"
    },
    {
     "data": {
      "text/plain": [
       "'https://n.news.naver.com/mnews/article/052/0001934918?sid=101'"
      ]
     },
     "execution_count": 11,
     "metadata": {},
     "output_type": "execute_result"
    }
   ],
   "source": [
    "# topic_list 에서는 <a>태그의 text는 제목, href 속성은 링크에 해당\n",
    "# 첫 번째 1개만 확인\n",
    "topic_list[0].find('a')\n",
    "topic_list[0].find('a').text\n",
    "topic_list[0].find('a')['href']"
   ]
  },
  {
   "cell_type": "code",
   "execution_count": 12,
   "id": "40c617f7-01ca-4518-a7b7-947ecf378779",
   "metadata": {},
   "outputs": [
    {
     "name": "stdout",
     "output_type": "stream",
     "text": [
      "취업자 증가 두 달째 20만 명대...제조업 8개월 연속 감소\n",
      "https://n.news.naver.com/mnews/article/052/0001934918?sid=101\n",
      "1만1000명 방문한 '코리아 핀테크 위크' 성료\n",
      "https://n.news.naver.com/mnews/article/018/0005573856?sid=101\n",
      "2억원 넘는 법인명의 수입차 4만대 넘어\n",
      "https://n.news.naver.com/mnews/article/366/0000931654?sid=101\n",
      "5년 만에 한·아프리카 경협 장관회의…공동선언문 발표\n",
      "https://n.news.naver.com/mnews/article/003/0012084953?sid=101\n",
      "경북도·의회·교육청 \"우리 수산물 안심하고 드세요\"\n",
      "https://n.news.naver.com/mnews/article/079/0003811922?sid=101\n",
      "국제유가 또 연중 최고치 경신…\"공급 줄어도 수요 여전\"\n",
      "https://n.news.naver.com/mnews/article/018/0005573551?sid=101\n",
      "\"원하는 기능 다 구현\"…카페24, 삼양사 쇼핑몰 '서브큐몰' 구축 지원\n",
      "https://n.news.naver.com/mnews/article/421/0007046478?sid=101\n",
      "수입물가 17개월 만에 최대 상승‥고유가 영향\n",
      "https://n.news.naver.com/mnews/article/214/0001299595?sid=101\n",
      "삼성라이프사이언스펀드 첫 국내 투자는 'ADC'…에임드바이오 낙점\n",
      "https://n.news.naver.com/mnews/article/277/0005313484?sid=101\n",
      "\"명의도용 가입·대가로 현금 지급\"…보험설계사 불법영업 적발\n",
      "https://n.news.naver.com/mnews/article/277/0005313591?sid=101\n"
     ]
    }
   ],
   "source": [
    "# topic_list에서 전체 title과 link 출력\n",
    "# 반복문 사용 + 예외 처리 (try ~ except)\n",
    "\n",
    "for topic in topic_list:\n",
    "    try:\n",
    "        a = topic.find('a')\n",
    "        print(a.text)\n",
    "        print(a['href'])\n",
    "    except:\n",
    "        print('오류 발생')\n",
    "        pass\n",
    "    "
   ]
  },
  {
   "cell_type": "markdown",
   "id": "bc772c56-8af9-42f7-b8ed-95d0f49ca5f2",
   "metadata": {},
   "source": [
    "#### 수집한 데이터를 데이터프레임으로 생성하고, 파일로 저장"
   ]
  },
  {
   "cell_type": "code",
   "execution_count": 13,
   "id": "afcf7590-e0f0-44f6-99d5-be3400f47e74",
   "metadata": {},
   "outputs": [],
   "source": [
    "# 빈 리스트 생성\n",
    "topic_title = []\n",
    "topic_link = []"
   ]
  },
  {
   "cell_type": "code",
   "execution_count": 14,
   "id": "dca91aa6-8bed-40b7-9ab9-ec1c193eb401",
   "metadata": {},
   "outputs": [],
   "source": [
    "# topic의 title과 link를 리스트에 저장\n",
    "for topic in topic_list:\n",
    "    try :\n",
    "        a = topic.find('a')\n",
    "        topic_title.append(a.text)\n",
    "        topic_link.append(a['href'])\n",
    "    except:\n",
    "        print('오류 발생')\n",
    "        # pass"
   ]
  },
  {
   "cell_type": "code",
   "execution_count": 15,
   "id": "d2955373-8a19-4e12-b801-86cd1da6f548",
   "metadata": {},
   "outputs": [
    {
     "data": {
      "text/plain": [
       "['취업자 증가 두 달째 20만 명대...제조업 8개월 연속 감소',\n",
       " \"1만1000명 방문한 '코리아 핀테크 위크' 성료\",\n",
       " '2억원 넘는 법인명의 수입차 4만대 넘어',\n",
       " '5년 만에 한·아프리카 경협 장관회의…공동선언문 발표',\n",
       " '경북도·의회·교육청 \"우리 수산물 안심하고 드세요\"',\n",
       " '국제유가 또 연중 최고치 경신…\"공급 줄어도 수요 여전\"',\n",
       " '\"원하는 기능 다 구현\"…카페24, 삼양사 쇼핑몰 \\'서브큐몰\\' 구축 지원',\n",
       " '수입물가 17개월 만에 최대 상승‥고유가 영향',\n",
       " \"삼성라이프사이언스펀드 첫 국내 투자는 'ADC'…에임드바이오 낙점\",\n",
       " '\"명의도용 가입·대가로 현금 지급\"…보험설계사 불법영업 적발']"
      ]
     },
     "execution_count": 15,
     "metadata": {},
     "output_type": "execute_result"
    },
    {
     "data": {
      "text/plain": [
       "['https://n.news.naver.com/mnews/article/052/0001934918?sid=101',\n",
       " 'https://n.news.naver.com/mnews/article/018/0005573856?sid=101',\n",
       " 'https://n.news.naver.com/mnews/article/366/0000931654?sid=101',\n",
       " 'https://n.news.naver.com/mnews/article/003/0012084953?sid=101',\n",
       " 'https://n.news.naver.com/mnews/article/079/0003811922?sid=101',\n",
       " 'https://n.news.naver.com/mnews/article/018/0005573551?sid=101',\n",
       " 'https://n.news.naver.com/mnews/article/421/0007046478?sid=101',\n",
       " 'https://n.news.naver.com/mnews/article/214/0001299595?sid=101',\n",
       " 'https://n.news.naver.com/mnews/article/277/0005313484?sid=101',\n",
       " 'https://n.news.naver.com/mnews/article/277/0005313591?sid=101']"
      ]
     },
     "execution_count": 15,
     "metadata": {},
     "output_type": "execute_result"
    }
   ],
   "source": [
    "topic_title\n",
    "topic_link"
   ]
  },
  {
   "cell_type": "code",
   "execution_count": 16,
   "id": "cc43633f-fb1d-4b14-9b16-f6d2d86a8039",
   "metadata": {},
   "outputs": [
    {
     "data": {
      "text/html": [
       "<div>\n",
       "<style scoped>\n",
       "    .dataframe tbody tr th:only-of-type {\n",
       "        vertical-align: middle;\n",
       "    }\n",
       "\n",
       "    .dataframe tbody tr th {\n",
       "        vertical-align: top;\n",
       "    }\n",
       "\n",
       "    .dataframe thead th {\n",
       "        text-align: right;\n",
       "    }\n",
       "</style>\n",
       "<table border=\"1\" class=\"dataframe\">\n",
       "  <thead>\n",
       "    <tr style=\"text-align: right;\">\n",
       "      <th></th>\n",
       "      <th>title</th>\n",
       "      <th>url</th>\n",
       "    </tr>\n",
       "  </thead>\n",
       "  <tbody>\n",
       "    <tr>\n",
       "      <th>0</th>\n",
       "      <td>취업자 증가 두 달째 20만 명대...제조업 8개월 연속 감소</td>\n",
       "      <td>https://n.news.naver.com/mnews/article/052/000...</td>\n",
       "    </tr>\n",
       "    <tr>\n",
       "      <th>1</th>\n",
       "      <td>1만1000명 방문한 '코리아 핀테크 위크' 성료</td>\n",
       "      <td>https://n.news.naver.com/mnews/article/018/000...</td>\n",
       "    </tr>\n",
       "    <tr>\n",
       "      <th>2</th>\n",
       "      <td>2억원 넘는 법인명의 수입차 4만대 넘어</td>\n",
       "      <td>https://n.news.naver.com/mnews/article/366/000...</td>\n",
       "    </tr>\n",
       "    <tr>\n",
       "      <th>3</th>\n",
       "      <td>5년 만에 한·아프리카 경협 장관회의…공동선언문 발표</td>\n",
       "      <td>https://n.news.naver.com/mnews/article/003/001...</td>\n",
       "    </tr>\n",
       "    <tr>\n",
       "      <th>4</th>\n",
       "      <td>경북도·의회·교육청 \"우리 수산물 안심하고 드세요\"</td>\n",
       "      <td>https://n.news.naver.com/mnews/article/079/000...</td>\n",
       "    </tr>\n",
       "    <tr>\n",
       "      <th>5</th>\n",
       "      <td>국제유가 또 연중 최고치 경신…\"공급 줄어도 수요 여전\"</td>\n",
       "      <td>https://n.news.naver.com/mnews/article/018/000...</td>\n",
       "    </tr>\n",
       "    <tr>\n",
       "      <th>6</th>\n",
       "      <td>\"원하는 기능 다 구현\"…카페24, 삼양사 쇼핑몰 '서브큐몰' 구축 지원</td>\n",
       "      <td>https://n.news.naver.com/mnews/article/421/000...</td>\n",
       "    </tr>\n",
       "    <tr>\n",
       "      <th>7</th>\n",
       "      <td>수입물가 17개월 만에 최대 상승‥고유가 영향</td>\n",
       "      <td>https://n.news.naver.com/mnews/article/214/000...</td>\n",
       "    </tr>\n",
       "    <tr>\n",
       "      <th>8</th>\n",
       "      <td>삼성라이프사이언스펀드 첫 국내 투자는 'ADC'…에임드바이오 낙점</td>\n",
       "      <td>https://n.news.naver.com/mnews/article/277/000...</td>\n",
       "    </tr>\n",
       "    <tr>\n",
       "      <th>9</th>\n",
       "      <td>\"명의도용 가입·대가로 현금 지급\"…보험설계사 불법영업 적발</td>\n",
       "      <td>https://n.news.naver.com/mnews/article/277/000...</td>\n",
       "    </tr>\n",
       "  </tbody>\n",
       "</table>\n",
       "</div>"
      ],
      "text/plain": [
       "                                      title  \\\n",
       "0        취업자 증가 두 달째 20만 명대...제조업 8개월 연속 감소   \n",
       "1               1만1000명 방문한 '코리아 핀테크 위크' 성료   \n",
       "2                    2억원 넘는 법인명의 수입차 4만대 넘어   \n",
       "3             5년 만에 한·아프리카 경협 장관회의…공동선언문 발표   \n",
       "4              경북도·의회·교육청 \"우리 수산물 안심하고 드세요\"   \n",
       "5           국제유가 또 연중 최고치 경신…\"공급 줄어도 수요 여전\"   \n",
       "6  \"원하는 기능 다 구현\"…카페24, 삼양사 쇼핑몰 '서브큐몰' 구축 지원   \n",
       "7                 수입물가 17개월 만에 최대 상승‥고유가 영향   \n",
       "8      삼성라이프사이언스펀드 첫 국내 투자는 'ADC'…에임드바이오 낙점   \n",
       "9         \"명의도용 가입·대가로 현금 지급\"…보험설계사 불법영업 적발   \n",
       "\n",
       "                                                 url  \n",
       "0  https://n.news.naver.com/mnews/article/052/000...  \n",
       "1  https://n.news.naver.com/mnews/article/018/000...  \n",
       "2  https://n.news.naver.com/mnews/article/366/000...  \n",
       "3  https://n.news.naver.com/mnews/article/003/001...  \n",
       "4  https://n.news.naver.com/mnews/article/079/000...  \n",
       "5  https://n.news.naver.com/mnews/article/018/000...  \n",
       "6  https://n.news.naver.com/mnews/article/421/000...  \n",
       "7  https://n.news.naver.com/mnews/article/214/000...  \n",
       "8  https://n.news.naver.com/mnews/article/277/000...  \n",
       "9  https://n.news.naver.com/mnews/article/277/000...  "
      ]
     },
     "execution_count": 16,
     "metadata": {},
     "output_type": "execute_result"
    }
   ],
   "source": [
    "# 데이터프레임 생성\n",
    "topic_df = pd.DataFrame({'title':topic_title, 'url':topic_link})\n",
    "topic_df\n",
    "# pd.DataFrame({'컬럼명':리스트, '컬럼명':리스트})"
   ]
  },
  {
   "cell_type": "code",
   "execution_count": 17,
   "id": "48d6109e-ec50-4a26-8193-ff02e3f376c1",
   "metadata": {},
   "outputs": [],
   "source": [
    "# 파일로 저장\n",
    "topic_df.to_csv('./crawl_data/naver_news_topic.csv', index=0)"
   ]
  },
  {
   "cell_type": "code",
   "execution_count": 18,
   "id": "7f683504-ba67-4a8b-8aa5-e39050d52fe0",
   "metadata": {},
   "outputs": [],
   "source": [
    "# 파일 열어서 저장한 내용 확인\n",
    "topic_df = pd.read_csv('./crawl_data/naver_news_topic.csv')\n",
    "# topic_df"
   ]
  },
  {
   "cell_type": "markdown",
   "id": "e7a920a6-b852-4fd5-b4ad-c069b9c8a69c",
   "metadata": {},
   "source": [
    "#### 지금까지 한 내용을 결합해서 함수로 구성\n",
    "- 현재 경제 섹션 1개에 대해서 처리했는데\n",
    "- 다른 섹션에도 적용하기 위해 함수로 구성\n",
    "- 함수명 : get_topic(url)\n",
    "      - 섹션별 수집한 데이터를 딕셔너리로 구성 후 반환\n",
    "- 반환된 딕셔너리를 데이터프레임에 추가해서 최종 데이터프레임 완성"
   ]
  },
  {
   "cell_type": "markdown",
   "id": "7fa403ff-b7a3-4ba9-848e-5e718f7dac39",
   "metadata": {},
   "source": [
    "#### 사이트 접속해서 요청하는 방법\n",
    "(1) urllib의 request 사용 : from urllib.request import urlopen\n",
    "       \n",
    "- urlopen(url)\n",
    "        \n",
    "(2) requests 패키지 사용\n",
    "        \n",
    "- requests.get(url, headers)\n",
    "- http 요청 관련 기능이 더 포함되어 있음"
   ]
  },
  {
   "cell_type": "markdown",
   "id": "f758d089-fbb0-4240-94e3-e246e593425d",
   "metadata": {},
   "source": [
    "#### 참고\n",
    "- 서버에 접속할 때 자동화 봇으로 간주하고 연결을 끊는 경우가 발생\n",
    "- 서버에 요청 시 header 구성해서 내 웹 브라우저의 User-Agent 정보 입력해서\n",
    "- bot이 아님을 증명해야 함\n",
    "- header 확인\n",
    "    - 개발자 도구 (F12)\n",
    "    - Network 탭에서\n",
    "    - Headers 탭 / Request Headers 맨 아래에 User-Agent 확인\n",
    "- {'User-Agent' : 'Mozilla/5.0 (Windows NT 10.0; Win64; x64) AppleWebKit/537.36 (KHTML, like Gecko) Chrome/116.0.0.0 Safari/537.36'}"
   ]
  },
  {
   "cell_type": "code",
   "execution_count": 19,
   "id": "81e7571a-31d0-4e49-83d1-a3e77836c2e5",
   "metadata": {},
   "outputs": [],
   "source": [
    "import requests"
   ]
  },
  {
   "cell_type": "code",
   "execution_count": 20,
   "id": "7407d38e-2996-4f6a-b14b-fa3b847c50e9",
   "metadata": {},
   "outputs": [],
   "source": [
    "# 요청 header 설정\n",
    "# url = section_menu_df['link'][2]\n",
    "# headers = {'User-Agent':'Mozilla/5.0 (Windows NT 10.0; Win64; x64) AppleWebKit/537.36 (KHTML, like Gecko) Chrome/116.0.0.0 Safari/537.36'}\n",
    "# res = requests.get(url, headers=headers)\n",
    "# html = res.text\n",
    "# bs_obj = bs4.BeautifulSoup(html, 'html.parser')"
   ]
  },
  {
   "cell_type": "code",
   "execution_count": 21,
   "id": "8286fc3a-38d7-4c08-b443-708a4420d7e8",
   "metadata": {},
   "outputs": [],
   "source": [
    "# bs_obj"
   ]
  },
  {
   "cell_type": "code",
   "execution_count": 22,
   "id": "7f21b3f5-4192-4a33-b942-cf24470ccca7",
   "metadata": {},
   "outputs": [],
   "source": [
    "# 함수로 구성\n",
    "# 섹션과 url 전달 받아서, 헤드라인 topic의 제목, 링크, 섹션을 추출해서\n",
    "# 딕셔너리로 만들어 반환하는 함수\n",
    "def get_topic(url, section):\n",
    "    # 접속 및 결과 파싱\n",
    "    headers = {'User-Agent':'Mozilla/5.0 (Windows NT 10.0; Win64; x64) AppleWebKit/537.36 (KHTML, like Gecko) Chrome/116.0.0.0 Safari/537.36'}\n",
    "    res = requests.get(url, headers=headers)\n",
    "    html = res.text\n",
    "    bs_obj = bs4.BeautifulSoup(html, 'html.parser')\n",
    "\n",
    "    # topic_list 추출\n",
    "    topic_list = bs_obj.findAll('div',{'class':'sh_text'})\n",
    "\n",
    "    # 제목과 링크 추출해서 리스트에 추가\n",
    "    topic_title = []\n",
    "    topic_link = []\n",
    "\n",
    "    for topic in topic_list:\n",
    "        try :\n",
    "            a = topic.find('a')\n",
    "            topic_title.append(a.text)\n",
    "            topic_link.append(a['href'])\n",
    "        except:\n",
    "            print('오류 발생')\n",
    "            # pass\n",
    "            \n",
    "    # 딕셔너리 만들어서 반환\n",
    "    return ({'topic':topic_title, 'url':topic_link, 'section':section})"
   ]
  },
  {
   "cell_type": "code",
   "execution_count": 23,
   "id": "177860c6-0167-49af-9192-094bc60930ef",
   "metadata": {},
   "outputs": [
    {
     "data": {
      "text/plain": [
       "{'topic': [\"신한자산운용, 800억 규모 '성장지원펀드' 위탁운용사 선정 시작\",\n",
       "  '\"ARM 기업가치 과대평가\"…개인투자자 투자 주의보 확산',\n",
       "  '유가 오르고 환율 뛰고…8월 수입물가 4.4%↑, 1년 5개월 만에 최대',\n",
       "  '국내 최대 수소전시회 ‘H2 MEET’ 개막… 수소산업 한 눈에',\n",
       "  '\"국민연금 미적립부채 올해 1천825조,GDP의 80%…2050년엔 109%\"',\n",
       "  '40년된 송파 한양2차, 신통기획 확정…1270세대 재탄생',\n",
       "  '8월 취업자 수 26만8000명 ↑…청년층 고용률 7개월 째 하락',\n",
       "  '수요는 그대로·재고는 감소…공급 우려 브렌트 올해 최고치',\n",
       "  '‘오염수 불안’에 모인 대형마트 4사 대표...“국산 수산물 소비 활성화”',\n",
       "  '현대차·기아 김창환 배터리개발센터장, 세계자동차공학회연합 회장직 선출'],\n",
       " 'url': ['https://n.news.naver.com/mnews/article/018/0005573661?sid=101',\n",
       "  'https://n.news.naver.com/mnews/article/015/0004890766?sid=101',\n",
       "  'https://n.news.naver.com/mnews/article/018/0005573532?sid=101',\n",
       "  'https://n.news.naver.com/mnews/article/366/0000931745?sid=101',\n",
       "  'https://n.news.naver.com/mnews/article/001/0014189915?sid=101',\n",
       "  'https://n.news.naver.com/mnews/article/018/0005573541?sid=101',\n",
       "  'https://n.news.naver.com/mnews/article/586/0000064388?sid=101',\n",
       "  'https://n.news.naver.com/mnews/article/374/0000350940?sid=101',\n",
       "  'https://n.news.naver.com/mnews/article/366/0000931774?sid=101',\n",
       "  'https://n.news.naver.com/mnews/article/032/0003248829?sid=101'],\n",
       " 'section': '경제'}"
      ]
     },
     "execution_count": 23,
     "metadata": {},
     "output_type": "execute_result"
    }
   ],
   "source": [
    "# 함수 테스트 : 경제 섹션의 url과 섹션 전달하고 반환 결과 확인\n",
    "url = 'https://news.naver.com/main/main.naver?mode=LSD&mid=shm&sid1=101'\n",
    "test = get_topic(url, '경제')\n",
    "test"
   ]
  },
  {
   "cell_type": "code",
   "execution_count": 24,
   "id": "63d6c311-c8f7-4eef-9bbd-45e621603aa6",
   "metadata": {},
   "outputs": [
    {
     "data": {
      "text/plain": [
       "{'topic': ['대전 숨진 교사 ‘정서학대’ 판단한 세이브더칠드런 “규정 따랐다”',\n",
       "  '유병호 감사원 사무총장 \"아내 주식 못 판다\" 불복 소송 패소',\n",
       "  '청년들과 함께 만드는 포항! … ‘청년주간행사’ 힘찬 시작',\n",
       "  '“드셔보시면 확연한 차이를 느끼실 거예요”…유튜브서 홍삼 파는 조민',\n",
       "  \"경찰, '흉기 위협' 람보르기니 운전자 구속영장 신청\",\n",
       "  '한병도, 새만금 예산 삭감 복원 촉구하며 삭발 [뉴시스Pic]',\n",
       "  '\"똥 묻은 기저귀로 학부모에 맞아\" 세종 어린이집 교사, 국회 청원 글',\n",
       "  \"대전 사망교사, '학폭 가해자'로 몰려 학폭위 신고 당했다\",\n",
       "  \"내년부터 '정부24'에서 유치원·어린이집 입학 신청 가능해진다\",\n",
       "  \"가천대, 교육혁신 전략부문 'S등급' 받아\"],\n",
       " 'url': ['https://n.news.naver.com/mnews/article/032/0003248849?sid=102',\n",
       "  'https://n.news.naver.com/mnews/article/469/0000760153?sid=102',\n",
       "  'https://n.news.naver.com/mnews/article/277/0005312995?sid=102',\n",
       "  'https://n.news.naver.com/mnews/article/009/0005185887?sid=102',\n",
       "  'https://n.news.naver.com/mnews/article/055/0001089373?sid=102',\n",
       "  'https://n.news.naver.com/mnews/article/003/0012084973?sid=102',\n",
       "  'https://n.news.naver.com/mnews/article/421/0007046836?sid=102',\n",
       "  'https://n.news.naver.com/mnews/article/015/0004891254?sid=102',\n",
       "  'https://n.news.naver.com/mnews/article/055/0001089424?sid=102',\n",
       "  'https://n.news.naver.com/mnews/article/277/0005313568?sid=102'],\n",
       " 'section': '사회'}"
      ]
     },
     "execution_count": 24,
     "metadata": {},
     "output_type": "execute_result"
    }
   ],
   "source": [
    "# section_menu_df의 컬럼 인덱스로 딕셔너리 제작 최종 확인\n",
    "test = get_topic(section_menu_df['link'][3], section_menu_df['section'][3])\n",
    "test"
   ]
  },
  {
   "cell_type": "code",
   "execution_count": 25,
   "id": "0bba54a9-1971-420c-bd64-33d81cedfe45",
   "metadata": {},
   "outputs": [
    {
     "data": {
      "text/html": [
       "<div>\n",
       "<style scoped>\n",
       "    .dataframe tbody tr th:only-of-type {\n",
       "        vertical-align: middle;\n",
       "    }\n",
       "\n",
       "    .dataframe tbody tr th {\n",
       "        vertical-align: top;\n",
       "    }\n",
       "\n",
       "    .dataframe thead th {\n",
       "        text-align: right;\n",
       "    }\n",
       "</style>\n",
       "<table border=\"1\" class=\"dataframe\">\n",
       "  <thead>\n",
       "    <tr style=\"text-align: right;\">\n",
       "      <th></th>\n",
       "      <th>topic</th>\n",
       "      <th>url</th>\n",
       "      <th>section</th>\n",
       "    </tr>\n",
       "  </thead>\n",
       "  <tbody>\n",
       "  </tbody>\n",
       "</table>\n",
       "</div>"
      ],
      "text/plain": [
       "Empty DataFrame\n",
       "Columns: [topic, url, section]\n",
       "Index: []"
      ]
     },
     "execution_count": 25,
     "metadata": {},
     "output_type": "execute_result"
    }
   ],
   "source": [
    "# 추출하는 모든 섹션의 topic을 하나의 데이터프레임에 저장하기 위해\n",
    "# 빈 데이터프레임 생성\n",
    "# 섹션별로 이 데이터프레임에 추가 (데이터프레임 결합(병합) : concat() 사용)\n",
    "#  - 형으로 계속 추가\n",
    "all_topic_df = pd.DataFrame({\n",
    "    'topic':[],\n",
    "    'url':[],\n",
    "    'section':[]\n",
    "})\n",
    "all_topic_df"
   ]
  },
  {
   "cell_type": "code",
   "execution_count": 26,
   "id": "d2bbcad8-ffee-4b9d-9ea4-628952b2b093",
   "metadata": {},
   "outputs": [],
   "source": [
    "# 참고 : 딕셔너리로 데이터프레임 생성\n",
    "# topic_dic = {}\n",
    "# topic_dic['topic']= []\n",
    "# topic_dic['url'] = []\n",
    "# topic_dic['section'] = []\n",
    "\n",
    "# topic_dic_df = pd.DataFrame(topic_dic)\n",
    "# topic_dic_df"
   ]
  },
  {
   "cell_type": "code",
   "execution_count": 27,
   "id": "dc4974f5-3ec7-404d-a2ba-843d1e248f3f",
   "metadata": {},
   "outputs": [],
   "source": [
    "# 포맷이 동일한 섹션만 추출 : 정치, 경제, 사회, 생활/문화, IT/과학, 세계 : 6개 섹션\n",
    "# 섹션 수만큼 반복하면서 함수 호출\n",
    "# 반환된 결과를 데이터프레임에 계속 추가 (행으로 추가)\n",
    "for i in range(1, 7):\n",
    "    df = pd.DataFrame(get_topic(section_menu_df['link'][i], section_menu_df['section'][i]))\n",
    "    all_topic_df = pd.concat([all_topic_df, df], axis=0, ignore_index=True)\n",
    "    # axis=0 : 행으로 결합\n",
    "    # ignore_index=True : 기존 df의 인덱스 무시 (모든 행을 새로운 인덱스로 설정)"
   ]
  },
  {
   "cell_type": "code",
   "execution_count": 28,
   "id": "ff18ce64-7c34-40f4-a070-006b30f52adf",
   "metadata": {},
   "outputs": [],
   "source": [
    "all_topic_df.to_csv('./crawl_data/naver_news_all_topic.csv', index=0)"
   ]
  },
  {
   "cell_type": "code",
   "execution_count": 29,
   "id": "1b8f6d1b-e4ac-4d19-ac97-4478b279c80e",
   "metadata": {},
   "outputs": [],
   "source": [
    "all_topic_df = pd.read_csv('./crawl_data/naver_news_all_topic.csv')\n",
    "# all_topic_df"
   ]
  },
  {
   "cell_type": "markdown",
   "id": "3a9955a7-5534-4ef6-bb1d-0dc90ead0629",
   "metadata": {},
   "source": [
    "### (2) 각 기사 상세 내용 추출 : sub 페이지 내용 추출\n",
    "- 언론사, 기사제목, 작성 날짜 시간, 기사 내용, 작성자"
   ]
  },
  {
   "cell_type": "code",
   "execution_count": 30,
   "id": "f9aa0930-2519-40cf-a297-4a94d4d5092b",
   "metadata": {},
   "outputs": [],
   "source": [
    "all_topic_df = pd.read_csv('./crawl_data/naver_news_all_topic.csv')"
   ]
  },
  {
   "cell_type": "code",
   "execution_count": 31,
   "id": "63e31ad8-e7d9-4672-80e3-a2e7b89d411e",
   "metadata": {},
   "outputs": [
    {
     "data": {
      "text/html": [
       "<div>\n",
       "<style scoped>\n",
       "    .dataframe tbody tr th:only-of-type {\n",
       "        vertical-align: middle;\n",
       "    }\n",
       "\n",
       "    .dataframe tbody tr th {\n",
       "        vertical-align: top;\n",
       "    }\n",
       "\n",
       "    .dataframe thead th {\n",
       "        text-align: right;\n",
       "    }\n",
       "</style>\n",
       "<table border=\"1\" class=\"dataframe\">\n",
       "  <thead>\n",
       "    <tr style=\"text-align: right;\">\n",
       "      <th></th>\n",
       "      <th>topic</th>\n",
       "      <th>url</th>\n",
       "      <th>section</th>\n",
       "    </tr>\n",
       "  </thead>\n",
       "  <tbody>\n",
       "    <tr>\n",
       "      <th>0</th>\n",
       "      <td>김정은 \"러 방문은 북·러 관계 전략적 중요성 표현\"...이르면 오늘 회담</td>\n",
       "      <td>https://n.news.naver.com/mnews/article/052/000...</td>\n",
       "      <td>정치</td>\n",
       "    </tr>\n",
       "    <tr>\n",
       "      <th>1</th>\n",
       "      <td>“대북송금 수사도 마무리됐지만…李, 아직도 사법리스크 남아”</td>\n",
       "      <td>https://n.news.naver.com/mnews/article/366/000...</td>\n",
       "      <td>정치</td>\n",
       "    </tr>\n",
       "    <tr>\n",
       "      <th>2</th>\n",
       "      <td>김성태 \"與 지도부, 단식 중인 이재명 만나는 것이 '정치적 도리'\"</td>\n",
       "      <td>https://n.news.naver.com/mnews/article/002/000...</td>\n",
       "      <td>정치</td>\n",
       "    </tr>\n",
       "    <tr>\n",
       "      <th>3</th>\n",
       "      <td>러, 7월 대북 정제유 공급 대폭 확대...北 환심 사기용?</td>\n",
       "      <td>https://n.news.naver.com/mnews/article/052/000...</td>\n",
       "      <td>정치</td>\n",
       "    </tr>\n",
       "    <tr>\n",
       "      <th>4</th>\n",
       "      <td>‘머그샷 공개법’ 소위 문턱 넘었다</td>\n",
       "      <td>https://n.news.naver.com/mnews/article/081/000...</td>\n",
       "      <td>정치</td>\n",
       "    </tr>\n",
       "  </tbody>\n",
       "</table>\n",
       "</div>"
      ],
      "text/plain": [
       "                                       topic  \\\n",
       "0  김정은 \"러 방문은 북·러 관계 전략적 중요성 표현\"...이르면 오늘 회담   \n",
       "1          “대북송금 수사도 마무리됐지만…李, 아직도 사법리스크 남아”   \n",
       "2     김성태 \"與 지도부, 단식 중인 이재명 만나는 것이 '정치적 도리'\"   \n",
       "3          러, 7월 대북 정제유 공급 대폭 확대...北 환심 사기용?   \n",
       "4                        ‘머그샷 공개법’ 소위 문턱 넘었다   \n",
       "\n",
       "                                                 url section  \n",
       "0  https://n.news.naver.com/mnews/article/052/000...      정치  \n",
       "1  https://n.news.naver.com/mnews/article/366/000...      정치  \n",
       "2  https://n.news.naver.com/mnews/article/002/000...      정치  \n",
       "3  https://n.news.naver.com/mnews/article/052/000...      정치  \n",
       "4  https://n.news.naver.com/mnews/article/081/000...      정치  "
      ]
     },
     "execution_count": 31,
     "metadata": {},
     "output_type": "execute_result"
    }
   ],
   "source": [
    "all_topic_df.head()"
   ]
  },
  {
   "cell_type": "code",
   "execution_count": 32,
   "id": "3f443bc7-bb95-48fb-b9ac-c90972ef8158",
   "metadata": {},
   "outputs": [
    {
     "data": {
      "text/plain": [
       "'https://n.news.naver.com/mnews/article/052/0001934981?sid=100'"
      ]
     },
     "execution_count": 32,
     "metadata": {},
     "output_type": "execute_result"
    }
   ],
   "source": [
    "# 1개의 url만 선택해서 해당 페이지의 언론사, 기사제목, 작성 날짜 시간, 기사 내용, 작성자 추출 확인\n",
    "url = all_topic_df['url'][3]\n",
    "url"
   ]
  },
  {
   "cell_type": "code",
   "execution_count": 33,
   "id": "c3f76059-5977-4052-9119-f4cce148e1ee",
   "metadata": {},
   "outputs": [],
   "source": [
    "headers = {'User-Agent':'Mozilla/5.0 (Windows NT 10.0; Win64; x64) AppleWebKit/537.36 (KHTML, like Gecko) Chrome/116.0.0.0 Safari/537.36'}\n",
    "res = requests.get(url, headers=headers)\n",
    "html = res.text\n",
    "bs_obj = bs4.BeautifulSoup(html, 'html.parser')\n",
    "# bs_obj"
   ]
  },
  {
   "cell_type": "code",
   "execution_count": 34,
   "id": "d9fa10f1-9408-4e14-a43d-e990eb18c25b",
   "metadata": {},
   "outputs": [
    {
     "data": {
      "text/plain": [
       "'YTN'"
      ]
     },
     "execution_count": 34,
     "metadata": {},
     "output_type": "execute_result"
    }
   ],
   "source": [
    "# 언론사 : <a> : media_end_head_top_logo, 이미지의 title 속성값이 언론사명\n",
    "paper = bs_obj.find('a', {'class':'media_end_head_top_logo'}).select_one('img')['title']\n",
    "paper"
   ]
  },
  {
   "cell_type": "code",
   "execution_count": 35,
   "id": "0fb001b1-50fb-4163-b90f-429ab7dfcb6b",
   "metadata": {},
   "outputs": [
    {
     "data": {
      "text/plain": [
       "'러, 7월 대북 정제유 공급 대폭 확대...北 환심 사기용?'"
      ]
     },
     "execution_count": 35,
     "metadata": {},
     "output_type": "execute_result"
    }
   ],
   "source": [
    "# 기사 제목\n",
    "title = bs_obj.find('h2', {'class':'media_end_head_headline'}).select_one('span').text\n",
    "title"
   ]
  },
  {
   "cell_type": "code",
   "execution_count": 36,
   "id": "caf554a1-6eb2-405a-a755-fef3c42dabf8",
   "metadata": {},
   "outputs": [
    {
     "data": {
      "text/plain": [
       "\"북한과 무기 거래를 시도하고 있는 러시아가 지난 7월 북한에 정제유 수출 규모를 대폭 확대한 것으로 나타났습니다.유엔 안전보장이사회 대북제재위원회가 홈페이지에 공개한 러시아의 대북 정제유 수출 규모를 보면 5월과 6월 각각 2천593배럴과 2천305배럴에서 7월 1만 933배럴로 4배 이상 증가했다고 자유아시아방송이 보도했습니다.러시아의 대북 정제유 수출 규모는 올해 1월 4만4천 배럴을 기록한 뒤로 줄곧 내리막을 걷다가 7월에 상승 전환한 것입니다.7월은 북한의 전승절 열병식에 세르게이 쇼이구 러시아 국방장관이 참석하면서 북·러 간 무기 거래설이 나오던 시기입니다.우크라이나 전쟁으로 재래식 무기 부족에 시달리는 러시아가 북한에서 포탄과 미사일 등을 받기 위해 환심을 사려고 정제유 공급량을 크게 늘린 게 아니냐는 관측이 나오고 있다고 방송은 전했습니다.북한이 올해 7월까지 러시아로부터 반입한 정제유 규모는 7만9천904배럴이고 중국의 공급량까지 합치면 총 17만3천694배럴인데, 유엔 안보리가 정한 연간 상한선, 50만 배럴의 35% 수준입니다.※ '당신의 제보가 뉴스가 됩니다'[카카오톡] YTN 검색해 채널 추가[전화] 02-398-8585[메일] social@ytn.co.kr\""
      ]
     },
     "execution_count": 36,
     "metadata": {},
     "output_type": "execute_result"
    }
   ],
   "source": [
    "# 기사 내용\n",
    "# writing = bs_obj.find('div', {'class':'newsct_article _article_body'}).select_one('article').text\n",
    "writing = bs_obj.select_one('#dic_area').text.strip()\n",
    "writing"
   ]
  },
  {
   "cell_type": "code",
   "execution_count": 37,
   "id": "14de276c-927f-4d49-bebe-001741f7d233",
   "metadata": {},
   "outputs": [
    {
     "data": {
      "text/plain": [
       "'2023.09.13. 오전 10:40'"
      ]
     },
     "execution_count": 37,
     "metadata": {},
     "output_type": "execute_result"
    }
   ],
   "source": [
    "# 작성 일자 및 시간\n",
    "datetime = bs_obj.find('div', {'class':'media_end_head_info_datestamp_bunch'}).select_one('span').text\n",
    "datetime"
   ]
  },
  {
   "cell_type": "code",
   "execution_count": 38,
   "id": "1027cf78-852c-426f-a8cc-c7a2de289f14",
   "metadata": {},
   "outputs": [
    {
     "data": {
      "text/plain": [
       "'신현준 기자'"
      ]
     },
     "execution_count": 38,
     "metadata": {},
     "output_type": "execute_result"
    }
   ],
   "source": [
    "# 작성자\n",
    "writer = bs_obj.find('a', {'class':'media_end_head_journalist_box'}).select_one('em').text\n",
    "writer"
   ]
  },
  {
   "cell_type": "code",
   "execution_count": 39,
   "id": "ce11f8dd-0f00-44ad-b22f-5304c4417685",
   "metadata": {},
   "outputs": [],
   "source": [
    "#############################################################################"
   ]
  },
  {
   "cell_type": "markdown",
   "id": "eb829de5-2500-4324-8cbd-3718038d1796",
   "metadata": {},
   "source": [
    "#### sub 페이지 내용 추출하는 함수 작성"
   ]
  },
  {
   "cell_type": "code",
   "execution_count": 40,
   "id": "e262f4f1-073f-4976-a2e1-04d175a8a5da",
   "metadata": {},
   "outputs": [],
   "source": [
    "# sub 페이지 추출 함수\n",
    "def get_sub_news_info(url):\n",
    "    headers = {'User-Agent':'Mozilla/5.0 (Windows NT 10.0; Win64; x64) AppleWebKit/537.36 (KHTML, like Gecko) Chrome/116.0.0.0 Safari/537.36'}\n",
    "    # 빈 리스트 생성\n",
    "    paper_list, title_list, datetime_list, writing_list, writer_list = [ [] for _ in range(5) ]\n",
    "    # for _ in range(5) : 언더바(_) *변수 없이 반복만 수행)\n",
    "    try :\n",
    "        res = requests.get(url, headers=headers)\n",
    "        html = res.text\n",
    "        bs_obj = bs4.BeautifulSoup(html, 'html.parser')\n",
    "\n",
    "        # 접속\n",
    "\n",
    "\n",
    "        # 언론사, 기사제목, 작성 날짜 시간, 기사 내용, 작성자 리스트 생성\n",
    "        paper_list.append(bs_obj.find('a', {'class':'media_end_head_top_logo'}).select_one('img')['title'])\n",
    "        title_list.append(bs_obj.find('div', {'class' : 'media_end_head_title'}).select_one('span').text)\n",
    "        datetime_list.append(bs_obj.find('span', {'class' : 'media_end_head_info_datestamp_time _ARTICLE_DATE_TIME'}).text)\n",
    "        writing_list.append(bs_obj.select_one('#dic_area').text.replace('\\n', ''))\n",
    "        writer_list.append(bs_obj.find('span',{'class':'byline_s'}).text)\n",
    "    except:\n",
    "        print('오류 발생')\n",
    "        # pass\n",
    "\n",
    "\n",
    "    # 딕셔너리로 만들어서 반환\n",
    "    sub_news_dict = {\n",
    "        'paper':paper_list,\n",
    "        'title':title_list,\n",
    "        'datetime':datetime_list,\n",
    "        'writing':writing_list,\n",
    "        'writer':writer_list\n",
    "        \n",
    "    }\n",
    "    return sub_news_dict"
   ]
  },
  {
   "cell_type": "code",
   "execution_count": 41,
   "id": "67ebbb62-a7d6-446d-900c-1e2239893b21",
   "metadata": {},
   "outputs": [
    {
     "data": {
      "text/plain": [
       "{'paper': ['YTN'],\n",
       " 'title': ['러, 7월 대북 정제유 공급 대폭 확대...北 환심 사기용?'],\n",
       " 'datetime': ['2023.09.13. 오전 10:40'],\n",
       " 'writing': [\"\\t\\t\\t북한과 무기 거래를 시도하고 있는 러시아가 지난 7월 북한에 정제유 수출 규모를 대폭 확대한 것으로 나타났습니다.유엔 안전보장이사회 대북제재위원회가 홈페이지에 공개한 러시아의 대북 정제유 수출 규모를 보면 5월과 6월 각각 2천593배럴과 2천305배럴에서 7월 1만 933배럴로 4배 이상 증가했다고 자유아시아방송이 보도했습니다.러시아의 대북 정제유 수출 규모는 올해 1월 4만4천 배럴을 기록한 뒤로 줄곧 내리막을 걷다가 7월에 상승 전환한 것입니다.7월은 북한의 전승절 열병식에 세르게이 쇼이구 러시아 국방장관이 참석하면서 북·러 간 무기 거래설이 나오던 시기입니다.우크라이나 전쟁으로 재래식 무기 부족에 시달리는 러시아가 북한에서 포탄과 미사일 등을 받기 위해 환심을 사려고 정제유 공급량을 크게 늘린 게 아니냐는 관측이 나오고 있다고 방송은 전했습니다.북한이 올해 7월까지 러시아로부터 반입한 정제유 규모는 7만9천904배럴이고 중국의 공급량까지 합치면 총 17만3천694배럴인데, 유엔 안보리가 정한 연간 상한선, 50만 배럴의 35% 수준입니다.※ '당신의 제보가 뉴스가 됩니다'[카카오톡] YTN 검색해 채널 추가[전화] 02-398-8585[메일] social@ytn.co.kr\\t\\t\"],\n",
       " 'writer': ['신현준(shinhj@ytn.co.kr)']}"
      ]
     },
     "execution_count": 41,
     "metadata": {},
     "output_type": "execute_result"
    }
   ],
   "source": [
    "# 함수 테스트 : 1개의 url 전달해서 반환 결과 확인\n",
    "get_sub_news_info(all_topic_df.url[3])"
   ]
  },
  {
   "cell_type": "markdown",
   "id": "41476ad5-8869-467c-a546-f57f51379a03",
   "metadata": {},
   "source": [
    "#### 함수에서 반환된 값으로 데이터프레임에 더해서 최종 데이터프레임 생성"
   ]
  },
  {
   "cell_type": "code",
   "execution_count": 42,
   "id": "412cb34a-91df-469d-a01d-dc2776c1fd72",
   "metadata": {},
   "outputs": [
    {
     "data": {
      "text/html": [
       "<div>\n",
       "<style scoped>\n",
       "    .dataframe tbody tr th:only-of-type {\n",
       "        vertical-align: middle;\n",
       "    }\n",
       "\n",
       "    .dataframe tbody tr th {\n",
       "        vertical-align: top;\n",
       "    }\n",
       "\n",
       "    .dataframe thead th {\n",
       "        text-align: right;\n",
       "    }\n",
       "</style>\n",
       "<table border=\"1\" class=\"dataframe\">\n",
       "  <thead>\n",
       "    <tr style=\"text-align: right;\">\n",
       "      <th></th>\n",
       "      <th>paper</th>\n",
       "      <th>title</th>\n",
       "      <th>datetime</th>\n",
       "      <th>writing</th>\n",
       "      <th>writer</th>\n",
       "    </tr>\n",
       "  </thead>\n",
       "  <tbody>\n",
       "  </tbody>\n",
       "</table>\n",
       "</div>"
      ],
      "text/plain": [
       "Empty DataFrame\n",
       "Columns: [paper, title, datetime, writing, writer]\n",
       "Index: []"
      ]
     },
     "execution_count": 42,
     "metadata": {},
     "output_type": "execute_result"
    }
   ],
   "source": [
    "# 빈 데이터프레임 생성\n",
    "all_sub_news_info_df = pd.DataFrame({\n",
    "    'paper': [],\n",
    "    'title': [],\n",
    "    'datetime': [],\n",
    "    'writing': [],\n",
    "    'writer': []\n",
    "})\n",
    "\n",
    "all_sub_news_info_df"
   ]
  },
  {
   "cell_type": "code",
   "execution_count": 43,
   "id": "0be9ca88-f8cb-4a73-b8fc-c18b61477762",
   "metadata": {},
   "outputs": [],
   "source": [
    "# all_topic_df에 있는 모든 서브 페이지 url 전달하고 결과 받아서 최종 데이터프레임으로 저장\n",
    "for url in all_topic_df['url']:\n",
    "    df = pd.DataFrame(get_sub_news_info(url))\n",
    "    all_sub_news_info_df = pd.concat([all_sub_news_info_df, df], axis=0, ignore_index=True)"
   ]
  },
  {
   "cell_type": "code",
   "execution_count": 44,
   "id": "66250122-4289-4ecc-a3b7-a00532af7a3d",
   "metadata": {},
   "outputs": [],
   "source": [
    "all_sub_news_info_df.to_csv('./crawl_data/naver_sub_news_section.csv', index=0)"
   ]
  },
  {
   "cell_type": "code",
   "execution_count": 45,
   "id": "72bc9c0f-fc6d-4699-8c33-470d96ccb611",
   "metadata": {},
   "outputs": [],
   "source": [
    "all_sub_news_info_df = pd.read_csv('./crawl_data/naver_sub_news_section.csv')\n",
    "# all_sub_news_info_df"
   ]
  },
  {
   "cell_type": "code",
   "execution_count": null,
   "id": "d4c26fe8-421c-4e9c-aed1-caa33f7b2bc5",
   "metadata": {},
   "outputs": [],
   "source": []
  }
 ],
 "metadata": {
  "kernelspec": {
   "display_name": "Python 3 (ipykernel)",
   "language": "python",
   "name": "python3"
  },
  "language_info": {
   "codemirror_mode": {
    "name": "ipython",
    "version": 3
   },
   "file_extension": ".py",
   "mimetype": "text/x-python",
   "name": "python",
   "nbconvert_exporter": "python",
   "pygments_lexer": "ipython3",
   "version": "3.11.5"
  }
 },
 "nbformat": 4,
 "nbformat_minor": 5
}
