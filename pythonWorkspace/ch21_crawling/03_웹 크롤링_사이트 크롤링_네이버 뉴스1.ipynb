{
 "cells": [
  {
   "cell_type": "markdown",
   "id": "e5b2a132-7de0-43b1-bcf3-5492dbbb2057",
   "metadata": {},
   "source": [
    "### 사이트 크롤링\n",
    "1. 사이트 소스 내에서 특정 문자열(data)을 지칭하는 선택자 찾기\n",
    "    - 크롬 개발자 도구의 기능 사용\n",
    "    - 검사할 페이지의 요소 선택 : 태그/선택자/계층 구조 확인\n",
    "2. 전체 코드에서 수집하려고 하는 데이터의 위치 찾고\n",
    "    - 태그 파싱 후 필요 데이터추출"
   ]
  },
  {
   "cell_type": "code",
   "execution_count": 1,
   "id": "407bb1ae-c5a4-4f88-8764-51371ae19fe3",
   "metadata": {},
   "outputs": [],
   "source": [
    "from urllib.request import urlopen\n",
    "import bs4"
   ]
  },
  {
   "cell_type": "code",
   "execution_count": 2,
   "id": "f95f2ff3-5dbd-460c-9b6b-cb26fb3a2c38",
   "metadata": {},
   "outputs": [],
   "source": [
    "from IPython.core.interactiveshell import InteractiveShell\n",
    "InteractiveShell.ast_node_interactivity=\"all\""
   ]
  },
  {
   "cell_type": "markdown",
   "id": "337335b0-d435-4b7f-a76f-7c69035bf08b",
   "metadata": {},
   "source": [
    "#### 사이트 크롤링 : https://www.tistory.com/"
   ]
  },
  {
   "cell_type": "code",
   "execution_count": 3,
   "id": "e80ad981-ca9f-44db-b636-f2332203c544",
   "metadata": {},
   "outputs": [],
   "source": [
    "url = 'https://www.tistory.com/'\n",
    "html = urlopen(url)\n",
    "# 파서 객체 생성\n",
    "bs_obj = bs4.BeautifulSoup(html, 'html.parser')"
   ]
  },
  {
   "cell_type": "code",
   "execution_count": 4,
   "id": "2821cea5-b1ba-44fa-a0e0-5261adeb32da",
   "metadata": {},
   "outputs": [],
   "source": [
    "# bs_obj"
   ]
  },
  {
   "cell_type": "code",
   "execution_count": 5,
   "id": "9d66c4ef-9500-4a6e-ac18-957d58a4745f",
   "metadata": {},
   "outputs": [
    {
     "data": {
      "text/plain": [
       "<div class=\"gnb_tistory\" id=\"kakaoGnb\" role=\"navigation\">\n",
       "<h2 class=\"screen_out\">서비스 주요 메뉴</h2>\n",
       "<ul class=\"list_gnb\">\n",
       "<li><a class=\"link_gnb\" href=\"/feed\">피드</a></li>\n",
       "<li><a class=\"link_gnb\" href=\"/category\">스토리</a></li>\n",
       "<li><a class=\"link_gnb\" href=\"/skin\">스킨</a></li>\n",
       "<li><a class=\"link_gnb\" href=\"/community\">포럼</a></li>\n",
       "</ul>\n",
       "</div>"
      ]
     },
     "execution_count": 5,
     "metadata": {},
     "output_type": "execute_result"
    }
   ],
   "source": [
    "# 기본 메뉴 박스 : id : kakaoGnb 인 div 태그 추출\n",
    "tistory_menu = bs_obj.find('div', {'id':'kakaoGnb'})\n",
    "tistory_menu"
   ]
  },
  {
   "cell_type": "code",
   "execution_count": 6,
   "id": "2771bdcc-4c7c-4113-89c6-ecc8e251c564",
   "metadata": {},
   "outputs": [
    {
     "data": {
      "text/plain": [
       "<ul class=\"list_gnb\">\n",
       "<li><a class=\"link_gnb\" href=\"/feed\">피드</a></li>\n",
       "<li><a class=\"link_gnb\" href=\"/category\">스토리</a></li>\n",
       "<li><a class=\"link_gnb\" href=\"/skin\">스킨</a></li>\n",
       "<li><a class=\"link_gnb\" href=\"/community\">포럼</a></li>\n",
       "</ul>"
      ]
     },
     "execution_count": 6,
     "metadata": {},
     "output_type": "execute_result"
    }
   ],
   "source": [
    "ul = bs_obj.find('ul', {'class':'list_gnb'})\n",
    "ul"
   ]
  },
  {
   "cell_type": "code",
   "execution_count": 7,
   "id": "3e4a02da-8383-4ec2-9da7-bfa2f78e1d2d",
   "metadata": {},
   "outputs": [
    {
     "data": {
      "text/plain": [
       "[]"
      ]
     },
     "execution_count": 7,
     "metadata": {},
     "output_type": "execute_result"
    }
   ],
   "source": [
    "a_tag = bs_obj.findAll('a', {'class':'list_gnb'})\n",
    "a_tag"
   ]
  },
  {
   "cell_type": "code",
   "execution_count": 8,
   "id": "bebeb50f-452b-4d16-ba28-46d4844aa635",
   "metadata": {},
   "outputs": [
    {
     "name": "stdout",
     "output_type": "stream",
     "text": [
      "[<a class=\"link_gnb\" href=\"/feed\">피드</a>] 피드\n",
      "[<a class=\"link_gnb\" href=\"/category\">스토리</a>] 스토리\n",
      "[<a class=\"link_gnb\" href=\"/skin\">스킨</a>] 스킨\n",
      "[<a class=\"link_gnb\" href=\"/community\">포럼</a>] 포럼\n"
     ]
    }
   ],
   "source": [
    "li_list = tistory_menu.select('li')\n",
    "\n",
    "for li in li_list:\n",
    "    print(li.select('a'),li.text)"
   ]
  },
  {
   "cell_type": "code",
   "execution_count": 9,
   "id": "752fad69-00ec-45eb-9ff7-e19242bd6657",
   "metadata": {},
   "outputs": [
    {
     "name": "stdout",
     "output_type": "stream",
     "text": [
      "피드\n",
      "스토리\n",
      "스킨\n",
      "포럼\n"
     ]
    }
   ],
   "source": [
    "# 또는\n",
    "a_tab_list = bs_obj.findAll('a', {'class':'link_gnb'})\n",
    "\n",
    "for a in a_tab_list:\n",
    "    print(a.text)"
   ]
  },
  {
   "cell_type": "code",
   "execution_count": 10,
   "id": "f968901c-3b07-4f5f-96d5-80cc02573152",
   "metadata": {},
   "outputs": [],
   "source": [
    "# 우측 하단의 목록에서 text만 추출\n",
    "# 메뉴가 궁금할 때 "
   ]
  },
  {
   "cell_type": "code",
   "execution_count": 11,
   "id": "d4e7cb6b-2a89-46f2-b258-9e4cba953c12",
   "metadata": {},
   "outputs": [
    {
     "data": {
      "text/plain": [
       "<div class=\"question_tistory\">\n",
       "<h2 class=\"screen_out\">문의목록</h2>\n",
       "<div class=\"wrap_question\">\n",
       "<span class=\"tit_question\">메뉴가 궁금할 땐</span>\n",
       "<ul class=\"list_question\">\n",
       "<li><a class=\"link_txt\" href=\"/skin\">스킨</a></li>\n",
       "<li><a class=\"link_txt\" href=\"/community/forum\">포럼</a></li>\n",
       "<li><a class=\"link_txt\" href=\"/category\">스토리</a></li>\n",
       "</ul>\n",
       "</div>\n",
       "<div class=\"wrap_question\">\n",
       "<span class=\"tit_question\">사용하다 궁금할 땐</span>\n",
       "<ul class=\"list_question\">\n",
       "<li><a class=\"link_txt\" href=\"/guide/api/manage/register\">오픈 API</a></li>\n",
       "<li><a class=\"link_txt\" href=\"https://tistory.github.io/document-tistory-skin/\" target=\"_blank\">스킨가이드</a></li>\n",
       "<li><a class=\"link_txt\" href=\"https://cs.kakao.com/requests?service=175&amp;locale=ko\" target=\"_blank\">고객센터</a></li>\n",
       "</ul>\n",
       "</div>\n",
       "<div class=\"wrap_question\">\n",
       "<span class=\"tit_question\">정책이 궁금할 땐</span>\n",
       "<ul class=\"list_question\">\n",
       "<li><a class=\"link_txt\" href=\"/info/contract\">이용약관</a></li>\n",
       "<li><a class=\"link_txt\" href=\"https://www.kakao.com/policy/privacy?lang=ko\"><em>카카오 개인정보처리방침</em></a></li>\n",
       "<li><a class=\"link_txt\" href=\"https://www.kakao.com/policy/safeguard\">청소년보호정책</a></li>\n",
       "<li><a class=\"link_txt\" href=\"/info/openApi\">오픈API 이용약관</a></li>\n",
       "<li><a class=\"link_txt\" href=\"/info/emailPolicy\">Email 수집거부정책</a></li>\n",
       "</ul>\n",
       "</div>\n",
       "<div class=\"wrap_question\">\n",
       "<span class=\"tit_question\">도움이 필요할 땐</span>\n",
       "<ul class=\"list_question\">\n",
       "<li><a class=\"link_txt\" href=\"https://www.kakao.com/policy/right\" target=\"_blank\">권리침해신고</a></li>\n",
       "<li><a class=\"link_txt\" href=\"https://cs.kakao.com/conflict\" target=\"_blank\">상거래 피해 구제신청</a></li>\n",
       "</ul>\n",
       "</div>\n",
       "</div>"
      ]
     },
     "execution_count": 11,
     "metadata": {},
     "output_type": "execute_result"
    }
   ],
   "source": [
    "question_menu = bs_obj.find('div', {'class':'question_tistory'})\n",
    "question_menu"
   ]
  },
  {
   "cell_type": "code",
   "execution_count": 12,
   "id": "f2560392-4900-45d8-b27b-364bbbb7cb12",
   "metadata": {},
   "outputs": [
    {
     "name": "stdout",
     "output_type": "stream",
     "text": [
      "메뉴가 궁금할 땐\n",
      "사용하다 궁금할 땐\n",
      "정책이 궁금할 땐\n",
      "도움이 필요할 땐\n"
     ]
    }
   ],
   "source": [
    "question_list = bs_obj.findAll('span', {'class':'tit_question'})\n",
    "\n",
    "for a in question_list:\n",
    "    print(a.text)"
   ]
  },
  {
   "cell_type": "code",
   "execution_count": 13,
   "id": "25068a36-de69-4a37-abe0-3884832d5ea7",
   "metadata": {},
   "outputs": [],
   "source": [
    "#############################################################################"
   ]
  },
  {
   "cell_type": "markdown",
   "id": "b4e51537-000d-4446-8d87-7198886862ee",
   "metadata": {},
   "source": [
    "### 네이버 뉴스 섹션 메뉴와 섹션별 URL 추출"
   ]
  },
  {
   "cell_type": "code",
   "execution_count": 14,
   "id": "471d73a6-2892-4082-baab-643396e157e4",
   "metadata": {},
   "outputs": [],
   "source": [
    "# 사이트 연결. HTML 패싱\n",
    "url = 'https://news.naver.com/'\n",
    "html = urlopen(url)\n",
    "# 파서 객체 생성\n",
    "bs_obj = bs4.BeautifulSoup(html, 'html.parser')"
   ]
  },
  {
   "cell_type": "code",
   "execution_count": 15,
   "id": "bfcca6ba-e991-471e-b022-3c13a66dfc95",
   "metadata": {},
   "outputs": [],
   "source": [
    "#bs_obj"
   ]
  },
  {
   "cell_type": "code",
   "execution_count": 16,
   "id": "8f773e7a-67f4-4513-999e-251f6667f731",
   "metadata": {},
   "outputs": [
    {
     "data": {
      "text/plain": [
       "[<ul class=\"Nlnb_menu_list\" role=\"menu\">\n",
       " <li class=\"Nlist_item is_active\"><a aria-selected=\"true\" class=\"Nitem_link\" href=\"https://news.naver.com/?viewType=pc\" onclick=\"nclk(event,'lnb.pcmedia','','');\" role=\"menuitem\"><span class=\"Nitem_link_menu\">언론사별</span></a></li>\n",
       " <li class=\"Nlist_item\"><a aria-selected=\"false\" class=\"Nitem_link\" href=\"https://news.naver.com/main/main.naver?mode=LSD&amp;mid=shm&amp;sid1=100\" onclick=\"nclk(event,'lnb.pol','','');\" role=\"menuitem\"><span class=\"Nitem_link_menu\">정치</span></a></li>\n",
       " <li class=\"Nlist_item\"><a aria-selected=\"false\" class=\"Nitem_link\" href=\"https://news.naver.com/main/main.naver?mode=LSD&amp;mid=shm&amp;sid1=101\" onclick=\"nclk(event,'lnb.eco','','');\" role=\"menuitem\"><span class=\"Nitem_link_menu\">경제</span></a></li>\n",
       " <li class=\"Nlist_item\"><a aria-selected=\"false\" class=\"Nitem_link\" href=\"https://news.naver.com/main/main.naver?mode=LSD&amp;mid=shm&amp;sid1=102\" onclick=\"nclk(event,'lnb.soc','','');\" role=\"menuitem\"><span class=\"Nitem_link_menu\">사회</span></a></li>\n",
       " <li class=\"Nlist_item\"><a aria-selected=\"false\" class=\"Nitem_link\" href=\"https://news.naver.com/main/main.naver?mode=LSD&amp;mid=shm&amp;sid1=103\" onclick=\"nclk(event,'lnb.lif','','');\" role=\"menuitem\"><span class=\"Nitem_link_menu\">생활/문화</span></a></li>\n",
       " <li class=\"Nlist_item\"><a aria-selected=\"false\" class=\"Nitem_link\" href=\"https://news.naver.com/main/main.naver?mode=LSD&amp;mid=shm&amp;sid1=105\" onclick=\"nclk(event,'lnb.sci','','');\" role=\"menuitem\"><span class=\"Nitem_link_menu\">IT/과학</span></a></li>\n",
       " <li class=\"Nlist_item\"><a aria-selected=\"false\" class=\"Nitem_link\" href=\"https://news.naver.com/main/main.naver?mode=LSD&amp;mid=shm&amp;sid1=104\" onclick=\"nclk(event,'lnb.wor','','');\" role=\"menuitem\"><span class=\"Nitem_link_menu\">세계</span></a></li>\n",
       " <li class=\"Nlist_item _isNew\"><a aria-selected=\"false\" class=\"Nitem_link\" href=\"https://news.naver.com/main/ranking/popularDay.naver\" onclick=\"nclk(event,'lnb.rank','','');\" role=\"menuitem\"><span class=\"Nitem_link_menu\">랭킹</span></a></li>\n",
       " <li class=\"Nlist_item _isNew\"><a aria-selected=\"false\" class=\"Nitem_link\" href=\"https://news.naver.com/newspaper/home?viewType=pc\" onclick=\"nclk(event,'lnb.paper','','');\" role=\"menuitem\"><span class=\"Nitem_link_menu\">신문보기</span></a></li>\n",
       " <li class=\"Nlist_item\"><a aria-selected=\"false\" class=\"Nitem_link\" href=\"https://news.naver.com/opinion/home\" onclick=\"nclk(event,'lnb.opi','','');\" role=\"menuitem\"><span class=\"Nitem_link_menu\">오피니언</span></a></li>\n",
       " <li class=\"Nlist_item\"><a aria-selected=\"false\" class=\"Nitem_link\" href=\"https://news.naver.com/main/tv/index.naver?mid=tvh\" onclick=\"nclk(event,'lnb.tv','','');\" role=\"menuitem\"><span class=\"Nitem_link_menu\">TV</span></a></li>\n",
       " <li class=\"Nlist_item\"><a aria-selected=\"false\" class=\"Nitem_link\" href=\"https://news.naver.com/main/factcheck/main.naver\" onclick=\"nclk(event,'lnb.fact','','');\" role=\"menuitem\"><span class=\"Nitem_link_menu\">팩트체크</span></a></li>\n",
       " <li class=\"Nlist_item\"><a aria-selected=\"false\" class=\"Nitem_link\" href=\"https://media.naver.com/algorithm\" onclick=\"nclk(event,'lnb.algo','','');\" role=\"menuitem\"><span class=\"Nitem_link_menu\">알고리즘 안내</span></a></li>\n",
       " </ul>]"
      ]
     },
     "execution_count": 16,
     "metadata": {},
     "output_type": "execute_result"
    }
   ],
   "source": [
    "# F12 개발자 도구에서 확인\n",
    "# ul 태그 class 명 확인 : Nlnb_menu_list\n",
    "\n",
    "ul = bs_obj.select('ul.Nlnb_menu_list')\n",
    "ul"
   ]
  },
  {
   "cell_type": "code",
   "execution_count": 17,
   "id": "718edf70-92c9-4f81-ba0f-d9d92a147f7e",
   "metadata": {},
   "outputs": [],
   "source": [
    "# 언론사별 : https://news.naver.com/?viewType=pc\n",
    "# ...\n",
    "# 알고리즘 안내 : https://media.naver.com/algorithm"
   ]
  },
  {
   "cell_type": "code",
   "execution_count": 18,
   "id": "051b1793-d510-4d88-9a5a-c600408d3438",
   "metadata": {},
   "outputs": [
    {
     "name": "stdout",
     "output_type": "stream",
     "text": [
      "언론사별  :  https://news.naver.com/?viewType=pc\n",
      "정치  :  https://news.naver.com/main/main.naver?mode=LSD&mid=shm&sid1=100\n",
      "경제  :  https://news.naver.com/main/main.naver?mode=LSD&mid=shm&sid1=101\n",
      "사회  :  https://news.naver.com/main/main.naver?mode=LSD&mid=shm&sid1=102\n",
      "생활/문화  :  https://news.naver.com/main/main.naver?mode=LSD&mid=shm&sid1=103\n",
      "IT/과학  :  https://news.naver.com/main/main.naver?mode=LSD&mid=shm&sid1=105\n",
      "세계  :  https://news.naver.com/main/main.naver?mode=LSD&mid=shm&sid1=104\n",
      "랭킹  :  https://news.naver.com/main/ranking/popularDay.naver\n",
      "신문보기  :  https://news.naver.com/newspaper/home?viewType=pc\n",
      "오피니언  :  https://news.naver.com/opinion/home\n",
      "TV  :  https://news.naver.com/main/tv/index.naver?mid=tvh\n",
      "팩트체크  :  https://news.naver.com/main/factcheck/main.naver\n",
      "알고리즘 안내  :  https://media.naver.com/algorithm\n"
     ]
    }
   ],
   "source": [
    "ul = bs_obj.find('ul', {'class':'Nlnb_menu_list'})\n",
    "lis = ul.findAll('li')\n",
    "\n",
    "for li in lis:\n",
    "    a_tag = li.find('a')\n",
    "    print(a_tag.text, ' : ', a_tag['href'])"
   ]
  },
  {
   "cell_type": "code",
   "execution_count": 19,
   "id": "26832a3d-184d-4036-b42c-9ad97469935d",
   "metadata": {},
   "outputs": [],
   "source": [
    "# 수집한 데이터를 csv 파일로 저장\n",
    "# (1) 섹션 메뉴와 링크를 리스트로 생성\n",
    "# (2) 데이터프레임 생성\n",
    "# (3) 파일로 저장"
   ]
  },
  {
   "cell_type": "code",
   "execution_count": 20,
   "id": "515c5237-4f30-4176-aaeb-072afd4442e2",
   "metadata": {},
   "outputs": [],
   "source": [
    "# (1) 섹션 메뉴와 링크를 리스트로 생성\n",
    "# 빈 리스트 생성\n",
    "section = []\n",
    "link = []"
   ]
  },
  {
   "cell_type": "code",
   "execution_count": 21,
   "id": "c14954a4-3df1-4f76-9722-593aeaa63731",
   "metadata": {},
   "outputs": [],
   "source": [
    "# 리스트에 추가\n",
    "for li in lis:\n",
    "    a_tag = li.find('a')\n",
    "    section.append(a_tag.text)\n",
    "    link.append(a_tag['href'])"
   ]
  },
  {
   "cell_type": "code",
   "execution_count": 22,
   "id": "5bee43bc-994b-4f24-a6ae-cef5308aca9a",
   "metadata": {},
   "outputs": [
    {
     "data": {
      "text/plain": [
       "['언론사별',\n",
       " '정치',\n",
       " '경제',\n",
       " '사회',\n",
       " '생활/문화',\n",
       " 'IT/과학',\n",
       " '세계',\n",
       " '랭킹',\n",
       " '신문보기',\n",
       " '오피니언',\n",
       " 'TV',\n",
       " '팩트체크',\n",
       " '알고리즘 안내']"
      ]
     },
     "execution_count": 22,
     "metadata": {},
     "output_type": "execute_result"
    }
   ],
   "source": [
    "section"
   ]
  },
  {
   "cell_type": "code",
   "execution_count": 23,
   "id": "2fc3dd3d-b793-4e64-a1be-a88494586abf",
   "metadata": {},
   "outputs": [
    {
     "data": {
      "text/plain": [
       "['https://news.naver.com/?viewType=pc',\n",
       " 'https://news.naver.com/main/main.naver?mode=LSD&mid=shm&sid1=100',\n",
       " 'https://news.naver.com/main/main.naver?mode=LSD&mid=shm&sid1=101',\n",
       " 'https://news.naver.com/main/main.naver?mode=LSD&mid=shm&sid1=102',\n",
       " 'https://news.naver.com/main/main.naver?mode=LSD&mid=shm&sid1=103',\n",
       " 'https://news.naver.com/main/main.naver?mode=LSD&mid=shm&sid1=105',\n",
       " 'https://news.naver.com/main/main.naver?mode=LSD&mid=shm&sid1=104',\n",
       " 'https://news.naver.com/main/ranking/popularDay.naver',\n",
       " 'https://news.naver.com/newspaper/home?viewType=pc',\n",
       " 'https://news.naver.com/opinion/home',\n",
       " 'https://news.naver.com/main/tv/index.naver?mid=tvh',\n",
       " 'https://news.naver.com/main/factcheck/main.naver',\n",
       " 'https://media.naver.com/algorithm']"
      ]
     },
     "execution_count": 23,
     "metadata": {},
     "output_type": "execute_result"
    }
   ],
   "source": [
    "link"
   ]
  },
  {
   "cell_type": "code",
   "execution_count": 24,
   "id": "e9e5fb1c-56ae-4628-a065-02b740e2cccc",
   "metadata": {},
   "outputs": [],
   "source": [
    "# (2) 데이터프레임 생성\n",
    "# pandas 라이브러리 사용"
   ]
  },
  {
   "cell_type": "code",
   "execution_count": 25,
   "id": "ee944d58-70d9-4444-acd6-2c4798892bb6",
   "metadata": {},
   "outputs": [],
   "source": [
    "# !pip install pandas"
   ]
  },
  {
   "cell_type": "code",
   "execution_count": 26,
   "id": "69f3a650-0069-44f1-8d48-5687439b0137",
   "metadata": {},
   "outputs": [],
   "source": [
    "import pandas as pd"
   ]
  },
  {
   "cell_type": "code",
   "execution_count": 27,
   "id": "e42c3b8f-04fd-4c04-a5e0-57529ee9148e",
   "metadata": {},
   "outputs": [],
   "source": [
    "news_section_df = pd.DataFrame({'section':section, 'link':link})"
   ]
  },
  {
   "cell_type": "code",
   "execution_count": 28,
   "id": "cc2b5d78-75e2-4175-a425-e05fe535c7ce",
   "metadata": {},
   "outputs": [
    {
     "data": {
      "text/html": [
       "<div>\n",
       "<style scoped>\n",
       "    .dataframe tbody tr th:only-of-type {\n",
       "        vertical-align: middle;\n",
       "    }\n",
       "\n",
       "    .dataframe tbody tr th {\n",
       "        vertical-align: top;\n",
       "    }\n",
       "\n",
       "    .dataframe thead th {\n",
       "        text-align: right;\n",
       "    }\n",
       "</style>\n",
       "<table border=\"1\" class=\"dataframe\">\n",
       "  <thead>\n",
       "    <tr style=\"text-align: right;\">\n",
       "      <th></th>\n",
       "      <th>section</th>\n",
       "      <th>link</th>\n",
       "    </tr>\n",
       "  </thead>\n",
       "  <tbody>\n",
       "    <tr>\n",
       "      <th>0</th>\n",
       "      <td>언론사별</td>\n",
       "      <td>https://news.naver.com/?viewType=pc</td>\n",
       "    </tr>\n",
       "    <tr>\n",
       "      <th>1</th>\n",
       "      <td>정치</td>\n",
       "      <td>https://news.naver.com/main/main.naver?mode=LS...</td>\n",
       "    </tr>\n",
       "    <tr>\n",
       "      <th>2</th>\n",
       "      <td>경제</td>\n",
       "      <td>https://news.naver.com/main/main.naver?mode=LS...</td>\n",
       "    </tr>\n",
       "    <tr>\n",
       "      <th>3</th>\n",
       "      <td>사회</td>\n",
       "      <td>https://news.naver.com/main/main.naver?mode=LS...</td>\n",
       "    </tr>\n",
       "    <tr>\n",
       "      <th>4</th>\n",
       "      <td>생활/문화</td>\n",
       "      <td>https://news.naver.com/main/main.naver?mode=LS...</td>\n",
       "    </tr>\n",
       "    <tr>\n",
       "      <th>5</th>\n",
       "      <td>IT/과학</td>\n",
       "      <td>https://news.naver.com/main/main.naver?mode=LS...</td>\n",
       "    </tr>\n",
       "    <tr>\n",
       "      <th>6</th>\n",
       "      <td>세계</td>\n",
       "      <td>https://news.naver.com/main/main.naver?mode=LS...</td>\n",
       "    </tr>\n",
       "    <tr>\n",
       "      <th>7</th>\n",
       "      <td>랭킹</td>\n",
       "      <td>https://news.naver.com/main/ranking/popularDay...</td>\n",
       "    </tr>\n",
       "    <tr>\n",
       "      <th>8</th>\n",
       "      <td>신문보기</td>\n",
       "      <td>https://news.naver.com/newspaper/home?viewType=pc</td>\n",
       "    </tr>\n",
       "    <tr>\n",
       "      <th>9</th>\n",
       "      <td>오피니언</td>\n",
       "      <td>https://news.naver.com/opinion/home</td>\n",
       "    </tr>\n",
       "    <tr>\n",
       "      <th>10</th>\n",
       "      <td>TV</td>\n",
       "      <td>https://news.naver.com/main/tv/index.naver?mid...</td>\n",
       "    </tr>\n",
       "    <tr>\n",
       "      <th>11</th>\n",
       "      <td>팩트체크</td>\n",
       "      <td>https://news.naver.com/main/factcheck/main.naver</td>\n",
       "    </tr>\n",
       "    <tr>\n",
       "      <th>12</th>\n",
       "      <td>알고리즘 안내</td>\n",
       "      <td>https://media.naver.com/algorithm</td>\n",
       "    </tr>\n",
       "  </tbody>\n",
       "</table>\n",
       "</div>"
      ],
      "text/plain": [
       "    section                                               link\n",
       "0      언론사별                https://news.naver.com/?viewType=pc\n",
       "1        정치  https://news.naver.com/main/main.naver?mode=LS...\n",
       "2        경제  https://news.naver.com/main/main.naver?mode=LS...\n",
       "3        사회  https://news.naver.com/main/main.naver?mode=LS...\n",
       "4     생활/문화  https://news.naver.com/main/main.naver?mode=LS...\n",
       "5     IT/과학  https://news.naver.com/main/main.naver?mode=LS...\n",
       "6        세계  https://news.naver.com/main/main.naver?mode=LS...\n",
       "7        랭킹  https://news.naver.com/main/ranking/popularDay...\n",
       "8      신문보기  https://news.naver.com/newspaper/home?viewType=pc\n",
       "9      오피니언                https://news.naver.com/opinion/home\n",
       "10       TV  https://news.naver.com/main/tv/index.naver?mid...\n",
       "11     팩트체크   https://news.naver.com/main/factcheck/main.naver\n",
       "12  알고리즘 안내                  https://media.naver.com/algorithm"
      ]
     },
     "execution_count": 28,
     "metadata": {},
     "output_type": "execute_result"
    }
   ],
   "source": [
    "news_section_df"
   ]
  },
  {
   "cell_type": "code",
   "execution_count": 29,
   "id": "04fea2d6-ba63-4c1b-9280-f63cf9409df4",
   "metadata": {},
   "outputs": [],
   "source": [
    "# (3) 파일로 저장\n",
    "# ch21_crawling 폴더 안에 crawl_data 폴더 생성\n",
    "# 데이터프레임.to_csv('파일경로 및 파일명', index=0)"
   ]
  },
  {
   "cell_type": "code",
   "execution_count": 31,
   "id": "464b0ac1-90d2-4eac-b32e-40170c6e32cd",
   "metadata": {},
   "outputs": [],
   "source": [
    "news_section_df.to_csv('./crawl_data/naver_news_section.csv', index=0)"
   ]
  },
  {
   "cell_type": "code",
   "execution_count": null,
   "id": "c96b6dfd-7aad-4a84-aba9-92b703db8aeb",
   "metadata": {},
   "outputs": [],
   "source": []
  },
  {
   "cell_type": "code",
   "execution_count": null,
   "id": "4d01e220-c818-4708-ae33-8d94a450aa2a",
   "metadata": {},
   "outputs": [],
   "source": []
  },
  {
   "cell_type": "code",
   "execution_count": null,
   "id": "075b470f-902b-4453-9e99-53a5d13cbbf2",
   "metadata": {},
   "outputs": [],
   "source": []
  },
  {
   "cell_type": "code",
   "execution_count": null,
   "id": "ca8bc16f-07ca-4efc-83fb-167436bea282",
   "metadata": {},
   "outputs": [],
   "source": []
  },
  {
   "cell_type": "code",
   "execution_count": null,
   "id": "c069d38b-cf73-4ba9-a646-a107d201668b",
   "metadata": {},
   "outputs": [],
   "source": []
  }
 ],
 "metadata": {
  "kernelspec": {
   "display_name": "Python 3 (ipykernel)",
   "language": "python",
   "name": "python3"
  },
  "language_info": {
   "codemirror_mode": {
    "name": "ipython",
    "version": 3
   },
   "file_extension": ".py",
   "mimetype": "text/x-python",
   "name": "python",
   "nbconvert_exporter": "python",
   "pygments_lexer": "ipython3",
   "version": "3.11.5"
  }
 },
 "nbformat": 4,
 "nbformat_minor": 5
}
