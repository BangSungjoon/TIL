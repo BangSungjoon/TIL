{
 "cells": [
  {
   "cell_type": "code",
   "execution_count": 2,
   "id": "a34aee85-09ed-4029-86e7-9e96b868ed0f",
   "metadata": {},
   "outputs": [],
   "source": [
    "#!pip install pymongo"
   ]
  },
  {
   "cell_type": "code",
   "execution_count": 3,
   "id": "cf4a83e0-e55e-4dc3-930f-2f0a70ddbf8e",
   "metadata": {},
   "outputs": [],
   "source": [
    "from pymongo import MongoClient"
   ]
  },
  {
   "cell_type": "code",
   "execution_count": 4,
   "id": "e3025774-7a16-42c9-abe1-a19252894c26",
   "metadata": {},
   "outputs": [],
   "source": [
    "# DB 연결\n",
    "conn = MongoClient(host='localhost' , port=27017)"
   ]
  },
  {
   "cell_type": "code",
   "execution_count": 5,
   "id": "3923c65f-07a8-417e-95f4-4715b2d27c3c",
   "metadata": {},
   "outputs": [
    {
     "data": {
      "text/plain": [
       "['admin', 'config', 'local', 'myDB', 'new_db', 'test']"
      ]
     },
     "execution_count": 5,
     "metadata": {},
     "output_type": "execute_result"
    }
   ],
   "source": [
    "# 데이터베이스 조회\n",
    "conn.list_database_names()"
   ]
  },
  {
   "cell_type": "code",
   "execution_count": 7,
   "id": "3a4c2a9d-77b5-4e6e-a8d1-2d7a05301835",
   "metadata": {},
   "outputs": [
    {
     "data": {
      "text/plain": [
       "['area',\n",
       " 'book',\n",
       " 'inventory',\n",
       " 'publisher',\n",
       " 'by_road_type',\n",
       " 'population',\n",
       " 'clothes',\n",
       " 'board',\n",
       " 'by_month',\n",
       " 'product',\n",
       " 'book2',\n",
       " 'fruits',\n",
       " 'local']"
      ]
     },
     "execution_count": 7,
     "metadata": {},
     "output_type": "execute_result"
    }
   ],
   "source": [
    "# new_db 데이터베이스 사용\n",
    "# 컬렉션 조회\n",
    "db = conn.new_db\n",
    "db.list_collection_names()"
   ]
  },
  {
   "cell_type": "code",
   "execution_count": 8,
   "id": "7afc526b-2b0c-4381-a8f5-78716e0ed87f",
   "metadata": {},
   "outputs": [
    {
     "data": {
      "text/plain": [
       "<pymongo.cursor.Cursor at 0x288a6a5eb10>"
      ]
     },
     "execution_count": 8,
     "metadata": {},
     "output_type": "execute_result"
    }
   ],
   "source": [
    "# book 컬렉션의 모든 도큐먼트 조회\n",
    "db.book.find()\n",
    "# 커서 반환 -> 반복문 사용해서 도큐먼트 출력"
   ]
  },
  {
   "cell_type": "code",
   "execution_count": 9,
   "id": "37cdca5a-4a58-4f1e-9584-4b1d90b08ee5",
   "metadata": {},
   "outputs": [
    {
     "name": "stdout",
     "output_type": "stream",
     "text": [
      "{'_id': ObjectId('651d83e6bc61a0f7255e161f'), 'bookNo': '1001', 'bookName': '데이터베이스 이론', 'bookAuthor': '홍길동', 'bookPrice': 22000, 'bookDate': datetime.datetime(2019, 11, 11, 0, 0), 'bookStock': 5, 'publisher': {'pubNo': '3', 'pubName': '정보출판'}}\n",
      "{'_id': ObjectId('651d83e6bc61a0f7255e1620'), 'bookNo': '1002', 'bookName': '자바 프로그래밍', 'bookAuthor': '이몽룡', 'bookPrice': 25000, 'bookDate': datetime.datetime(2021, 12, 12, 0, 0), 'bookStock': 4, 'publisher': {'pubNo': '1', 'pubName': '강남 출판사'}}\n",
      "{'_id': ObjectId('651d83e6bc61a0f7255e1621'), 'bookNo': '1003', 'bookName': '인터넷프로그래밍', 'bookAuthor': '성춘향', 'bookPrice': 30000, 'bookDate': datetime.datetime(2019, 2, 10, 0, 0), 'bookStock': 10, 'publisher': {'pubNo': '2', 'pubName': '도서출판 강남'}}\n",
      "{'_id': ObjectId('651d83e6bc61a0f7255e1622'), 'bookNo': '1004', 'bookName': '안드로이드 프로그래밍', 'bookAuthor': '변학도', 'bookPrice': 23000, 'bookDate': datetime.datetime(2017, 10, 10, 0, 0), 'bookStock': 2, 'publisher': {'pubNo': '1', 'pubName': '강남 출판사'}}\n",
      "{'_id': ObjectId('651d83e6bc61a0f7255e1623'), 'bookNo': '1005', 'bookName': '안드로이드 앱', 'bookAuthor': '강길동', 'bookPrice': 26000, 'bookDate': datetime.datetime(2020, 1, 11, 0, 0), 'bookStock': 5, 'publisher': {'pubNo': '2', 'pubName': '도서출판 강남'}}\n",
      "{'_id': ObjectId('651d83e6bc61a0f7255e1624'), 'bookNo': '1006', 'bookName': '1MS SQL SERVER 2014', 'bookAuthor': '박지성', 'bookPrice': 35000, 'bookDate': datetime.datetime(2020, 3, 25, 0, 0), 'bookStock': 7, 'publisher': {'pubNo': '3', 'pubName': '정보출판'}}\n",
      "{'_id': ObjectId('651d83e6bc61a0f7255e1625'), 'bookNo': '1007', 'bookName': 'hTML & CSS', 'bookAuthor': '손홍민', 'bookPrice': 18000, 'bookDate': datetime.datetime(2022, 9, 30, 0, 0), 'bookStock': 3, 'publisher': {'pubNo': '1', 'pubName': '강남 출판사'}}\n",
      "{'_id': ObjectId('651d83e6bc61a0f7255e1626'), 'bookNo': '1008', 'bookName': 'MFC 입문', 'bookAuthor': '류현진', 'bookPrice': 20000, 'bookDate': datetime.datetime(2015, 12, 12, 0, 0), 'bookStock': 5, 'publisher': {'pubNo': '1', 'pubName': '강남 출판사'}}\n",
      "{'_id': ObjectId('651d83e6bc61a0f7255e1627'), 'bookNo': '1009', 'bookName': '안드로이드 게임 제작', 'bookAuthor': '나길동', 'bookPrice': 33000, 'bookDate': datetime.datetime(2018, 10, 31, 0, 0), 'bookStock': 5, 'publisher': {'pubNo': '2', 'pubName': '도서출판 강남'}}\n",
      "{'_id': ObjectId('651d83e6bc61a0f7255e1628'), 'bookNo': '1010', 'bookName': 'C++객체지향 프로그래밍', 'bookAuthor': '추신수', 'bookPrice': 24000, 'bookDate': datetime.datetime(2019, 4, 20, 0, 0), 'bookStock': 2, 'publisher': {'pubNo': '3', 'pubName': '정보출판'}}\n",
      "{'_id': ObjectId('651d83e6bc61a0f7255e1629'), 'bookNo': '1011', 'bookName': 'JSP 웹 프로그래밍', 'bookAuthor': '김연아', 'bookPrice': 27000, 'bookDate': datetime.datetime(2020, 10, 23, 0, 0), 'bookStock': 8, 'publisher': {'pubNo': '1', 'pubName': '강남 출판사'}}\n",
      "{'_id': ObjectId('651d83e6bc61a0f7255e162a'), 'bookNo': '1012', 'bookName': '해커들의 해킹 기법', 'bookAuthor': '손연재', 'bookPrice': 32000, 'bookDate': datetime.datetime(2018, 7, 7, 0, 0), 'bookStock': 1, 'publisher': {'pubNo': '2', 'pubName': '도서출판 강남'}}\n",
      "{'_id': ObjectId('651d83e6bc61a0f7255e162b'), 'bookNo': '1013', 'bookName': '자료구조', 'bookAuthor': '홍길동', 'bookPrice': 19000, 'bookDate': datetime.datetime(2020, 1, 20, 0, 0), 'bookStock': 4, 'publisher': {'pubNo': '1', 'pubName': '강남 출판사'}}\n",
      "{'_id': ObjectId('651d83e6bc61a0f7255e162c'), 'bookNo': '1014', 'bookName': '웹 해킹과 침해사고 분석', 'bookAuthor': '성춘향', 'bookPrice': 35000, 'bookDate': datetime.datetime(2018, 11, 25, 0, 0), 'bookStock': 5, 'publisher': {'pubNo': '2', 'pubName': '도서출판 강남'}}\n",
      "{'_id': ObjectId('651d83e6bc61a0f7255e162d'), 'bookNo': '1015', 'bookName': '자바스크립 & jQuery', 'bookAuthor': '홍길동', 'bookPrice': 27000, 'bookDate': datetime.datetime(2019, 10, 22, 0, 0), 'bookStock': 2, 'publisher': {'pubNo': '2', 'pubName': '도서출판 강남'}}\n"
     ]
    }
   ],
   "source": [
    "# 반복문 사용해서 도큐먼트 출력\n",
    "for book in db.book.find():\n",
    "    print(book)"
   ]
  },
  {
   "cell_type": "code",
   "execution_count": 10,
   "id": "5c10b39a-a7e7-4e63-864f-3c8f448840e3",
   "metadata": {},
   "outputs": [
    {
     "data": {
      "text/plain": [
       "{'_id': ObjectId('651d83e6bc61a0f7255e161f'),\n",
       " 'bookNo': '1001',\n",
       " 'bookName': '데이터베이스 이론',\n",
       " 'bookAuthor': '홍길동',\n",
       " 'bookPrice': 22000,\n",
       " 'bookDate': datetime.datetime(2019, 11, 11, 0, 0),\n",
       " 'bookStock': 5,\n",
       " 'publisher': {'pubNo': '3', 'pubName': '정보출판'}}"
      ]
     },
     "execution_count": 10,
     "metadata": {},
     "output_type": "execute_result"
    }
   ],
   "source": [
    "# 도큐먼트 1개 조회\n",
    "db.book.find_one() # 첫 번째 도큐먼트"
   ]
  },
  {
   "cell_type": "code",
   "execution_count": 11,
   "id": "be14758e-2f38-4153-b328-7d2e30b8a19b",
   "metadata": {},
   "outputs": [
    {
     "data": {
      "text/plain": [
       "{'_id': ObjectId('651d83e6bc61a0f7255e1620'),\n",
       " 'bookNo': '1002',\n",
       " 'bookName': '자바 프로그래밍',\n",
       " 'bookAuthor': '이몽룡',\n",
       " 'bookPrice': 25000,\n",
       " 'bookDate': datetime.datetime(2021, 12, 12, 0, 0),\n",
       " 'bookStock': 4,\n",
       " 'publisher': {'pubNo': '1', 'pubName': '강남 출판사'}}"
      ]
     },
     "execution_count": 11,
     "metadata": {},
     "output_type": "execute_result"
    }
   ],
   "source": [
    "# 조건에 맞는 1개의 도큐먼트 출력\n",
    "db.book.find_one({'bookAuthor':'이몽룡'})"
   ]
  },
  {
   "cell_type": "code",
   "execution_count": 12,
   "id": "85ae0416-2ecf-44f1-9b97-4998c787050d",
   "metadata": {},
   "outputs": [],
   "source": [
    "# CRUD\n",
    "# insert_one()\n",
    "# update_one()\n",
    "# delete_one()"
   ]
  },
  {
   "cell_type": "code",
   "execution_count": 14,
   "id": "54ed1fff-1d1f-4f93-ad3f-3c44aeab68a2",
   "metadata": {},
   "outputs": [
    {
     "data": {
      "text/plain": [
       "<pymongo.results.InsertOneResult at 0x288a68bfdc0>"
      ]
     },
     "execution_count": 14,
     "metadata": {},
     "output_type": "execute_result"
    }
   ],
   "source": [
    "# insert one()\n",
    "book = {\n",
    "    'bookNo':'1020',\n",
    "    'bookName':'MongoDB',\n",
    "    'bookAuthor':'김길동',\n",
    "    'bookPrice':20000,\n",
    "    'bookDate':'2022-11-11',\n",
    "    'bookStock':5,\n",
    "    'publisher': {'pubNo':\"1\", 'pubName':\"서울 출판\"}\n",
    "}\n",
    "\n",
    "db.book.insert_one(book)\n",
    "\n",
    "# 'bookDate':'2022-11-11' 문자열 string 타입으로 저장됨\n",
    "# 도서관리 프로그램에서 문자열로 변환하여 출력 시 오류가 발생\n",
    "# Compass에서 확인하고 1020 도큐먼트 삭제함"
   ]
  },
  {
   "cell_type": "code",
   "execution_count": 15,
   "id": "fc9d10fa-ed8c-44c0-9da5-f9f576c4f9b5",
   "metadata": {},
   "outputs": [
    {
     "data": {
      "text/plain": [
       "<pymongo.results.InsertOneResult at 0x288a6a60d30>"
      ]
     },
     "execution_count": 15,
     "metadata": {},
     "output_type": "execute_result"
    }
   ],
   "source": [
    "# 문자열을 날짜 타입으로 변환하여 저장\n",
    "from datetime import datetime\n",
    "datetime_format = '%Y-%m-%d'\n",
    "bookDate_date = datetime.strptime('2022-11-11', datetime_format)\n",
    "\n",
    "book = {\n",
    "    'bookNo':'1020',\n",
    "    'bookName':'MongoDB',\n",
    "    'bookAuthor':'김길동',\n",
    "    'bookPrice':20000,\n",
    "    'bookDate':bookDate_date,\n",
    "    'bookStock':5,\n",
    "    'publisher': {'pubNo':\"1\", 'pubName':\"서울 출판\"}\n",
    "}\n",
    "\n",
    "db.book.insert_one(book)"
   ]
  },
  {
   "cell_type": "code",
   "execution_count": 16,
   "id": "089e07a8-26d5-452a-8062-d36d34beeb07",
   "metadata": {},
   "outputs": [
    {
     "name": "stdout",
     "output_type": "stream",
     "text": [
      "{'_id': ObjectId('651d83e6bc61a0f7255e161f'), 'bookNo': '1001', 'bookName': '데이터베이스 이론', 'bookAuthor': '홍길동', 'bookPrice': 22000, 'bookDate': datetime.datetime(2019, 11, 11, 0, 0), 'bookStock': 5, 'publisher': {'pubNo': '3', 'pubName': '정보출판'}}\n",
      "{'_id': ObjectId('651d83e6bc61a0f7255e1620'), 'bookNo': '1002', 'bookName': '자바 프로그래밍', 'bookAuthor': '이몽룡', 'bookPrice': 25000, 'bookDate': datetime.datetime(2021, 12, 12, 0, 0), 'bookStock': 4, 'publisher': {'pubNo': '1', 'pubName': '강남 출판사'}}\n",
      "{'_id': ObjectId('651d83e6bc61a0f7255e1621'), 'bookNo': '1003', 'bookName': '인터넷프로그래밍', 'bookAuthor': '성춘향', 'bookPrice': 30000, 'bookDate': datetime.datetime(2019, 2, 10, 0, 0), 'bookStock': 10, 'publisher': {'pubNo': '2', 'pubName': '도서출판 강남'}}\n",
      "{'_id': ObjectId('651d83e6bc61a0f7255e1622'), 'bookNo': '1004', 'bookName': '안드로이드 프로그래밍', 'bookAuthor': '변학도', 'bookPrice': 23000, 'bookDate': datetime.datetime(2017, 10, 10, 0, 0), 'bookStock': 2, 'publisher': {'pubNo': '1', 'pubName': '강남 출판사'}}\n",
      "{'_id': ObjectId('651d83e6bc61a0f7255e1623'), 'bookNo': '1005', 'bookName': '안드로이드 앱', 'bookAuthor': '강길동', 'bookPrice': 26000, 'bookDate': datetime.datetime(2020, 1, 11, 0, 0), 'bookStock': 5, 'publisher': {'pubNo': '2', 'pubName': '도서출판 강남'}}\n",
      "{'_id': ObjectId('651d83e6bc61a0f7255e1624'), 'bookNo': '1006', 'bookName': '1MS SQL SERVER 2014', 'bookAuthor': '박지성', 'bookPrice': 35000, 'bookDate': datetime.datetime(2020, 3, 25, 0, 0), 'bookStock': 7, 'publisher': {'pubNo': '3', 'pubName': '정보출판'}}\n",
      "{'_id': ObjectId('651d83e6bc61a0f7255e1625'), 'bookNo': '1007', 'bookName': 'hTML & CSS', 'bookAuthor': '손홍민', 'bookPrice': 18000, 'bookDate': datetime.datetime(2022, 9, 30, 0, 0), 'bookStock': 3, 'publisher': {'pubNo': '1', 'pubName': '강남 출판사'}}\n",
      "{'_id': ObjectId('651d83e6bc61a0f7255e1626'), 'bookNo': '1008', 'bookName': 'MFC 입문', 'bookAuthor': '류현진', 'bookPrice': 20000, 'bookDate': datetime.datetime(2015, 12, 12, 0, 0), 'bookStock': 5, 'publisher': {'pubNo': '1', 'pubName': '강남 출판사'}}\n",
      "{'_id': ObjectId('651d83e6bc61a0f7255e1627'), 'bookNo': '1009', 'bookName': '안드로이드 게임 제작', 'bookAuthor': '나길동', 'bookPrice': 33000, 'bookDate': datetime.datetime(2018, 10, 31, 0, 0), 'bookStock': 5, 'publisher': {'pubNo': '2', 'pubName': '도서출판 강남'}}\n",
      "{'_id': ObjectId('651d83e6bc61a0f7255e1628'), 'bookNo': '1010', 'bookName': 'C++객체지향 프로그래밍', 'bookAuthor': '추신수', 'bookPrice': 24000, 'bookDate': datetime.datetime(2019, 4, 20, 0, 0), 'bookStock': 2, 'publisher': {'pubNo': '3', 'pubName': '정보출판'}}\n",
      "{'_id': ObjectId('651d83e6bc61a0f7255e1629'), 'bookNo': '1011', 'bookName': 'JSP 웹 프로그래밍', 'bookAuthor': '김연아', 'bookPrice': 27000, 'bookDate': datetime.datetime(2020, 10, 23, 0, 0), 'bookStock': 8, 'publisher': {'pubNo': '1', 'pubName': '강남 출판사'}}\n",
      "{'_id': ObjectId('651d83e6bc61a0f7255e162a'), 'bookNo': '1012', 'bookName': '해커들의 해킹 기법', 'bookAuthor': '손연재', 'bookPrice': 32000, 'bookDate': datetime.datetime(2018, 7, 7, 0, 0), 'bookStock': 1, 'publisher': {'pubNo': '2', 'pubName': '도서출판 강남'}}\n",
      "{'_id': ObjectId('651d83e6bc61a0f7255e162b'), 'bookNo': '1013', 'bookName': '자료구조', 'bookAuthor': '홍길동', 'bookPrice': 19000, 'bookDate': datetime.datetime(2020, 1, 20, 0, 0), 'bookStock': 4, 'publisher': {'pubNo': '1', 'pubName': '강남 출판사'}}\n",
      "{'_id': ObjectId('651d83e6bc61a0f7255e162c'), 'bookNo': '1014', 'bookName': '웹 해킹과 침해사고 분석', 'bookAuthor': '성춘향', 'bookPrice': 35000, 'bookDate': datetime.datetime(2018, 11, 25, 0, 0), 'bookStock': 5, 'publisher': {'pubNo': '2', 'pubName': '도서출판 강남'}}\n",
      "{'_id': ObjectId('651d83e6bc61a0f7255e162d'), 'bookNo': '1015', 'bookName': '자바스크립 & jQuery', 'bookAuthor': '홍길동', 'bookPrice': 27000, 'bookDate': datetime.datetime(2019, 10, 22, 0, 0), 'bookStock': 2, 'publisher': {'pubNo': '2', 'pubName': '도서출판 강남'}}\n",
      "{'_id': ObjectId('651f9f7f87e0612b7becc70b'), 'bookNo': '1020', 'bookName': 'MongoDB', 'bookAuthor': '김길동', 'bookPrice': 20000, 'bookDate': datetime.datetime(2022, 11, 11, 0, 0), 'bookStock': 5, 'publisher': {'pubNo': '1', 'pubName': '서울 출판'}}\n"
     ]
    }
   ],
   "source": [
    "for book in db.book.find():\n",
    "    print(book)"
   ]
  },
  {
   "cell_type": "code",
   "execution_count": 18,
   "id": "1102668a-e78a-46ec-9649-09232983957d",
   "metadata": {},
   "outputs": [
    {
     "name": "stdout",
     "output_type": "stream",
     "text": [
      "{'_id': ObjectId('651d83e6bc61a0f7255e162a'), 'bookNo': '1012', 'bookName': '해커들의 해킹 기법', 'bookAuthor': '손연재', 'bookPrice': 32000, 'bookDate': datetime.datetime(2018, 7, 7, 0, 0), 'bookStock': 1, 'publisher': {'pubNo': '2', 'pubName': '도서출판 강남'}}\n",
      "{'_id': ObjectId('651d83e6bc61a0f7255e162d'), 'bookNo': '1015', 'bookName': '자바스크립 & jQuery', 'bookAuthor': '홍길동', 'bookPrice': 27000, 'bookDate': datetime.datetime(2019, 10, 22, 0, 0), 'bookStock': 2, 'publisher': {'pubNo': '2', 'pubName': '도서출판 강남'}}\n",
      "{'_id': ObjectId('651d83e6bc61a0f7255e1620'), 'bookNo': '1002', 'bookName': '자바 프로그래밍', 'bookAuthor': '이몽룡', 'bookPrice': 25000, 'bookDate': datetime.datetime(2021, 12, 12, 0, 0), 'bookStock': 4, 'publisher': {'pubNo': '1', 'pubName': '강남 출판사'}}\n",
      "{'_id': ObjectId('651d83e6bc61a0f7255e1623'), 'bookNo': '1005', 'bookName': '안드로이드 앱', 'bookAuthor': '강길동', 'bookPrice': 26000, 'bookDate': datetime.datetime(2020, 1, 11, 0, 0), 'bookStock': 5, 'publisher': {'pubNo': '2', 'pubName': '도서출판 강남'}}\n",
      "{'_id': ObjectId('651d83e6bc61a0f7255e1627'), 'bookNo': '1009', 'bookName': '안드로이드 게임 제작', 'bookAuthor': '나길동', 'bookPrice': 33000, 'bookDate': datetime.datetime(2018, 10, 31, 0, 0), 'bookStock': 5, 'publisher': {'pubNo': '2', 'pubName': '도서출판 강남'}}\n",
      "{'_id': ObjectId('651d83e6bc61a0f7255e162c'), 'bookNo': '1014', 'bookName': '웹 해킹과 침해사고 분석', 'bookAuthor': '성춘향', 'bookPrice': 35000, 'bookDate': datetime.datetime(2018, 11, 25, 0, 0), 'bookStock': 5, 'publisher': {'pubNo': '2', 'pubName': '도서출판 강남'}}\n",
      "{'_id': ObjectId('651d83e6bc61a0f7255e1624'), 'bookNo': '1006', 'bookName': '1MS SQL SERVER 2014', 'bookAuthor': '박지성', 'bookPrice': 35000, 'bookDate': datetime.datetime(2020, 3, 25, 0, 0), 'bookStock': 7, 'publisher': {'pubNo': '3', 'pubName': '정보출판'}}\n",
      "{'_id': ObjectId('651d83e6bc61a0f7255e1629'), 'bookNo': '1011', 'bookName': 'JSP 웹 프로그래밍', 'bookAuthor': '김연아', 'bookPrice': 27000, 'bookDate': datetime.datetime(2020, 10, 23, 0, 0), 'bookStock': 8, 'publisher': {'pubNo': '1', 'pubName': '강남 출판사'}}\n",
      "{'_id': ObjectId('651d83e6bc61a0f7255e1621'), 'bookNo': '1003', 'bookName': '인터넷프로그래밍', 'bookAuthor': '성춘향', 'bookPrice': 30000, 'bookDate': datetime.datetime(2019, 2, 10, 0, 0), 'bookStock': 10, 'publisher': {'pubNo': '2', 'pubName': '도서출판 강남'}}\n"
     ]
    }
   ],
   "source": [
    "# 도서 검색\n",
    "# 범위 쿼리\n",
    "# 오름차순 정렬\n",
    "for book in db.book.find({'bookPrice': {'$gte': 25000}}).sort('bookStock'):\n",
    "    print(book)"
   ]
  },
  {
   "cell_type": "code",
   "execution_count": 19,
   "id": "c417263b-9f5d-4b30-b13c-d1ba36b66929",
   "metadata": {},
   "outputs": [
    {
     "name": "stdout",
     "output_type": "stream",
     "text": [
      "{'_id': ObjectId('651d83e6bc61a0f7255e1621'), 'bookNo': '1003', 'bookName': '인터넷프로그래밍', 'bookAuthor': '성춘향', 'bookPrice': 30000, 'bookDate': datetime.datetime(2019, 2, 10, 0, 0), 'bookStock': 10, 'publisher': {'pubNo': '2', 'pubName': '도서출판 강남'}}\n",
      "{'_id': ObjectId('651d83e6bc61a0f7255e1629'), 'bookNo': '1011', 'bookName': 'JSP 웹 프로그래밍', 'bookAuthor': '김연아', 'bookPrice': 27000, 'bookDate': datetime.datetime(2020, 10, 23, 0, 0), 'bookStock': 8, 'publisher': {'pubNo': '1', 'pubName': '강남 출판사'}}\n",
      "{'_id': ObjectId('651d83e6bc61a0f7255e1624'), 'bookNo': '1006', 'bookName': '1MS SQL SERVER 2014', 'bookAuthor': '박지성', 'bookPrice': 35000, 'bookDate': datetime.datetime(2020, 3, 25, 0, 0), 'bookStock': 7, 'publisher': {'pubNo': '3', 'pubName': '정보출판'}}\n",
      "{'_id': ObjectId('651d83e6bc61a0f7255e1623'), 'bookNo': '1005', 'bookName': '안드로이드 앱', 'bookAuthor': '강길동', 'bookPrice': 26000, 'bookDate': datetime.datetime(2020, 1, 11, 0, 0), 'bookStock': 5, 'publisher': {'pubNo': '2', 'pubName': '도서출판 강남'}}\n",
      "{'_id': ObjectId('651d83e6bc61a0f7255e1627'), 'bookNo': '1009', 'bookName': '안드로이드 게임 제작', 'bookAuthor': '나길동', 'bookPrice': 33000, 'bookDate': datetime.datetime(2018, 10, 31, 0, 0), 'bookStock': 5, 'publisher': {'pubNo': '2', 'pubName': '도서출판 강남'}}\n",
      "{'_id': ObjectId('651d83e6bc61a0f7255e162c'), 'bookNo': '1014', 'bookName': '웹 해킹과 침해사고 분석', 'bookAuthor': '성춘향', 'bookPrice': 35000, 'bookDate': datetime.datetime(2018, 11, 25, 0, 0), 'bookStock': 5, 'publisher': {'pubNo': '2', 'pubName': '도서출판 강남'}}\n",
      "{'_id': ObjectId('651d83e6bc61a0f7255e1620'), 'bookNo': '1002', 'bookName': '자바 프로그래밍', 'bookAuthor': '이몽룡', 'bookPrice': 25000, 'bookDate': datetime.datetime(2021, 12, 12, 0, 0), 'bookStock': 4, 'publisher': {'pubNo': '1', 'pubName': '강남 출판사'}}\n",
      "{'_id': ObjectId('651d83e6bc61a0f7255e162d'), 'bookNo': '1015', 'bookName': '자바스크립 & jQuery', 'bookAuthor': '홍길동', 'bookPrice': 27000, 'bookDate': datetime.datetime(2019, 10, 22, 0, 0), 'bookStock': 2, 'publisher': {'pubNo': '2', 'pubName': '도서출판 강남'}}\n",
      "{'_id': ObjectId('651d83e6bc61a0f7255e162a'), 'bookNo': '1012', 'bookName': '해커들의 해킹 기법', 'bookAuthor': '손연재', 'bookPrice': 32000, 'bookDate': datetime.datetime(2018, 7, 7, 0, 0), 'bookStock': 1, 'publisher': {'pubNo': '2', 'pubName': '도서출판 강남'}}\n"
     ]
    }
   ],
   "source": [
    "# 내림차순 정렬\n",
    "for book in db.book.find({'bookPrice': {'$gte': 25000}}).sort('bookStock', -1):\n",
    "    print(book)"
   ]
  },
  {
   "cell_type": "code",
   "execution_count": null,
   "id": "7fff1c92-d481-4272-949e-e40a07ef9569",
   "metadata": {},
   "outputs": [],
   "source": []
  },
  {
   "cell_type": "code",
   "execution_count": 20,
   "id": "20074019-872b-46e1-94ae-188d34207e3c",
   "metadata": {},
   "outputs": [
    {
     "data": {
      "text/plain": [
       "<pymongo.results.UpdateResult at 0x288a68bfe50>"
      ]
     },
     "execution_count": 20,
     "metadata": {},
     "output_type": "execute_result"
    }
   ],
   "source": [
    "# updateOne\n",
    "\n",
    "db.book.update_one(\n",
    "    {'bookNo':'1020'},\n",
    "    {\n",
    "        '$set':{'bookStock':100}\n",
    "    }\n",
    ")"
   ]
  },
  {
   "cell_type": "code",
   "execution_count": 21,
   "id": "ea342789-8930-4de1-a9d0-9c2c5ba3f947",
   "metadata": {},
   "outputs": [
    {
     "data": {
      "text/plain": [
       "{'_id': ObjectId('651f9f7f87e0612b7becc70b'),\n",
       " 'bookNo': '1020',\n",
       " 'bookName': 'MongoDB',\n",
       " 'bookAuthor': '김길동',\n",
       " 'bookPrice': 20000,\n",
       " 'bookDate': datetime.datetime(2022, 11, 11, 0, 0),\n",
       " 'bookStock': 100,\n",
       " 'publisher': {'pubNo': '1', 'pubName': '서울 출판'}}"
      ]
     },
     "execution_count": 21,
     "metadata": {},
     "output_type": "execute_result"
    }
   ],
   "source": [
    "db.book.find_one({'bookNo':'1020'})"
   ]
  },
  {
   "cell_type": "code",
   "execution_count": null,
   "id": "7e14f4e1-5243-4277-adc7-a3060f89c08b",
   "metadata": {},
   "outputs": [],
   "source": []
  },
  {
   "cell_type": "code",
   "execution_count": 22,
   "id": "a44c91f3-15ce-4910-99a3-043726549aa2",
   "metadata": {},
   "outputs": [
    {
     "data": {
      "text/plain": [
       "<pymongo.results.DeleteResult at 0x288a63f34c0>"
      ]
     },
     "execution_count": 22,
     "metadata": {},
     "output_type": "execute_result"
    }
   ],
   "source": [
    "# delete_one()\n",
    "db.book.delete_one({'bookNo':'1020'})"
   ]
  },
  {
   "cell_type": "code",
   "execution_count": 23,
   "id": "64fd9f5d-b5e6-4a59-9a0f-ebcdec7cb23d",
   "metadata": {},
   "outputs": [
    {
     "name": "stdout",
     "output_type": "stream",
     "text": [
      "{'_id': ObjectId('651d83e6bc61a0f7255e161f'), 'bookNo': '1001', 'bookName': '데이터베이스 이론', 'bookAuthor': '홍길동', 'bookPrice': 22000, 'bookDate': datetime.datetime(2019, 11, 11, 0, 0), 'bookStock': 5, 'publisher': {'pubNo': '3', 'pubName': '정보출판'}}\n",
      "{'_id': ObjectId('651d83e6bc61a0f7255e1620'), 'bookNo': '1002', 'bookName': '자바 프로그래밍', 'bookAuthor': '이몽룡', 'bookPrice': 25000, 'bookDate': datetime.datetime(2021, 12, 12, 0, 0), 'bookStock': 4, 'publisher': {'pubNo': '1', 'pubName': '강남 출판사'}}\n",
      "{'_id': ObjectId('651d83e6bc61a0f7255e1621'), 'bookNo': '1003', 'bookName': '인터넷프로그래밍', 'bookAuthor': '성춘향', 'bookPrice': 30000, 'bookDate': datetime.datetime(2019, 2, 10, 0, 0), 'bookStock': 10, 'publisher': {'pubNo': '2', 'pubName': '도서출판 강남'}}\n",
      "{'_id': ObjectId('651d83e6bc61a0f7255e1622'), 'bookNo': '1004', 'bookName': '안드로이드 프로그래밍', 'bookAuthor': '변학도', 'bookPrice': 23000, 'bookDate': datetime.datetime(2017, 10, 10, 0, 0), 'bookStock': 2, 'publisher': {'pubNo': '1', 'pubName': '강남 출판사'}}\n",
      "{'_id': ObjectId('651d83e6bc61a0f7255e1623'), 'bookNo': '1005', 'bookName': '안드로이드 앱', 'bookAuthor': '강길동', 'bookPrice': 26000, 'bookDate': datetime.datetime(2020, 1, 11, 0, 0), 'bookStock': 5, 'publisher': {'pubNo': '2', 'pubName': '도서출판 강남'}}\n",
      "{'_id': ObjectId('651d83e6bc61a0f7255e1624'), 'bookNo': '1006', 'bookName': '1MS SQL SERVER 2014', 'bookAuthor': '박지성', 'bookPrice': 35000, 'bookDate': datetime.datetime(2020, 3, 25, 0, 0), 'bookStock': 7, 'publisher': {'pubNo': '3', 'pubName': '정보출판'}}\n",
      "{'_id': ObjectId('651d83e6bc61a0f7255e1625'), 'bookNo': '1007', 'bookName': 'hTML & CSS', 'bookAuthor': '손홍민', 'bookPrice': 18000, 'bookDate': datetime.datetime(2022, 9, 30, 0, 0), 'bookStock': 3, 'publisher': {'pubNo': '1', 'pubName': '강남 출판사'}}\n",
      "{'_id': ObjectId('651d83e6bc61a0f7255e1626'), 'bookNo': '1008', 'bookName': 'MFC 입문', 'bookAuthor': '류현진', 'bookPrice': 20000, 'bookDate': datetime.datetime(2015, 12, 12, 0, 0), 'bookStock': 5, 'publisher': {'pubNo': '1', 'pubName': '강남 출판사'}}\n",
      "{'_id': ObjectId('651d83e6bc61a0f7255e1627'), 'bookNo': '1009', 'bookName': '안드로이드 게임 제작', 'bookAuthor': '나길동', 'bookPrice': 33000, 'bookDate': datetime.datetime(2018, 10, 31, 0, 0), 'bookStock': 5, 'publisher': {'pubNo': '2', 'pubName': '도서출판 강남'}}\n",
      "{'_id': ObjectId('651d83e6bc61a0f7255e1628'), 'bookNo': '1010', 'bookName': 'C++객체지향 프로그래밍', 'bookAuthor': '추신수', 'bookPrice': 24000, 'bookDate': datetime.datetime(2019, 4, 20, 0, 0), 'bookStock': 2, 'publisher': {'pubNo': '3', 'pubName': '정보출판'}}\n",
      "{'_id': ObjectId('651d83e6bc61a0f7255e1629'), 'bookNo': '1011', 'bookName': 'JSP 웹 프로그래밍', 'bookAuthor': '김연아', 'bookPrice': 27000, 'bookDate': datetime.datetime(2020, 10, 23, 0, 0), 'bookStock': 8, 'publisher': {'pubNo': '1', 'pubName': '강남 출판사'}}\n",
      "{'_id': ObjectId('651d83e6bc61a0f7255e162a'), 'bookNo': '1012', 'bookName': '해커들의 해킹 기법', 'bookAuthor': '손연재', 'bookPrice': 32000, 'bookDate': datetime.datetime(2018, 7, 7, 0, 0), 'bookStock': 1, 'publisher': {'pubNo': '2', 'pubName': '도서출판 강남'}}\n",
      "{'_id': ObjectId('651d83e6bc61a0f7255e162b'), 'bookNo': '1013', 'bookName': '자료구조', 'bookAuthor': '홍길동', 'bookPrice': 19000, 'bookDate': datetime.datetime(2020, 1, 20, 0, 0), 'bookStock': 4, 'publisher': {'pubNo': '1', 'pubName': '강남 출판사'}}\n",
      "{'_id': ObjectId('651d83e6bc61a0f7255e162c'), 'bookNo': '1014', 'bookName': '웹 해킹과 침해사고 분석', 'bookAuthor': '성춘향', 'bookPrice': 35000, 'bookDate': datetime.datetime(2018, 11, 25, 0, 0), 'bookStock': 5, 'publisher': {'pubNo': '2', 'pubName': '도서출판 강남'}}\n",
      "{'_id': ObjectId('651d83e6bc61a0f7255e162d'), 'bookNo': '1015', 'bookName': '자바스크립 & jQuery', 'bookAuthor': '홍길동', 'bookPrice': 27000, 'bookDate': datetime.datetime(2019, 10, 22, 0, 0), 'bookStock': 2, 'publisher': {'pubNo': '2', 'pubName': '도서출판 강남'}}\n"
     ]
    }
   ],
   "source": [
    "for book in db.book.find():\n",
    "    print(book)"
   ]
  },
  {
   "cell_type": "code",
   "execution_count": null,
   "id": "02210b59-f80a-4615-94a3-be68d8e0eb7f",
   "metadata": {},
   "outputs": [],
   "source": []
  },
  {
   "cell_type": "code",
   "execution_count": 25,
   "id": "dce9c068-d67e-4915-9e4c-e67e3f65d744",
   "metadata": {},
   "outputs": [
    {
     "name": "stdout",
     "output_type": "stream",
     "text": [
      "1001 데이터베이스 이론 홍길동 22000 2019-11-11 5 3 정보출판\n",
      "1002 자바 프로그래밍 이몽룡 25000 2021-12-12 4 1 강남 출판사\n",
      "1003 인터넷프로그래밍 성춘향 30000 2019-02-10 10 2 도서출판 강남\n",
      "1004 안드로이드 프로그래밍 변학도 23000 2017-10-10 2 1 강남 출판사\n",
      "1005 안드로이드 앱 강길동 26000 2020-01-11 5 2 도서출판 강남\n",
      "1006 1MS SQL SERVER 2014 박지성 35000 2020-03-25 7 3 정보출판\n",
      "1007 hTML & CSS 손홍민 18000 2022-09-30 3 1 강남 출판사\n",
      "1008 MFC 입문 류현진 20000 2015-12-12 5 1 강남 출판사\n",
      "1009 안드로이드 게임 제작 나길동 33000 2018-10-31 5 2 도서출판 강남\n",
      "1010 C++객체지향 프로그래밍 추신수 24000 2019-04-20 2 3 정보출판\n",
      "1011 JSP 웹 프로그래밍 김연아 27000 2020-10-23 8 1 강남 출판사\n",
      "1012 해커들의 해킹 기법 손연재 32000 2018-07-07 1 2 도서출판 강남\n",
      "1013 자료구조 홍길동 19000 2020-01-20 4 1 강남 출판사\n",
      "1014 웹 해킹과 침해사고 분석 성춘향 35000 2018-11-25 5 2 도서출판 강남\n",
      "1015 자바스크립 & jQuery 홍길동 27000 2019-10-22 2 2 도서출판 강남\n"
     ]
    }
   ],
   "source": [
    "# 각 도큐먼트의 값만 추출해서 테이블 형태로 출력\n",
    "for book in db.book.find():\n",
    "    print(book['bookNo'], book['bookName'], book['bookAuthor'],\n",
    "          book['bookPrice'], book['bookDate'].strftime('%Y-%m-%d'), book['bookStock'],\n",
    "          book['publisher']['pubNo'], book['publisher']['pubName'])"
   ]
  },
  {
   "cell_type": "code",
   "execution_count": 26,
   "id": "a9446b3d-4936-46be-9856-d4de2a09c359",
   "metadata": {},
   "outputs": [],
   "source": [
    "conn.close()"
   ]
  },
  {
   "cell_type": "code",
   "execution_count": null,
   "id": "03d190dc-7f26-4506-92b6-d09c83e4f061",
   "metadata": {},
   "outputs": [],
   "source": []
  },
  {
   "cell_type": "code",
   "execution_count": null,
   "id": "1855c7de-7bca-4543-880b-a967ef70631d",
   "metadata": {},
   "outputs": [],
   "source": []
  },
  {
   "cell_type": "code",
   "execution_count": null,
   "id": "3d6b7c19-bbdb-4cd2-8a7f-e48fc417a63b",
   "metadata": {},
   "outputs": [],
   "source": []
  },
  {
   "cell_type": "code",
   "execution_count": null,
   "id": "09646f2c-5d0d-40f2-a538-dd2885f52db8",
   "metadata": {},
   "outputs": [],
   "source": []
  }
 ],
 "metadata": {
  "kernelspec": {
   "display_name": "Python 3 (ipykernel)",
   "language": "python",
   "name": "python3"
  },
  "language_info": {
   "codemirror_mode": {
    "name": "ipython",
    "version": 3
   },
   "file_extension": ".py",
   "mimetype": "text/x-python",
   "name": "python",
   "nbconvert_exporter": "python",
   "pygments_lexer": "ipython3",
   "version": "3.11.5"
  }
 },
 "nbformat": 4,
 "nbformat_minor": 5
}
