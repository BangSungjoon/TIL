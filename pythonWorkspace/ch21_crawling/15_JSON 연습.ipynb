{
 "cells": [
  {
   "cell_type": "markdown",
   "id": "46a48fd8-6370-40ea-ae87-9bdae5798db6",
   "metadata": {},
   "source": [
    "#### JSON (JavaScript Object Notation)   \n",
    "- 자바스크립트 객체 표기법   \n",
    "- key와 value 값이 쌍으로 구성된 형태의 객체 표기법   \n",
    "- 클라이언트와 서버 사이에서 정보를 교환하기 위한 목적으로 사용   \n",
    "- XML 표기보다 간단   \n",
    "- 파일 확장명 : json (예: data.json)     \n",
    "- ‘제이선’, ‘제이썬’, ‘제이슨’ 등으로 읽음    "
   ]
  },
  {
   "cell_type": "code",
   "execution_count": 3,
   "id": "b59e88e9-ed56-4980-9121-eb81cbb62ffd",
   "metadata": {},
   "outputs": [],
   "source": [
    "from IPython.core.interactiveshell import InteractiveShell\n",
    "InteractiveShell.ast_node_interactivity=\"all\"\n",
    "# 한 셀에 결과 여러개 나오게 만듬"
   ]
  },
  {
   "cell_type": "code",
   "execution_count": 14,
   "id": "26a36e70-1aad-4c6a-ba66-260c9390a947",
   "metadata": {},
   "outputs": [],
   "source": [
    "import json"
   ]
  },
  {
   "cell_type": "code",
   "execution_count": 6,
   "id": "4717f675-1c22-4400-9caa-3c23af3887a2",
   "metadata": {},
   "outputs": [
    {
     "data": {
      "text/plain": [
       "{'name': '홍길동', 'age': '33'}"
      ]
     },
     "execution_count": 6,
     "metadata": {},
     "output_type": "execute_result"
    }
   ],
   "source": [
    "# JSON 형식의 문자열\n",
    "json_str = '{\"name\":\"홍길동\", \"age\":\"33\"}'\n",
    "\n",
    "# JSON 형식의 문자열을 JSON 객체로 변환 : load() 메소드 사용\n",
    "json_obj = json.loads(json_str)\n",
    "json_obj\n",
    "# 객체로 변환하는 이유는 메소드를 적용하기 위해서"
   ]
  },
  {
   "cell_type": "code",
   "execution_count": 7,
   "id": "9be2e43e-ea0d-40c8-b2e9-e0eb78591401",
   "metadata": {},
   "outputs": [
    {
     "data": {
      "text/plain": [
       "dict"
      ]
     },
     "execution_count": 7,
     "metadata": {},
     "output_type": "execute_result"
    }
   ],
   "source": [
    "type(json_obj)"
   ]
  },
  {
   "cell_type": "code",
   "execution_count": 9,
   "id": "af63296f-057e-4773-8a10-2ee80d4bed7e",
   "metadata": {},
   "outputs": [
    {
     "data": {
      "text/plain": [
       "'홍길동'"
      ]
     },
     "execution_count": 9,
     "metadata": {},
     "output_type": "execute_result"
    },
    {
     "data": {
      "text/plain": [
       "'33'"
      ]
     },
     "execution_count": 9,
     "metadata": {},
     "output_type": "execute_result"
    }
   ],
   "source": [
    "# 각 요소의 값 추출 : get() 메소드 사용\n",
    "json_obj.get('name')\n",
    "json_obj.get('age')"
   ]
  },
  {
   "cell_type": "code",
   "execution_count": 10,
   "id": "22b3e325-cf0a-4b9d-b6cb-02c471221c23",
   "metadata": {},
   "outputs": [
    {
     "data": {
      "text/plain": [
       "'홍길동'"
      ]
     },
     "execution_count": 10,
     "metadata": {},
     "output_type": "execute_result"
    },
    {
     "data": {
      "text/plain": [
       "'33'"
      ]
     },
     "execution_count": 10,
     "metadata": {},
     "output_type": "execute_result"
    }
   ],
   "source": [
    "# 각 요소의 값 추출 : key 사용\n",
    "json_obj['name']\n",
    "json_obj['age']"
   ]
  },
  {
   "cell_type": "code",
   "execution_count": 18,
   "id": "fea330bc-878b-4015-8818-5e53e7ffb4d7",
   "metadata": {},
   "outputs": [
    {
     "data": {
      "text/plain": [
       "{'fruits': [{'fruit': 'apple'}, {'fruit': 'pear'}, {'fruit': 'banana'}],\n",
       " 'prices': [{'price': 1000}, {'price': 2000}, {'price': 3000}]}"
      ]
     },
     "execution_count": 18,
     "metadata": {},
     "output_type": "execute_result"
    }
   ],
   "source": [
    "json_str = '''\n",
    "    {\"fruits\":[{\"fruit\":\"apple\"}, {\"fruit\":\"pear\"}, {\"fruit\":\"banana\"}],\n",
    "     \"prices\":[{\"price\":1000}, {\"price\":2000}, {\"price\":3000}]}\n",
    "'''\n",
    "\n",
    "# JSON 형식의 문자열을 JSON 객체로 변환\n",
    "json_obj = json.loads(json_str)\n",
    "json_obj"
   ]
  },
  {
   "cell_type": "code",
   "execution_count": 19,
   "id": "baf3cabb-9fe9-4c9c-ba49-b408f82e184b",
   "metadata": {},
   "outputs": [
    {
     "data": {
      "text/plain": [
       "[{'fruit': 'apple'}, {'fruit': 'pear'}, {'fruit': 'banana'}]"
      ]
     },
     "execution_count": 19,
     "metadata": {},
     "output_type": "execute_result"
    },
    {
     "data": {
      "text/plain": [
       "[{'fruit': 'apple'}, {'fruit': 'pear'}, {'fruit': 'banana'}]"
      ]
     },
     "execution_count": 19,
     "metadata": {},
     "output_type": "execute_result"
    }
   ],
   "source": [
    "json_obj.get('fruits')\n",
    "json_obj['fruits']"
   ]
  },
  {
   "cell_type": "code",
   "execution_count": 20,
   "id": "de19b922-2bcf-4bf5-a65d-64eef83335a7",
   "metadata": {},
   "outputs": [
    {
     "data": {
      "text/plain": [
       "{'fruit': 'apple'}"
      ]
     },
     "execution_count": 20,
     "metadata": {},
     "output_type": "execute_result"
    },
    {
     "data": {
      "text/plain": [
       "{'fruit': 'apple'}"
      ]
     },
     "execution_count": 20,
     "metadata": {},
     "output_type": "execute_result"
    }
   ],
   "source": [
    "json_obj.get('fruits')[0]\n",
    "json_obj['fruits'][0]"
   ]
  },
  {
   "cell_type": "code",
   "execution_count": 21,
   "id": "6a4148fd-0c6e-4750-9612-fc5a92127b98",
   "metadata": {},
   "outputs": [
    {
     "data": {
      "text/plain": [
       "'apple'"
      ]
     },
     "execution_count": 21,
     "metadata": {},
     "output_type": "execute_result"
    },
    {
     "data": {
      "text/plain": [
       "'apple'"
      ]
     },
     "execution_count": 21,
     "metadata": {},
     "output_type": "execute_result"
    }
   ],
   "source": [
    "json_obj.get('fruits')[0].get('fruit')\n",
    "json_obj['fruits'][0]['fruit']"
   ]
  },
  {
   "cell_type": "code",
   "execution_count": 32,
   "id": "58e648c8-2676-403c-a26f-736d20a57f17",
   "metadata": {},
   "outputs": [
    {
     "name": "stdout",
     "output_type": "stream",
     "text": [
      "apple\n",
      "pear\n",
      "banana\n",
      "\n",
      "1000\n",
      "2000\n",
      "3000\n",
      "\n",
      "apple 1000\n",
      "pear 2000\n",
      "banana 3000\n"
     ]
    }
   ],
   "source": [
    "# apple\n",
    "# pear\n",
    "# banana\n",
    "for item in json_obj['fruits']:\n",
    "    print(item['fruit'])\n",
    "\n",
    "print()\n",
    "\n",
    "for x in json_obj['prices']:\n",
    "    print(x['price'])\n",
    "\n",
    "print()\n",
    "\n",
    "for f, p in zip(json_obj['fruits'], json_obj['prices']):\n",
    "    print(f['fruit'], p['price'])\n"
   ]
  },
  {
   "cell_type": "markdown",
   "id": "3793d622-7ade-4405-8868-0bcc7519c47d",
   "metadata": {},
   "source": [
    "#### JSON 연습문제"
   ]
  },
  {
   "cell_type": "code",
   "execution_count": 33,
   "id": "9bb6fd0f-74e2-4782-99e1-a33de75d0765",
   "metadata": {},
   "outputs": [],
   "source": [
    "json_str ='''\n",
    "{\n",
    "\t\"lastBuildDate\":\"Thu, 14 Sep 2023 12:50:30 +0900\",\n",
    "\t\"total\":949667,\n",
    "\t\"start\":1,\n",
    "\t\"display\":10,\n",
    "\t\"items\":[\n",
    "\t\t{\n",
    "\t\t\t\"title\":\"아이폰 사파리 텍스트 찾기 <b>단어<\\/b> <b>검색<\\/b> 방법 정리\",\n",
    "\t\t\t\"link\":\"https:\\/\\/blog.naver.com\\/jhbksgi\\/222982804031\",\n",
    "\t\t\t\"description\":\"아이폰 사파리 크롬 텍스트 찾기 <b>단어<\\/b> <b>검색<\\/b> 방법 정리 글\\/사진 : 곰T 기본적으로 컴퓨터용, 모바일용 Browser에는 '<b>검색<\\/b>' 기능이 있습니다. 그냥 <b>검색<\\/b>(Search)이라고 하면 감이 잘 오지 않을 수 있겠네요. 좀 더... \",\n",
    "\t\t\t\"bloggername\":\"곰T의 IT트러블슈팅\",\n",
    "\t\t\t\"bloggerlink\":\"blog.naver.com\\/jhbksgi\",\n",
    "\t\t\t\"postdate\":\"20230112\"\n",
    "\t\t},\n",
    "\t\t{\n",
    "\t\t\t\"title\":\"영어<b>단어<\\/b> <b>검색<\\/b>은 꼭 구글을 이용하기 네이버영어사전 vs... \",\n",
    "\t\t\t\"link\":\"https:\\/\\/blog.naver.com\\/rhyrhyrhy\\/222923284547\",\n",
    "\t\t\t\"description\":\"leave 의 뜻이라고 <b>검색<\\/b>이 됩니다. 사실 이 <b>단어<\\/b> 한개 뿐만이 아니라, 이런식으로 네이버 포털<b>검색<\\/b>으로 정확한 의미를 찾을 수 없었던 <b>단어<\\/b>들이 더 있었어요. 0 점대 레벨 도서에 나와있는 <b>단어<\\/b>들, 게다가... \",\n",
    "\t\t\t\"bloggername\":\"키즈 영어서점 중고 영어 원서 전문 (ar가입지사)\",\n",
    "\t\t\t\"bloggerlink\":\"blog.naver.com\\/rhyrhyrhy\",\n",
    "\t\t\t\"postdate\":\"20230712\"\n",
    "\t\t},\n",
    "\t\t{\n",
    "\t\t\t\"title\":\"영어 <b>단어<\\/b>로 유튜브 영상 <b>검색<\\/b>해주는 유글리쉬 사용법\",\n",
    "\t\t\t\"link\":\"https:\\/\\/blog.naver.com\\/tepet\\/222697272255\",\n",
    "\t\t\t\"description\":\"있는 분야의 핵심 <b>단어<\\/b>를 입력하면, 그 <b>단어<\\/b>가 사용된 문장이 나와주기 때문에 발음과 주로 함께 사용되는 <b>단어<\\/b>들까지 강제로 영어 공부가 된다. #영어<b>단어<\\/b> #유튜브 #영상<b>검색<\\/b> #유글리쉬 #사용법\",\n",
    "\t\t\t\"bloggername\":\"19%\",\n",
    "\t\t\t\"bloggerlink\":\"blog.naver.com\\/tepet\",\n",
    "\t\t\t\"postdate\":\"20230911\"\n",
    "\t\t}\n",
    "\t]\n",
    "}\n",
    "'''"
   ]
  },
  {
   "cell_type": "code",
   "execution_count": 45,
   "id": "768ac4f2-3db2-40a1-a516-d167634356bf",
   "metadata": {},
   "outputs": [
    {
     "data": {
      "text/html": [
       "<div>\n",
       "<style scoped>\n",
       "    .dataframe tbody tr th:only-of-type {\n",
       "        vertical-align: middle;\n",
       "    }\n",
       "\n",
       "    .dataframe tbody tr th {\n",
       "        vertical-align: top;\n",
       "    }\n",
       "\n",
       "    .dataframe thead th {\n",
       "        text-align: right;\n",
       "    }\n",
       "</style>\n",
       "<table border=\"1\" class=\"dataframe\">\n",
       "  <thead>\n",
       "    <tr style=\"text-align: right;\">\n",
       "      <th></th>\n",
       "      <th>제목</th>\n",
       "      <th>링크</th>\n",
       "    </tr>\n",
       "  </thead>\n",
       "  <tbody>\n",
       "    <tr>\n",
       "      <th>0</th>\n",
       "      <td>아이폰 사파리 텍스트 찾기 단어 검색 방법 정리</td>\n",
       "      <td>https://blog.naver.com/jhbksgi/222982804031</td>\n",
       "    </tr>\n",
       "    <tr>\n",
       "      <th>1</th>\n",
       "      <td>영어단어 검색은 꼭 구글을 이용하기 네이버영어사전 vs...</td>\n",
       "      <td>https://blog.naver.com/rhyrhyrhy/222923284547</td>\n",
       "    </tr>\n",
       "    <tr>\n",
       "      <th>2</th>\n",
       "      <td>영어 단어로 유튜브 영상 검색해주는 유글리쉬 사용법</td>\n",
       "      <td>https://blog.naver.com/tepet/222697272255</td>\n",
       "    </tr>\n",
       "  </tbody>\n",
       "</table>\n",
       "</div>"
      ],
      "text/plain": [
       "                                   제목  \\\n",
       "0          아이폰 사파리 텍스트 찾기 단어 검색 방법 정리   \n",
       "1  영어단어 검색은 꼭 구글을 이용하기 네이버영어사전 vs...    \n",
       "2        영어 단어로 유튜브 영상 검색해주는 유글리쉬 사용법   \n",
       "\n",
       "                                              링크  \n",
       "0    https://blog.naver.com/jhbksgi/222982804031  \n",
       "1  https://blog.naver.com/rhyrhyrhy/222923284547  \n",
       "2      https://blog.naver.com/tepet/222697272255  "
      ]
     },
     "execution_count": 45,
     "metadata": {},
     "output_type": "execute_result"
    }
   ],
   "source": [
    "# title과 link 추출해서 데이터 프레임으로 생성\n",
    "import pandas as pd\n",
    "\n",
    "json_obj = json.loads(json_str)\n",
    "title = []\n",
    "link = []\n",
    "for item in json_obj['items']:\n",
    "    title.append(item['title'].replace('<b>','').replace('</b>','')) # 문자열에서 <b> 제거 : replace\n",
    "    link.append(item['link'])\n",
    "\n",
    "naver_df = pd.DataFrame({'제목':title, '링크':link})\n",
    "naver_df"
   ]
  },
  {
   "cell_type": "code",
   "execution_count": null,
   "id": "aa6906e5-9b88-44f4-9f23-eecd7ad0df42",
   "metadata": {},
   "outputs": [],
   "source": []
  }
 ],
 "metadata": {
  "kernelspec": {
   "display_name": "Python 3 (ipykernel)",
   "language": "python",
   "name": "python3"
  },
  "language_info": {
   "codemirror_mode": {
    "name": "ipython",
    "version": 3
   },
   "file_extension": ".py",
   "mimetype": "text/x-python",
   "name": "python",
   "nbconvert_exporter": "python",
   "pygments_lexer": "ipython3",
   "version": "3.11.5"
  }
 },
 "nbformat": 4,
 "nbformat_minor": 5
}
