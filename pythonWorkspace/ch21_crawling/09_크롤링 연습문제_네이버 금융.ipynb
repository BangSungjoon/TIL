{
 "cells": [
  {
   "cell_type": "markdown",
   "id": "04a520f5-d1cc-4118-8476-49f5807d37ab",
   "metadata": {},
   "source": [
    "### 크롤링 연습문제"
   ]
  },
  {
   "cell_type": "markdown",
   "id": "0eb0ec36-39ef-4f88-9fd8-7727477ae2f6",
   "metadata": {},
   "source": [
    "#### 문제 1\n",
    "- 네이버 금융 페이지에서 유가/환율/국제금 시세/국내금 시세 추출  \n",
    "- url = 'https://finance.naver.com'"
   ]
  },
  {
   "cell_type": "code",
   "execution_count": 1,
   "id": "ef4d974f-e645-45df-90e9-823c804492d5",
   "metadata": {},
   "outputs": [],
   "source": [
    "from IPython.core.interactiveshell import InteractiveShell\n",
    "InteractiveShell.ast_node_interactivity=\"all\"\n",
    "from urllib.request import urlopen\n",
    "import bs4\n",
    "import pandas as pd\n",
    "import requests"
   ]
  },
  {
   "cell_type": "code",
   "execution_count": 2,
   "id": "3a384156-6442-40aa-9f87-e3e2ba7c7e52",
   "metadata": {},
   "outputs": [],
   "source": [
    "url = 'https://finance.naver.com'\n",
    "html = urlopen(url)\n",
    "# 파서 객체 생성\n",
    "bs_obj = bs4.BeautifulSoup(html, 'html.parser')"
   ]
  },
  {
   "cell_type": "code",
   "execution_count": 19,
   "id": "77c5d3de-f71a-4d89-b830-f6fbe83c5a28",
   "metadata": {},
   "outputs": [
    {
     "name": "stdout",
     "output_type": "stream",
     "text": [
      "유가 : 88.52\n",
      "USD : 1,328.20\n",
      "국제금 : 1,932.50\n",
      "국내금 : 81,545.80\n"
     ]
    }
   ],
   "source": [
    "oil_price = bs_obj.findAll('div', {'class':'group1'})[1].findAll('td')[2].text\n",
    "USD = bs_obj.findAll('div', {'class':'group1'})[0].findAll('td')[0].text\n",
    "INT_GOLD = bs_obj.findAll('div', {'class':'group2'})[1].findAll('td')[0].text\n",
    "OUR_GOLD = bs_obj.findAll('div', {'class':'group2'})[1].findAll('td')[2].text\n",
    "\n",
    "print(f'유가 : {oil_price}')\n",
    "print(f'USD : {USD}')\n",
    "print(f'국제금 : {INT_GOLD}')\n",
    "print(f'국내금 : {OUR_GOLD}')"
   ]
  },
  {
   "cell_type": "code",
   "execution_count": null,
   "id": "70e695cd-2592-4f7f-92f4-b3d0b2de42d1",
   "metadata": {},
   "outputs": [],
   "source": [
    "# 유가 :  88.84\n",
    "# USD :  1,328.00\n",
    "# 국제금 :  1,935.10\n",
    "# 국내금 :  81,781.70"
   ]
  },
  {
   "cell_type": "markdown",
   "id": "0dd8fd18-8437-4e12-bc95-5ccef638860d",
   "metadata": {},
   "source": [
    "#### 문제 2\n",
    "- 네이버 증권 페이지에서 상한가 / 하한가 / 시가총액상위 기업 추출\n",
    "- url = \"http://finance.naver.com/sise/\""
   ]
  },
  {
   "cell_type": "code",
   "execution_count": 69,
   "id": "b824df10-7dee-4eef-bfb3-f4be6a60c994",
   "metadata": {},
   "outputs": [],
   "source": [
    "url = \"http://finance.naver.com/sise/\"\n",
    "html = urlopen(url)\n",
    "bs_obj = bs4.BeautifulSoup(html, 'html.parser')"
   ]
  },
  {
   "cell_type": "code",
   "execution_count": 70,
   "id": "e1133922-1ff7-452e-ab87-c6305df8e30b",
   "metadata": {},
   "outputs": [
    {
     "name": "stdout",
     "output_type": "stream",
     "text": [
      "------------상한가------------\n",
      "1 피씨엘 : 3,980\n",
      "2 엘에이티 : 8,030\n",
      "3 윌링스 : 11,960\n",
      "4 엔젠바이오 : 8,760\n"
     ]
    }
   ],
   "source": [
    "table = bs_obj.findAll('table', {'class' : 'type_2'})\n",
    "name = []\n",
    "price = []\n",
    "for i in range(0,len(table[0].findAll('tr'))):\n",
    "    if (len(table[0].findAll('tr')[i].findAll('td')) == 11):\n",
    "        td = table[0].findAll('tr')[i].findAll('td')\n",
    "        name.append(td[3].text)\n",
    "        price.append(td[4].text)\n",
    "print(\"------------상한가------------\")\n",
    "for i in range(len(name)):\n",
    "    print(f\"{i+1} {name[i]} : {price[i]}\")"
   ]
  },
  {
   "cell_type": "code",
   "execution_count": null,
   "id": "1f9856f0-462a-4b12-9d00-e740d10096a1",
   "metadata": {},
   "outputs": [],
   "source": [
    "# ---------- 상한가 ----------\n",
    "# 1 노루홀딩스우 = 48,900\n",
    "# 2 이원컴포텍 = 4,120\n",
    "# 3 에이스테크 = 2,425\n",
    "# 4 노루페인트우 = 25,450\n",
    "# 5 머큐리 = 8,370\n",
    "# 6 애드바이오텍 = 4,910\n",
    "# 7 썬테크 = 5,180\n",
    "# 8 엔에스컴퍼니 = 4,845"
   ]
  },
  {
   "cell_type": "code",
   "execution_count": 72,
   "id": "f90f32d8-d1d4-4556-95d4-cfc0978bec75",
   "metadata": {},
   "outputs": [
    {
     "name": "stdout",
     "output_type": "stream",
     "text": [
      "------------하한가------------\n",
      "1 대유에이텍 : 355\n",
      "2 골프존데카 : 1,180\n",
      "3 진코스텍 : 3,400\n",
      "4 바스칸바이오제약 : 6,800\n"
     ]
    }
   ],
   "source": [
    "table = bs_obj.findAll('table', {'class' : 'type_2'})\n",
    "name = []\n",
    "price = []\n",
    "for i in range(0,len(table[1].findAll('tr'))):\n",
    "    if (len(table[1].findAll('tr')[i].findAll('td')) == 11):\n",
    "        td = table[1].findAll('tr')[i].findAll('td')\n",
    "        name.append(td[3].text)\n",
    "        price.append(td[4].text)\n",
    "print(\"------------하한가------------\")\n",
    "for i in range(len(name)):\n",
    "    print(f\"{i+1} {name[i]} : {price[i]}\")"
   ]
  },
  {
   "cell_type": "code",
   "execution_count": null,
   "id": "2827bddd-eb2b-44a2-a9b3-43b25e4dd465",
   "metadata": {},
   "outputs": [],
   "source": [
    "\n",
    "# ----------- 하한가 -----------\n",
    "# 1 테크엔 = 289"
   ]
  },
  {
   "cell_type": "code",
   "execution_count": 71,
   "id": "6d13fccd-284c-4424-ad53-0a17a9bd5374",
   "metadata": {},
   "outputs": [
    {
     "name": "stdout",
     "output_type": "stream",
     "text": [
      "------------시가총액상위------------\n",
      "1 삼성전자 : 71,500\n",
      "2 LG에너지솔루션 : 503,000\n",
      "3 SK하이닉스 : 121,800\n",
      "4 삼성바이오로직스 : 729,000\n",
      "5 삼성전자우 : 57,400\n",
      "6 POSCO홀딩스 : 548,000\n",
      "7 현대차 : 190,300\n",
      "8 삼성SDI : 576,000\n",
      "9 LG화학 : 546,000\n",
      "10 NAVER : 225,000\n"
     ]
    }
   ],
   "source": [
    "table = bs_obj.findAll('table', {'class' : 'type_2'})\n",
    "name = []\n",
    "price = []\n",
    "for i in range(0,len(table[7].findAll('tr'))):\n",
    "    if (len(table[7].findAll('tr')[i].findAll('td')) == 9):\n",
    "        td = table[7].findAll('tr')[i].findAll('td')\n",
    "        name.append(td[1].text)\n",
    "        price.append(td[2].text)\n",
    "print(\"------------시가총액상위------------\")\n",
    "for i in range(len(name)):\n",
    "    print(f\"{i+1} {name[i]} : {price[i]}\")"
   ]
  },
  {
   "cell_type": "code",
   "execution_count": null,
   "id": "875bf67a-3571-411d-9bfa-40bd6372dfd4",
   "metadata": {},
   "outputs": [],
   "source": [
    "\n",
    "# ----------- 시가총액 상위 -----------\n",
    "# 1 삼성전자 = 70,900\n",
    "# 2 LG에너지솔루션 = 494,500\n",
    "# 3 SK하이닉스 = 118,500\n",
    "# 4 삼성바이오로직스 = 723,000\n",
    "# 5 삼성전자우 = 57,500\n",
    "# 6 POSCO홀딩스 = 529,000\n",
    "# 7 현대차 = 189,800\n",
    "# 8 삼성SDI = 558,000\n",
    "# 9 LG화학 = 540,000\n",
    "# 10 NAVER = 222,000"
   ]
  }
 ],
 "metadata": {
  "kernelspec": {
   "display_name": "Python 3 (ipykernel)",
   "language": "python",
   "name": "python3"
  },
  "language_info": {
   "codemirror_mode": {
    "name": "ipython",
    "version": 3
   },
   "file_extension": ".py",
   "mimetype": "text/x-python",
   "name": "python",
   "nbconvert_exporter": "python",
   "pygments_lexer": "ipython3",
   "version": "3.11.5"
  }
 },
 "nbformat": 4,
 "nbformat_minor": 5
}
