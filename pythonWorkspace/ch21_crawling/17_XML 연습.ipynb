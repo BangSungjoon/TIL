{
 "cells": [
  {
   "cell_type": "markdown",
   "id": "924b05f8-9674-4a3e-868c-bdf9266eb38e",
   "metadata": {},
   "source": [
    "#### XML 연습\n",
    "\n",
    "#### XML(eXtensible Markup Language)  \r",
    "-  W3C에서 개발된 특수 목적 마크업 언어를 만드는데 사용하도록 권장하는 다목적 마크업 언어  \r",
    "- HTML의 한계를 극복할 목적  "
   ]
  },
  {
   "cell_type": "code",
   "execution_count": 1,
   "id": "92065167-7325-4f9d-b1b3-ea682736ff85",
   "metadata": {},
   "outputs": [],
   "source": [
    "import bs4"
   ]
  },
  {
   "cell_type": "code",
   "execution_count": 2,
   "id": "19b9e177-d41f-4631-bc78-2817d4094201",
   "metadata": {},
   "outputs": [],
   "source": [
    "xml_str = '''\n",
    "<?xml version=\"1.0\" encoding=\"UTF-8\" standalone=\"yes\"?><response><header><resultcode>00</resultcode><resultmsg>NORMAL SERVICE.</resultmsg></header><body><items><item><id>abcd</id><name>홍길동</name><tel>010-1234-1234</tel><address>서울시 강남구</address></item><item><id>sky</id><name>이몽룡</name><tel>010-5678-5678</tel><address>제주도 제주시</address></item><item><id>lucky</id><name>성춘향</name><tel>010-1111-1111</tel><address>경기도 안양시</address></item></items><numofrows>10</numofrows><pageno>1</pageno><totalcount>4</totalcount></body></response>\n",
    "'''"
   ]
  },
  {
   "cell_type": "code",
   "execution_count": 7,
   "id": "daaa2173-9c59-4731-ad7a-80ab18aa8347",
   "metadata": {},
   "outputs": [
    {
     "data": {
      "text/plain": [
       "\n",
       "<?xml version=\"1.0\" encoding=\"UTF-8\" standalone=\"yes\"?><response><header><resultcode>00</resultcode><resultmsg>NORMAL SERVICE.</resultmsg></header><body><items><item><id>abcd</id><name>홍길동</name><tel>010-1234-1234</tel><address>서울시 강남구</address></item><item><id>sky</id><name>이몽룡</name><tel>010-5678-5678</tel><address>제주도 제주시</address></item><item><id>lucky</id><name>성춘향</name><tel>010-1111-1111</tel><address>경기도 안양시</address></item></items><numofrows>10</numofrows><pageno>1</pageno><totalcount>4</totalcount></body></response>"
      ]
     },
     "execution_count": 7,
     "metadata": {},
     "output_type": "execute_result"
    }
   ],
   "source": [
    "# XML은 전부 BeautifulSoup으로 받아온다\n",
    "bs_obj = bs4.BeautifulSoup(xml_str, 'html.parser')\n",
    "bs_obj"
   ]
  },
  {
   "cell_type": "code",
   "execution_count": 5,
   "id": "a6e258bb-d2d3-420f-8b27-63af6d2d71dd",
   "metadata": {},
   "outputs": [
    {
     "data": {
      "text/plain": [
       "3"
      ]
     },
     "execution_count": 5,
     "metadata": {},
     "output_type": "execute_result"
    }
   ],
   "source": [
    "items = bs_obj.findAll('item')\n",
    "len(items)"
   ]
  },
  {
   "cell_type": "code",
   "execution_count": 8,
   "id": "70114b34-63e9-4ac7-a811-e343664352b9",
   "metadata": {},
   "outputs": [
    {
     "name": "stdout",
     "output_type": "stream",
     "text": [
      "abcd 홍길동 010-1234-1234 서울시 강남구\n",
      "sky 이몽룡 010-5678-5678 제주도 제주시\n",
      "lucky 성춘향 010-1111-1111 경기도 안양시\n"
     ]
    }
   ],
   "source": [
    "for item in items:\n",
    "    id = item.find('id').text\n",
    "    name = item.find('name').text\n",
    "    tel = item.find('tel').text\n",
    "    address = item.find('address').text\n",
    "    print(id, name, tel, address)"
   ]
  },
  {
   "cell_type": "code",
   "execution_count": null,
   "id": "92135b0b-3f9c-4366-9eb5-81fd5f03b522",
   "metadata": {},
   "outputs": [],
   "source": []
  },
  {
   "cell_type": "code",
   "execution_count": 9,
   "id": "c128dc2a-7bb1-40d4-8f39-3b1d969743f9",
   "metadata": {},
   "outputs": [],
   "source": [
    "# Django - html 페이지 반환 : JSON 형태로 만들어야 함\n",
    "# Django Rest Framework - 데이터 (key:value) -> JSON 형태로 받아옴"
   ]
  }
 ],
 "metadata": {
  "kernelspec": {
   "display_name": "Python 3 (ipykernel)",
   "language": "python",
   "name": "python3"
  },
  "language_info": {
   "codemirror_mode": {
    "name": "ipython",
    "version": 3
   },
   "file_extension": ".py",
   "mimetype": "text/x-python",
   "name": "python",
   "nbconvert_exporter": "python",
   "pygments_lexer": "ipython3",
   "version": "3.11.5"
  }
 },
 "nbformat": 4,
 "nbformat_minor": 5
}
