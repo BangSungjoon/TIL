{
 "cells": [
  {
   "cell_type": "markdown",
   "id": "845b7d59-8bed-43f1-ad68-5a361cddfe98",
   "metadata": {},
   "source": [
    "# Pandas_Series"
   ]
  },
  {
   "cell_type": "markdown",
   "id": "72117af8",
   "metadata": {},
   "source": [
    "### 파이썬의 주요 데이터 분석 라이브러리\n",
    "- NumPy (넘파이) : 배열, 행렬 관련 편리한 기능 제공\n",
    "- Pandas (판다스) : Series, DataFrame 등의 자료구조를 활용한 \n",
    "                    데이터 분석 기능 제공\n",
    "- Matplotlib (맷플롯립) : 데이터 분석 결과를 시각화하는데 유용한 기능 제공"
   ]
  },
  {
   "cell_type": "markdown",
   "id": "f356eb7c",
   "metadata": {},
   "source": [
    "### 판다스 (pandas)\n",
    "    - series, DataFrame등의 자료구조를 활용한 데이터 분석 기능을 제공해주는 라이브러리\n",
    "    - pandas 라이브러리 구성\n",
    "        - 여러종류의 클래스와 다양한 함수로 구성\n",
    "        - 시리즈와 데이터 프레임의 데이터 구조 클래스 객체 포함\n",
    "        - 시리즈(1차원 배열) 데이터프레임(2차원 테이블 형태)이다."
   ]
  },
  {
   "cell_type": "markdown",
   "id": "18a62ad9",
   "metadata": {},
   "source": [
    "#### 판다스의 목적\n",
    "    - 서로 다른 여러 가지 유형의 데이터를 공통된 포맷으로 정리하는 것\n",
    "    - 특히, 행과 열로 이루어진 2차원 구조의 데이터프레임 형식으로 사용\n",
    "    - 데이터 분석 실무에서 사용됨\n"
   ]
  },
  {
   "cell_type": "markdown",
   "id": "1b7f8f2e",
   "metadata": {},
   "source": [
    "#### Series\n",
    "  - pandas의 기본 객체 중 하나\n",
    "  - 동일한 타입의 데이터가 순차적으로 나열된 1차원 배열 형태\n",
    "  - 인덱스(index)와 데이터 값(value)이 일대일로 대응"
   ]
  },
  {
   "cell_type": "markdown",
   "id": "7860f411",
   "metadata": {},
   "source": [
    "### Series 학습 내용\n",
    "- Series 생성 방법  \n",
    "- 시리즈 데이터의 추가/삭제/갱신 \n",
    "- 인덱싱        \n",
    "- 슬라이싱     \n",
    "- 시리즈 연산     \n",
    "- 시리즈 속성 및 함수  \n",
    "- 날짜 인덱스를 이용한 시리즈 생성  "
   ]
  },
  {
   "cell_type": "markdown",
   "id": "84f9f21f",
   "metadata": {},
   "source": [
    "### 판다스/넘파이 모듈 import\n",
    "\n",
    "- 데이터분석에서 기본 패키지 :  pandas와 numpy 패키지  \n",
    "- 일반적으로 pandas 모듈은 pd 라는 별칭 사용  \n",
    "- numpy는 np라는 별칭 사용  "
   ]
  },
  {
   "cell_type": "code",
   "execution_count": 32,
   "id": "d5135ae1",
   "metadata": {},
   "outputs": [],
   "source": [
    "# 한 셀에서 여려 결과 출력\n",
    "from IPython.core.interactiveshell import InteractiveShell\n",
    "InteractiveShell.ast_node_interactivity=\"all\""
   ]
  },
  {
   "cell_type": "code",
   "execution_count": 1,
   "id": "a4a08041",
   "metadata": {},
   "outputs": [],
   "source": [
    "import pandas as pd\n",
    "import numpy as np"
   ]
  },
  {
   "cell_type": "markdown",
   "id": "6c334730",
   "metadata": {},
   "source": [
    "#### Series 생성 방법 : pd.Series(집합적 자료형 )\n",
    "    (1) 리스트로 생성  \n",
    "    (2) 튜플로 생성  \n",
    "    (3) 딕셔너리로 생성 \n",
    "    (4) range()/np.arange() 함수 사용해서 생성"
   ]
  },
  {
   "cell_type": "markdown",
   "id": "e4fb83fb",
   "metadata": {},
   "source": [
    " #### (1) 리스트로 생성  \n",
    " - index는 명시하지 않을 경우 기본적으로 0부터 자동 생성"
   ]
  },
  {
   "cell_type": "code",
   "execution_count": 4,
   "id": "0d0fa0ee",
   "metadata": {},
   "outputs": [
    {
     "data": {
      "text/plain": [
       "0    1\n",
       "1    2\n",
       "2    3\n",
       "dtype: int64"
      ]
     },
     "execution_count": 4,
     "metadata": {},
     "output_type": "execute_result"
    }
   ],
   "source": [
    "# pd.Series([집합적 자료형])\n",
    "# pd.Series([리스트])\n",
    "# index는 명시하지 않을 경우 기본적으로 0부터 자동 생성\n",
    "s = pd.Series([1,2,3])\n",
    "s"
   ]
  },
  {
   "cell_type": "code",
   "execution_count": 5,
   "id": "1120ab61",
   "metadata": {},
   "outputs": [
    {
     "data": {
      "text/plain": [
       "0      a\n",
       "1      1\n",
       "2    3.0\n",
       "dtype: object"
      ]
     },
     "execution_count": 5,
     "metadata": {},
     "output_type": "execute_result"
    }
   ],
   "source": [
    "# 리스트 내에 서로 다른 타입의 데이터가 있으면 형변환 발생\n",
    "# 문자열이 포함된 경우 문자형(object)으로 변환\n",
    "s = pd.Series(['a', 1, 3.0])\n",
    "s"
   ]
  },
  {
   "cell_type": "code",
   "execution_count": 6,
   "id": "6b5b5b20",
   "metadata": {},
   "outputs": [
    {
     "data": {
      "text/plain": [
       "0    0.0\n",
       "1    1.0\n",
       "2    3.0\n",
       "dtype: float64"
      ]
     },
     "execution_count": 6,
     "metadata": {},
     "output_type": "execute_result"
    }
   ],
   "source": [
    "# 정수, 실수 섞여 있는 경우 실수로 형변환 (큰 타입으로 변환)\n",
    "s = pd.Series([0, 1, 3.0])\n",
    "s"
   ]
  },
  {
   "cell_type": "code",
   "execution_count": 8,
   "id": "0b0ba5ed",
   "metadata": {},
   "outputs": [
    {
     "data": {
      "text/plain": [
       "0    0.0\n",
       "1    NaN\n",
       "2    3.0\n",
       "dtype: float64"
      ]
     },
     "execution_count": 8,
     "metadata": {},
     "output_type": "execute_result"
    }
   ],
   "source": [
    "# 주의!! - NaN(null) 값이 있으면 실수로 인식\n",
    "s = pd.Series([0, np.nan, 3])\n",
    "s"
   ]
  },
  {
   "cell_type": "code",
   "execution_count": 9,
   "id": "97308993",
   "metadata": {},
   "outputs": [
    {
     "data": {
      "text/plain": [
       "1    1\n",
       "2    2\n",
       "3    3\n",
       "dtype: int64"
      ]
     },
     "execution_count": 9,
     "metadata": {},
     "output_type": "execute_result"
    }
   ],
   "source": [
    "# index 명시 : 숫자 인덱스\n",
    "s = pd.Series([1,2,3], index=[1,2,3])\n",
    "s"
   ]
  },
  {
   "cell_type": "code",
   "execution_count": 10,
   "id": "b6eca803",
   "metadata": {},
   "outputs": [
    {
     "data": {
      "text/plain": [
       "a    1\n",
       "b    2\n",
       "c    3\n",
       "dtype: int64"
      ]
     },
     "execution_count": 10,
     "metadata": {},
     "output_type": "execute_result"
    }
   ],
   "source": [
    "# index 명시 : 숫자 인덱스\n",
    "s = pd.Series([1,2,3], index=['a','b','c'])\n",
    "s"
   ]
  },
  {
   "cell_type": "code",
   "execution_count": 15,
   "id": "368a7e5a",
   "metadata": {},
   "outputs": [
    {
     "data": {
      "text/plain": [
       "a    1\n",
       "     2\n",
       "c    3\n",
       "dtype: int64"
      ]
     },
     "execution_count": 15,
     "metadata": {},
     "output_type": "execute_result"
    }
   ],
   "source": [
    "# index 옵션명(인수명) 생략 가능\n",
    "# pd.Series(데이터, 인덱스)\n",
    "s = pd.Series([1,2,3], ['a','','c'])\n",
    "s"
   ]
  },
  {
   "cell_type": "code",
   "execution_count": 13,
   "id": "9f5fd017",
   "metadata": {},
   "outputs": [
    {
     "data": {
      "text/plain": [
       "a    1\n",
       "a    2\n",
       "c    3\n",
       "dtype: int64"
      ]
     },
     "execution_count": 13,
     "metadata": {},
     "output_type": "execute_result"
    }
   ],
   "source": [
    "# 인덱스명 중복 사용 가능 : 오류 없음\n",
    "# 검색 시 중복 확인하고 결과에서 선택해서 출력\n",
    "s = pd.Series([1,2,3], ['a','a','c'])\n",
    "s"
   ]
  },
  {
   "cell_type": "code",
   "execution_count": 17,
   "id": "cb270666",
   "metadata": {},
   "outputs": [
    {
     "data": {
      "text/plain": [
       "홍길동     95\n",
       "이몽룡    100\n",
       "성춘향     80\n",
       "dtype: int64"
      ]
     },
     "execution_count": 17,
     "metadata": {},
     "output_type": "execute_result"
    }
   ],
   "source": [
    "# 문자 인덱스 예\n",
    "# 데이터 : 95, 100, 80\n",
    "# 인덱스 : 홍길동, 이몽룡, 성춘향\n",
    "score = pd.Series([95, 100, 80], index=['홍길동','이몽룡','성춘향'])\n",
    "score"
   ]
  },
  {
   "cell_type": "code",
   "execution_count": 19,
   "id": "e269ec8e",
   "metadata": {},
   "outputs": [
    {
     "data": {
      "text/plain": [
       "홍길동     95\n",
       "이몽룡    100\n",
       "성춘향     80\n",
       "Name: 성적, dtype: int64"
      ]
     },
     "execution_count": 19,
     "metadata": {},
     "output_type": "execute_result"
    }
   ],
   "source": [
    "# 시리즈 이름 붙이기\n",
    "# 시리즈.name 속성 사용\n",
    "score.name = '성적'\n",
    "score"
   ]
  },
  {
   "cell_type": "code",
   "execution_count": 20,
   "id": "649e9eb0",
   "metadata": {},
   "outputs": [
    {
     "data": {
      "text/plain": [
       "성명\n",
       "홍길동     95\n",
       "이몽룡    100\n",
       "성춘향     80\n",
       "Name: 성적, dtype: int64"
      ]
     },
     "execution_count": 20,
     "metadata": {},
     "output_type": "execute_result"
    }
   ],
   "source": [
    "# index에 이름 붙이기\n",
    "# 시리즈.index.name 속성 사용\n",
    "score.index.name = '성명'\n",
    "score"
   ]
  },
  {
   "cell_type": "code",
   "execution_count": 22,
   "id": "39a5fa6b",
   "metadata": {},
   "outputs": [
    {
     "data": {
      "text/plain": [
       "array([ 95, 100,  80], dtype=int64)"
      ]
     },
     "execution_count": 22,
     "metadata": {},
     "output_type": "execute_result"
    }
   ],
   "source": [
    "# 시리즈의 값 : numpy.array 형태\n",
    "# 시리즈.values 속성 사용\n",
    "score.values"
   ]
  },
  {
   "cell_type": "markdown",
   "id": "24fac664",
   "metadata": {},
   "source": [
    "#### (2) 튜플로 생성  "
   ]
  },
  {
   "cell_type": "code",
   "execution_count": 23,
   "id": "2833d456-c46d-41a0-863f-45afda2907e9",
   "metadata": {},
   "outputs": [
    {
     "data": {
      "text/plain": [
       "0    1.0\n",
       "1    2.0\n",
       "2    3.0\n",
       "dtype: float64"
      ]
     },
     "execution_count": 23,
     "metadata": {},
     "output_type": "execute_result"
    }
   ],
   "source": [
    "# pd.Series(튜플)\n",
    "s2 = pd.Series((1.0, 2.0, 3.0))\n",
    "s2"
   ]
  },
  {
   "cell_type": "code",
   "execution_count": 24,
   "id": "98d326fb",
   "metadata": {},
   "outputs": [
    {
     "data": {
      "text/plain": [
       "1    1.0\n",
       "2    2.0\n",
       "3    3.0\n",
       "dtype: float64"
      ]
     },
     "execution_count": 24,
     "metadata": {},
     "output_type": "execute_result"
    }
   ],
   "source": [
    "s2 = pd.Series((1.0, 2.0, 3.0), index=[1,2,3])\n",
    "s2"
   ]
  },
  {
   "cell_type": "markdown",
   "id": "8225212a",
   "metadata": {},
   "source": [
    "#### (3) 딕셔너리로 생성 \n",
    "- Series({key:value, key1:value1....})  \n",
    "- key -> 인덱스\n",
    "- value -> 값"
   ]
  },
  {
   "cell_type": "code",
   "execution_count": 28,
   "id": "f23d11f5-71b3-46b3-9332-67035b634b1a",
   "metadata": {},
   "outputs": [
    {
     "data": {
      "text/plain": [
       "서울    9631482\n",
       "부산    3393191\n",
       "인천    2632035\n",
       "대전    1490158\n",
       "dtype: int64"
      ]
     },
     "execution_count": 28,
     "metadata": {},
     "output_type": "execute_result"
    }
   ],
   "source": [
    "# 딕셔너리로 시리즈 생성\n",
    "# 키 : 서울, 부산, 인천, 대전\n",
    "# 값 : 9631482, 3393191, 2632035, 1490158\n",
    "city = pd.Series({'서울':9631482, '부산': 3393191, '인천': 2632035, '대전': 1490158})\n",
    "city"
   ]
  },
  {
   "cell_type": "code",
   "execution_count": 29,
   "id": "c092a80d",
   "metadata": {},
   "outputs": [
    {
     "data": {
      "text/plain": [
       "Index(['서울', '부산', '인천', '대전'], dtype='object')"
      ]
     },
     "execution_count": 29,
     "metadata": {},
     "output_type": "execute_result"
    }
   ],
   "source": [
    "city.index"
   ]
  },
  {
   "cell_type": "code",
   "execution_count": 34,
   "id": "219b99c9",
   "metadata": {},
   "outputs": [
    {
     "data": {
      "text/plain": [
       "9631482"
      ]
     },
     "execution_count": 34,
     "metadata": {},
     "output_type": "execute_result"
    },
    {
     "data": {
      "text/plain": [
       "9631482"
      ]
     },
     "execution_count": 34,
     "metadata": {},
     "output_type": "execute_result"
    }
   ],
   "source": [
    "# 시리즈의 특정 값 출력 : 인덱스 사용\n",
    "city['서울']\n",
    "# city[0] # 0-base 위치 인덱스 사용 - deprecated 경고\n",
    "city.iloc[0] # iloc 사용"
   ]
  },
  {
   "cell_type": "code",
   "execution_count": null,
   "id": "27142fff",
   "metadata": {},
   "outputs": [],
   "source": []
  },
  {
   "cell_type": "markdown",
   "id": "45bdb4cd",
   "metadata": {},
   "source": [
    "#### (4) range()/np.arange() 함수 사용해서 생성  "
   ]
  },
  {
   "cell_type": "code",
   "execution_count": 35,
   "id": "1d749620-29ab-49a9-9b56-d0fdc2dde0e2",
   "metadata": {},
   "outputs": [
    {
     "data": {
      "text/plain": [
       "0    0\n",
       "1    1\n",
       "2    2\n",
       "3    3\n",
       "4    4\n",
       "dtype: int64"
      ]
     },
     "execution_count": 35,
     "metadata": {},
     "output_type": "execute_result"
    }
   ],
   "source": [
    "# range() 함수 사용해서 시리즈 생성\n",
    "# range(숫자) : 0 부터\n",
    "# range(start, end) : start ~ end-1까지 범위\n",
    "s = pd.Series(range(5))\n",
    "s"
   ]
  },
  {
   "cell_type": "code",
   "execution_count": 39,
   "id": "0425ad5c",
   "metadata": {},
   "outputs": [
    {
     "data": {
      "text/plain": [
       "0    11\n",
       "1    12\n",
       "2    13\n",
       "3    14\n",
       "4    15\n",
       "dtype: int64"
      ]
     },
     "execution_count": 39,
     "metadata": {},
     "output_type": "execute_result"
    }
   ],
   "source": [
    "# value 설정\n",
    "s = pd.Series(range(11,16))\n",
    "s"
   ]
  },
  {
   "cell_type": "code",
   "execution_count": 41,
   "id": "9e60ee77",
   "metadata": {},
   "outputs": [
    {
     "data": {
      "text/plain": [
       "1    11\n",
       "2    12\n",
       "3    13\n",
       "4    14\n",
       "5    15\n",
       "dtype: int64"
      ]
     },
     "execution_count": 41,
     "metadata": {},
     "output_type": "execute_result"
    }
   ],
   "source": [
    "# index 설정\n",
    "s = pd.Series(range(11,16), range(1,6))\n",
    "s"
   ]
  },
  {
   "cell_type": "code",
   "execution_count": 42,
   "id": "5a296b6b",
   "metadata": {},
   "outputs": [
    {
     "data": {
      "text/plain": [
       "0    0\n",
       "1    1\n",
       "2    2\n",
       "3    3\n",
       "4    4\n",
       "dtype: int32"
      ]
     },
     "execution_count": 42,
     "metadata": {},
     "output_type": "execute_result"
    }
   ],
   "source": [
    "# numpy의 arange() 사용\n",
    "s = pd.Series(np.arange(5))\n",
    "s"
   ]
  },
  {
   "cell_type": "code",
   "execution_count": 43,
   "id": "e2ee0d57",
   "metadata": {},
   "outputs": [
    {
     "data": {
      "text/plain": [
       "0    1.0\n",
       "1    2.0\n",
       "2    3.0\n",
       "3    NaN\n",
       "4    5.0\n",
       "5    6.0\n",
       "dtype: float64"
      ]
     },
     "execution_count": 43,
     "metadata": {},
     "output_type": "execute_result"
    }
   ],
   "source": [
    "# 결측값을 포함해서 시리즈 만들기 : NaN\n",
    "# Numpy : np.nan\n",
    "# Pandas : None (NaN으로 적으면 오류)\n",
    "s = pd.Series([1,2,3, np.nan, 5, 6])\n",
    "s"
   ]
  },
  {
   "cell_type": "code",
   "execution_count": 45,
   "id": "4195f700",
   "metadata": {},
   "outputs": [
    {
     "data": {
      "text/plain": [
       "0    1.0\n",
       "1    2.0\n",
       "2    3.0\n",
       "3    NaN\n",
       "4    5.0\n",
       "5    6.0\n",
       "dtype: float64"
      ]
     },
     "execution_count": 45,
     "metadata": {},
     "output_type": "execute_result"
    }
   ],
   "source": [
    "# Pandas : None (NaN으로 적으면 오류)\n",
    "s = pd.Series([1,2,3, None, 5, 6])\n",
    "s"
   ]
  },
  {
   "cell_type": "code",
   "execution_count": 47,
   "id": "108a2254",
   "metadata": {},
   "outputs": [
    {
     "data": {
      "text/plain": [
       "홍길동     95\n",
       "이몽룡    100\n",
       "성춘향     88\n",
       "dtype: int64"
      ]
     },
     "execution_count": 47,
     "metadata": {},
     "output_type": "execute_result"
    }
   ],
   "source": [
    "# 시리즈에 데이터 추가\n",
    "# 새 인덱스로 추가하면 됨 : 시리즈[인덱스] = 값\n",
    "s = pd.Series([95, 100, 88],\n",
    "             index = ['홍길동', '이몽룡', '성춘향'])\n",
    "s"
   ]
  },
  {
   "cell_type": "code",
   "execution_count": 48,
   "id": "277b0c8c",
   "metadata": {},
   "outputs": [
    {
     "data": {
      "text/plain": [
       "홍길동     95\n",
       "이몽룡    100\n",
       "성춘향     88\n",
       "변학도     70\n",
       "dtype: int64"
      ]
     },
     "execution_count": 48,
     "metadata": {},
     "output_type": "execute_result"
    }
   ],
   "source": [
    "# 새 인덱스로 추가하면 됨 : 시리즈[인덱스] = 값\n",
    "# 인덱스 : 변학도\n",
    "# 값 : 70\n",
    "s['변학도'] = 70\n",
    "s"
   ]
  },
  {
   "cell_type": "code",
   "execution_count": 50,
   "id": "a5373da9",
   "metadata": {},
   "outputs": [
    {
     "data": {
      "text/plain": [
       "홍길동     40\n",
       "이몽룡    100\n",
       "성춘향     88\n",
       "변학도     70\n",
       "dtype: int64"
      ]
     },
     "execution_count": 50,
     "metadata": {},
     "output_type": "execute_result"
    }
   ],
   "source": [
    "# 시리즈의 값 변경\n",
    "# 시리즈[기존 인덱스] = 새로운 값 (덮어씀)\n",
    "s['홍길동'] = 40\n",
    "s"
   ]
  },
  {
   "cell_type": "code",
   "execution_count": 51,
   "id": "48609a96",
   "metadata": {},
   "outputs": [
    {
     "data": {
      "text/plain": [
       "홍길동     40\n",
       "이몽룡    100\n",
       "성춘향     88\n",
       "dtype: int64"
      ]
     },
     "execution_count": 51,
     "metadata": {},
     "output_type": "execute_result"
    }
   ],
   "source": [
    "# 시리즈 내 원소 삭제 : del 명령어 사용\n",
    "del s['변학도']\n",
    "s"
   ]
  },
  {
   "cell_type": "code",
   "execution_count": 52,
   "id": "825a9ba4",
   "metadata": {},
   "outputs": [],
   "source": [
    "# drop() 사용\n",
    "# 시리즈.drop(인덱스, axis=0, inplace=True)\n",
    "# axis=0 : 행 의미 (디폴트로 생략 가능)\n",
    "# inplace=True : 결과 반영 (원본 데이터 변경)"
   ]
  },
  {
   "cell_type": "code",
   "execution_count": 55,
   "id": "970da75e",
   "metadata": {},
   "outputs": [
    {
     "data": {
      "text/plain": [
       "이몽룡    100\n",
       "성춘향     88\n",
       "dtype: int64"
      ]
     },
     "execution_count": 55,
     "metadata": {},
     "output_type": "execute_result"
    },
    {
     "data": {
      "text/plain": [
       "홍길동     40\n",
       "이몽룡    100\n",
       "성춘향     88\n",
       "dtype: int64"
      ]
     },
     "execution_count": 55,
     "metadata": {},
     "output_type": "execute_result"
    }
   ],
   "source": [
    "s.drop('홍길동') # 실제 데이터는 삭제되지 않음\n",
    "s"
   ]
  },
  {
   "cell_type": "code",
   "execution_count": 56,
   "id": "473e4538",
   "metadata": {},
   "outputs": [
    {
     "data": {
      "text/plain": [
       "이몽룡    100\n",
       "성춘향     88\n",
       "dtype: int64"
      ]
     },
     "execution_count": 56,
     "metadata": {},
     "output_type": "execute_result"
    },
    {
     "data": {
      "text/plain": [
       "홍길동     40\n",
       "이몽룡    100\n",
       "성춘향     88\n",
       "dtype: int64"
      ]
     },
     "execution_count": 56,
     "metadata": {},
     "output_type": "execute_result"
    }
   ],
   "source": [
    "s.drop('홍길동', axis=0) # axis=0 : 행 의미 (디폴트로 생략 가능)\n",
    "s"
   ]
  },
  {
   "cell_type": "code",
   "execution_count": 57,
   "id": "cddf2921",
   "metadata": {},
   "outputs": [
    {
     "data": {
      "text/plain": [
       "이몽룡    100\n",
       "성춘향     88\n",
       "dtype: int64"
      ]
     },
     "execution_count": 57,
     "metadata": {},
     "output_type": "execute_result"
    }
   ],
   "source": [
    "s.drop('홍길동', axis=0, inplace=True) # 실제 데이터 삭제됨 (원본 데이터 반영)\n",
    "s"
   ]
  },
  {
   "cell_type": "code",
   "execution_count": null,
   "id": "d2bf4ea6-2237-4790-bd3c-59d2c1d5ede5",
   "metadata": {},
   "outputs": [],
   "source": [
    "#################################################################################"
   ]
  },
  {
   "cell_type": "markdown",
   "id": "5236f64d",
   "metadata": {},
   "source": [
    "### 인덱싱  \n",
    "    - 인덱스 종류    \n",
    "        (1) 문자형 인덱스    \n",
    "         - index 명시하지 않으면 0부터 시작하는 정수형 인덱스 자동 지정됨\n",
    "        (2) 정수형 인덱스   \n",
    "          -  정수형 인덱스로 명시한 경우 0-base 위치 인덱스 사용 못함 (에러)\n",
    "        (3) 위치 인덱스  : 0-base 위치 인덱스         \n",
    "    - 원소 접근  \n",
    "        (1) 정수형 인덱스 사용 : 시리즈[숫자 인덱스]  \n",
    "        (2) 문자형 인덱스 사용 : 시리즈['문자 인덱스']   \n",
    "        (3) 리스트 이용 인덱싱"
   ]
  },
  {
   "cell_type": "code",
   "execution_count": 58,
   "id": "e4aabdfe-8245-452d-a2cd-ba724a1485b1",
   "metadata": {},
   "outputs": [
    {
     "data": {
      "text/plain": [
       "홍길동     95\n",
       "이몽룡    100\n",
       "성춘향     88\n",
       "dtype: int64"
      ]
     },
     "execution_count": 58,
     "metadata": {},
     "output_type": "execute_result"
    }
   ],
   "source": [
    "# (1) 문자열 인덱스\n",
    "s = pd.Series([95, 100, 88],\n",
    "             index = ['홍길동', '이몽룡', '성춘향'])\n",
    "s"
   ]
  },
  {
   "cell_type": "code",
   "execution_count": 60,
   "id": "05b9865c",
   "metadata": {},
   "outputs": [
    {
     "data": {
      "text/plain": [
       "95"
      ]
     },
     "execution_count": 60,
     "metadata": {},
     "output_type": "execute_result"
    }
   ],
   "source": [
    "# 첫 번째 원소의 값 출력 : 0-base 위치 인덱스 - 사용\n",
    "# s[0] : deprecated\n",
    "s.iloc[0]"
   ]
  },
  {
   "cell_type": "code",
   "execution_count": 61,
   "id": "071e4477",
   "metadata": {},
   "outputs": [
    {
     "data": {
      "text/plain": [
       "1    10\n",
       "2    20\n",
       "3    30\n",
       "dtype: int64"
      ]
     },
     "execution_count": 61,
     "metadata": {},
     "output_type": "execute_result"
    }
   ],
   "source": [
    "# (2) 정수형 인덱스\n",
    "s2 = pd.Series([10, 20, 30], index=[1,2,3])\n",
    "s2"
   ]
  },
  {
   "cell_type": "code",
   "execution_count": 63,
   "id": "4b9f2365",
   "metadata": {},
   "outputs": [
    {
     "data": {
      "text/plain": [
       "10"
      ]
     },
     "execution_count": 63,
     "metadata": {},
     "output_type": "execute_result"
    }
   ],
   "source": [
    "# 정수형 인덱스 접근\n",
    "s2[1]\n",
    "# 1 : 지정한 인덱스 값 (0-base 인덱스 값 아님)"
   ]
  },
  {
   "cell_type": "code",
   "execution_count": 64,
   "id": "929e2c39",
   "metadata": {},
   "outputs": [
    {
     "data": {
      "text/plain": [
       "(95, 100)"
      ]
     },
     "execution_count": 64,
     "metadata": {},
     "output_type": "execute_result"
    }
   ],
   "source": [
    "# 두 개 이상의 인덱싱 코드를 나열하면 튜플 형태로 출력\n",
    "s.iloc[0], s['이몽룡']"
   ]
  },
  {
   "cell_type": "code",
   "execution_count": 70,
   "id": "bd32e74c",
   "metadata": {},
   "outputs": [
    {
     "data": {
      "text/plain": [
       "홍길동     95\n",
       "이몽룡    100\n",
       "성춘향     88\n",
       "dtype: int64"
      ]
     },
     "execution_count": 70,
     "metadata": {},
     "output_type": "execute_result"
    },
    {
     "data": {
      "text/plain": [
       "95"
      ]
     },
     "execution_count": 70,
     "metadata": {},
     "output_type": "execute_result"
    },
    {
     "data": {
      "text/plain": [
       "이몽룡    100\n",
       "홍길동     95\n",
       "성춘향     88\n",
       "dtype: int64"
      ]
     },
     "execution_count": 70,
     "metadata": {},
     "output_type": "execute_result"
    }
   ],
   "source": [
    "# (3) 리스트 이용 인덱싱\n",
    "s\n",
    "s.iloc[0]\n",
    "s.iloc[[1, 0, 2]]"
   ]
  },
  {
   "cell_type": "code",
   "execution_count": 71,
   "id": "83c82a53",
   "metadata": {},
   "outputs": [
    {
     "data": {
      "text/plain": [
       "a    10\n",
       "b    20\n",
       "c    30\n",
       "dtype: int64"
      ]
     },
     "execution_count": 71,
     "metadata": {},
     "output_type": "execute_result"
    }
   ],
   "source": [
    "# 문자 인덱스인 경우 dot(.) 연산자 사용해서 접근 가능\n",
    "s3 = pd.Series([10, 20, 30], index=['a','b','c'])\n",
    "s3"
   ]
  },
  {
   "cell_type": "code",
   "execution_count": 73,
   "id": "1968052c",
   "metadata": {},
   "outputs": [
    {
     "data": {
      "text/plain": [
       "10"
      ]
     },
     "execution_count": 73,
     "metadata": {},
     "output_type": "execute_result"
    },
    {
     "data": {
      "text/plain": [
       "10"
      ]
     },
     "execution_count": 73,
     "metadata": {},
     "output_type": "execute_result"
    }
   ],
   "source": [
    "s3['a']\n",
    "s3.a"
   ]
  },
  {
   "cell_type": "code",
   "execution_count": 74,
   "id": "bfaf8233",
   "metadata": {},
   "outputs": [
    {
     "data": {
      "text/plain": [
       "95"
      ]
     },
     "execution_count": 74,
     "metadata": {},
     "output_type": "execute_result"
    }
   ],
   "source": [
    "# 한글 문자 인덱스도 dot 연산자 사용해서 접근 가능\n",
    "s.홍길동"
   ]
  },
  {
   "cell_type": "code",
   "execution_count": null,
   "id": "8878cbd9-4f28-44e8-bb82-b8455a1cb89b",
   "metadata": {},
   "outputs": [],
   "source": [
    "#################################################################################"
   ]
  },
  {
   "cell_type": "markdown",
   "id": "461a2e52",
   "metadata": {},
   "source": [
    "### 슬라이싱  \n",
    "    (1) 0-base 위치 인덱스를 이용한 슬라이싱  \n",
    "        - 시리즈[start:end] : start ~ end-1까지 추출\n",
    "    (2) 문자(라벨) 인덱스를 이용한 슬라이싱 \n",
    "        - 시리즈['시작라벨':'끝라벨']\n",
    "            - 시작에서 끝까지 양쪽 라벨 포함된 범위 추출  "
   ]
  },
  {
   "cell_type": "code",
   "execution_count": 75,
   "id": "ac4cfa76-14f0-4936-b1c9-74cb757b83a0",
   "metadata": {},
   "outputs": [
    {
     "data": {
      "text/plain": [
       "서울    9631482\n",
       "부산    3393191\n",
       "인천    2632035\n",
       "대전    1490158\n",
       "dtype: int64"
      ]
     },
     "execution_count": 75,
     "metadata": {},
     "output_type": "execute_result"
    }
   ],
   "source": [
    "city = pd.Series({\n",
    "    '서울' : 9631482,\n",
    "    '부산' : 3393191,\n",
    "    '인천' : 2632035,\n",
    "    '대전' : 1490158})\n",
    "city"
   ]
  },
  {
   "cell_type": "code",
   "execution_count": 77,
   "id": "ec0634bc",
   "metadata": {},
   "outputs": [
    {
     "data": {
      "text/plain": [
       "서울    9631482\n",
       "부산    3393191\n",
       "인천    2632035\n",
       "대전    1490158\n",
       "dtype: int64"
      ]
     },
     "execution_count": 77,
     "metadata": {},
     "output_type": "execute_result"
    }
   ],
   "source": [
    "data = {'서울' : 9631482,\n",
    "    '부산' : 3393191,\n",
    "    '인천' : 2632035,\n",
    "    '대전' : 1490158}\n",
    "city2 = pd.Series(data)\n",
    "city2"
   ]
  },
  {
   "cell_type": "code",
   "execution_count": 82,
   "id": "663e6b23",
   "metadata": {},
   "outputs": [
    {
     "data": {
      "text/plain": [
       "부산    3393191\n",
       "인천    2632035\n",
       "dtype: int64"
      ]
     },
     "execution_count": 82,
     "metadata": {},
     "output_type": "execute_result"
    },
    {
     "data": {
      "text/plain": [
       "부산    3393191\n",
       "인천    2632035\n",
       "dtype: int64"
      ]
     },
     "execution_count": 82,
     "metadata": {},
     "output_type": "execute_result"
    }
   ],
   "source": [
    "# 부산 ~ 인천 데이터 출력\n",
    "# 0~base 위치 인덱스 사용\n",
    "# city.iloc[range(1,3)]\n",
    "city[1:3]\n",
    "# 문자 인덱스(라벨) 사용\n",
    "city['부산':'인천']"
   ]
  },
  {
   "cell_type": "code",
   "execution_count": 83,
   "id": "12051bd2",
   "metadata": {},
   "outputs": [
    {
     "data": {
      "text/plain": [
       "1    100\n",
       "2    200\n",
       "3    300\n",
       "4    400\n",
       "dtype: int64"
      ]
     },
     "execution_count": 83,
     "metadata": {},
     "output_type": "execute_result"
    }
   ],
   "source": [
    "s = pd.Series([100, 200, 300, 400], index=[1,2,3,4])\n",
    "s"
   ]
  },
  {
   "cell_type": "code",
   "execution_count": 84,
   "id": "a4834aaf",
   "metadata": {},
   "outputs": [
    {
     "data": {
      "text/plain": [
       "1    100\n",
       "2    200\n",
       "3    300\n",
       "dtype: int64"
      ]
     },
     "execution_count": 84,
     "metadata": {},
     "output_type": "execute_result"
    }
   ],
   "source": [
    "# 슬라이싱 : 100 ~ 300 출력\n",
    "s[0:3]"
   ]
  },
  {
   "cell_type": "code",
   "execution_count": 90,
   "id": "6d9e6599",
   "metadata": {},
   "outputs": [
    {
     "data": {
      "text/plain": [
       "2    200\n",
       "4    400\n",
       "3    300\n",
       "dtype: int64"
      ]
     },
     "execution_count": 90,
     "metadata": {},
     "output_type": "execute_result"
    }
   ],
   "source": [
    "# 리스트 사용 인덱싱 : 정수형 인덱스\n",
    "# 200, 400, 300 순서대로 출력\n",
    "s[[2, 4, 3]]"
   ]
  },
  {
   "cell_type": "code",
   "execution_count": 92,
   "id": "04495393",
   "metadata": {},
   "outputs": [
    {
     "data": {
      "text/plain": [
       "2    200\n",
       "4    400\n",
       "3    300\n",
       "dtype: int64"
      ]
     },
     "execution_count": 92,
     "metadata": {},
     "output_type": "execute_result"
    }
   ],
   "source": [
    "# 0-base 위치 인덱스 사용\n",
    "s.iloc[[1,3,2]]"
   ]
  },
  {
   "cell_type": "code",
   "execution_count": null,
   "id": "6d0165a2-f0cc-40c3-adc1-c023c9f8c769",
   "metadata": {},
   "outputs": [],
   "source": [
    "#################################################################################"
   ]
  },
  {
   "cell_type": "markdown",
   "id": "c2ea1861",
   "metadata": {},
   "source": [
    "### 시리즈 연산  \n",
    "    (1) 벡터화 연산  \n",
    "    (2) Boolean selection  \n",
    "    (3) 두 시리즈간의 연산"
   ]
  },
  {
   "cell_type": "markdown",
   "id": "fb46f551",
   "metadata": {},
   "source": [
    "#####  (1) 벡터화 연산\n",
    "- 벡터화 연산 : 집합적 자료형의 원소 각각에 대해 독립적으로 계산 수행\n",
    "    - 단, 연산은 시리즈의 값에만 적용\n",
    "    - 인덱스 값은 변경 불가"
   ]
  },
  {
   "cell_type": "code",
   "execution_count": 93,
   "id": "5907b30f-102a-4ce0-a18a-f6815e5c9197",
   "metadata": {},
   "outputs": [
    {
     "data": {
      "text/plain": [
       "0    11\n",
       "1    12\n",
       "2    13\n",
       "dtype: int64"
      ]
     },
     "execution_count": 93,
     "metadata": {},
     "output_type": "execute_result"
    }
   ],
   "source": [
    "# 시리즈 각 원소에 대해서 + 10한 연산 수행\n",
    "pd.Series([1,2,3]) + 10"
   ]
  },
  {
   "cell_type": "code",
   "execution_count": 94,
   "id": "3e95c41b",
   "metadata": {},
   "outputs": [
    {
     "data": {
      "text/plain": [
       "서울    9631482\n",
       "부산    3393191\n",
       "인천    2632035\n",
       "대전    1490158\n",
       "dtype: int64"
      ]
     },
     "execution_count": 94,
     "metadata": {},
     "output_type": "execute_result"
    }
   ],
   "source": [
    "city"
   ]
  },
  {
   "cell_type": "code",
   "execution_count": 96,
   "id": "c4e5b9b9",
   "metadata": {},
   "outputs": [
    {
     "data": {
      "text/plain": [
       "서울     True\n",
       "부산     True\n",
       "인천     True\n",
       "대전    False\n",
       "dtype: bool"
      ]
     },
     "execution_count": 96,
     "metadata": {},
     "output_type": "execute_result"
    }
   ],
   "source": [
    "city > 2500000"
   ]
  },
  {
   "cell_type": "code",
   "execution_count": 97,
   "id": "992ef054",
   "metadata": {},
   "outputs": [
    {
     "data": {
      "text/plain": [
       "서울    False\n",
       "부산     True\n",
       "인천     True\n",
       "대전     True\n",
       "dtype: bool"
      ]
     },
     "execution_count": 97,
     "metadata": {},
     "output_type": "execute_result"
    }
   ],
   "source": [
    "city < 5000000"
   ]
  },
  {
   "cell_type": "code",
   "execution_count": 99,
   "id": "00b318ac",
   "metadata": {},
   "outputs": [
    {
     "data": {
      "text/plain": [
       "부산    3393191\n",
       "인천    2632035\n",
       "dtype: int64"
      ]
     },
     "execution_count": 99,
     "metadata": {},
     "output_type": "execute_result"
    }
   ],
   "source": [
    "# city 시리즈의 값 중에서 2,500,000 보다 크고 5,000,000 보다 작은 원소를 추출\n",
    "city[(city > 2500000) & (city < 5000000) ]"
   ]
  },
  {
   "cell_type": "markdown",
   "id": "c6037fd9",
   "metadata": {},
   "source": [
    "#### (2) Boolean selection\n",
    "  - boolean 연산 결과 True에 해당되는 값만 추출 \n",
    "  - [연산식] : 연산식 결과가 True인 것만 추출\n",
    "  - 다중조건의 경우, &(and), |(or)를 사용하여 연결 가능"
   ]
  },
  {
   "cell_type": "code",
   "execution_count": 102,
   "id": "fc31e8f9-f6b4-4980-bb6c-43c6e4510ee4",
   "metadata": {},
   "outputs": [
    {
     "data": {
      "text/plain": [
       "1     0\n",
       "2     1\n",
       "3     2\n",
       "4     3\n",
       "5     4\n",
       "6     5\n",
       "7     6\n",
       "8     7\n",
       "9     8\n",
       "10    9\n",
       "dtype: int64"
      ]
     },
     "execution_count": 102,
     "metadata": {},
     "output_type": "execute_result"
    }
   ],
   "source": [
    "# 시리즈 s3 생성\n",
    "# 인덱스 : 1 ~ 10\n",
    "# 값 : 0 ~ 9\n",
    "s3 = pd.Series(range(0,10), index=range(1, 11))\n",
    "s3"
   ]
  },
  {
   "cell_type": "code",
   "execution_count": 103,
   "id": "f2361513",
   "metadata": {},
   "outputs": [
    {
     "data": {
      "text/plain": [
       "5    4\n",
       "6    5\n",
       "7    6\n",
       "dtype: int64"
      ]
     },
     "execution_count": 103,
     "metadata": {},
     "output_type": "execute_result"
    }
   ],
   "source": [
    "# s3 중에서 3 보다 크고 7 미만 인 값만 추출\n",
    "s3[(s3 > 3) & (s3 < 7)]"
   ]
  },
  {
   "cell_type": "code",
   "execution_count": 107,
   "id": "4cea31fb",
   "metadata": {},
   "outputs": [
    {
     "data": {
      "text/plain": [
       "1    0\n",
       "3    2\n",
       "5    4\n",
       "7    6\n",
       "9    8\n",
       "dtype: int64"
      ]
     },
     "execution_count": 107,
     "metadata": {},
     "output_type": "execute_result"
    }
   ],
   "source": [
    "# s3 원소 중에서 짝수 값만 추출\n",
    "s3[s3 % 2 == 0]"
   ]
  },
  {
   "cell_type": "code",
   "execution_count": 108,
   "id": "a130b3a4",
   "metadata": {},
   "outputs": [
    {
     "data": {
      "text/plain": [
       "array([False, False, False, False, False,  True,  True,  True,  True,\n",
       "        True])"
      ]
     },
     "execution_count": 108,
     "metadata": {},
     "output_type": "execute_result"
    }
   ],
   "source": [
    "# 인덱스에도 관계연산 가능\n",
    "s3.index > 5"
   ]
  },
  {
   "cell_type": "code",
   "execution_count": 110,
   "id": "89dc8c80",
   "metadata": {},
   "outputs": [
    {
     "data": {
      "text/plain": [
       "3"
      ]
     },
     "execution_count": 110,
     "metadata": {},
     "output_type": "execute_result"
    }
   ],
   "source": [
    "# s3 >= 7의 결과가 True 원소 개수 총합 반환\n",
    "(s3 >= 7).sum()"
   ]
  },
  {
   "cell_type": "code",
   "execution_count": 111,
   "id": "edd1f7d8",
   "metadata": {},
   "outputs": [
    {
     "data": {
      "text/plain": [
       "24"
      ]
     },
     "execution_count": 111,
     "metadata": {},
     "output_type": "execute_result"
    }
   ],
   "source": [
    "# True에 해당되는 원소들의 값의 합\n",
    "(s3[s3 >= 7]).sum()"
   ]
  },
  {
   "cell_type": "markdown",
   "id": "4ad09b67",
   "metadata": {},
   "source": [
    "##### 딕셔너리 와 시리즈의 관계\n",
    "- 시리즈 객체는 인덱스를 key로 가지는 딕셔너리 형과 같다고 볼 수 있음\n",
    "- 딕셔너리에서 제공하는 대부분의 연산자 사용 가능\n",
    "    - in 연산자 : T/F\n",
    "    - for 루프를 통해 각 원소의 key와 value에 접근 가능"
   ]
  },
  {
   "cell_type": "code",
   "execution_count": 112,
   "id": "bc17bec2-a355-4dbb-95fa-e662b1212ad1",
   "metadata": {},
   "outputs": [
    {
     "data": {
      "text/plain": [
       "a    10\n",
       "b    20\n",
       "c    30\n",
       "d    40\n",
       "dtype: int64"
      ]
     },
     "execution_count": 112,
     "metadata": {},
     "output_type": "execute_result"
    }
   ],
   "source": [
    "nums = pd.Series([10, 20, 30, 40], index=['a', 'b', 'c', 'd'])\n",
    "nums"
   ]
  },
  {
   "cell_type": "code",
   "execution_count": 113,
   "id": "d381d048",
   "metadata": {},
   "outputs": [
    {
     "data": {
      "text/plain": [
       "True"
      ]
     },
     "execution_count": 113,
     "metadata": {},
     "output_type": "execute_result"
    }
   ],
   "source": [
    "# in 연산자 사용\n",
    "# 키에 해당되는 인덱스 a가 시리즈에 포함되어 있는지 확인\n",
    "'a' in nums"
   ]
  },
  {
   "cell_type": "code",
   "execution_count": 114,
   "id": "81e8b7fe",
   "metadata": {},
   "outputs": [
    {
     "data": {
      "text/plain": [
       "서울    9631482\n",
       "부산    3393191\n",
       "인천    2632035\n",
       "대전    1490158\n",
       "dtype: int64"
      ]
     },
     "execution_count": 114,
     "metadata": {},
     "output_type": "execute_result"
    }
   ],
   "source": [
    "city"
   ]
  },
  {
   "cell_type": "code",
   "execution_count": 115,
   "id": "a08fcbca",
   "metadata": {},
   "outputs": [
    {
     "data": {
      "text/plain": [
       "<zip at 0x175d014b4c0>"
      ]
     },
     "execution_count": 115,
     "metadata": {},
     "output_type": "execute_result"
    }
   ],
   "source": [
    "city.items()"
   ]
  },
  {
   "cell_type": "code",
   "execution_count": 116,
   "id": "629b6444",
   "metadata": {},
   "outputs": [
    {
     "data": {
      "text/plain": [
       "[('서울', 9631482), ('부산', 3393191), ('인천', 2632035), ('대전', 1490158)]"
      ]
     },
     "execution_count": 116,
     "metadata": {},
     "output_type": "execute_result"
    }
   ],
   "source": [
    "list(city.items())"
   ]
  },
  {
   "cell_type": "code",
   "execution_count": 120,
   "id": "4aad5b95",
   "metadata": {},
   "outputs": [
    {
     "name": "stdout",
     "output_type": "stream",
     "text": [
      "서울 9631482\n",
      "부산 3393191\n",
      "인천 2632035\n",
      "대전 1490158\n"
     ]
    }
   ],
   "source": [
    "# key, value\n",
    "# index, value 추출\n",
    "for k, v in list(city.items()):\n",
    "    print(k, v)"
   ]
  },
  {
   "cell_type": "code",
   "execution_count": 121,
   "id": "9f2f4aec",
   "metadata": {},
   "outputs": [
    {
     "name": "stdout",
     "output_type": "stream",
     "text": [
      "서울\n",
      "부산\n",
      "인천\n",
      "대전\n"
     ]
    }
   ],
   "source": [
    "# key(index) 추출\n",
    "for k in city.keys():\n",
    "    print(k)"
   ]
  },
  {
   "cell_type": "code",
   "execution_count": 122,
   "id": "bccce77f",
   "metadata": {},
   "outputs": [
    {
     "name": "stdout",
     "output_type": "stream",
     "text": [
      "9631482\n",
      "3393191\n",
      "2632035\n",
      "1490158\n"
     ]
    }
   ],
   "source": [
    "# 값 추출\n",
    "for v in city.values:\n",
    "    print(v)"
   ]
  },
  {
   "cell_type": "code",
   "execution_count": null,
   "id": "e1675919-ae84-41fb-a31c-615a59c43f5b",
   "metadata": {},
   "outputs": [],
   "source": [
    "#################################################################################"
   ]
  },
  {
   "cell_type": "markdown",
   "id": "371da524",
   "metadata": {},
   "source": [
    "### 시리즈 속성 및 함수(메소드)      \n",
    "     - size 속성 : 원소 개수 반환  \n",
    "     - shape 속성 : 튜플형태로 shape반환  \n",
    "     - len() : 길이 (원소 개수 반환)\n",
    "     - unique() : 유일한 값만 ndarray로 반환  \n",
    "     - count() : NaN을 제외한 개수를 반환  \n",
    "     - mean(): NaN을 제외한 평균  \n",
    "     - value_counts() : NaN을 제외하고 각 값들의 빈도를 반환 "
   ]
  },
  {
   "cell_type": "code",
   "execution_count": 123,
   "id": "32fe57d1-5161-419b-a84a-cb7da13ffc21",
   "metadata": {},
   "outputs": [
    {
     "data": {
      "text/plain": [
       "0     1.0\n",
       "1     1.0\n",
       "2     2.0\n",
       "3     1.0\n",
       "4     2.0\n",
       "5     NaN\n",
       "6     2.0\n",
       "7     2.0\n",
       "8     1.0\n",
       "9     1.0\n",
       "10    3.0\n",
       "11    3.0\n",
       "12    4.0\n",
       "13    5.0\n",
       "14    5.0\n",
       "15    7.0\n",
       "16    NaN\n",
       "dtype: float64"
      ]
     },
     "execution_count": 123,
     "metadata": {},
     "output_type": "execute_result"
    }
   ],
   "source": [
    "s5 = pd.Series([1, 1, 2, 1, 2, np.nan, 2, 2, 1, 1, 3, 3, 4, 5, 5, 7, np.NaN])\n",
    "s5"
   ]
  },
  {
   "cell_type": "code",
   "execution_count": 124,
   "id": "20468949",
   "metadata": {},
   "outputs": [
    {
     "data": {
      "text/plain": [
       "17"
      ]
     },
     "execution_count": 124,
     "metadata": {},
     "output_type": "execute_result"
    },
    {
     "data": {
      "text/plain": [
       "17"
      ]
     },
     "execution_count": 124,
     "metadata": {},
     "output_type": "execute_result"
    }
   ],
   "source": [
    "# 길이 (원소의 개수)\n",
    "len(s5)\n",
    "s5.size"
   ]
  },
  {
   "cell_type": "code",
   "execution_count": 125,
   "id": "29318b6b",
   "metadata": {},
   "outputs": [
    {
     "data": {
      "text/plain": [
       "(17,)"
      ]
     },
     "execution_count": 125,
     "metadata": {},
     "output_type": "execute_result"
    }
   ],
   "source": [
    "s5.shape # 차원으로 표현하기 때문에 튜플 형태로 출력"
   ]
  },
  {
   "cell_type": "code",
   "execution_count": 126,
   "id": "243157f5",
   "metadata": {},
   "outputs": [
    {
     "data": {
      "text/plain": [
       "array([ 1.,  2., nan,  3.,  4.,  5.,  7.])"
      ]
     },
     "execution_count": 126,
     "metadata": {},
     "output_type": "execute_result"
    }
   ],
   "source": [
    "# unique() : 중복값 제거하고 유일한 값 출력\n",
    "s5.unique()"
   ]
  },
  {
   "cell_type": "code",
   "execution_count": 127,
   "id": "e71fd824",
   "metadata": {},
   "outputs": [
    {
     "data": {
      "text/plain": [
       "15"
      ]
     },
     "execution_count": 127,
     "metadata": {},
     "output_type": "execute_result"
    }
   ],
   "source": [
    "s5.count() # NaN 값 제외"
   ]
  },
  {
   "cell_type": "code",
   "execution_count": 128,
   "id": "ae60cddf",
   "metadata": {},
   "outputs": [
    {
     "data": {
      "text/plain": [
       "2.6666666666666665"
      ]
     },
     "execution_count": 128,
     "metadata": {},
     "output_type": "execute_result"
    }
   ],
   "source": [
    "s5.mean() # 평균 , NaN 값 제외"
   ]
  },
  {
   "cell_type": "code",
   "execution_count": 130,
   "id": "1b3f6be9",
   "metadata": {},
   "outputs": [
    {
     "data": {
      "text/plain": [
       "1.0    5\n",
       "2.0    4\n",
       "3.0    2\n",
       "5.0    2\n",
       "4.0    1\n",
       "7.0    1\n",
       "Name: count, dtype: int64"
      ]
     },
     "execution_count": 130,
     "metadata": {},
     "output_type": "execute_result"
    }
   ],
   "source": [
    "s5.value_counts()\n",
    "# 각 원소에 대해 동일한 값의 원소끼리 그룹핑하여 개수를 세서 반환\n",
    "# NaN 제외"
   ]
  },
  {
   "cell_type": "code",
   "execution_count": 133,
   "id": "84b4b4fc",
   "metadata": {},
   "outputs": [
    {
     "data": {
      "text/plain": [
       "a    1\n",
       "b    2\n",
       "c    3\n",
       "a    4\n",
       "a    5\n",
       "dtype: int64"
      ]
     },
     "execution_count": 133,
     "metadata": {},
     "output_type": "execute_result"
    }
   ],
   "source": [
    "# 인덱스가 중복인 경우\n",
    "s = pd.Series([1,2,3,4,5], index=['a','b','c','a','a'])\n",
    "s"
   ]
  },
  {
   "cell_type": "code",
   "execution_count": 135,
   "id": "a30172b5",
   "metadata": {},
   "outputs": [
    {
     "data": {
      "text/plain": [
       "Index(['a', 'b', 'c'], dtype='object')"
      ]
     },
     "execution_count": 135,
     "metadata": {},
     "output_type": "execute_result"
    }
   ],
   "source": [
    "s.index.unique()"
   ]
  },
  {
   "cell_type": "code",
   "execution_count": 134,
   "id": "b8f4fc15",
   "metadata": {},
   "outputs": [
    {
     "data": {
      "text/plain": [
       "a    1\n",
       "a    4\n",
       "a    5\n",
       "dtype: int64"
      ]
     },
     "execution_count": 134,
     "metadata": {},
     "output_type": "execute_result"
    }
   ],
   "source": [
    "s['a']"
   ]
  },
  {
   "cell_type": "code",
   "execution_count": null,
   "id": "6f146af8",
   "metadata": {},
   "outputs": [],
   "source": []
  },
  {
   "cell_type": "code",
   "execution_count": null,
   "id": "f651da17",
   "metadata": {},
   "outputs": [],
   "source": []
  }
 ],
 "metadata": {
  "kernelspec": {
   "display_name": "Python 3 (ipykernel)",
   "language": "python",
   "name": "python3"
  },
  "language_info": {
   "codemirror_mode": {
    "name": "ipython",
    "version": 3
   },
   "file_extension": ".py",
   "mimetype": "text/x-python",
   "name": "python",
   "nbconvert_exporter": "python",
   "pygments_lexer": "ipython3",
   "version": "3.11.5"
  }
 },
 "nbformat": 4,
 "nbformat_minor": 5
}
