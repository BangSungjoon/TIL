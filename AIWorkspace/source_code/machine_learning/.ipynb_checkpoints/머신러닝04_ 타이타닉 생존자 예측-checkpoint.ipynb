{
 "cells": [
  {
   "cell_type": "markdown",
   "id": "ca13a5cc",
   "metadata": {},
   "source": [
    "# 사이킷런으로 수행하는 타이타닉 생존자 예측"
   ]
  },
  {
   "cell_type": "markdown",
   "id": "198b719d",
   "metadata": {},
   "source": [
    "### 타이타닉 생존자 예측 모델\n",
    "- 사용 데이터 세트 : 타이타닉 탑승자 데이터 세트  \n",
    "- 데이터 세트 분리 : 학습용 데이터 세트 80%, 테스트용(평가용) 데이터 세트 20%  \n",
    "- 사용하는 ML 알고리즘  \n",
    "    - 의사결정 트리 DecisionTreeClassifier\n",
    "    - 랜덤 포레스트 : RandomForestClassifier\n",
    "    - 로지스틱 회귀(분류): LogisticRegression  \n",
    "- 모델 평가 : 예측 성능 평가 - 정확도  "
   ]
  },
  {
   "cell_type": "markdown",
   "id": "7d0f024a",
   "metadata": {},
   "source": [
    "캐글에서 제공하는 타이타틱 탑승자 데이터 기반으로\n",
    "생존자 예측을 사이킷런으로 수행\n",
    "\n",
    "타이타닉 생존자 데이터\n",
    "- 머신러닝에 입문하는 데이터 분석가/과학자를 위한 기초 예제로 제공\n",
    "- 많은 캐글 이용자가 자신의 방법으로 타이타닉 생존자 예측을 수행하고\n",
    "- 수행 방법을 캐글에 공유\n",
    "\n",
    "캐글 : 데이터 분석 오픈 포탈  \n",
    "    - 세계적인 ML 기반 분석 대회를 온라인 상에서 주관\n",
    "    "
   ]
  },
  {
   "cell_type": "markdown",
   "id": "b6d61e62",
   "metadata": {},
   "source": [
    "### 타이타닉 생존자 예측 프로세스  \n",
    "---\n",
    "- 데이터 정보 확인\n",
    "    - (1) 데이터 세트 로드 및 확인 : 타이타닉 탑승자 데이터 세트 \n",
    "- 데이터 가공\n",
    "    - (2) 데이터 가공 (전처리)   \n",
    "    - 생존자 파악  \n",
    "- 생존자 예측 \n",
    "    - (3) 데이터 세트 준비 : 피처 데이터 세트 / 레이블 데이터 세트  \n",
    "        - 결정값 데이터 세트 만들기 \n",
    "    - (4) 데이터 세트 분리 : 학습 데이터 / 테스트 데이터 세트  \n",
    "    - (5) 모델 학습 / 예측 / 평가   \n",
    "        - 3개의 ML 알고리즘을 적용하여 모델 학습  \n",
    "        - 생존자 예측   \n",
    "        - 예측 정확도 평가  \n",
    "            - 예측된 결과값과 테스트 데이터의 실제 결과값과 비교해서 ML 모델 성능 평가  "
   ]
  },
  {
   "cell_type": "markdown",
   "id": "dff831a2",
   "metadata": {},
   "source": [
    "### (1) 데이터 세트 로드 및 확인 : 타이타닉 탑승자 데이터 세트"
   ]
  },
  {
   "cell_type": "markdown",
   "id": "441ed9b4",
   "metadata": {},
   "source": [
    "데이터 다운로드\n",
    "https://www.kaggle.com/c/titanic/data"
   ]
  },
  {
   "cell_type": "code",
   "execution_count": 1,
   "id": "f5bd38c0",
   "metadata": {},
   "outputs": [],
   "source": [
    "from IPython.core.interactiveshell import InteractiveShell\n",
    "InteractiveShell.ast_node_interactivity=\"all\""
   ]
  },
  {
   "cell_type": "markdown",
   "id": "6108019b",
   "metadata": {},
   "source": [
    "### 데이터 정보 확인"
   ]
  },
  {
   "cell_type": "code",
   "execution_count": 3,
   "id": "e1fce48e",
   "metadata": {},
   "outputs": [
    {
     "data": {
      "text/html": [
       "<div>\n",
       "<style scoped>\n",
       "    .dataframe tbody tr th:only-of-type {\n",
       "        vertical-align: middle;\n",
       "    }\n",
       "\n",
       "    .dataframe tbody tr th {\n",
       "        vertical-align: top;\n",
       "    }\n",
       "\n",
       "    .dataframe thead th {\n",
       "        text-align: right;\n",
       "    }\n",
       "</style>\n",
       "<table border=\"1\" class=\"dataframe\">\n",
       "  <thead>\n",
       "    <tr style=\"text-align: right;\">\n",
       "      <th></th>\n",
       "      <th>PassengerId</th>\n",
       "      <th>Survived</th>\n",
       "      <th>Pclass</th>\n",
       "      <th>Name</th>\n",
       "      <th>Sex</th>\n",
       "      <th>Age</th>\n",
       "      <th>SibSp</th>\n",
       "      <th>Parch</th>\n",
       "      <th>Ticket</th>\n",
       "      <th>Fare</th>\n",
       "      <th>Cabin</th>\n",
       "      <th>Embarked</th>\n",
       "    </tr>\n",
       "  </thead>\n",
       "  <tbody>\n",
       "    <tr>\n",
       "      <th>0</th>\n",
       "      <td>1</td>\n",
       "      <td>0</td>\n",
       "      <td>3</td>\n",
       "      <td>Braund, Mr. Owen Harris</td>\n",
       "      <td>male</td>\n",
       "      <td>22.0</td>\n",
       "      <td>1</td>\n",
       "      <td>0</td>\n",
       "      <td>A/5 21171</td>\n",
       "      <td>7.2500</td>\n",
       "      <td>NaN</td>\n",
       "      <td>S</td>\n",
       "    </tr>\n",
       "    <tr>\n",
       "      <th>1</th>\n",
       "      <td>2</td>\n",
       "      <td>1</td>\n",
       "      <td>1</td>\n",
       "      <td>Cumings, Mrs. John Bradley (Florence Briggs Th...</td>\n",
       "      <td>female</td>\n",
       "      <td>38.0</td>\n",
       "      <td>1</td>\n",
       "      <td>0</td>\n",
       "      <td>PC 17599</td>\n",
       "      <td>71.2833</td>\n",
       "      <td>C85</td>\n",
       "      <td>C</td>\n",
       "    </tr>\n",
       "    <tr>\n",
       "      <th>2</th>\n",
       "      <td>3</td>\n",
       "      <td>1</td>\n",
       "      <td>3</td>\n",
       "      <td>Heikkinen, Miss. Laina</td>\n",
       "      <td>female</td>\n",
       "      <td>26.0</td>\n",
       "      <td>0</td>\n",
       "      <td>0</td>\n",
       "      <td>STON/O2. 3101282</td>\n",
       "      <td>7.9250</td>\n",
       "      <td>NaN</td>\n",
       "      <td>S</td>\n",
       "    </tr>\n",
       "  </tbody>\n",
       "</table>\n",
       "</div>"
      ],
      "text/plain": [
       "   PassengerId  Survived  Pclass   \n",
       "0            1         0       3  \\\n",
       "1            2         1       1   \n",
       "2            3         1       3   \n",
       "\n",
       "                                                Name     Sex   Age  SibSp   \n",
       "0                            Braund, Mr. Owen Harris    male  22.0      1  \\\n",
       "1  Cumings, Mrs. John Bradley (Florence Briggs Th...  female  38.0      1   \n",
       "2                             Heikkinen, Miss. Laina  female  26.0      0   \n",
       "\n",
       "   Parch            Ticket     Fare Cabin Embarked  \n",
       "0      0         A/5 21171   7.2500   NaN        S  \n",
       "1      0          PC 17599  71.2833   C85        C  \n",
       "2      0  STON/O2. 3101282   7.9250   NaN        S  "
      ]
     },
     "execution_count": 3,
     "metadata": {},
     "output_type": "execute_result"
    }
   ],
   "source": [
    "import numpy as np\n",
    "import pandas as pd\n",
    "import matplotlib.pyplot as plt\n",
    "import seaborn as sns\n",
    "%matplotlib inline\n",
    "\n",
    "titanic_df = pd.read_csv('../../data/titanic_train.csv')\n",
    "titanic_df.head(3)"
   ]
  },
  {
   "cell_type": "markdown",
   "id": "3f6598d9",
   "metadata": {},
   "source": [
    "- Passengerid: 탑승자 데이터 일련번호\n",
    "- Survived: 생존 여부, 0 = 사망, 1 = 생존\n",
    "- Pclass: 티켓의 선실 등급, 1 = 일등석, 2 = 이등석, 3 = 삼등석\n",
    "- Sex: 탑승자 성별\n",
    "- Name: 탑승자 이름\n",
    "- Age: 탑승자 나이\n",
    "- Sibsp: 같이 탑승한 형제자매 또는 배우자 인원수\n",
    "- Parch: 같이 탑승한 부모님 또는 어린이 인원수\n",
    "- Ticket: 티켓 번호\n",
    "- Fare: 요금\n",
    "- Ccabin: 선실 번호\n",
    "- Embarked: 중간 정착 항구 C = Cherbourg, Q = Queenstown, S = Southampton"
   ]
  },
  {
   "cell_type": "code",
   "execution_count": 4,
   "id": "884774a5",
   "metadata": {},
   "outputs": [
    {
     "name": "stdout",
     "output_type": "stream",
     "text": [
      "<class 'pandas.core.frame.DataFrame'>\n",
      "RangeIndex: 891 entries, 0 to 890\n",
      "Data columns (total 12 columns):\n",
      " #   Column       Non-Null Count  Dtype  \n",
      "---  ------       --------------  -----  \n",
      " 0   PassengerId  891 non-null    int64  \n",
      " 1   Survived     891 non-null    int64  \n",
      " 2   Pclass       891 non-null    int64  \n",
      " 3   Name         891 non-null    object \n",
      " 4   Sex          891 non-null    object \n",
      " 5   Age          714 non-null    float64\n",
      " 6   SibSp        891 non-null    int64  \n",
      " 7   Parch        891 non-null    int64  \n",
      " 8   Ticket       891 non-null    object \n",
      " 9   Fare         891 non-null    float64\n",
      " 10  Cabin        204 non-null    object \n",
      " 11  Embarked     889 non-null    object \n",
      "dtypes: float64(2), int64(5), object(5)\n",
      "memory usage: 83.7+ KB\n"
     ]
    }
   ],
   "source": [
    "# 데이터 확인 : \n",
    "# 데이터 타입 / Null 값 확인\n",
    "titanic_df.info()"
   ]
  },
  {
   "cell_type": "markdown",
   "id": "7d2d6fdb",
   "metadata": {},
   "source": [
    "데이터 정보 확인 결과\n",
    "- RangeIndex: 891 entries, 0 to 890 : 전체 행 (891개 행)\n",
    "- Data columns (total 12 columns): 칼럼 수 (12개)\n",
    "- float64 : 2개\n",
    "- int64 : 5개\n",
    "- object(string) : 5개\n",
    " - (판다스는 넘파이 기반으로 만들어졌는데\n",
    " - 넘파이의 String 타입의 길이 제한이 있기 때문에 \n",
    " - 이에 대한 구분을 위해 object 타입으로 명기)\n",
    "- Age : 714개 (Null값(NaN): 177개)\n",
    "- Cabin : 204개 (Null값(NaN): 687개)\n",
    "- Embarked : 889개 (Null값(NaN): 2개)"
   ]
  },
  {
   "cell_type": "code",
   "execution_count": 5,
   "id": "24a5fba0",
   "metadata": {},
   "outputs": [
    {
     "data": {
      "text/plain": [
       "177"
      ]
     },
     "execution_count": 5,
     "metadata": {},
     "output_type": "execute_result"
    },
    {
     "data": {
      "text/plain": [
       "687"
      ]
     },
     "execution_count": 5,
     "metadata": {},
     "output_type": "execute_result"
    },
    {
     "data": {
      "text/plain": [
       "2"
      ]
     },
     "execution_count": 5,
     "metadata": {},
     "output_type": "execute_result"
    }
   ],
   "source": [
    "# Null 값 개수 확인\n",
    "titanic_df['Age'].isnull().sum()\n",
    "titanic_df['Cabin'].isnull().sum()\n",
    "titanic_df['Embarked'].isnull().sum()"
   ]
  },
  {
   "cell_type": "markdown",
   "id": "8858b050",
   "metadata": {},
   "source": [
    "### (2) 데이터 가공 (전처리) \n",
    "- Null 값 처리  \n",
    "- Cabin 값 조정  \n",
    "- 생존자 파악 (성별 / 객실등급별 / 연령별)  \n",
    "- 레이블 인코딩  \n",
    "    - 문자열 카테고리 피처를 숫자형 카테고리 피처로 변환\n",
    "- 모든 가공 내역을 함수로 작성  "
   ]
  },
  {
   "cell_type": "markdown",
   "id": "093fd5ef",
   "metadata": {},
   "source": [
    "Null 컬럼들에 대한 처리\n",
    "- 사이킷 머신러닝 알고리즘은 Null 값을 허용하지 않으므로\n",
    "- Null 값을 어떻게 처리할지 결정\n",
    "    - DataFrame의 fillna() 메서드를 사용해서\n",
    "    - Null 값을 평균 또는 고정값으로 변경\n",
    "    - Age : 평균 나이로 변경\n",
    "    - 나머지 컬럼 : 'N'으로 변경"
   ]
  },
  {
   "cell_type": "code",
   "execution_count": 6,
   "id": "584f9fda",
   "metadata": {},
   "outputs": [
    {
     "data": {
      "text/plain": [
       "0"
      ]
     },
     "execution_count": 6,
     "metadata": {},
     "output_type": "execute_result"
    },
    {
     "data": {
      "text/plain": [
       "0"
      ]
     },
     "execution_count": 6,
     "metadata": {},
     "output_type": "execute_result"
    },
    {
     "data": {
      "text/plain": [
       "0"
      ]
     },
     "execution_count": 6,
     "metadata": {},
     "output_type": "execute_result"
    }
   ],
   "source": [
    "# Null 처리\n",
    "titanic_df['Age'].fillna(titanic_df['Age'].mean(), inplace=True)\n",
    "titanic_df['Cabin'].fillna('N', inplace=True)\n",
    "titanic_df['Embarked'].fillna('N', inplace=True)\n",
    "\n",
    "# 모든 컬럼의 Null 값을 합산해서 Null 값이 없는지 확인\n",
    "titanic_df['Age'].isnull().sum()\n",
    "titanic_df['Cabin'].isnull().sum()\n",
    "titanic_df['Embarked'].isnull().sum()"
   ]
  },
  {
   "cell_type": "code",
   "execution_count": 7,
   "id": "8b900c70",
   "metadata": {},
   "outputs": [
    {
     "data": {
      "text/plain": [
       "Sex\n",
       "male      577\n",
       "female    314\n",
       "Name: count, dtype: int64"
      ]
     },
     "execution_count": 7,
     "metadata": {},
     "output_type": "execute_result"
    },
    {
     "data": {
      "text/plain": [
       "Cabin\n",
       "N              687\n",
       "C23 C25 C27      4\n",
       "G6               4\n",
       "B96 B98          4\n",
       "C22 C26          3\n",
       "              ... \n",
       "E34              1\n",
       "C7               1\n",
       "C54              1\n",
       "E36              1\n",
       "C148             1\n",
       "Name: count, Length: 148, dtype: int64"
      ]
     },
     "execution_count": 7,
     "metadata": {},
     "output_type": "execute_result"
    },
    {
     "data": {
      "text/plain": [
       "Embarked\n",
       "S    644\n",
       "C    168\n",
       "Q     77\n",
       "N      2\n",
       "Name: count, dtype: int64"
      ]
     },
     "execution_count": 7,
     "metadata": {},
     "output_type": "execute_result"
    }
   ],
   "source": [
    "# 문자열 피처(Sex, Cabin, Embarked) 값 분류 확인 : value_counts()\n",
    "titanic_df['Sex'].value_counts()\n",
    "titanic_df['Cabin'].value_counts()\n",
    "titanic_df['Embarked'].value_counts()"
   ]
  },
  {
   "cell_type": "code",
   "execution_count": 7,
   "id": "ecc01738",
   "metadata": {},
   "outputs": [],
   "source": [
    "# 문자열 피처 (Sex, Cabin, Embarked) 값 분류 설명\n",
    "# Sex,Embarked 값은 별 문제 없음\n",
    "# Cabin 값 분포 중에서 'C23 C25 C27' : '선실등급+번호'로 표기\n",
    "# - 선실 등급만(첫 번째 문자)만 추출 필요 : B C E ..."
   ]
  },
  {
   "cell_type": "code",
   "execution_count": 8,
   "id": "dfa28ae6",
   "metadata": {},
   "outputs": [
    {
     "data": {
      "text/plain": [
       "array(['N', 'C85', 'C123', 'E46', 'G6', 'C103', 'D56', 'A6',\n",
       "       'C23 C25 C27', 'B78', 'D33', 'B30', 'C52', 'B28', 'C83', 'F33',\n",
       "       'F G73', 'E31', 'A5', 'D10 D12', 'D26', 'C110', 'B58 B60', 'E101',\n",
       "       'F E69', 'D47', 'B86', 'F2', 'C2', 'E33', 'B19', 'A7', 'C49', 'F4',\n",
       "       'A32', 'B4', 'B80', 'A31', 'D36', 'D15', 'C93', 'C78', 'D35',\n",
       "       'C87', 'B77', 'E67', 'B94', 'C125', 'C99', 'C118', 'D7', 'A19',\n",
       "       'B49', 'D', 'C22 C26', 'C106', 'C65', 'E36', 'C54',\n",
       "       'B57 B59 B63 B66', 'C7', 'E34', 'C32', 'B18', 'C124', 'C91', 'E40',\n",
       "       'T', 'C128', 'D37', 'B35', 'E50', 'C82', 'B96 B98', 'E10', 'E44',\n",
       "       'A34', 'C104', 'C111', 'C92', 'E38', 'D21', 'E12', 'E63', 'A14',\n",
       "       'B37', 'C30', 'D20', 'B79', 'E25', 'D46', 'B73', 'C95', 'B38',\n",
       "       'B39', 'B22', 'C86', 'C70', 'A16', 'C101', 'C68', 'A10', 'E68',\n",
       "       'B41', 'A20', 'D19', 'D50', 'D9', 'A23', 'B50', 'A26', 'D48',\n",
       "       'E58', 'C126', 'B71', 'B51 B53 B55', 'D49', 'B5', 'B20', 'F G63',\n",
       "       'C62 C64', 'E24', 'C90', 'C45', 'E8', 'B101', 'D45', 'C46', 'D30',\n",
       "       'E121', 'D11', 'E77', 'F38', 'B3', 'D6', 'B82 B84', 'D17', 'A36',\n",
       "       'B102', 'B69', 'E49', 'C47', 'D28', 'E17', 'A24', 'C50', 'B42',\n",
       "       'C148'], dtype=object)"
      ]
     },
     "execution_count": 8,
     "metadata": {},
     "output_type": "execute_result"
    }
   ],
   "source": [
    "titanic_df['Cabin'].unique()"
   ]
  },
  {
   "cell_type": "markdown",
   "id": "ec9dc6ba",
   "metadata": {},
   "source": [
    "### 생존자 파악 "
   ]
  },
  {
   "cell_type": "markdown",
   "id": "91e57f0b",
   "metadata": {},
   "source": [
    "머신러닝 알고리즘 적용해서 예측 수행하기 전에 데이터 탐색\n",
    "- 어떤 유형의 승객이 생존 확률이 높았는지 확인\n",
    "- 성별/부(객실 등급)/연령이 생존 확률에 어떤 영향을 미쳤는지 확인"
   ]
  },
  {
   "cell_type": "markdown",
   "id": "537a97e5",
   "metadata": {},
   "source": [
    "#### 성별에 따른 생존여부 확인"
   ]
  },
  {
   "cell_type": "code",
   "execution_count": null,
   "id": "2d35ab0a",
   "metadata": {},
   "outputs": [],
   "source": []
  },
  {
   "cell_type": "markdown",
   "id": "b2804b44",
   "metadata": {},
   "source": [
    "#### 객실 등급별/성별 생존여부 확인"
   ]
  },
  {
   "cell_type": "code",
   "execution_count": null,
   "id": "547914df",
   "metadata": {},
   "outputs": [],
   "source": []
  },
  {
   "cell_type": "markdown",
   "id": "701b7c25",
   "metadata": {},
   "source": [
    "#### 연령대별 생존여부 확인"
   ]
  },
  {
   "cell_type": "code",
   "execution_count": null,
   "id": "94b33848",
   "metadata": {},
   "outputs": [],
   "source": []
  },
  {
   "cell_type": "code",
   "execution_count": null,
   "id": "bdeb9598",
   "metadata": {},
   "outputs": [],
   "source": []
  },
  {
   "cell_type": "markdown",
   "id": "1ba71978",
   "metadata": {},
   "source": [
    "### 인코딩\n",
    "- 문자열 카테고리 피처를 숫자형 카테고리 피처로 변환\n",
    "- 레이블 인코딩 수행 \n",
    "- 트리 계열의 머신러닝 알고리즘은 숫자의 가중치 특성을 반영하지 않으므로\n",
    "  - 레이블 인코딩 적용 시 문제 없음  "
   ]
  },
  {
   "cell_type": "code",
   "execution_count": null,
   "id": "15a4c0db",
   "metadata": {},
   "outputs": [],
   "source": []
  },
  {
   "cell_type": "markdown",
   "id": "5f69373a",
   "metadata": {},
   "source": [
    "### 지금까지 가공한 내용을 정리하고 함수로 작성 (나중에 재사용 가능)"
   ]
  },
  {
   "cell_type": "code",
   "execution_count": null,
   "id": "9755f595",
   "metadata": {},
   "outputs": [],
   "source": []
  },
  {
   "cell_type": "markdown",
   "id": "0837ad6a",
   "metadata": {},
   "source": [
    "### (3) 데이터 세트 준비 : 피처 데이터 세트 / 레이블 데이터 세트"
   ]
  },
  {
   "cell_type": "code",
   "execution_count": null,
   "id": "6a03a48b",
   "metadata": {},
   "outputs": [],
   "source": []
  },
  {
   "cell_type": "markdown",
   "id": "28e41709",
   "metadata": {},
   "source": [
    "### (4) 데이터 세트 분리 : 학습 데이터 / 테스트 데이터 세트"
   ]
  },
  {
   "cell_type": "code",
   "execution_count": null,
   "id": "1270c466",
   "metadata": {},
   "outputs": [],
   "source": []
  },
  {
   "cell_type": "markdown",
   "id": "8906608f",
   "metadata": {},
   "source": [
    "### (5) 모델 학습 / 예측 / 평가\n",
    "- 3개의 ML 알고리즘을 적용하여 모델 학습  \n",
    "    - 결정 트리 : DecisionTreeClassifier  \n",
    "    - 랜덤 포레스트 : RandomForestClassifier  \n",
    "    - 로지스틱 회귀(분류): LogisticRegression  \n",
    "- 생존자 예측   \n",
    "- 예측 정확도 평가  \n",
    "\t- 예측된 결과값과 테스트 데이터의 실제 결과값과 비교해서 ML 모델 성능 평가  "
   ]
  },
  {
   "cell_type": "markdown",
   "id": "1cac43d5",
   "metadata": {},
   "source": [
    "### 생존자 예측\n",
    "\n",
    "3개의 ML 알고리즘 수행\n",
    "- 결정 트리, 랜덤 포레스트, 로지스틱 회귀(분류)\n",
    "- 3개의 알고리즘으로 예측 수행\n",
    "\n",
    "사이킷런 클래스\n",
    "- 결정 트리 : DecisionTreeClassifier \n",
    "- 랜덤 포레스트 : RandomForestClassifier\n",
    "- 로지스틱 회귀(분류): LogisticRegression\n",
    "    \n",
    "train_test_split()으로 분리한 학습 데이터와 테스트 데이터를 기반으로\n",
    "- 머신러닝 모델을 학습하고(fit()), 예측 수행(predict())\n",
    "- 예측 성능평가 : 정확도 (accuracy_score() 사용)"
   ]
  },
  {
   "cell_type": "markdown",
   "id": "62e62345",
   "metadata": {},
   "source": [
    "### 예측 프로세스에 사용하는 ML 알고리즘\n",
    "\n",
    "결정 트리 알고리즘\n",
    "- 학습을 통해 데이터에 있는 규칙을 자동으로 찾아내\n",
    "- 트리 기반의 분류 규칙을 만드는 알고리즘\n",
    "\n",
    "랜덤 포레스트 알고리즘\n",
    "- 대표적인 앙상블 알고리즘\n",
    "- 같은 알고리즘으로 여러 개의 분류기를 만들어서\n",
    "- 보팅으로 최종 결정하는 알고리즘\n",
    "    - 보팅(Voting) : 여러 분류기가 투표를 통해 최종 예측 결과를 결정하는 방식  \n",
    "\n",
    "로지스틱 회귀 알고리즘\n",
    "- 선형 회귀 방식을 분류에 적용한 알고리즘\n",
    "- 선형 회귀 방식을 기반으로 하되\n",
    "- 시그모이드 함수를 이용해 분류 수행\n",
    "    -  시그모이드 함수 : S자 커브 형태  \n",
    "\n",
    "앙상블 학습 (Ensemble Learning)\n",
    "- 여러 개의 분류기를 사용해서 예측 결합함으로써  \n",
    "- 보다 정확한 최종 예측을 도출하는 기법  "
   ]
  },
  {
   "cell_type": "code",
   "execution_count": null,
   "id": "7e9ea244",
   "metadata": {},
   "outputs": [],
   "source": []
  },
  {
   "cell_type": "code",
   "execution_count": null,
   "id": "40e5fd68",
   "metadata": {},
   "outputs": [],
   "source": []
  }
 ],
 "metadata": {
  "kernelspec": {
   "display_name": "Python 3 (ipykernel)",
   "language": "python",
   "name": "python3"
  },
  "language_info": {
   "codemirror_mode": {
    "name": "ipython",
    "version": 3
   },
   "file_extension": ".py",
   "mimetype": "text/x-python",
   "name": "python",
   "nbconvert_exporter": "python",
   "pygments_lexer": "ipython3",
   "version": "3.11.5"
  }
 },
 "nbformat": 4,
 "nbformat_minor": 5
}
