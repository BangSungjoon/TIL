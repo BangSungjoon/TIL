{
 "cells": [
  {
   "cell_type": "markdown",
   "id": "cb64955a",
   "metadata": {},
   "source": [
    "# 첫 번째 머신러닝 모델"
   ]
  },
  {
   "cell_type": "markdown",
   "id": "fc28b312",
   "metadata": {},
   "source": [
    "- 먼저 머신러닝 모델리 전체 과정 확인\n",
    "- 사용하는 ML 알고리즘에 대한 상세 내용은 차후에 학습\n",
    "- 지금은 전체 과정만 고려\n",
    "- 큰 그림을 볼 것"
   ]
  },
  {
   "cell_type": "markdown",
   "id": "dc7476f8",
   "metadata": {},
   "source": [
    "예 : 상품 생산\n",
    "   - 여러 부품을 사용\n",
    "   - 일단 부품들의 내부 원리는 생각하지 않고\n",
    "   - 부품을 끼워 맞춰서\n",
    "   - 상품을 생산하는 것에만 집중"
   ]
  },
  {
   "cell_type": "markdown",
   "id": "f166553c",
   "metadata": {},
   "source": [
    "## 사이킷런을 이용하여 붓꽃(Iris) 데이터 품종 예측하기"
   ]
  },
  {
   "cell_type": "markdown",
   "id": "15bc18fe",
   "metadata": {},
   "source": [
    "### 첫 번째 머신러닝 모델\n",
    "- 사용 데이터 세트 : 붓꽃 데이터 세트  \n",
    "- 데이터 세트 분리 : 학습용 데이터 세트 70%, 테스트용(평가용) 데이터 세트 30%  \n",
    "- 사용하는 ML 알고리즘 : 의사결정 트리 알고리즘   \n",
    "- 모델 평가 : 예측 성능 평가 - 정확도   "
   ]
  },
  {
   "cell_type": "markdown",
   "id": "60e4dc89",
   "metadata": {},
   "source": [
    "### 붓꽃 데이터 분류\n",
    "\n",
    "분류 (Classification)\n",
    "- 대표적인 지도학습 방법\n",
    "- 정답을 주고 학습시킽 후 새로운 입력값에 대한 예측 수행\n",
    "- 학습을 위한 다양한 피처(속성)와 분류 결정값인 레이블(품종) 데이터로 모델을 학습한 후\n",
    "- 별도의 테스트 데이터 세트에서 레이블(품종) 예측\n",
    "- 즉, 학습 데이터로 학습한 후, 테스트 데이터의 데이터를 보고 어떤 품종인지 예측하는 것\n",
    "\n",
    "---\n",
    "- 학습 데이터 : 학습용 데이터 세트  \n",
    "- 테스트 데이터 : 머신러닝 모델의 예측 성능을 평가하기 위해 별도로 주어진 데이터 세트  \n",
    "    - 평가용 데이터 세트"
   ]
  },
  {
   "cell_type": "markdown",
   "id": "b518c23e",
   "metadata": {},
   "source": [
    "### 사이킷런을 이용한 붓곷 데이터 분류\n",
    "- 붓꽃 데이터 세트를 이용해서\n",
    "- 의사결정 트리 알고리즘 기반의 의사결정 트리 분류 모듈 DecisionTreeClassifier를 사용하여  \n",
    "- 붓꽃의 품종을 분류 (Classification)"
   ]
  },
  {
   "cell_type": "markdown",
   "id": "87b9964c",
   "metadata": {},
   "source": [
    "### 붓꽃 데이터 세트\n",
    "- sklearn.datasets에 들어 있음 (내장 데이터 세트)\n",
    "- load_iris() 통해 로드해서 사용\n",
    "- 머신러닝 각 분에서 알고리즘을 측정하기 위한 기본 자료로 다양하게 활용\n",
    "- 4가지 속성(피처)를 가진 3가지 붓꽃 폼종의 각 50개 샘플 포함\n",
    "\n",
    "### 3가지 붓꽃 품종\n",
    "- Setosa\n",
    "- Verisicolor\n",
    "- Virginica"
   ]
  },
  {
   "cell_type": "markdown",
   "id": "a38c98ba",
   "metadata": {},
   "source": [
    "### 붓꽃의 4가지 속성 (피처 : Feature)\n",
    "- 꽃받침 길이 : Sepal Length\n",
    "- 꽃받침 너비 : Sepal Width\n",
    "- 곷잎의 길이 : Petal Length\n",
    "- 꽃잎의 너비 : Petal Width"
   ]
  },
  {
   "cell_type": "markdown",
   "id": "d4262d92",
   "metadata": {},
   "source": [
    "### 용어 정리\n",
    "\n",
    "- 피처 (Feature) : 데이터 세트 속성  \n",
    "    - feature_names : sepal length, sepal width, petal length, petal width  \n",
    "        \n",
    "### 레이블 (Label)\n",
    "- 품종(setosa, versicolr, virginica)에 대한 결정값 (주어진 정답)\n",
    "- 타깃값(target) : 예측해야 할 값\n",
    "- target (숫자) : 0, 1, 2\n",
    "- target_names : setosa, versicolr, virginica\n",
    "- 레이블 = 결정값(정답) = 타깃값 "
   ]
  },
  {
   "cell_type": "markdown",
   "id": "714a9ab4",
   "metadata": {},
   "source": [
    "## 사이킷런을 이용하여 붓꽃 데이터 품종 예측 예제 "
   ]
  },
  {
   "cell_type": "markdown",
   "id": "c973f43a",
   "metadata": {},
   "source": [
    "### 붓꽃 데이터 예측 프로세스  \n",
    "- (1) 데이터 세트 준비 : 붓꽃 데이터 세트  \n",
    "- (2) 데이터 세트 분리 : 학습 데이터 / 테스트 데이터 세트    \n",
    "- (3) 모델 학습 : 학습 데이터 세트 기반으로 ML 알고리즘을 적용하여 모델 학습  \n",
    "- (4) 예측 수행 : 학습된 ML 모델을 이용해서, 테스트 데이터의 분류 예측 (즉, 붓꽃 품종 예측)  \n",
    "- (5) 평가 : 예측 정확도 평가  \n",
    "\t-  예측된 결과값과 테스트 데이터의 실제 결과값과 비교해서 ML 모델 성능 평가"
   ]
  },
  {
   "cell_type": "code",
   "execution_count": 1,
   "id": "dbdd968e",
   "metadata": {},
   "outputs": [],
   "source": [
    "from IPython.core.interactiveshell import InteractiveShell\n",
    "InteractiveShell.ast_node_interactivity=\"all\""
   ]
  },
  {
   "cell_type": "code",
   "execution_count": 2,
   "id": "9fd8c7de",
   "metadata": {},
   "outputs": [
    {
     "name": "stdout",
     "output_type": "stream",
     "text": [
      "1.3.0\n"
     ]
    }
   ],
   "source": [
    "# 사이킷런 버전 확인\n",
    "import sklearn\n",
    "print(sklearn.__version__)"
   ]
  },
  {
   "cell_type": "markdown",
   "id": "0943a169",
   "metadata": {},
   "source": [
    "### 붓꽃 예측을 위한 사이킷런 필요 모듈 로딩"
   ]
  },
  {
   "cell_type": "code",
   "execution_count": 3,
   "id": "65fd081c",
   "metadata": {},
   "outputs": [],
   "source": [
    "from sklearn.datasets import load_iris\n",
    "from sklearn.tree import DecisionTreeClassifier\n",
    "from sklearn.model_selection import train_test_split"
   ]
  },
  {
   "cell_type": "markdown",
   "id": "01b52966",
   "metadata": {},
   "source": [
    "### 사이킷런 패키지 모듈\n",
    "* 명명규칙 : 모듈명은 sklearn으로 시작\n",
    "* sklearn.datasets : 사이킷런에서 자체적으로 제공하는 데이터 세트를 생성하는 모듈 모음\n",
    "* sklearn.tree : 트리 기반 ML 알고리즘을 구현한 클래스 모음\n",
    "* sklearn.model_selection : 학습 데이터와 검증 데이터, 예측 데이터로 데이터를 분리하거나  \n",
    "    최적의 하이퍼 파라미터로 평가하기 위한 다양한 모듈의 모음\n",
    "    - 하이퍼 파라미터 : 머신러닝 알고리즘별로 최적의 학습을 위해 직접 입력하는 파라미터\n",
    "        - 머신러닝 알고리즘의 성능 튜닝에 사용\n"
   ]
  },
  {
   "cell_type": "markdown",
   "id": "4529329e",
   "metadata": {},
   "source": [
    "### 붓꽃 데이터 예측 프로세스에서 사용하는 함수 및 클래스\n",
    "- load_iris() : 붓꽃 데이터 세트\n",
    "- DecisionTreeClassifier 클래스 : ML 알고리즘에서 사용하는 의사결정 트리 알고리즘\n",
    "    - 의사결정 트리 분류 모듈 DecisionTreeClassifier \n",
    "- train_test_split() : 데이터 세트를 학습 데이터와 테스트 데이터 세트로 분리"
   ]
  },
  {
   "cell_type": "markdown",
   "id": "6947e6c2",
   "metadata": {},
   "source": [
    "### 1) 데이터 세트 준비 : 붓꽃 데이터 세트 로드"
   ]
  },
  {
   "cell_type": "code",
   "execution_count": 4,
   "id": "709598e2",
   "metadata": {},
   "outputs": [],
   "source": [
    "import pandas as pd"
   ]
  },
  {
   "cell_type": "code",
   "execution_count": 5,
   "id": "bde04782",
   "metadata": {},
   "outputs": [],
   "source": [
    "# 붓꽃 데이터 세트 로딩\n"
   ]
  },
  {
   "cell_type": "code",
   "execution_count": 6,
   "id": "c6ecd069",
   "metadata": {},
   "outputs": [],
   "source": [
    "# iris.data : iris 데이터 세트에서 피처 데이터\n"
   ]
  },
  {
   "cell_type": "code",
   "execution_count": null,
   "id": "2810f0e0",
   "metadata": {},
   "outputs": [],
   "source": []
  },
  {
   "cell_type": "code",
   "execution_count": 7,
   "id": "8ef39917",
   "metadata": {
    "scrolled": true
   },
   "outputs": [],
   "source": [
    "# iris.target : 붓꽃 데이터 세트에서\n",
    "# 레이블(결정 값) 데이터 (숫자)\n",
    "# 레이블 = 결정값 = 정답 (품종을 숫자로 표현)\n",
    "\n",
    "\n",
    "# 0: setosa\n",
    "# 1: versicolor\n",
    "# 2 : virginica"
   ]
  },
  {
   "cell_type": "code",
   "execution_count": null,
   "id": "5bb2db19",
   "metadata": {},
   "outputs": [],
   "source": []
  },
  {
   "cell_type": "code",
   "execution_count": 8,
   "id": "75bc81c6",
   "metadata": {},
   "outputs": [],
   "source": [
    "# 붓꽃 데이터 DataFrame으로 변환\n",
    "\n",
    "\n",
    "# sepal : 꽃받침\n",
    "# petal : 꽃잎"
   ]
  },
  {
   "cell_type": "code",
   "execution_count": null,
   "id": "53bba149",
   "metadata": {},
   "outputs": [],
   "source": []
  },
  {
   "cell_type": "markdown",
   "id": "f33af047",
   "metadata": {},
   "source": [
    "### (2) 데이터 세트 분리 : 학습 데이터 / 테스트 데이터 세트  "
   ]
  },
  {
   "cell_type": "markdown",
   "id": "02f53085",
   "metadata": {},
   "source": [
    "### train_test_split() 함수 사용\n",
    "- train_test_split(피처 데이터 세트, 레이블 데이터 세트, 테스트 데이터 세트 비율, 난수 발생값)\n",
    "- train_test_split(iris_data, iris_label, test_size=0.3, random_state=11)\n",
    "- 피처 데이터 세트 : 피처(feature)만으로 된 데이터 [5.1, 3.5, 1.4, 0.2],...\n",
    "- 레이블 데이터 세트 : 레이블(결정 값) 데이터 [0 0 0 ... 1 1 1 .... 2 2 2]\n",
    "- 테스트 데이터 세트 비율 : 전체 데이터 세트 중 테스트 데이터 세트 비율 (0.3)\n",
    "- 난수 발생값 : 수행할 때마다 동일한 데이터 세트로 분리하기 위해 시드값 고정 (실습용)\n",
    "\n",
    "\n",
    "#### random_state\n",
    "- 호출할 때마다 동일한 학습/테스트용 데이터 세트를 생성하기 위해 주어지는 난수 값\n",
    "- train_test_split() 는 랜덤으로 데이터를 분리하는데 random_state를 설정하지 않으면 \n",
    "- 수행할 때마다 다른 학습/테스트 데이터 세트가 생성됨\n",
    "- 따라서 결과값을 동일하게 유지하기 위해 random_state 설정"
   ]
  },
  {
   "cell_type": "markdown",
   "id": "216ff74e",
   "metadata": {},
   "source": [
    "train_test_split() 반환값 : X_train, X_test, y_train, y_test  \n",
    "- X_train : 학습용 피처 데이터 세트 (feature)\n",
    "- X_test : 테스트용 피처 데이터 세트 (feature)\n",
    "- y_train : 학습용 레이블 데이터 세트 (target)\n",
    "- y_test : 테스트용 레이블 데이터 세트 (target)\n",
    "- feature : 대문자 X_\n",
    "- label(target) : 소문자 y_\n"
   ]
  },
  {
   "cell_type": "code",
   "execution_count": null,
   "id": "01cf864f",
   "metadata": {},
   "outputs": [],
   "source": [
    "# 학습 데이터와 테스트 데이터 세트로 분리\n"
   ]
  },
  {
   "cell_type": "code",
   "execution_count": null,
   "id": "ea77f315",
   "metadata": {},
   "outputs": [],
   "source": [
    "# 학습용 피처 데이터 세트 (feature)"
   ]
  },
  {
   "cell_type": "code",
   "execution_count": null,
   "id": "adb8b07b",
   "metadata": {},
   "outputs": [],
   "source": [
    "#테스트용 피처 데이터 세트 (feature)"
   ]
  },
  {
   "cell_type": "code",
   "execution_count": null,
   "id": "ab2c9660",
   "metadata": {},
   "outputs": [],
   "source": [
    "# 학습용 레이블 데이터 세트 (target)\n",
    "# 학습용 데이터 세트 정답"
   ]
  },
  {
   "cell_type": "code",
   "execution_count": null,
   "id": "57dac28e",
   "metadata": {},
   "outputs": [],
   "source": [
    "# 테스트용 레이블 데이터 세트 (target)\n",
    "# 테스트용 데이터 세트 정답"
   ]
  },
  {
   "cell_type": "code",
   "execution_count": null,
   "id": "3477b1d6",
   "metadata": {},
   "outputs": [],
   "source": []
  },
  {
   "cell_type": "markdown",
   "id": "e9b1834d",
   "metadata": {},
   "source": [
    "### (3) 모델 학습 : 학습 데이터 세트 기반으로 ML 알고리즘을 적용하여 모델 학습  "
   ]
  },
  {
   "cell_type": "markdown",
   "id": "c641452d",
   "metadata": {},
   "source": [
    "ML 알고리즘으로 의사결정 트리 알고리즘을 이용해서 학습과 예측 수행  \n",
    "DecisionTreeClassifier 클래스의 fit()/predict() 메소드 사용  \n",
    "\n",
    "fit() : 학습 수행 (학습용 데이터 사용)  \n",
    "    - fit(학습용 피처 데이터 세트, 학습용 레이블(정답) 데이터 세트)\n",
    "\n",
    "predict() : 예측 수행  \n",
    "    - predict(테스트용 피처 데이터 세트)"
   ]
  },
  {
   "cell_type": "code",
   "execution_count": null,
   "id": "0f47a7ec",
   "metadata": {},
   "outputs": [],
   "source": [
    "# DecisionTreeClassifier 객체 생성\n",
    "\n"
   ]
  },
  {
   "cell_type": "markdown",
   "id": "61d34483",
   "metadata": {},
   "source": [
    "### (4) 예측 수행 : 학습된 ML 모델을 이용해서, 테스트 데이터의 분류 예측 (즉, 붓꽃 품종 예측) "
   ]
  },
  {
   "cell_type": "markdown",
   "id": "d8322a90",
   "metadata": {},
   "source": [
    "### 테스트 데이터 세트로 예측 (Predict) 수행"
   ]
  },
  {
   "cell_type": "code",
   "execution_count": null,
   "id": "72e43876",
   "metadata": {},
   "outputs": [],
   "source": [
    "# 학습이 완료된 DecisionTreeClassifier 객체에서 테스트 데이트 세트로 예측 수행\n"
   ]
  },
  {
   "cell_type": "code",
   "execution_count": null,
   "id": "9d838f96",
   "metadata": {},
   "outputs": [],
   "source": [
    "\n",
    "# 예측한 데이터 세트"
   ]
  },
  {
   "cell_type": "code",
   "execution_count": null,
   "id": "d5f75bf6",
   "metadata": {},
   "outputs": [],
   "source": [
    "\n",
    "# 테스트용 레이블(정답)데이터 세트"
   ]
  },
  {
   "cell_type": "code",
   "execution_count": null,
   "id": "50831ac4",
   "metadata": {},
   "outputs": [],
   "source": [
    "# 실제 데이터 레이블 값과 예측한 값 비교\n"
   ]
  },
  {
   "cell_type": "markdown",
   "id": "6f4cd176",
   "metadata": {},
   "source": [
    "### (5) 평가 : 예측 정확도 평가  \n",
    "    - 예측된 결과값과 테스트 데이터의 실제 결과값과 비교해서 ML 모델 성능 평가\n",
    "    - accuracy_score(실제 레이블(정답) 값, 예측한 값) 사용"
   ]
  },
  {
   "cell_type": "code",
   "execution_count": null,
   "id": "81968af6",
   "metadata": {},
   "outputs": [],
   "source": [
    "from sklearn.metrics import accuracy_score\n"
   ]
  },
  {
   "cell_type": "markdown",
   "id": "624dd673",
   "metadata": {},
   "source": [
    "### 붓꽃 데이터 품족 예측 프로세스 정리   \n",
    "\n",
    "- (1) 데이터 준비 (데이터 로드 / 데이터 확인) : load_iris() 사용   \n",
    "- (2) 학습 데이터와 테스트 데이터 세트 분리 : train_test_split() 사용   \n",
    "- (3) 학습 : DecisionTreeClassifier 클래스의 fit() 사용  \n",
    "    - fit() : 학습용 데이터를 사용해서 학습  \n",
    "- (4) 예측 수행 : predict() 사용         \n",
    "    - predict() : 테스트용 피처 데이터 사용해서 예측   \n",
    "- (4) 예측 정확도 평가 : accuracy_score() 함수 사용   \n",
    "    - 실제 테스트용 레이블 데이터 세트와 예측된 레이블 데이터 세트 비교 (실제값 vs 에측값)   \n",
    "    - 에측 정확도 측정 "
   ]
  },
  {
   "cell_type": "markdown",
   "id": "7b4b1df8",
   "metadata": {},
   "source": [
    "### iris 데이터 세트로 데이터프레임 생성"
   ]
  },
  {
   "cell_type": "code",
   "execution_count": null,
   "id": "32b76232",
   "metadata": {},
   "outputs": [],
   "source": [
    "### iris 데이터 세트로 데이터프레임 생성\n"
   ]
  },
  {
   "cell_type": "code",
   "execution_count": null,
   "id": "0b7ffe74",
   "metadata": {},
   "outputs": [],
   "source": [
    "# target 값으로 target 열 추가\n"
   ]
  },
  {
   "cell_type": "code",
   "execution_count": null,
   "id": "2df32b5a",
   "metadata": {},
   "outputs": [],
   "source": []
  },
  {
   "cell_type": "code",
   "execution_count": null,
   "id": "d12ad880",
   "metadata": {},
   "outputs": [],
   "source": []
  },
  {
   "cell_type": "code",
   "execution_count": null,
   "id": "755543b1",
   "metadata": {},
   "outputs": [],
   "source": [
    "###################################################################################################"
   ]
  },
  {
   "cell_type": "markdown",
   "id": "20ff08af",
   "metadata": {},
   "source": [
    "### 추가로 필요한 작업\n",
    "- 교차 검증\n",
    "- 하이퍼 파라미터 튜닝"
   ]
  },
  {
   "cell_type": "markdown",
   "id": "50a0816d",
   "metadata": {},
   "source": [
    "### 현재의 모델\n",
    "    - 학습과 테스트 데이터 세트만 있고, 검증 데이터 세트를 나누지 않았기 때문에  \n",
    "    - 일정한 하나의 테스트 데이터 세트로 계속해서 평가를 진행하거나 하나의 학습 데이터 세트로 학습을 진행하면 과적합 발생 \n",
    "        - 과적합(과대적합) : 학습 데이터를 과하게 학습(overfitting)하는 것 \n",
    "            - 모델의 성능을 떨어트리는 주요 이슈  \n",
    "            - 모델이 과적합되면 훈련 데이터에 대한 정확도는 높지만    \n",
    "            - 새로운 데이터(검증 데이터 또는 테스트 데이터)에 대해서는 제대로 동작하지 않게 됨  \n",
    "    - 일부 테스트 데이터 세트에서만 좋은 성능을 보였다고 생각할 수 있기 때문에 또 다른 검증 방식 필요 (교차 검증 필요)     \n",
    "\n",
    "### 교차 검증  \n",
    "    - 데이터 세트를 학습, 테스트, 검증 데이터 세트로 분리하고   \n",
    "    - 검증 데이터 세트로 평가  \n",
    "\n",
    "### 하이퍼 파라미터 튜닝   \n",
    "    - 튜닝을 통해 모델의 과적합을 방지하고 모델 스코어를 올릴 수 있기 때문에 필수적인 작업  \n",
    "    "
   ]
  },
  {
   "cell_type": "code",
   "execution_count": null,
   "id": "0f5cd13d",
   "metadata": {},
   "outputs": [],
   "source": []
  }
 ],
 "metadata": {
  "kernelspec": {
   "display_name": "Python 3 (ipykernel)",
   "language": "python",
   "name": "python3"
  },
  "language_info": {
   "codemirror_mode": {
    "name": "ipython",
    "version": 3
   },
   "file_extension": ".py",
   "mimetype": "text/x-python",
   "name": "python",
   "nbconvert_exporter": "python",
   "pygments_lexer": "ipython3",
   "version": "3.11.5"
  }
 },
 "nbformat": 4,
 "nbformat_minor": 5
}
