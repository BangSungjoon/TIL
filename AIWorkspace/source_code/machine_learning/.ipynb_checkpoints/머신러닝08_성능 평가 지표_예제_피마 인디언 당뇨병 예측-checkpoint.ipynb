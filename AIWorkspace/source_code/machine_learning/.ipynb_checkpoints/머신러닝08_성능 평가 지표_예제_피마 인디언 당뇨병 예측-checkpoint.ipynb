{
 "cells": [
  {
   "cell_type": "markdown",
   "id": "e3982ccf",
   "metadata": {},
   "source": [
    "## 여러 분류 모델 성능 평가 지표를 활용한 모델 평가"
   ]
  },
  {
   "cell_type": "markdown",
   "id": "aa3613fe",
   "metadata": {},
   "source": [
    "### 피마 인디언 당뇨병 예측\n",
    "- 피마 인디언 당뇨병 (Pima Indian Diabetes) 데이터 세트를 이용해  \n",
    "- 당뇨병 여부를 판단하는 머신러닝 예측 모델을 수립하고  \n",
    "- 오차행렬, 정확도, 정밀도, 재현율, F1 스코어, ROC AUC 평가 지표 적용  "
   ]
  },
  {
   "cell_type": "markdown",
   "id": "026259a4",
   "metadata": {},
   "source": [
    "### 피마 인디언 당뇨병 예측 모델  \n",
    "- 사용 데이터 세트 : Pima Indian Diabetes  \n",
    "- 데이터 세트 분리 : 테스트용(평가용) 데이터 세트 20%  \n",
    "- 사용하는 ML 알고리즘 : 로지스틱 회귀 알고리즘  \n",
    "- 모델 평가 : 예측 성능 평가   \n",
    "    - 오차행렬, 정확도, 정밀도, 재현율, F1 스코어, ROC AUC 평가 지표 "
   ]
  },
  {
   "cell_type": "markdown",
   "id": "aa5265a6",
   "metadata": {},
   "source": [
    "#### 피마 인디언 당뇨명 데이터 세트  \n",
    "- 북아메리카 피마 지역 원주민의 Type-2 당뇨병 결과 데이터  \n",
    "- 보통 당뇨 원인으로 식습관과 유전을 꼽음  \n",
    "- 피마 지역은 고립된 지역에서 인디언 고유의 활동이 지속돼 왔지만  \n",
    "- 20세기 후반에 들어서면서 서구화된 식습관으로 많은 당뇨 환자 발생  \n",
    "- 고립된 유전적 특성 때문에 당뇨학회에서는 피마 인디언의 당뇨병 자료에 대해 많은 연구 수행  "
   ]
  },
  {
   "cell_type": "markdown",
   "id": "ce14454b",
   "metadata": {},
   "source": [
    "https://www.kaggle.com/  \n",
    "회원가입하고 데이터 다운로드  \n"
   ]
  },
  {
   "cell_type": "markdown",
   "id": "6d23209c",
   "metadata": {},
   "source": [
    "###  피마 인디언 당뇨병 예측 프로세스\n",
    "(1) 데이터 세트 준비 : 피마 인디언 당뇨명 데이터 세트  \n",
    "(2) 데이터 세트 분리 : 학습 데이터 / 테스트 데이터 세트  \n",
    "(3) 모델 학습 및 예측 수행 :  로지스틱 회귀 알고리즘 적용하여 모델 학습 및 예측   \n",
    "(4) 평가 : 예측 성능 평가 지표 출력   \n",
    "(5) 재현율 성능에 조금 더 초점을 맞춰 조정  \n",
    "(6) 예측 성능을 향상시키기 위해 데이터 가공 수행  \n",
    "(7) 다시 예측 성능 평가  "
   ]
  },
  {
   "cell_type": "code",
   "execution_count": 1,
   "id": "13c916f5",
   "metadata": {},
   "outputs": [],
   "source": [
    "from IPython.core.interactiveshell import InteractiveShell\n",
    "InteractiveShell.ast_node_interactivity=\"all\""
   ]
  },
  {
   "cell_type": "code",
   "execution_count": 2,
   "id": "fa025397",
   "metadata": {},
   "outputs": [],
   "source": [
    "import numpy as np\n",
    "import pandas as pd\n",
    "import matplotlib.pyplot as plt\n",
    "%matplotlib inline"
   ]
  },
  {
   "cell_type": "markdown",
   "id": "53e7f9de",
   "metadata": {},
   "source": [
    "### (1) 데이터 세트 준비 : 피마 인디언 당뇨명 데이터 세트"
   ]
  },
  {
   "cell_type": "code",
   "execution_count": 3,
   "id": "a4de6c94",
   "metadata": {
    "scrolled": true
   },
   "outputs": [
    {
     "data": {
      "text/html": [
       "<div>\n",
       "<style scoped>\n",
       "    .dataframe tbody tr th:only-of-type {\n",
       "        vertical-align: middle;\n",
       "    }\n",
       "\n",
       "    .dataframe tbody tr th {\n",
       "        vertical-align: top;\n",
       "    }\n",
       "\n",
       "    .dataframe thead th {\n",
       "        text-align: right;\n",
       "    }\n",
       "</style>\n",
       "<table border=\"1\" class=\"dataframe\">\n",
       "  <thead>\n",
       "    <tr style=\"text-align: right;\">\n",
       "      <th></th>\n",
       "      <th>Pregnancies</th>\n",
       "      <th>Glucose</th>\n",
       "      <th>BloodPressure</th>\n",
       "      <th>SkinThickness</th>\n",
       "      <th>Insulin</th>\n",
       "      <th>BMI</th>\n",
       "      <th>DiabetesPedigreeFunction</th>\n",
       "      <th>Age</th>\n",
       "      <th>Outcome</th>\n",
       "    </tr>\n",
       "  </thead>\n",
       "  <tbody>\n",
       "    <tr>\n",
       "      <th>765</th>\n",
       "      <td>5</td>\n",
       "      <td>121</td>\n",
       "      <td>72</td>\n",
       "      <td>23</td>\n",
       "      <td>112</td>\n",
       "      <td>26.2</td>\n",
       "      <td>0.245</td>\n",
       "      <td>30</td>\n",
       "      <td>0</td>\n",
       "    </tr>\n",
       "    <tr>\n",
       "      <th>766</th>\n",
       "      <td>1</td>\n",
       "      <td>126</td>\n",
       "      <td>60</td>\n",
       "      <td>0</td>\n",
       "      <td>0</td>\n",
       "      <td>30.1</td>\n",
       "      <td>0.349</td>\n",
       "      <td>47</td>\n",
       "      <td>1</td>\n",
       "    </tr>\n",
       "    <tr>\n",
       "      <th>767</th>\n",
       "      <td>1</td>\n",
       "      <td>93</td>\n",
       "      <td>70</td>\n",
       "      <td>31</td>\n",
       "      <td>0</td>\n",
       "      <td>30.4</td>\n",
       "      <td>0.315</td>\n",
       "      <td>23</td>\n",
       "      <td>0</td>\n",
       "    </tr>\n",
       "  </tbody>\n",
       "</table>\n",
       "</div>"
      ],
      "text/plain": [
       "     Pregnancies  Glucose  BloodPressure  SkinThickness  Insulin   BMI   \n",
       "765            5      121             72             23      112  26.2  \\\n",
       "766            1      126             60              0        0  30.1   \n",
       "767            1       93             70             31        0  30.4   \n",
       "\n",
       "     DiabetesPedigreeFunction  Age  Outcome  \n",
       "765                     0.245   30        0  \n",
       "766                     0.349   47        1  \n",
       "767                     0.315   23        0  "
      ]
     },
     "execution_count": 3,
     "metadata": {},
     "output_type": "execute_result"
    }
   ],
   "source": [
    "diabetes_data = pd.read_csv('../../data/diabetes.csv')\n",
    "diabetes_data.tail(3)\n"
   ]
  },
  {
   "cell_type": "markdown",
   "id": "03559675",
   "metadata": {},
   "source": [
    "피마 인디언 당뇨병 데이터 세트 피처\n",
    "* Pregnancies: 임신 횟수\n",
    "* Glucose: 포도당 부하 검사 수치\n",
    "* BloodPressure: 혈압(mm Hg)\n",
    "* SkinThickness: 팔 삼두근 뒤쪽의 피하지방 측정값(mm)\n",
    "* Insulin: 혈청 인슐린(mu U/ml)\n",
    "* BMI: 체질량지수(체중(kg)/(키(m))^2)\n",
    "* DiabetesPedigreeFunction: 당뇨 내력 가중치 값\n",
    "* Age: 나이\n",
    "* Outcome: 클래스 결정 값(0또는 1)"
   ]
  },
  {
   "cell_type": "code",
   "execution_count": null,
   "id": "37ba4afd",
   "metadata": {},
   "outputs": [],
   "source": []
  },
  {
   "cell_type": "markdown",
   "id": "a7980848",
   "metadata": {},
   "source": [
    "### (2) 데이터 세트 분리 : 학습 데이터 / 테스트 데이터 세트"
   ]
  },
  {
   "cell_type": "code",
   "execution_count": null,
   "id": "52476ef4",
   "metadata": {},
   "outputs": [],
   "source": []
  },
  {
   "cell_type": "markdown",
   "id": "b43bab6f",
   "metadata": {},
   "source": [
    "#### stratify=y 옵션\n",
    "- 레이블 값에서 0과 1의 비율을 유지하면서 데이터 세트 분리\n",
    "\n",
    "피마 인디언 당뇨병 데이터 세트    \n",
    "- 전체 768개 중에서 1이 268개 : 34.89 %   \n",
    "     \n",
    "- stratify=y로 설정한 경우 (1의 비율 거의 유사)  \n",
    "    - 학습 데이터 세트 에서 1의 비율 : 34.85 %  \n",
    "    - 테스트 데이터 세트에서 1의 비율 : 35.06%  \n",
    "         \n",
    "- stratify=y로 설정하지 않은 경우 (1의 비율 차이가 있음)  \n",
    "    - 학습 데이터 세트 에서 1의 비율 : 34.36 %  \n",
    "    - 테스트 데이터 세트에서 1의 비율 : 37.01 %  "
   ]
  },
  {
   "cell_type": "code",
   "execution_count": null,
   "id": "e2f29643",
   "metadata": {},
   "outputs": [],
   "source": []
  },
  {
   "cell_type": "markdown",
   "id": "0a6f7a3c",
   "metadata": {},
   "source": [
    "### (3) 모델 학습 및 예측 수행 \n",
    "- 로지스틱 회귀 알고리즘 적용하여 모델 학습 및 예측 "
   ]
  },
  {
   "cell_type": "code",
   "execution_count": null,
   "id": "88286a8a",
   "metadata": {},
   "outputs": [],
   "source": []
  },
  {
   "cell_type": "markdown",
   "id": "38dd64c7",
   "metadata": {},
   "source": [
    "### (4) 평가 : 예측 성능 평가 지표 출력 \n",
    "- 오차행렬, 정확도, 정밀도, 재현율, F1 스코어, ROC AUC 평가 지표"
   ]
  },
  {
   "cell_type": "code",
   "execution_count": null,
   "id": "183624a3",
   "metadata": {},
   "outputs": [],
   "source": []
  },
  {
   "cell_type": "markdown",
   "id": "224f6280",
   "metadata": {},
   "source": [
    "### (5) 재현율 성능에 조금 더 초점을 맞춰 조정"
   ]
  },
  {
   "cell_type": "code",
   "execution_count": null,
   "id": "8d1d6f4b",
   "metadata": {},
   "outputs": [],
   "source": []
  },
  {
   "cell_type": "markdown",
   "id": "df6b3533",
   "metadata": {},
   "source": [
    "### (6) 예측 성능을 향상시키기 위해 데이터 가공 수행\n",
    "- 0 값 확인하고 다른 값으로 대체\n",
    "- 피처 스케일링 "
   ]
  },
  {
   "cell_type": "code",
   "execution_count": 15,
   "id": "05135a2e",
   "metadata": {},
   "outputs": [
    {
     "data": {
      "text/html": [
       "<div>\n",
       "<style scoped>\n",
       "    .dataframe tbody tr th:only-of-type {\n",
       "        vertical-align: middle;\n",
       "    }\n",
       "\n",
       "    .dataframe tbody tr th {\n",
       "        vertical-align: top;\n",
       "    }\n",
       "\n",
       "    .dataframe thead th {\n",
       "        text-align: right;\n",
       "    }\n",
       "</style>\n",
       "<table border=\"1\" class=\"dataframe\">\n",
       "  <thead>\n",
       "    <tr style=\"text-align: right;\">\n",
       "      <th></th>\n",
       "      <th>Pregnancies</th>\n",
       "      <th>Glucose</th>\n",
       "      <th>BloodPressure</th>\n",
       "      <th>SkinThickness</th>\n",
       "      <th>Insulin</th>\n",
       "      <th>BMI</th>\n",
       "      <th>DiabetesPedigreeFunction</th>\n",
       "      <th>Age</th>\n",
       "      <th>Outcome</th>\n",
       "    </tr>\n",
       "  </thead>\n",
       "  <tbody>\n",
       "    <tr>\n",
       "      <th>count</th>\n",
       "      <td>768.000000</td>\n",
       "      <td>768.000000</td>\n",
       "      <td>768.000000</td>\n",
       "      <td>768.000000</td>\n",
       "      <td>768.000000</td>\n",
       "      <td>768.000000</td>\n",
       "      <td>768.000000</td>\n",
       "      <td>768.000000</td>\n",
       "      <td>768.000000</td>\n",
       "    </tr>\n",
       "    <tr>\n",
       "      <th>mean</th>\n",
       "      <td>3.845052</td>\n",
       "      <td>120.894531</td>\n",
       "      <td>69.105469</td>\n",
       "      <td>20.536458</td>\n",
       "      <td>79.799479</td>\n",
       "      <td>31.992578</td>\n",
       "      <td>0.471876</td>\n",
       "      <td>33.240885</td>\n",
       "      <td>0.348958</td>\n",
       "    </tr>\n",
       "    <tr>\n",
       "      <th>std</th>\n",
       "      <td>3.369578</td>\n",
       "      <td>31.972618</td>\n",
       "      <td>19.355807</td>\n",
       "      <td>15.952218</td>\n",
       "      <td>115.244002</td>\n",
       "      <td>7.884160</td>\n",
       "      <td>0.331329</td>\n",
       "      <td>11.760232</td>\n",
       "      <td>0.476951</td>\n",
       "    </tr>\n",
       "    <tr>\n",
       "      <th>min</th>\n",
       "      <td>0.000000</td>\n",
       "      <td>0.000000</td>\n",
       "      <td>0.000000</td>\n",
       "      <td>0.000000</td>\n",
       "      <td>0.000000</td>\n",
       "      <td>0.000000</td>\n",
       "      <td>0.078000</td>\n",
       "      <td>21.000000</td>\n",
       "      <td>0.000000</td>\n",
       "    </tr>\n",
       "    <tr>\n",
       "      <th>25%</th>\n",
       "      <td>1.000000</td>\n",
       "      <td>99.000000</td>\n",
       "      <td>62.000000</td>\n",
       "      <td>0.000000</td>\n",
       "      <td>0.000000</td>\n",
       "      <td>27.300000</td>\n",
       "      <td>0.243750</td>\n",
       "      <td>24.000000</td>\n",
       "      <td>0.000000</td>\n",
       "    </tr>\n",
       "    <tr>\n",
       "      <th>50%</th>\n",
       "      <td>3.000000</td>\n",
       "      <td>117.000000</td>\n",
       "      <td>72.000000</td>\n",
       "      <td>23.000000</td>\n",
       "      <td>30.500000</td>\n",
       "      <td>32.000000</td>\n",
       "      <td>0.372500</td>\n",
       "      <td>29.000000</td>\n",
       "      <td>0.000000</td>\n",
       "    </tr>\n",
       "    <tr>\n",
       "      <th>75%</th>\n",
       "      <td>6.000000</td>\n",
       "      <td>140.250000</td>\n",
       "      <td>80.000000</td>\n",
       "      <td>32.000000</td>\n",
       "      <td>127.250000</td>\n",
       "      <td>36.600000</td>\n",
       "      <td>0.626250</td>\n",
       "      <td>41.000000</td>\n",
       "      <td>1.000000</td>\n",
       "    </tr>\n",
       "    <tr>\n",
       "      <th>max</th>\n",
       "      <td>17.000000</td>\n",
       "      <td>199.000000</td>\n",
       "      <td>122.000000</td>\n",
       "      <td>99.000000</td>\n",
       "      <td>846.000000</td>\n",
       "      <td>67.100000</td>\n",
       "      <td>2.420000</td>\n",
       "      <td>81.000000</td>\n",
       "      <td>1.000000</td>\n",
       "    </tr>\n",
       "  </tbody>\n",
       "</table>\n",
       "</div>"
      ],
      "text/plain": [
       "       Pregnancies     Glucose  BloodPressure  SkinThickness     Insulin   \n",
       "count   768.000000  768.000000     768.000000     768.000000  768.000000  \\\n",
       "mean      3.845052  120.894531      69.105469      20.536458   79.799479   \n",
       "std       3.369578   31.972618      19.355807      15.952218  115.244002   \n",
       "min       0.000000    0.000000       0.000000       0.000000    0.000000   \n",
       "25%       1.000000   99.000000      62.000000       0.000000    0.000000   \n",
       "50%       3.000000  117.000000      72.000000      23.000000   30.500000   \n",
       "75%       6.000000  140.250000      80.000000      32.000000  127.250000   \n",
       "max      17.000000  199.000000     122.000000      99.000000  846.000000   \n",
       "\n",
       "              BMI  DiabetesPedigreeFunction         Age     Outcome  \n",
       "count  768.000000                768.000000  768.000000  768.000000  \n",
       "mean    31.992578                  0.471876   33.240885    0.348958  \n",
       "std      7.884160                  0.331329   11.760232    0.476951  \n",
       "min      0.000000                  0.078000   21.000000    0.000000  \n",
       "25%     27.300000                  0.243750   24.000000    0.000000  \n",
       "50%     32.000000                  0.372500   29.000000    0.000000  \n",
       "75%     36.600000                  0.626250   41.000000    1.000000  \n",
       "max     67.100000                  2.420000   81.000000    1.000000  "
      ]
     },
     "execution_count": 15,
     "metadata": {},
     "output_type": "execute_result"
    }
   ],
   "source": [
    "diabetes_data.describe()\n",
    "\n",
    "# min 값이 0인 피처가 어느 정도 존재하는 것을 확인\n",
    "# Glucose(포도당), BloodPressure(혈압),SkinThickness(팔 뒤쪽 피하지방), Insulin,  BMI(체질량지수)\n",
    "# 이런 피처들이 0이 날올 수 없는데 0으로 되어 있음\n",
    "# ----> 전처리(가공) 작업 필요"
   ]
  },
  {
   "cell_type": "markdown",
   "id": "3d649992",
   "metadata": {},
   "source": [
    "### 각 피처들의 값 분포 확인"
   ]
  },
  {
   "cell_type": "code",
   "execution_count": 16,
   "id": "46eda9a0",
   "metadata": {},
   "outputs": [
    {
     "data": {
      "text/plain": [
       "(array([  5.,   0.,   4.,  32., 156., 211., 163.,  95.,  56.,  46.]),\n",
       " array([  0. ,  19.9,  39.8,  59.7,  79.6,  99.5, 119.4, 139.3, 159.2,\n",
       "        179.1, 199. ]),\n",
       " <BarContainer object of 10 artists>)"
      ]
     },
     "execution_count": 16,
     "metadata": {},
     "output_type": "execute_result"
    },
    {
     "data": {
      "image/png": "[encoded data removed]",
      "text/plain": [
       "<Figure size 640x480 with 1 Axes>"
      ]
     },
     "metadata": {},
     "output_type": "display_data"
    }
   ],
   "source": [
    "# Glucose(포도당) 피처의 히스토그램 확인\n",
    "plt.hist(diabetes_data['Glucose'], bins=10)\n",
    "# 0값이 일정 수준 존재 확인"
   ]
  },
  {
   "cell_type": "markdown",
   "id": "62045625",
   "metadata": {},
   "source": [
    "### 0값이 있는 피처들에서 0값의 데이터 건수와 퍼센트 계산\n",
    "- 0값의 데이터 건수  \n",
    "- 전체 데이터 건수 대비 몇 퍼센트의 비율인지 확인  "
   ]
  },
  {
   "cell_type": "code",
   "execution_count": 17,
   "id": "a2d390ec",
   "metadata": {
    "scrolled": true
   },
   "outputs": [
    {
     "data": {
      "text/plain": [
       "768"
      ]
     },
     "execution_count": 17,
     "metadata": {},
     "output_type": "execute_result"
    },
    {
     "name": "stdout",
     "output_type": "stream",
     "text": [
      "Glucose 0건수는 5, 퍼센트 0.65 %\n",
      "BloodPressure 0건수는 35, 퍼센트 4.56 %\n",
      "SkinThickness 0건수는 227, 퍼센트 29.56 %\n",
      "Insulin 0건수는 374, 퍼센트 48.70 %\n",
      "BMI 0건수는 11, 퍼센트 1.43 %\n"
     ]
    }
   ],
   "source": [
    "# 0값을 검사할 피처명 리스트 생성\n",
    "zero_features = ['Glucose', 'BloodPressure', 'SkinThickness', 'Insulin', 'BMI']\n",
    "\n",
    "# 전체 데이터건수\n",
    "total_count = diabetes_data['Glucose'].count()\n",
    "total_count\n",
    "\n",
    "# 피처별로 반복하면서 데이터 값이 0인 데이터 건수 추출하고, 퍼센트 계산\n",
    "for feature in zero_features:\n",
    "    zero_count = diabetes_data[diabetes_data[feature] == 0][feature].count()\n",
    "    print('{0} 0건수는 {1}, 퍼센트 {2:.2f} %'.format(feature, zero_count, 100*zero_count/total_count))\n",
    "\n",
    "\n",
    "# 0 값이 상당히 많음\n",
    "# 전체 데이터 건수가 많지 않기 때문에\n",
    "# 0값인 데이터를 삭제할 경우에\n",
    "# 학습을 효과적으로 수행하기 어려울 것 같으므로\n",
    "# 0값을 평균값으로 대체"
   ]
  },
  {
   "cell_type": "markdown",
   "id": "d7385447",
   "metadata": {},
   "source": [
    "**0값을 평균값으로 대체**"
   ]
  },
  {
   "cell_type": "code",
   "execution_count": null,
   "id": "24e29ee7",
   "metadata": {},
   "outputs": [],
   "source": []
  },
  {
   "cell_type": "markdown",
   "id": "545451b1",
   "metadata": {},
   "source": [
    "### 피처 스케일링 (feature scaling)\n",
    "- 서로 다른 변수의 값 범위를 일정한 수준으로 맞춤\n",
    "- StandardScaler 클래스의 fit_transform() 메소드 이용해서 \n",
    "- 피처 데이터 세트에 일괄적으로 스케일링 적용하고  \n",
    "- 0값을 평균으로 대체한 데이터 세트로 학습/예측 수행  \n",
    "- 개별 피처를 평균이 0이고 분산이 1인 값으로 변환"
   ]
  },
  {
   "cell_type": "markdown",
   "id": "c33264fd",
   "metadata": {},
   "source": [
    "### 피처 스케일링 후 다시 예측 프로세스 진행"
   ]
  },
  {
   "cell_type": "code",
   "execution_count": null,
   "id": "5f54e820",
   "metadata": {},
   "outputs": [],
   "source": []
  },
  {
   "cell_type": "markdown",
   "id": "881deb72",
   "metadata": {},
   "source": [
    "### 임계값을 변화시키면서 재현율 성능 측정\n",
    "- 임계값을 0.3에서 0.5까지 0.03씩 변화시키면서\n",
    "- 재현율과 다른 평가 지표의 값 확인"
   ]
  },
  {
   "cell_type": "code",
   "execution_count": null,
   "id": "91dd6146",
   "metadata": {},
   "outputs": [],
   "source": []
  },
  {
   "cell_type": "code",
   "execution_count": null,
   "id": "2eface0c",
   "metadata": {},
   "outputs": [],
   "source": []
  },
  {
   "cell_type": "code",
   "execution_count": null,
   "id": "c6de1bd5",
   "metadata": {},
   "outputs": [],
   "source": []
  }
 ],
 "metadata": {
  "kernelspec": {
   "display_name": "Python 3 (ipykernel)",
   "language": "python",
   "name": "python3"
  },
  "language_info": {
   "codemirror_mode": {
    "name": "ipython",
    "version": 3
   },
   "file_extension": ".py",
   "mimetype": "text/x-python",
   "name": "python",
   "nbconvert_exporter": "python",
   "pygments_lexer": "ipython3",
   "version": "3.11.5"
  }
 },
 "nbformat": 4,
 "nbformat_minor": 5
}
