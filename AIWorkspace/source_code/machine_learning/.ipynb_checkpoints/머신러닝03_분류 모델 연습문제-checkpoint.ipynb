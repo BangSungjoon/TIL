{
 "cells": [
  {
   "cell_type": "markdown",
   "id": "0d847ca1",
   "metadata": {},
   "source": [
    "## 의사결정 트리 알고리즘을 사용한 분류 연습문제"
   ]
  },
  {
   "cell_type": "markdown",
   "id": "709dc6eb",
   "metadata": {},
   "source": [
    "### 유방암 예측 모델\n",
    "- 사용 데이터 세트 : breast_cancer 데이터 세트  \n",
    "- 데이터 세트 분리 : 학습용 데이터 세트 70%, 테스트용(평가용) 데이터 세트 30%  \n",
    "- 사용하는 ML 알고리즘 : 의사결정 트리 알고리즘   \n",
    "- 모델 평가 : 예측 성능 평가 - 정확도  "
   ]
  },
  {
   "cell_type": "markdown",
   "id": "a277f617",
   "metadata": {},
   "source": [
    "### sklearn 패키지의  breast_cancer 데이터셋 사용\n",
    "- 유방암 예측  \n",
    "- label이 0 이면 malignant 양성, 1 이면 benign 음성 "
   ]
  },
  {
   "cell_type": "code",
   "execution_count": 1,
   "id": "603a1a07",
   "metadata": {},
   "outputs": [],
   "source": [
    "from IPython.core.interactiveshell import InteractiveShell\n",
    "InteractiveShell.ast_node_interactivity=\"all\""
   ]
  },
  {
   "cell_type": "code",
   "execution_count": 2,
   "id": "2bf318ef",
   "metadata": {},
   "outputs": [],
   "source": []
  },
  {
   "cell_type": "markdown",
   "id": "bfc96525",
   "metadata": {},
   "source": [
    "### (1) 데이터 세트 준비 : 유방암 데이터 세트"
   ]
  },
  {
   "cell_type": "code",
   "execution_count": 3,
   "id": "1bc8cdc7",
   "metadata": {},
   "outputs": [],
   "source": [
    "# 데이터 로드\n",
    "from sklearn.datasets import load_breast_cancer\n",
    "cancer = load_breast_cancer()"
   ]
  },
  {
   "cell_type": "markdown",
   "id": "0c719d91",
   "metadata": {},
   "source": [
    "### (2) 데이터 세트 분리 : 학습 데이터 / 테스트 데이터 세트 \n",
    "- 테스트 데이터 세트 : 30% "
   ]
  },
  {
   "cell_type": "markdown",
   "id": "d42e4692",
   "metadata": {},
   "source": [
    "### (3) 모델 학습 : 학습 데이터 세트 기반으로 ML 알고리즘을 적용하여 모델 학습"
   ]
  },
  {
   "cell_type": "markdown",
   "id": "cc6e0e3d",
   "metadata": {},
   "source": [
    "### (4) 예측 수행 : 학습된 ML 모델을 이용해서, 테스트 데이터의 분류 예측 "
   ]
  },
  {
   "cell_type": "markdown",
   "id": "5d6f6a5a",
   "metadata": {},
   "source": [
    "### (5) 평가 : 예측 정확도 평가  \n",
    "    - 예측된 결과값과 테스트 데이터의 실제 결과값과 비교해서 ML 모델 성능 평가\n",
    "    - 예측 정확도"
   ]
  },
  {
   "cell_type": "markdown",
   "id": "015342b5",
   "metadata": {},
   "source": [
    "### breast_cancer 데이터 세트로 데이터프레임 생성"
   ]
  },
  {
   "cell_type": "code",
   "execution_count": 5,
   "id": "0bb020d8",
   "metadata": {},
   "outputs": [],
   "source": [
    "# 데이터 로드\n"
   ]
  },
  {
   "cell_type": "code",
   "execution_count": 6,
   "id": "808776ec",
   "metadata": {},
   "outputs": [],
   "source": [
    "# 데이터프레임 생성\n"
   ]
  }
 ],
 "metadata": {
  "kernelspec": {
   "display_name": "Python 3 (ipykernel)",
   "language": "python",
   "name": "python3"
  },
  "language_info": {
   "codemirror_mode": {
    "name": "ipython",
    "version": 3
   },
   "file_extension": ".py",
   "mimetype": "text/x-python",
   "name": "python",
   "nbconvert_exporter": "python",
   "pygments_lexer": "ipython3",
   "version": "3.11.5"
  }
 },
 "nbformat": 4,
 "nbformat_minor": 5
}
