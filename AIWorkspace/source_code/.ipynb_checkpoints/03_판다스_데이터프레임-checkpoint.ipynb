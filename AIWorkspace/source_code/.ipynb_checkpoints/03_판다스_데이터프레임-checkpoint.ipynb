{
 "cells": [
  {
   "cell_type": "markdown",
   "id": "eb9578f2",
   "metadata": {},
   "source": [
    "# Pandas_DataFrame"
   ]
  },
  {
   "cell_type": "markdown",
   "id": "28bf2b3e",
   "metadata": {},
   "source": [
    "### 데이터프레임\n",
    "- 2차원 테이블 형태의 데이터에 인덱스를 붙인 것  \n",
    "- 행과 열로 만들어진 2차원 배열 구조  \n",
    "- R의 데이터프레임에서 유래  \n",
    "- DataFrame() 함수를 사용해서 데이터프레임 생성  \n",
    "- 데이터프레임의 각 열은 시리즈로 구성되어 있음  "
   ]
  },
  {
   "cell_type": "markdown",
   "id": "a6cbe8e4",
   "metadata": {},
   "source": [
    "### 데이터프레임 학습 내용\n",
    "- 데이터프레임 생성 방법\n",
    "- 데이터의 갱신, 추가, 삭제 \n",
    "- 인덱싱 / 슬라이싱\n",
    "- 인덱스 조작 / 함수\n",
    "- 데이터프레임 복사 \n",
    "- 데이터 병합 (concat()/merge())\n",
    "- 피벗 (pivot)"
   ]
  },
  {
   "cell_type": "markdown",
   "id": "19f0b69e",
   "metadata": {},
   "source": [
    "### 데이터프레임 생성 방법\n",
    "- 리스트로 데이터 프레임 생성\n",
    "- 딕셔너리로 데이터프레임 생성\n",
    "- 시리즈로 데이터프레임 생성\n",
    "- 파일(csv/엑셀) 데이터로 데이터프레임 생성"
   ]
  },
  {
   "cell_type": "code",
   "execution_count": null,
   "id": "588be7fd-72b9-46e6-a9eb-9e8668b014fd",
   "metadata": {},
   "outputs": [],
   "source": [
    "################################################################################"
   ]
  },
  {
   "cell_type": "markdown",
   "id": "8bf1c8a0",
   "metadata": {},
   "source": [
    "#### 리스트로 데이터 프레임 생성\n",
    "- DataFrame([[list1],[list2], ...])\n",
    "    - 리스트 안에 리스트 형태로 인수를 전달 (2차원 리스트 형태로 전달)\n",
    "- 각 list는 한 행으로 구성됨\n",
    "- 행의 원소 개수가 다르면 None 값으로 저장\n",
    "- index 인수값이 없으면 기본 인덱스 (0-base 위치 인덱스)가 생성됨"
   ]
  },
  {
   "cell_type": "code",
   "execution_count": 1,
   "id": "057ff28d",
   "metadata": {},
   "outputs": [],
   "source": [
    "import pandas as pd\n",
    "import numpy as np"
   ]
  },
  {
   "cell_type": "code",
   "execution_count": 2,
   "id": "46acae27",
   "metadata": {},
   "outputs": [],
   "source": [
    "from IPython.core.interactiveshell import InteractiveShell\n",
    "InteractiveShell.ast_node_interactivity=\"all\""
   ]
  },
  {
   "cell_type": "code",
   "execution_count": null,
   "id": "975d57de-3ab4-4390-8d26-11c9c8ba12a3",
   "metadata": {},
   "outputs": [],
   "source": [
    "# 리스트로 데이터 프레임 생성\n",
    "# 인덱스 명시하지 않으면\n",
    "# 열이름과 인덱스 자동 생성 (0-base)\n",
    "df = pd.DataFrame([\n",
    "    \n",
    "])"
   ]
  },
  {
   "cell_type": "code",
   "execution_count": null,
   "id": "a147b9fa",
   "metadata": {},
   "outputs": [],
   "source": []
  },
  {
   "cell_type": "code",
   "execution_count": null,
   "id": "0e5d14c9",
   "metadata": {},
   "outputs": [],
   "source": []
  },
  {
   "cell_type": "code",
   "execution_count": null,
   "id": "25372f6a",
   "metadata": {},
   "outputs": [],
   "source": []
  },
  {
   "cell_type": "code",
   "execution_count": null,
   "id": "a4b51881",
   "metadata": {},
   "outputs": [],
   "source": []
  },
  {
   "cell_type": "code",
   "execution_count": null,
   "id": "cb8c5632",
   "metadata": {},
   "outputs": [],
   "source": []
  },
  {
   "cell_type": "markdown",
   "id": "e456c09b",
   "metadata": {},
   "source": [
    "#### 열/인덱스 이름 설정\n",
    "- index.name\n",
    "- columns.name"
   ]
  },
  {
   "cell_type": "code",
   "execution_count": null,
   "id": "8037e5ea-3f2b-4482-87ca-03a7390d3ede",
   "metadata": {},
   "outputs": [],
   "source": []
  },
  {
   "cell_type": "markdown",
   "id": "63a05d4e",
   "metadata": {},
   "source": [
    "#### 딕셔너리로 데이터프레임 생성\n",
    "- DataFrame(딕셔너리)\n",
    "- 딕셔너리의 key가 열이름(열방향 인덱스)이 되고\n",
    "- index가 행방향 인덱스가 됨"
   ]
  },
  {
   "cell_type": "code",
   "execution_count": null,
   "id": "6e3c0db8-e958-4fba-914e-1d3e31350e3b",
   "metadata": {},
   "outputs": [],
   "source": [
    "# '지역':['수도권', '경상권', '수도권', '경상권'],\n",
    "# \"2015\": [9904312, 3448737, 2890451, 2466052],\n",
    "# \"2010\": [9631482, 3393191, 2632035, 2000002],\n",
    "# \"2005\": [9762546, 3512547, 2517680, 2456016],\n",
    "# \"2000\": [9853972, 3655437, 2466338, 2473990],   \n",
    "# \"2010-2015 증가율\":[0.0283, 0.0163, 0.0982,0.0141]"
   ]
  },
  {
   "cell_type": "code",
   "execution_count": null,
   "id": "2150ee69-8bbc-4050-8e08-3e8df05584d5",
   "metadata": {},
   "outputs": [],
   "source": []
  },
  {
   "cell_type": "markdown",
   "id": "9b4d990e",
   "metadata": {},
   "source": [
    "#### 시리즈로 데이터프레임 생성\n",
    "- 여러 개의 시리즈로 데이터프레임 생성\n",
    "- 각 시리즈의 index가 열이름이 됨 (열 방향 인덱스가 됨)"
   ]
  },
  {
   "cell_type": "code",
   "execution_count": null,
   "id": "ca4d91a5-df37-4965-bd4c-7b376fc312dd",
   "metadata": {},
   "outputs": [],
   "source": []
  },
  {
   "cell_type": "markdown",
   "id": "dd2e2a03",
   "metadata": {},
   "source": [
    "#### 파일(csv/엑셀) 데이터로 데이터프레임 생성\n",
    "- CSV 파일 : read_csv() 함수 사용\n",
    "- 엑셀 파일 : read_excel() 함수 사용"
   ]
  },
  {
   "cell_type": "code",
   "execution_count": null,
   "id": "9ba3c053-51a3-4880-a6bc-be324d21ed1b",
   "metadata": {},
   "outputs": [],
   "source": []
  },
  {
   "cell_type": "markdown",
   "id": "f3064b34",
   "metadata": {},
   "source": [
    "데이터 출처 : train.csv (Titanic-Dataset)  \n",
    "https://www.kaggle.com/datasets/hesh97/titanicdataset-traincsv?resource=download"
   ]
  },
  {
   "cell_type": "markdown",
   "id": "0e199ad9",
   "metadata": {},
   "source": [
    "#### CSV 파일 : read_csv() 함수 사용"
   ]
  },
  {
   "cell_type": "markdown",
   "id": "930ba98f",
   "metadata": {},
   "source": [
    "##### read_csv() 함수의 주요 파라미터\n",
    "    sep : 각 데이터 값을 구별하기 위한 구분자(separator) 설정\n",
    "    header : 헤더(제목) 위치. header를 무시할 경우, None 설정\n",
    "    skiprows : 제외하는 행 지정\n",
    "    thousands : 천 단위 구분 표시 제거\n",
    "    index_col : index로 사용할 열 설정\n",
    "    usecols : 선택 열 지정\n",
    "    encoding : 인코딩 설정 \n",
    "        (utf-8로 저장된 파일은 encoding='utf-8'\n",
    "         euc-kr로 저장된 파일은 encoding='euc-kr'로 해야 오류 없음)"
   ]
  },
  {
   "cell_type": "code",
   "execution_count": null,
   "id": "9757ec3e-7fd4-4b67-9fb3-7853279f9ee9",
   "metadata": {},
   "outputs": [],
   "source": []
  },
  {
   "cell_type": "markdown",
   "id": "cb460a04",
   "metadata": {},
   "source": [
    "#### 엑셀 파일 : read_excel() 함수 사용"
   ]
  },
  {
   "cell_type": "markdown",
   "id": "c0bb630b",
   "metadata": {},
   "source": [
    "##### read_excel() 함수의 주요 파라미터\n",
    "    header : 헤더(제목) 위치. header를 무시할 경우, None 설정\n",
    "    skiprows : 제외하는 행 지정\n",
    "    index_col : index로 사용할 열 설정\n",
    "    usecols : 선택 열 지정\n",
    "    thousands : 천 단위 구분 표시 (,)\n",
    "    encoding : 인코딩 설정 \n",
    "        (utf-8로 저장된 파일은 encodin='utf-8'\n",
    "         euc-kr로 저장된 파일은 encodin='euc-kr'로 해야 오류 없음)"
   ]
  },
  {
   "cell_type": "code",
   "execution_count": null,
   "id": "59615049-98cd-4942-84eb-64f316a5c552",
   "metadata": {},
   "outputs": [],
   "source": []
  },
  {
   "cell_type": "markdown",
   "id": "8fc975eb",
   "metadata": {},
   "source": [
    "#### 데이터프레임 데이터 파악\n",
    "- shape 속성 (row, column)\n",
    "- describe() 함수 - 숫자형 데이터의 통계 정보 출력\n",
    "- info() 함수 - 데이터 타입, Non-Null Count 출력"
   ]
  },
  {
   "cell_type": "code",
   "execution_count": null,
   "id": "67369913-c072-450e-806b-e78179de78f4",
   "metadata": {},
   "outputs": [],
   "source": []
  },
  {
   "cell_type": "markdown",
   "id": "256665f0",
   "metadata": {},
   "source": [
    "#### 데이터프레임 전치\n",
    "- 전치 : 행과 열을 바꾸는 기능\n",
    "- df.T \n",
    "- df.transpose()\n",
    "- 필요에 의해 행과 열의 위치를 바꿔야 할 경우 전치해서 사용"
   ]
  },
  {
   "cell_type": "code",
   "execution_count": null,
   "id": "83ed7f96-b54d-43b2-92b5-ab579c389b20",
   "metadata": {},
   "outputs": [],
   "source": []
  },
  {
   "cell_type": "code",
   "execution_count": null,
   "id": "ba8bc6e1-e25d-4ac0-a37f-6670eabadf1d",
   "metadata": {},
   "outputs": [],
   "source": [
    "################################################################################"
   ]
  },
  {
   "cell_type": "markdown",
   "id": "40a90c8a-c3c2-425c-8379-a87ca2176ca3",
   "metadata": {},
   "source": [
    "### 데이터의 갱신, 추가, 삭제\n",
    "- 열 추가 : df[열이름(key)]=values  \n",
    "- 열 내용 갱신 : df[열이름(key)]=values  \n",
    "- 열 삭제 : del df[열이름]  \n",
    "- 행 추가  \n",
    "    - loc 인덱서 사용 : df.loc[추가할 행이름(index)]=[데이터1,...,데이터n]  \n",
    "    - df 새로 생성 후 concate() 사용해서 df 결합\n",
    "- 행 삭제 \n",
    "    - drop() 함수 사용 : df.drop(행 인덱스 이름, axis=0, inplace=True)  \n",
    "        - axis=0 : 행 의미 (디폴트로 생략 가능)\n",
    "        - axis=1 : 열 의미\n",
    "        - inplace=True : 결과 반영 (원본 데이터 변경)"
   ]
  },
  {
   "cell_type": "markdown",
   "id": "bbb1ff16-9691-4bea-a8ce-44e930214a3e",
   "metadata": {},
   "source": []
  },
  {
   "cell_type": "code",
   "execution_count": null,
   "id": "6218315b",
   "metadata": {},
   "outputs": [],
   "source": []
  }
 ],
 "metadata": {
  "kernelspec": {
   "display_name": "Python 3 (ipykernel)",
   "language": "python",
   "name": "python3"
  },
  "language_info": {
   "codemirror_mode": {
    "name": "ipython",
    "version": 3
   },
   "file_extension": ".py",
   "mimetype": "text/x-python",
   "name": "python",
   "nbconvert_exporter": "python",
   "pygments_lexer": "ipython3",
   "version": "3.11.5"
  }
 },
 "nbformat": 4,
 "nbformat_minor": 5
}
